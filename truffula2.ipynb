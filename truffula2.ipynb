{
 "cells": [
  {
   "cell_type": "code",
   "execution_count": 1,
   "metadata": {},
   "outputs": [],
   "source": [
    "from causality_simulation import *\n",
    "import plotly.express as px\n",
    "import pandas as pd\n",
    "%matplotlib inline"
   ]
  },
  {
   "cell_type": "markdown",
   "metadata": {},
   "source": [
    "Goal is to see whether kombucha is good or bad for growing fruits.\n",
    "1. Simple bad experiment: kombucha in western half, water in eastern half (confound with x). Only show variables: Suppliment, Number of Fruits. Ask why that may be a problem.\n",
    "2. Introduce two hidden variables. Suppose you are god and can control them for every tree. Design experiment.\n",
    "3. Introduce two more hidden variables. etc\n",
    "4. You don't know if there's any more hidden variables, so you must randomise the assignment of suppliment. Design an experiment to see if kombucha is good for growing fruits.\n",
    "\n",
    "BONUS:\n",
    "5. What if you still control for number of bees? Is kombucha still good for growing fruits?\n",
    "6. Conditional causation / interaction of variables / representative sample population"
   ]
  },
  {
   "cell_type": "code",
   "execution_count": 2,
   "metadata": {},
   "outputs": [
    {
     "data": {
      "application/vnd.jupyter.widget-view+json": {
       "model_id": "a0bb0894ac3246769c6bd2bdb79bc3dd",
       "version_major": 2,
       "version_minor": 0
      },
      "text/plain": [
       "VBox(children=(HBox(children=(Label(value='Name the Group', layout=Layout(width='150px')), Text(value='East (W…"
      ]
     },
     "metadata": {},
     "output_type": "display_data"
    },
    {
     "data": {
      "application/vnd.jupyter.widget-view+json": {
       "model_id": "3845726f27a64d7aa4c2481333109140",
       "version_major": 2,
       "version_minor": 0
      },
      "text/plain": [
       "VBox(children=(HBox(children=(Label(value='Name the Group', layout=Layout(width='150px')), Text(value='West (K…"
      ]
     },
     "metadata": {},
     "output_type": "display_data"
    }
   ],
   "source": [
    "config_east = {\n",
    "    'name': 'East (Water)',\n",
    "    'N': 250,\n",
    "    'intervene': {\n",
    "        'x': ['range', 0, 500],\n",
    "        'Supplement': ['fixed', 'Water']\n",
    "    }\n",
    "}\n",
    "config_west = {\n",
    "    'name': 'West (Kombucha)',\n",
    "    'N': 250,\n",
    "    'intervene': {\n",
    "        'x': ['range', 500, 1000],\n",
    "        'Supplement': ['fixed', 'Kombucha']\n",
    "    }\n",
    "}\n",
    "config = [config_east, config_west]\n",
    "east_west_experiment = Experiment(fruit_node)\n",
    "east_west_experiment.fixedSetting(config=config, show=['x', 'Supplement'])"
   ]
  },
  {
   "cell_type": "code",
   "execution_count": null,
   "metadata": {},
   "outputs": [],
   "source": [
    "fruit_experiment_observation.plotOrchard('Observation', gradient='Number of Bees', hover_data=['Number of Bees', 'Number of Fruits'])"
   ]
  },
  {
   "cell_type": "code",
   "execution_count": 3,
   "metadata": {},
   "outputs": [
    {
     "data": {
      "application/vnd.jupyter.widget-view+json": {
       "model_id": "3d97dac5b89e4a199ef2de104ea4315e",
       "version_major": 2,
       "version_minor": 0
      },
      "text/plain": [
       "VBox(children=(HBox(children=(Label(value='Name the Group', layout=Layout(width='150px')), Text(value='', layo…"
      ]
     },
     "metadata": {},
     "output_type": "display_data"
    }
   ],
   "source": [
    "east_west_controlled_experiment1 = Experiment(fruit_node)\n",
    "#east_west_controlled_experiment1.fixedSetting(config=config, show=['x', 'Supplement', 'Number of Bees'])\n",
    "east_west_controlled_experiment1.setting(show=['x', 'Supplement', 'Number of Bees'])"
   ]
  },
  {
   "cell_type": "markdown",
   "metadata": {},
   "source": [
    "TODO:\n",
    "\n",
    "* Fixed intervention for subset of variables, preset multiple experimental groups\n",
    "* PlotOrchard combine groups into single plot, show/hide each group with button\n",
    "* Feedback text when experiment is done"
   ]
  },
  {
   "cell_type": "code",
   "execution_count": null,
   "metadata": {},
   "outputs": [],
   "source": []
  }
 ],
 "metadata": {
  "kernelspec": {
   "display_name": "Python 3",
   "language": "python",
   "name": "python3"
  },
  "language_info": {
   "codemirror_mode": {
    "name": "ipython",
    "version": 3
   },
   "file_extension": ".py",
   "mimetype": "text/x-python",
   "name": "python",
   "nbconvert_exporter": "python",
   "pygments_lexer": "ipython3",
   "version": "3.8.5"
  }
 },
 "nbformat": 4,
 "nbformat_minor": 4
}
