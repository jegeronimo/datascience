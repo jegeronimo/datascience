{
 "cells": [
  {
   "cell_type": "code",
   "execution_count": 2,
   "metadata": {},
   "outputs": [],
   "source": [
    "from causality_simulation import *\n",
    "import plotly.express as px\n",
    "import pandas as pd\n",
    "%matplotlib inline"
   ]
  },
  {
   "cell_type": "markdown",
   "metadata": {},
   "source": [
    "Goal is to see whether kombucha is good or bad for growing fruits.\n",
    "1. Simple bad experiment: kombucha in western half, water in eastern half (confound with x). Only show variables: Suppliment, Number of Fruits. Ask why that may be a problem.\n",
    "2. Introduce two hidden variables. Suppose you are god and can control them for every tree. Design experiment.\n",
    "3. Introduce two more hidden variables. etc\n",
    "4. You don't know if there's any more hidden variables, so you must randomise the assignment of suppliment. Design an experiment to see if kombucha is good for growing fruits.\n",
    "\n",
    "BONUS:\n",
    "5. What if you still control for number of bees? Is kombucha still good for growing fruits?\n",
    "6. Conditional causation / interaction of variables / representative sample population"
   ]
  },
  {
   "cell_type": "markdown",
   "metadata": {},
   "source": [
    "# Recap\n",
    "\n",
    "In a previous notebook on truffula trees, we looked at the causal relationship between the number of bees and the number of fruits. We concluded that the \"bees cause fruits\". That is, if more bees come near the tree, then more fruits will grow. Of course, bees are not the only cause of fruiting, so this time we would like to investigate if watering the trees with particular supplements will help with fruiting as well.\n",
    "\n",
    "## ADD STORY ABOUT HANS\n",
    "\n",
    "With all the hype around kombucha in Berkeley, Hans decides to perform the following experiment. He has a 1000 metre by 1000 metre orchard, so he divides the orchard into two halves. The eastern half receives water, and the western half receives kombucha. After a summer, he compares the two experimental groups to see if trees in one group has a higher number of fruits than the other group.\n",
    "\n",
    "His experiment can be represented through our setup interface as follows. In the __East (Water)__ group, he selects 250 trees in a range of longitudes (east-west location) from 0 to 500 m measured from the easternmost edge of his orchard and fixes the supplement to be the regular __Water__. In the __West (Kombucha)__ group, he selects 250 trees in a range of longitudes from 500 to 1000 m and fixes the supplement to be __Kombucha__."
   ]
  },
  {
   "cell_type": "code",
   "execution_count": 4,
   "metadata": {},
   "outputs": [
    {
     "data": {
      "application/vnd.jupyter.widget-view+json": {
       "model_id": "04e3f226c72e45e3bbeff4cdfa2975f7",
       "version_major": 2,
       "version_minor": 0
      },
      "text/plain": [
       "VBox(children=(HBox(children=(Label(value='Name the Group', layout=Layout(width='150px')), Text(value='East (W…"
      ]
     },
     "metadata": {},
     "output_type": "display_data"
    },
    {
     "data": {
      "application/vnd.jupyter.widget-view+json": {
       "model_id": "4841244443f14041bf1b3410c44ee4df",
       "version_major": 2,
       "version_minor": 0
      },
      "text/plain": [
       "VBox(children=(HBox(children=(Label(value='Name the Group', layout=Layout(width='150px')), Text(value='West (K…"
      ]
     },
     "metadata": {},
     "output_type": "display_data"
    },
    {
     "data": {
      "application/vnd.jupyter.widget-view+json": {
       "model_id": "ec5078f5292c44bcbd3de93b612db36a",
       "version_major": 2,
       "version_minor": 0
      },
      "text/plain": [
       "Label(value='Data from experiment collected!')"
      ]
     },
     "metadata": {},
     "output_type": "display_data"
    }
   ],
   "source": [
    "config_east = {\n",
    "    'name': 'East (Water)',\n",
    "    'N': 250,\n",
    "    'intervene': {\n",
    "        'Longitude': ['range', 0, 500],\n",
    "        'Supplement': ['fixed', 'Water']\n",
    "    }\n",
    "}\n",
    "config_west = {\n",
    "    'name': 'West (Kombucha)',\n",
    "    'N': 250,\n",
    "    'intervene': {\n",
    "        'Longitude': ['range', 500, 1000],\n",
    "        'Supplement': ['fixed', 'Kombucha']\n",
    "    }\n",
    "}\n",
    "config = [config_east, config_west]\n",
    "east_west_experiment = Experiment(truffula)\n",
    "east_west_experiment.fixedSetting(config=config, show=['Longitude', 'Supplement'])"
   ]
  },
  {
   "cell_type": "code",
   "execution_count": 8,
   "metadata": {},
   "outputs": [
    {
     "ename": "TypeError",
     "evalue": "plotOrchard() missing 1 required positional argument: 'name'",
     "output_type": "error",
     "traceback": [
      "\u001b[0;31m---------------------------------------------------------------------------\u001b[0m",
      "\u001b[0;31mTypeError\u001b[0m                                 Traceback (most recent call last)",
      "\u001b[0;32m<ipython-input-8-c22e4856fd72>\u001b[0m in \u001b[0;36m<module>\u001b[0;34m\u001b[0m\n\u001b[0;32m----> 1\u001b[0;31m \u001b[0meast_west_experiment\u001b[0m\u001b[0;34m.\u001b[0m\u001b[0mplotOrchard\u001b[0m\u001b[0;34m(\u001b[0m\u001b[0mgradient\u001b[0m\u001b[0;34m=\u001b[0m\u001b[0;34m'Number of Bees'\u001b[0m\u001b[0;34m,\u001b[0m \u001b[0mshow\u001b[0m\u001b[0;34m=\u001b[0m\u001b[0;34m[\u001b[0m\u001b[0;34m'Number of Bees'\u001b[0m\u001b[0;34m,\u001b[0m \u001b[0;34m'Number of Fruits'\u001b[0m\u001b[0;34m]\u001b[0m\u001b[0;34m)\u001b[0m\u001b[0;34m\u001b[0m\u001b[0;34m\u001b[0m\u001b[0m\n\u001b[0m",
      "\u001b[0;31mTypeError\u001b[0m: plotOrchard() missing 1 required positional argument: 'name'"
     ]
    }
   ],
   "source": [
    "east_west_experiment.plotOrchard(gradient='Number of Fruits', show=['Number of Fruits'])"
   ]
  },
  {
   "cell_type": "code",
   "execution_count": 10,
   "metadata": {},
   "outputs": [
    {
     "data": {
      "application/vnd.jupyter.widget-view+json": {
       "model_id": "06ed4c2f61f54756ad606d49f109685f",
       "version_major": 2,
       "version_minor": 0
      },
      "text/plain": [
       "VBox(children=(HBox(children=(Dropdown(description='x-Axis Variable: ', options=('Longitude', 'Number of Fruit…"
      ]
     },
     "metadata": {},
     "output_type": "display_data"
    },
    {
     "data": {
      "application/vnd.jupyter.widget-view+json": {
       "model_id": "970943c569704688a31a7510961cbcfd",
       "version_major": 2,
       "version_minor": 0
      },
      "text/plain": [
       "RadioButtons(description='Group', layout=Layout(width='max-content'), options=('East (Water)', 'West (Kombucha…"
      ]
     },
     "metadata": {},
     "output_type": "display_data"
    },
    {
     "data": {
      "text/plain": []
     },
     "metadata": {},
     "output_type": "display_data"
    },
    {
     "name": "stderr",
     "output_type": "stream",
     "text": [
      "/usr/local/lib/python3.8/site-packages/numpy/core/numeric.py:2378: FutureWarning:\n",
      "\n",
      "elementwise comparison failed; returning scalar instead, but in the future will perform elementwise comparison\n",
      "\n"
     ]
    }
   ],
   "source": [
    "east_west_experiment.newPlot(show=['Longitude', 'Supplement', 'Number of Fruits'])"
   ]
  },
  {
   "cell_type": "markdown",
   "metadata": {},
   "source": [
    "Is there a correlation (how strong?) between adding kombucha and the number of fruits? What can you conclude about the causal relationship between adding kombucha and fruiting?\n",
    "\n",
    "Is there any aspect of this experiment that should make you suspicious of this conclusion? If so, what might make the conclusion less believable?"
   ]
  },
  {
   "cell_type": "markdown",
   "metadata": {},
   "source": [
    "# Control\n",
    "\n",
    "Causation of B by A is sometimes defined as \"the existence of correlation between A and B under experimental intervention on A, all else kept constant\". In Hans' experiment above, A is adding kombucha, while B is the number of fruits. While he may have found correlation between A and B, he did not keep all else constant, as the \"water\" group is in the east, while the \"kombucha\" group is in the west. This can have many effects that cast doubt on his results. For example, let us look at the number of bees that each tree receives."
   ]
  },
  {
   "cell_type": "code",
   "execution_count": null,
   "metadata": {},
   "outputs": [],
   "source": [
    "east_west_experiment.plotOrchard(gradient='Number of Bees', show=['Number of Bees', 'Number of Fruits'])"
   ]
  },
  {
   "cell_type": "markdown",
   "metadata": {},
   "source": [
    "Can you notice any trend in the number of bees depending on thee location in his orchard?\n",
    "\n",
    "It turns out there is a large bee hive near his orchard. Where do you think it is?\n",
    "\n",
    "Based on the experimental conclusion last time that bees cause fruits, does the proximity to the beehive make the correlation between adding kombucha and the number of fruits more or less prominent? Is this effect a source of statistical or systematic uncertainty?"
   ]
  },
  {
   "cell_type": "markdown",
   "metadata": {},
   "source": [
    "To mitigate the problem that the number of bees varies across the orchard, we can control for the number of bees, so that it is equal for every tree in the orchard. Set up such an experiment below. Copy all the settings from Hans' experiment above, but now we fix the number of bees to __100__ in both experiment groups."
   ]
  },
  {
   "cell_type": "code",
   "execution_count": 12,
   "metadata": {},
   "outputs": [
    {
     "data": {
      "application/vnd.jupyter.widget-view+json": {
       "model_id": "dab945c89e6e4e2186cf018ed6f49680",
       "version_major": 2,
       "version_minor": 0
      },
      "text/plain": [
       "VBox(children=(HBox(children=(Label(value='Name the Group', layout=Layout(width='150px')), Text(value='', layo…"
      ]
     },
     "metadata": {},
     "output_type": "display_data"
    }
   ],
   "source": [
    "east_west_controlled_experiment = Experiment(truffula)\n",
    "#east_west_controlled_experiment.fixedSetting(config=config, show=['x', 'Supplement', 'Number of Bees'])\n",
    "east_west_controlled_experiment.setting(show=['Longitude', 'Supplement', 'Number of Bees'])"
   ]
  },
  {
   "cell_type": "code",
   "execution_count": 13,
   "metadata": {},
   "outputs": [
    {
     "data": {
      "application/vnd.jupyter.widget-view+json": {
       "model_id": "25a8b4a195324a2eb5c5d530e083623f",
       "version_major": 2,
       "version_minor": 0
      },
      "text/plain": [
       "VBox(children=(HBox(children=(Dropdown(description='x-Axis Variable: ', options=('Longitude', 'Number of Fruit…"
      ]
     },
     "metadata": {},
     "output_type": "display_data"
    },
    {
     "data": {
      "application/vnd.jupyter.widget-view+json": {
       "model_id": "0c55197279c84d9c8a319d6938fe8988",
       "version_major": 2,
       "version_minor": 0
      },
      "text/plain": [
       "RadioButtons(description='Group', layout=Layout(width='max-content'), options=('All',), value='All')"
      ]
     },
     "metadata": {},
     "output_type": "display_data"
    },
    {
     "data": {
      "text/plain": []
     },
     "metadata": {},
     "output_type": "display_data"
    }
   ],
   "source": [
    "east_west_controlled_experiment.newPlot(show=['Longitude', 'Supplement', 'Number of Fruits'])"
   ]
  },
  {
   "cell_type": "markdown",
   "metadata": {},
   "source": [
    "What can we conclude about the causal relationship...\n",
    "\n",
    "Etc"
   ]
  },
  {
   "cell_type": "markdown",
   "metadata": {},
   "source": [
    "However, the number of bees was just one of \"confounding variables\" that need to be controlled for. It turns out that the wind speed also varies depending on the location within the orchard. We don't know if wind speed has anything to do with the number of fruits of each tree, but it's safe to control for it anyway. Set up such an experiment below. Copy the same settings as in the previous part, but now we fix wind speed to __20__ for both experimental groups."
   ]
  },
  {
   "cell_type": "code",
   "execution_count": 14,
   "metadata": {},
   "outputs": [
    {
     "data": {
      "application/vnd.jupyter.widget-view+json": {
       "model_id": "b1cfaf861ba94e909fe6962756bcd8fa",
       "version_major": 2,
       "version_minor": 0
      },
      "text/plain": [
       "VBox(children=(HBox(children=(Label(value='Name the Group', layout=Layout(width='150px')), Text(value='', layo…"
      ]
     },
     "metadata": {},
     "output_type": "display_data"
    }
   ],
   "source": [
    "east_west_controlled_experiment2 = Experiment(truffula)\n",
    "#east_west_controlled_experiment2.fixedSetting(config=config, show=['x', 'Supplement', 'Number of Bees'])\n",
    "east_west_controlled_experiment2.setting(show=['Longitude', 'Supplement', 'Number of Bees', 'Wind Speed'])"
   ]
  },
  {
   "cell_type": "markdown",
   "metadata": {},
   "source": [
    "Same questions as before... etc"
   ]
  },
  {
   "cell_type": "markdown",
   "metadata": {},
   "source": [
    "We can of course go on forever. There are practically countless variables that can vary within the orchard—temperature, humidity, density of grass, soil composition, or even the number of naked mole rats that live deep underground. It is virtually impossible to control for all of those variables by fixing each of them constant. What we could do, however, is randomise which trees to water with kombucha and which to water with water. This way, any location-dependent effect from any other variable is unlikely to be concentrated to the \"water\" group or the \"kombucha\" group of trees, enhancing or diluting the actual correlation between adding kombucha and the number of fruits. In the following experiment, check "
   ]
  },
  {
   "cell_type": "markdown",
   "metadata": {},
   "source": [
    "TODO:\n",
    "\n",
    "* Fixed intervention for subset of variables, preset multiple experimental groups\n",
    "* PlotOrchard combine groups into single plot, show/hide each group with button\n",
    "* Feedback text when experiment is done"
   ]
  },
  {
   "cell_type": "code",
   "execution_count": null,
   "metadata": {},
   "outputs": [],
   "source": []
  }
 ],
 "metadata": {
  "kernelspec": {
   "display_name": "Python 3",
   "language": "python",
   "name": "python3"
  },
  "language_info": {
   "codemirror_mode": {
    "name": "ipython",
    "version": 3
   },
   "file_extension": ".py",
   "mimetype": "text/x-python",
   "name": "python",
   "nbconvert_exporter": "python",
   "pygments_lexer": "ipython3",
   "version": "3.8.5"
  }
 },
 "nbformat": 4,
 "nbformat_minor": 4
}
