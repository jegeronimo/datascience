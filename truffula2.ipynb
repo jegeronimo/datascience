{
 "cells": [
  {
   "cell_type": "code",
   "execution_count": 1,
   "metadata": {},
   "outputs": [],
   "source": [
    "from causality_simulation import *\n",
    "import plotly.express as px\n",
    "import pandas as pd\n",
    "%matplotlib inline"
   ]
  },
  {
   "cell_type": "markdown",
   "metadata": {},
   "source": [
    "Goal is to see whether kombucha is good or bad for growing fruits.\n",
    "1. Simple bad experiment: kombucha in western half, water in eastern half (confound with x). Only show variables: Suppliment, Number of Fruits. Ask why that may be a problem.\n",
    "2. Introduce two hidden variables. Suppose you are god and can control them for every tree. Design experiment.\n",
    "3. Introduce two more hidden variables. etc\n",
    "4. You don't know if there's any more hidden variables, so you must randomise the assignment of suppliment. Design an experiment to see if kombucha is good for growing fruits.\n",
    "\n",
    "BONUS:\n",
    "5. What if you still control for number of bees? Is kombucha still good for growing fruits?\n",
    "6. Conditional causation / interaction of variables / representative sample population"
   ]
  },
  {
   "cell_type": "code",
   "execution_count": null,
   "metadata": {},
   "outputs": [],
   "source": []
  }
 ],
 "metadata": {
  "kernelspec": {
   "display_name": "Python 3",
   "language": "python",
   "name": "python3"
  },
  "language_info": {
   "codemirror_mode": {
    "name": "ipython",
    "version": 3
   },
   "file_extension": ".py",
   "mimetype": "text/x-python",
   "name": "python",
   "nbconvert_exporter": "python",
   "pygments_lexer": "ipython3",
   "version": "3.7.6"
  }
 },
 "nbformat": 4,
 "nbformat_minor": 4
}
