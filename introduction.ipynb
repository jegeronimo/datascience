{
 "cells": [
  {
   "cell_type": "markdown",
   "metadata": {},
   "source": [
    "# Introduction\n",
    "\n",
    "Welcome to Jupyter Notebook! If you're already familiar with how Jupyter notebooks work, just play around with the widgets in this notebook and help your groupmates!"
   ]
  },
  {
   "cell_type": "markdown",
   "metadata": {},
   "source": [
    "## Code block\n",
    "\n",
    "If this is your first time using a Jupyter notebook, fear not! We'll walk you through the main features. There are blocks of code which you have to run in order to make any notebook work. To run each code block, just click inside it to focus on it, and then press `Shift+Return` on your keyboard. You never have to read the contents of code blocks or modify them (nor should you!).\n",
    "\n",
    "Try to run the following code block. What is the sentence that it prints?"
   ]
  },
  {
   "cell_type": "code",
   "execution_count": 78,
   "metadata": {},
   "outputs": [
    {
     "data": {
      "application/vnd.jupyter.widget-view+json": {
       "model_id": "561aaa850892497fa6d8e2a09a0b0378",
       "version_major": 2,
       "version_minor": 0
      },
      "text/plain": [
       "Label(value='I would give anything to know the truth of it. —Sense and Sensibilty, J. Austen')"
      ]
     },
     "metadata": {},
     "output_type": "display_data"
    }
   ],
   "source": [
    "import ipywidgets as wd\n",
    "from IPython.display import display, HTML, Javascript\n",
    "from cryptography.fernet import Fernet\n",
    "from random import randint\n",
    "def dialog(title, body, button):\n",
    "    display(Javascript(\"require(['base/js/dialog'], function(dialog) {dialog.modal({title: '%s', body: '%s', buttons: {'%s': {}}})});\" % (title, body, button)))\n",
    "def submit(sender=None):\n",
    "    section_days_bool = not section_days[1].value and section_days[2].value and not section_days[3].value and section_days[4].value and not section_days[5].value\n",
    "    plenary_days_bool = not plenary_days[1].value and not plenary_days[2].value and plenary_days[3].value and not plenary_days[4].value and plenary_days[5].value\n",
    "    in_person_days_bool = not in_person_days[1].value and in_person_days[2].value and not in_person_days[3].value and not in_person_days[4].value and in_person_days[5].value\n",
    "    quiz_bool = quiz_slider[1].value == 6 and dropped_quiz_slider[1].value == 2\n",
    "    correct = section_days_bool and plenary_days_bool and in_person_days_bool and quiz_bool\n",
    "    if correct: dialog('Check Answers', 'Your answers are correct!', 'OK')\n",
    "    else: dialog('Check Answers', 'Your answers are not all correct!', 'OK')\n",
    "\n",
    "key = b'9gDJYllY3sb8JjufPkYfjXl_DcEogqFSKjGuc7JcZo4='\n",
    "fernet = Fernet(key)\n",
    "encs = [b'gAAAAABh059_krA4HPBZAqNKh8MTRvxobM-KDc-z7JHMBzPBGe0DatF84o3ZP_c3mY0uKXrjMlUfqCI2-dBsATLPcG2Ersjfcw10DaDMXo9REjIUw9nAInJQhV4NmBEtR9gbtQ6uUEnu9wVHLfrCOeI_U4g9KJgbww==',\n",
    "b'gAAAAABh057-PSiYi06AGAAUsR_gCZOBk_74Fg90z3FrdEU8F5fZC5xa5mlTSLRKSoy9e79CgQIZfi_mLPy6bfHZl82nMnCmA3dlig3UANer285Jm6wGJ_uELM3ttLSXJYYFmK2V1IBvu6fWq5JKo9s9Wlwh4T2fww==',\n",
    "b'gAAAAABh05_XSpPnEZpDSCvCnk5kVXaN_zBFg-jwmGCAEUoEfAxwKkgXHz5M7qO3DB3LB6QG8MW_w9uGdRrcQ0Jlb_pxiolM71cowZ6c1Qil3dM_eTISywdC5fyMzS3oRBcHvOfHyFUSskZSW5mjjJQfZ4asILqvQCQ1u9MKnrHEL5HboOMYx1d3j79e1BiB_3AfMcntNkyp']\n",
    "ind = randint(0, 2)\n",
    "dec = fernet.decrypt(encs[ind])\n",
    "display(wd.Label(value=dec.decode()))"
   ]
  },
  {
   "cell_type": "markdown",
   "metadata": {},
   "source": [
    "## Widget\n",
    "\n",
    "Our notebooks are always interactive. Run the following code, which will print buttons and menus that you can interact with. Answer the questions by referring to the course syllabus, available through bCourses."
   ]
  },
  {
   "cell_type": "code",
   "execution_count": 79,
   "metadata": {},
   "outputs": [
    {
     "data": {
      "text/html": [
       "<style>\n",
       "    .widget-label { min-width: 130px !important; }\n",
       "</style>"
      ],
      "text/plain": [
       "<IPython.core.display.HTML object>"
      ]
     },
     "metadata": {},
     "output_type": "display_data"
    },
    {
     "data": {
      "application/vnd.jupyter.widget-view+json": {
       "model_id": "227a429bbdff496aa8963fc773ff105a",
       "version_major": 2,
       "version_minor": 0
      },
      "text/plain": [
       "VBox(children=(HBox(children=(Label(value='Discussion Sections'), Checkbox(value=False, description='Monday', …"
      ]
     },
     "metadata": {},
     "output_type": "display_data"
    }
   ],
   "source": [
    "display(HTML('''<style>\n",
    "    .widget-label { min-width: 130px !important; }\n",
    "</style>'''))\n",
    "section_days = [wd.Label(value=\"Discussion Sections\"), wd.Checkbox(value=False, description='Monday', disabled=False, indent=False),\n",
    "wd.Checkbox(value=False, description='Tuesday', disabled=False, indent=False),\n",
    "wd.Checkbox(value=False, description='Wednesday', disabled=False, indent=False),\n",
    "wd.Checkbox(value=False, description='Thursday', disabled=False, indent=False),\n",
    "wd.Checkbox(value=False, description='Friday', disabled=False, indent=False)]\n",
    "plenary_days = [wd.Label(value=\"Plenary Sessions\"), wd.Checkbox(value=False, description='Monday', disabled=False, indent=False),\n",
    "wd.Checkbox(value=False, description='Tuesday', disabled=False, indent=False),\n",
    "wd.Checkbox(value=False, description='Wednesday', disabled=False, indent=False),\n",
    "wd.Checkbox(value=False, description='Thursday', disabled=False, indent=False),\n",
    "wd.Checkbox(value=False, description='Friday', disabled=False, indent=False)]\n",
    "in_person_days = [wd.Label(value=\"In-Person Classes\"), wd.Checkbox(value=False, description='Monday', disabled=False, indent=False),\n",
    "wd.Checkbox(value=False, description='Tuesday', disabled=False, indent=False),\n",
    "wd.Checkbox(value=False, description='Wednesday', disabled=False, indent=False),\n",
    "wd.Checkbox(value=False, description='Thursday', disabled=False, indent=False),\n",
    "wd.Checkbox(value=False, description='Friday', disabled=False, indent=False)]\n",
    "quiz_slider = [wd.Label(value=\"Number of Quizzes\"), wd.IntSlider(value=0, min=0, max=14, step=1, disabled=False, continuous_update=False, orientation='horizontal', readout=True, readout_format='d')]\n",
    "dropped_quiz_slider = [wd.Label(value=\"Quizzes Dropped\"), wd.IntSlider(value=0, min=0, max=5, step=1, disabled=False, continuous_update=False, orientation='horizontal', readout=True, readout_format='d')]\n",
    "submit_button = wd.Button(description='Check Answers', disabled=False, button_style='', tooltip='Check Answers', icon='check')\n",
    "submit_button.on_click(submit)\n",
    "display(wd.VBox([wd.HBox(section_days), wd.HBox(plenary_days), wd.HBox(in_person_days), wd.HBox(quiz_slider), wd.HBox(dropped_quiz_slider), submit_button]))"
   ]
  },
  {
   "cell_type": "code",
   "execution_count": null,
   "metadata": {},
   "outputs": [],
   "source": []
  }
 ],
 "metadata": {
  "interpreter": {
   "hash": "aee8b7b246df8f9039afb4144a1f6fd8d2ca17a180786b69acc140d282b71a49"
  },
  "kernelspec": {
   "display_name": "Python 3.9.7 64-bit",
   "language": "python",
   "name": "python3"
  },
  "language_info": {
   "codemirror_mode": {
    "name": "ipython",
    "version": 3
   },
   "file_extension": ".py",
   "mimetype": "text/x-python",
   "name": "python",
   "nbconvert_exporter": "python",
   "pygments_lexer": "ipython3",
   "version": "3.9.7"
  },
  "orig_nbformat": 4
 },
 "nbformat": 4,
 "nbformat_minor": 2
}
