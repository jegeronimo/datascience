{
 "cells": [
  {
   "cell_type": "code",
   "execution_count": 1,
   "metadata": {},
   "outputs": [],
   "source": [
    "import numpy as np\n",
    "import matplotlib.pyplot as plt\n",
    "%matplotlib widget\n",
    "import ipywidgets as widgets"
   ]
  },
  {
   "cell_type": "code",
   "execution_count": 14,
   "metadata": {},
   "outputs": [],
   "source": [
    "n = 10000\n",
    "mean_neg = 100\n",
    "mean_pos = 200\n",
    "std_neg = 20\n",
    "std_pos = 50\n",
    "p_pos = .1"
   ]
  },
  {
   "cell_type": "code",
   "execution_count": 8,
   "metadata": {},
   "outputs": [],
   "source": [
    "def single_test(mean_neg, mean_pos, std_neg, std_pos, p_pos):\n",
    "    if np.random.rand() < p_pos:\n",
    "        return [np.random.normal(mean_pos, std_pos), 1]\n",
    "    else:\n",
    "        return [np.random.normal(mean_neg, std_neg), 0]\n",
    "\n",
    "def generate_test_results(n, mean_neg, mean_pos, std_neg, std_pos, p_pos):\n",
    "    return np.array([single_test(mean_neg, mean_pos, std_neg, std_pos, p_pos) for i in range(n)])\n",
    "\n",
    "def count_diagnoses(test_results, threshold):\n",
    "    true_pos = sum((test_results[:,0] > threshold) * (test_results[:,1] == 1))\n",
    "    true_neg = sum((test_results[:,0] <= threshold) * (test_results[:,1] == 0))\n",
    "    false_pos = sum((test_results[:,0] > threshold) * (test_results[:,1] == 0))\n",
    "    false_neg = sum((test_results[:,0] <= threshold) * (test_results[:,1] == 1))\n",
    "    return true_pos, true_neg, false_pos, false_neg\n",
    "\n",
    "def plot_diagnoses(test_results, threshold):\n",
    "    fig, ax = plt.subplots(figsize=(6,4))\n",
    "    bins = np.arange(0, 360, 5)\n",
    "    counts, bins, patches = ax.hist(test_results[test_results[:,1]==0,0], bins=bins, fc=(31/255,119/255,180/255,.7))\n",
    "    ax.hist(test_results[test_results[:,1]==1,0], bins=bins, fc=(255/255,127/255,14/255,0.7))\n",
    "    ax.plot([threshold, threshold], [0, max(counts+10)], c='black')\n",
    "    ax.set_xlim(min(test_results[:,0])-20, max(test_results[:,0])+20)\n",
    "    ax.set_ylim(0, max(counts+10))\n",
    "#     plt.show()\n",
    "    return fig, ax\n",
    "\n",
    "def print_diagnoses(test_results, threshold):\n",
    "    true_pos, true_neg, false_pos, false_neg = count_diagnoses(test_results, threshold)\n",
    "    print('True positives: %d' % true_pos)\n",
    "    print('True negatives: %d' % true_neg)\n",
    "    print('False positives: %d' % false_pos)\n",
    "    print('False negatives: %d' % false_neg)\n",
    "    print('False positive rates: {:.2f}%'.format(false_pos/(true_pos+false_pos)*100))\n",
    "    print('False negative rates: {:.2f}%'.format(false_neg/(true_neg+false_neg)*100))\n",
    "    print('Overall accuracy: {:.2f}%'.format((true_pos+true_neg)/(true_pos+true_neg+false_pos+false_neg)*100))\n",
    "\n",
    "def update_line(lines, x):\n",
    "    lines.remove()"
   ]
  },
  {
   "cell_type": "code",
   "execution_count": 15,
   "metadata": {},
   "outputs": [],
   "source": [
    "test_results = generate_test_results(n, mean_neg, mean_pos, std_neg, std_pos, p_pos)"
   ]
  },
  {
   "cell_type": "code",
   "execution_count": 16,
   "metadata": {},
   "outputs": [
    {
     "data": {
      "application/vnd.jupyter.widget-view+json": {
       "model_id": "b187326289824aca97c37f1e4f21e870",
       "version_major": 2,
       "version_minor": 0
      },
      "text/plain": [
       "Canvas(toolbar=Toolbar(toolitems=[('Home', 'Reset original view', 'home', 'home'), ('Back', 'Back to previous …"
      ]
     },
     "metadata": {},
     "output_type": "display_data"
    },
    {
     "data": {
      "application/vnd.jupyter.widget-view+json": {
       "model_id": "820964da5a6b418cacb35af0eff2ebe8",
       "version_major": 2,
       "version_minor": 0
      },
      "text/plain": [
       "interactive(children=(IntSlider(value=175, description='t', max=350, step=5), Output()), _dom_classes=('widget…"
      ]
     },
     "metadata": {},
     "output_type": "display_data"
    }
   ],
   "source": [
    "threshold = 150\n",
    "fig, ax = plot_diagnoses(test_results, threshold)\n",
    "@widgets.interact(t=(0, 350, 5))\n",
    "def update(t):\n",
    "    ax.lines[0].set_xdata([t, t])\n",
    "#     fig.canvas.draw()\n",
    "#     fig.canvas.flush_events()\n",
    "    print_diagnoses(test_results, t)\n",
    "# interact(update, t=(0, 350, 1))"
   ]
  },
  {
   "cell_type": "markdown",
   "metadata": {},
   "source": [
    "* implement different scenarios with different distributions\n",
    "* base rate neglect by varying p_pos and asking how likely they are to have the disease given a positive diagnosis"
   ]
  },
  {
   "cell_type": "code",
   "execution_count": null,
   "metadata": {},
   "outputs": [],
   "source": []
  }
 ],
 "metadata": {
  "kernelspec": {
   "display_name": "Python 3",
   "language": "python",
   "name": "python3"
  },
  "language_info": {
   "codemirror_mode": {
    "name": "ipython",
    "version": 3
   },
   "file_extension": ".py",
   "mimetype": "text/x-python",
   "name": "python",
   "nbconvert_exporter": "python",
   "pygments_lexer": "ipython3",
   "version": "3.7.6"
  }
 },
 "nbformat": 4,
 "nbformat_minor": 4
}
