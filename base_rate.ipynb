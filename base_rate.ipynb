{
 "cells": [
  {
   "cell_type": "markdown",
   "metadata": {},
   "source": [
    "## Bayes' Theorem Calculator\n",
    "\n",
    "Whenever you are using a test to determine if something is happening or not, it is time to use Bayes' theorem to avoid comitting the base rate fallacy. However, the mathematical notation and formula may be intimidating. You can use the following calculator to learn how Bayes' theorem works, and to answer practical questions about probability."
   ]
  },
  {
   "cell_type": "markdown",
   "metadata": {},
   "source": [
    "Run the following box by clicking on it and pressing `Shift+Return`."
   ]
  },
  {
   "cell_type": "code",
   "execution_count": null,
   "metadata": {},
   "outputs": [],
   "source": [
    "from base_rate import *\n",
    "%matplotlib widget"
   ]
  },
  {
   "cell_type": "markdown",
   "metadata": {},
   "source": [
    "Run the following box."
   ]
  },
  {
   "cell_type": "code",
   "execution_count": null,
   "metadata": {},
   "outputs": [],
   "source": [
    "BayesForm();"
   ]
  },
  {
   "cell_type": "code",
   "execution_count": 13,
   "metadata": {},
   "outputs": [],
   "source": [
    "from IPython.display import HTML, Javascript"
   ]
  },
  {
   "cell_type": "code",
   "execution_count": 116,
   "metadata": {},
   "outputs": [
    {
     "data": {
      "application/javascript": [
       "require.config({ \n",
       "    paths: { \n",
       "        d3src: 'https://d3js.org',\n",
       "        slider: 'https://unpkg.com/d3-simple-slider@1.10.4/dist/d3-simple-slider.min'\n",
       "    },\n",
       "    map: {\n",
       "        '*': {\n",
       "            'd3': 'd3src/d3.v7.min',\n",
       "            'd3-timer': 'd3src/d3-timer.v3.min',\n",
       "            'd3-interpolate': 'd3src/d3-interpolate.v3.min',\n",
       "            'd3-color': 'd3src/d3-color.v3.min',\n",
       "            'd3-time': 'd3src/d3-time.v3.min',\n",
       "            'd3-format': 'd3src/d3-format.v3.min',\n",
       "            'd3-time-format': 'd3src/d3-time-format.v4.min',\n",
       "            'd3-array': 'd3src/d3-array.v3.min',\n",
       "            'd3-axis': 'd3src/d3-axis.v3.min',\n",
       "            'd3-dispatch': 'd3src/d3-dispatch.v3.min',\n",
       "            'd3-drag': 'd3src/d3-drag.v3.min',\n",
       "            'd3-ease': 'd3src/d3-ease.v3.min',\n",
       "            'd3-scale': 'd3src/d3-scale.v4.min',\n",
       "            'd3-selection': 'd3src/d3-selection.v3.min',\n",
       "            'd3-transition': 'd3src/d3-transition.v3.min'\n",
       "        }\n",
       "    }\n",
       "})\n",
       "\n",
       "var prior = 0.5\n",
       "var true_pos = 0.5\n",
       "var true_neg = 0.5\n",
       "\n",
       "function drawSlider1(d3, slider, g) {\n",
       "    g.call(\n",
       "        slider.sliderBottom()\n",
       "            .min(0).max(1)\n",
       "            .width(300)\n",
       "            .tickFormat(d3.format('.2%'))\n",
       "            .tickValues([0, 0.25, 0.5, 0.75, 1])\n",
       "            .default(.5)\n",
       "            .on('onchange', val => {\n",
       "                prior = val\n",
       "                drawCircles(d3.select('g#circles'))\n",
       "            })\n",
       "    )\n",
       "    .attr('transform', 'translate(50, 20)')\n",
       "}\n",
       "\n",
       "function drawSlider2(d3, slider, g) {\n",
       "    g.call(\n",
       "        slider.sliderBottom()\n",
       "            .min(0).max(1)\n",
       "            .width(300)\n",
       "            .tickFormat(d3.format('.2%'))\n",
       "            .tickValues([0, 0.25, 0.5, 0.75, 1])\n",
       "            .default(.5)\n",
       "            .on('onchange', val => {\n",
       "                true_pos = val\n",
       "                drawCircles(d3.select('g#circles'))\n",
       "            })\n",
       "    )\n",
       "    .attr('transform', 'translate(50, 40)')\n",
       "}\n",
       "\n",
       "function drawCircles(g) {\n",
       "    let total = 1000\n",
       "    let row_len = 40\n",
       "    let d = 20\n",
       "    let marginx = 20\n",
       "    let marginy = 150\n",
       "    // https://samanthaz.me/writing/finding-the-right-color-palettes-for-data-visualizations\n",
       "    let pos_col = '#fadc64' // light yellow\n",
       "    let neg_col = '#9fd5ce' // light blue\n",
       "    let pos_stroke = '#e35d2e' // orange-red\n",
       "    let neg_stroke = '#182574' // dark blue\n",
       "    let data = []\n",
       "    for (let i = 0; i < total; i++) {\n",
       "        let x = (i % row_len) * d + marginx\n",
       "        let y = ((i / row_len) >> 0) * d + marginy\n",
       "        let r = 7\n",
       "        let pos_neg_split = Math.round(total * prior)\n",
       "        let fill = (i < pos_neg_split) ? pos_col : neg_col\n",
       "        let stroke\n",
       "        if (i < pos_neg_split) {\n",
       "            stroke = (i < Math.round(total * prior * true_pos)) ? pos_stroke : neg_stroke\n",
       "        } else {\n",
       "            stroke = (i < pos_neg_split + Math.round(total * (1-prior) * true_neg)) ? neg_stroke : pos_stroke\n",
       "        }\n",
       "        data[i] = [x, y, r, fill, stroke]\n",
       "    }\n",
       "    g.selectAll('circle')\n",
       "        .data(data)\n",
       "        .join('circle')\n",
       "        .attr('cx', function(d, i) {\n",
       "            return d[0]\n",
       "        })\n",
       "        .attr('cy', function(d, i) {\n",
       "            return d[1]\n",
       "        })\n",
       "        .attr('r', function(d, i) {\n",
       "            return d[2]\n",
       "        })\n",
       "        .attr('fill', function(d, i) {\n",
       "            return d[3]\n",
       "        })\n",
       "        .attr('stroke', function(d, i) {\n",
       "            return d[4]\n",
       "        })\n",
       "        .attr('stroke-width', 2.2)\n",
       "}\n",
       "\n",
       "function main(d3, slider, svg) {\n",
       "    let g_slider1 = svg.append('g')\n",
       "    let g_slider2 = svg.append('g')\n",
       "    let g_slider3 = svg.append('g')\n",
       "    let g_circles = svg.append('g').attr('id', 'circles')\n",
       "    drawSlider1(d3, slider, g_slider1)\n",
       "    drawSlider2(d3, slider, g_slider2)\n",
       "    drawCircles(g_circles)\n",
       "}\n",
       "\n",
       "// let svg = d3.select('body').append('svg').attr('width', '100%').attr('height', '600px')\n",
       "// main(svg)\n",
       "\n",
       "require.undef('viz')\n",
       "define('viz', ['d3', 'slider'], function(d3, slider) {\n",
       "    function draw(container) {\n",
       "        main(d3, slider, d3.select(container).append('svg').attr('width', '100%').attr('height', '1000px'))\n",
       "    }\n",
       "    return draw;\n",
       "});\n",
       "\n",
       "element.append('Loaded 🎉')"
      ],
      "text/plain": [
       "<IPython.core.display.Javascript object>"
      ]
     },
     "execution_count": 116,
     "metadata": {},
     "output_type": "execute_result"
    }
   ],
   "source": [
    "Javascript(filename='base_rate.js')"
   ]
  },
  {
   "cell_type": "code",
   "execution_count": 117,
   "metadata": {},
   "outputs": [
    {
     "data": {
      "application/javascript": [
       "\n",
       " (function(element){\n",
       "     require(['viz'], function(viz) {\n",
       "          viz(element.get(0))\n",
       "     });\n",
       " })(element);\n",
       " "
      ],
      "text/plain": [
       "<IPython.core.display.Javascript object>"
      ]
     },
     "execution_count": 117,
     "metadata": {},
     "output_type": "execute_result"
    }
   ],
   "source": [
    "Javascript(\"\"\"\n",
    " (function(element){\n",
    "     require(['viz'], function(viz) {\n",
    "          viz(element.get(0))\n",
    "     });\n",
    " })(element);\n",
    " \"\"\")"
   ]
  },
  {
   "cell_type": "code",
   "execution_count": null,
   "metadata": {},
   "outputs": [],
   "source": []
  }
 ],
 "metadata": {
  "kernelspec": {
   "display_name": "Python 3 (ipykernel)",
   "language": "python",
   "name": "python3"
  },
  "language_info": {
   "codemirror_mode": {
    "name": "ipython",
    "version": 3
   },
   "file_extension": ".py",
   "mimetype": "text/x-python",
   "name": "python",
   "nbconvert_exporter": "python",
   "pygments_lexer": "ipython3",
   "version": "3.8.12"
  },
  "vscode": {
   "interpreter": {
    "hash": "d29b31ed4f9b38fb58774b44c78504d7200c0c76e8085bd4de6d98a6dc987bc2"
   }
  }
 },
 "nbformat": 4,
 "nbformat_minor": 4
}
