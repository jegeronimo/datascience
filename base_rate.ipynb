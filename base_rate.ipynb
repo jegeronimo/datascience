{
 "cells": [
  {
   "cell_type": "code",
   "execution_count": 1,
   "metadata": {},
   "outputs": [],
   "source": [
    "import spacy\n",
    "import lemminflect\n",
    "import ipywidgets as wd\n",
    "from IPython.display import display\n",
    "# import numpy as np\n",
    "%matplotlib widget"
   ]
  },
  {
   "cell_type": "code",
   "execution_count": 2,
   "metadata": {},
   "outputs": [],
   "source": [
    "nlp = spacy.load('en_core_web_md')"
   ]
  },
  {
   "cell_type": "code",
   "execution_count": 3,
   "metadata": {},
   "outputs": [],
   "source": [
    "def stripPunct(doc_dep):\n",
    "    '''\n",
    "    Remove punctuations\n",
    "    '''\n",
    "    return [w for w in doc_dep if w.tag_ != '.']\n",
    "\n",
    "def getInfo(text):\n",
    "    '''\n",
    "    Print POS tagging\n",
    "    '''\n",
    "    for w in nlp(text):\n",
    "        print(w.text, w.lemma_, w.pos_, w.tag_)"
   ]
  },
  {
   "cell_type": "code",
   "execution_count": 4,
   "metadata": {},
   "outputs": [],
   "source": [
    "def getSubject(doc):\n",
    "    '''\n",
    "    Get subject of sentence\n",
    "    \n",
    "    TODO: Pick up 'there' as well!\n",
    "    '''\n",
    "    for token in doc:\n",
    "        if (\"subj\" in token.dep_):\n",
    "            subtree = list(token.subtree)\n",
    "            start = subtree[0].i\n",
    "            end = subtree[-1].i + 1\n",
    "            return start, end"
   ]
  },
  {
   "cell_type": "code",
   "execution_count": 9,
   "metadata": {},
   "outputs": [],
   "source": [
    "def statementify(question, negate=False):\n",
    "    '''\n",
    "    Turn a question like 'did John eat the apple?' to a statement 'John ate the apple', respecting the tense.\n",
    "    \n",
    "    TODO: Turn 'I' questions into 'you' statements.\n",
    "    '''\n",
    "    try:\n",
    "        doc_dep = stripPunct(nlp(question))\n",
    "        verbs = [(i, w) for i, w in enumerate(doc_dep) if w.tag_ in ['VB', 'VBD', 'VBG', 'VBN', 'VBP', 'VBZ', 'MD']]\n",
    "        assert verbs[0][0] == 0\n",
    "        if len(verbs) == 2 and verbs[0][1].lemma_ == 'do' and negate == False:\n",
    "            verb_inflected = verbs[1][1]._.inflect(verbs[0][1].tag_)\n",
    "            text_new = [w.text for w in doc_dep[1:verbs[1][0]]] + [verb_inflected] + [w.text for w in doc_dep[verbs[1][0]+1:]]\n",
    "        else:\n",
    "            start, end = getSubject(doc_dep)\n",
    "            text_new = [w.text for w in doc_dep[1:end]] + [verbs[0][1].text.lower()]\n",
    "            text_new += ['not'] if negate else []\n",
    "            text_new += [w.text for w in doc_dep[end:]]\n",
    "    except:\n",
    "        return 'the answer to \"%s\" is no'%question if negate else 'the answer to \"%s\" is yes'%question\n",
    "    return ' '.join(text_new)"
   ]
  },
  {
   "cell_type": "code",
   "execution_count": 6,
   "metadata": {},
   "outputs": [],
   "source": [
    "def bayes(prior, true_pos_rate, false_pos_rate, pos):\n",
    "    '''\n",
    "    Calculate the updated posterior given a prior and true/false positive rates of the test.\n",
    "    '''\n",
    "    if pos:\n",
    "        return prior * true_pos_rate / (prior * true_pos_rate + (1 - prior) * false_pos_rate)\n",
    "    else:\n",
    "        return prior * (1 - true_pos_rate) / (prior * (1 - true_pos_rate) + (1 - prior) * (1 - false_pos_rate))"
   ]
  },
  {
   "cell_type": "code",
   "execution_count": 60,
   "metadata": {},
   "outputs": [],
   "source": [
    "class BayesQuestion:\n",
    "    def __init__(self, textbox, previous, submit_callback, back=True):\n",
    "        self.displayed = False\n",
    "        self.label = wd.HTMLMath(value='')\n",
    "        self.textbox = textbox\n",
    "        self.submit = wd.Button(description='Next')\n",
    "        self.submit.on_click(self.submitCallback)\n",
    "        self.back = wd.Button(description='back')\n",
    "        self.back.on_click(self.backCallback)\n",
    "        row = [self.textbox, self.submit, self.back] if back else [self.textbox, self.submit]\n",
    "        self.vbox = wd.VBox([self.label, wd.HBox(row)])\n",
    "        self.previous = previous\n",
    "        self.submit_callback = submit_callback\n",
    "\n",
    "    def display(self, label):\n",
    "        self.label.value = r'<span style=\"font-size:16px\">' + label + r'</span>'\n",
    "        if not self.displayed:\n",
    "            display(self.vbox)\n",
    "            self.displayed = True\n",
    "        else:\n",
    "            self.vbox.layout.display = 'block'\n",
    "\n",
    "    def disable(self):\n",
    "        for w in [self.textbox, self.submit, self.back]:\n",
    "            w.disabled = True\n",
    "\n",
    "    def enable(self):\n",
    "        for w in [self.textbox, self.submit, self.back]:\n",
    "            w.disabled = False\n",
    "\n",
    "    def hide(self):\n",
    "        self.vbox.layout.display = 'none'\n",
    "\n",
    "    def submitCallback(self, sender=None):\n",
    "        self.disable()\n",
    "        self.submit_callback()\n",
    "\n",
    "    def backCallback(self, sender=None):\n",
    "        self.hide()\n",
    "        self.previous.enable()\n",
    "\n",
    "class BayesResult:\n",
    "    def __init__(self, previous, restart_callback):\n",
    "        self.displayed = False\n",
    "        self.label = wd.HTMLMath(value='')\n",
    "        self.restart = wd.Button(description='Start over')\n",
    "        self.restart.on_click(self.restartCallback)\n",
    "        self.back = wd.Button(description='Back')\n",
    "        self.back.on_click(self.backCallback)\n",
    "        self.vbox = wd.VBox([self.label, wd.HBox([self.restart, self.back])])\n",
    "        self.previous = previous\n",
    "        self.restart_callback = restart_callback\n",
    "\n",
    "    def display(self, label):\n",
    "        self.label.value = r'<span style=\"font-size:16px\">' + label + r'</span>'\n",
    "        if not self.displayed:\n",
    "            display(self.vbox)\n",
    "            self.displayed = True\n",
    "        else:\n",
    "            self.vbox.layout.display = 'block'\n",
    "\n",
    "    def hide(self):\n",
    "        self.vbox.layout.display = 'none'\n",
    "\n",
    "    def backCallback(self, sender=None):\n",
    "        self.hide()\n",
    "        self.previous.enable()\n",
    "\n",
    "    def restartCallback(self, sender=None):\n",
    "        self.hide()\n",
    "        self.restart_callback()\n",
    "\n",
    "class BayesForm:\n",
    "    def __init__(self):\n",
    "        self.q1 = BayesQuestion(wd.Text(), None, self.q1Submit, back=False)\n",
    "        self.q2 = BayesQuestion(wd.BoundedFloatText(value=0.5, min=0, max=1, step=0.001), self.q1, self.q2Submit)\n",
    "        self.q3 = BayesQuestion(wd.Text(), self.q2, self.q3Submit)\n",
    "        self.q4 = BayesQuestion(wd.BoundedFloatText(value=0.5, min=0, max=1, step=0.001), self.q3, self.q4Submit)\n",
    "        self.q5 = BayesQuestion(wd.BoundedFloatText(value=0.5, min=0, max=1, step=0.001), self.q4, self.q5Submit)\n",
    "        self.q6 = BayesQuestion(wd.RadioButtons(options=['Positive (B)', 'Negative (¬B)']), self.q5, self.q6Submit)\n",
    "        self.result = BayesResult(self.q6, self.restart)\n",
    "        self.q1.display(r'What is the question you are trying to answer?<br />We will call this $A$ if yes and $\\neg A$ if no.')\n",
    "\n",
    "    def q1Submit(self):\n",
    "        self.statement = statementify(self.q1.textbox.value)\n",
    "        self.q2.display('Without performing any further tests, what is the prior probability that ' + self.statement + '?<br />$P(A)$')\n",
    "\n",
    "    def q2Submit(self):\n",
    "        self.q3.display(r'What is the test you are performing?<br />We will call this $B$ if positive and $\\neg B$ if negative.')\n",
    "\n",
    "    def q3Submit(self):\n",
    "        self.q4.display('If ' + self.statement + ', how likely would the ' + self.q3.textbox.value + r' correctly turn up positive?<br />$P(B|A) = 1-P(\\neg B|A)$')\n",
    "\n",
    "    def q4Submit(self):\n",
    "        text = statementify(self.q1.textbox.value, negate=True)\n",
    "        self.q5.display('If ' + text + ', how likely would the ' + self.q3.textbox.value + r' correctly turn up negative?<br />$P(\\neg B|\\neg A) = 1-P(B|\\neg A)$')\n",
    "\n",
    "    def q5Submit(self):\n",
    "        self.q6.display('What is the actual result of the ' + self.q3.textbox.value + '?')\n",
    "\n",
    "    def q6Submit(self):\n",
    "        prior = self.q2.textbox.value\n",
    "        true_pos_rate = self.q4.textbox.value\n",
    "        false_pos_rate = 1-self.q5.textbox.value\n",
    "        pos = self.q6.textbox.value == 'Positive (B)'\n",
    "        bayes_val = bayes(prior, true_pos_rate, false_pos_rate, pos)\n",
    "        PBA = '{:.3f}'.format(self.q4.textbox.value)\n",
    "        PA = '{:.3f}'.format(self.q2.textbox.value)\n",
    "        PBnA = '(1 - {:.3f})'.format(self.q5.textbox.value)\n",
    "        PnA = '(1 - {:.3f})'.format(self.q2.textbox.value)\n",
    "        pos_expr = r'P(A|B) = \\frac{P(B|A)P(A)}{P(B|A)P(A) + P(B|\\neg A)P(\\neg A)} = \\frac{' + PBA + r' \\times ' + PA + '}{' + PBA + r' \\times ' + PA + ' + ' + PBnA + r' \\times ' + PnA + '}'\n",
    "        PnBA = '(1 - {:.3f})'.format(self.q4.textbox.value)\n",
    "        PnBnA = '{:.3f}'.format(self.q5.textbox.value)\n",
    "        neg_expr = r'P(A|\\neg B) = \\frac{P(\\neg B|A)P(A)}{P(\\neg B|A)P(A) + P(\\neg B|\\neg A)P(\\neg A)} = \\frac{' + PnBA + r' \\times ' + PA + '}{' + PnBA + r' \\times ' + PA + ' + ' + PnBnA + r' \\times ' + PnA + '}'\n",
    "        expr = pos_expr if pos else neg_expr\n",
    "        self.result.display('Knowing the test result, the probability that ' + self.statement + ' is<br />$$' + expr + ' = {:.3f}.$$'.format(bayes_val))\n",
    "\n",
    "    def restart(self, sender=None):\n",
    "        for q in [self.q6, self.q5, self.q4, self.q3, self.q2]:\n",
    "            q.backCallback()"
   ]
  },
  {
   "cell_type": "code",
   "execution_count": 61,
   "metadata": {},
   "outputs": [
    {
     "data": {
      "application/vnd.jupyter.widget-view+json": {
       "model_id": "f875b45df1084c358199c9f1a2a133bd",
       "version_major": 2,
       "version_minor": 0
      },
      "text/plain": [
       "VBox(children=(HTMLMath(value='<span style=\"font-size:16px\">What is the question you are trying to answer?<br …"
      ]
     },
     "metadata": {},
     "output_type": "display_data"
    },
    {
     "data": {
      "application/vnd.jupyter.widget-view+json": {
       "model_id": "af0f1d3d1d9b4c428a6daaa37af77b6f",
       "version_major": 2,
       "version_minor": 0
      },
      "text/plain": [
       "VBox(children=(HTMLMath(value='<span style=\"font-size:16px\">Without performing any further tests, what is the …"
      ]
     },
     "metadata": {},
     "output_type": "display_data"
    },
    {
     "data": {
      "application/vnd.jupyter.widget-view+json": {
       "model_id": "06e6e9871baf478bb48c24da1a3b77d6",
       "version_major": 2,
       "version_minor": 0
      },
      "text/plain": [
       "VBox(children=(HTMLMath(value='<span style=\"font-size:16px\">What is the test you are performing?<br />We will …"
      ]
     },
     "metadata": {},
     "output_type": "display_data"
    },
    {
     "data": {
      "application/vnd.jupyter.widget-view+json": {
       "model_id": "c337a0f100ec4fdcbffc423a2a5aad99",
       "version_major": 2,
       "version_minor": 0
      },
      "text/plain": [
       "VBox(children=(HTMLMath(value='<span style=\"font-size:16px\">If the answer to \"fddsfa\" is yes, how likely would…"
      ]
     },
     "metadata": {},
     "output_type": "display_data"
    },
    {
     "data": {
      "application/vnd.jupyter.widget-view+json": {
       "model_id": "8c683ce40b684223a72067f25a90548c",
       "version_major": 2,
       "version_minor": 0
      },
      "text/plain": [
       "VBox(children=(HTMLMath(value='<span style=\"font-size:16px\">If the answer to \"fddsfa\" is no, how likely would …"
      ]
     },
     "metadata": {},
     "output_type": "display_data"
    },
    {
     "data": {
      "application/vnd.jupyter.widget-view+json": {
       "model_id": "ac69d469de154fa79255786caf2a9036",
       "version_major": 2,
       "version_minor": 0
      },
      "text/plain": [
       "VBox(children=(HTMLMath(value='<span style=\"font-size:16px\">What is the actual result of the fdsasfd?</span>')…"
      ]
     },
     "metadata": {},
     "output_type": "display_data"
    },
    {
     "data": {
      "application/vnd.jupyter.widget-view+json": {
       "model_id": "f42449003dce40e2a5ab2762584c3910",
       "version_major": 2,
       "version_minor": 0
      },
      "text/plain": [
       "VBox(children=(HTMLMath(value='<span style=\"font-size:16px\">Knowing the test result, the probability that the …"
      ]
     },
     "metadata": {},
     "output_type": "display_data"
    }
   ],
   "source": [
    "b = BayesForm()"
   ]
  },
  {
   "cell_type": "code",
   "execution_count": null,
   "metadata": {},
   "outputs": [],
   "source": []
  }
 ],
 "metadata": {
  "kernelspec": {
   "display_name": "Python 3 (ipykernel)",
   "language": "python",
   "name": "python3"
  },
  "language_info": {
   "codemirror_mode": {
    "name": "ipython",
    "version": 3
   },
   "file_extension": ".py",
   "mimetype": "text/x-python",
   "name": "python",
   "nbconvert_exporter": "python",
   "pygments_lexer": "ipython3",
   "version": "3.8.12"
  },
  "vscode": {
   "interpreter": {
    "hash": "d29b31ed4f9b38fb58774b44c78504d7200c0c76e8085bd4de6d98a6dc987bc2"
   }
  }
 },
 "nbformat": 4,
 "nbformat_minor": 4
}
