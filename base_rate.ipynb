{
 "cells": [
  {
   "cell_type": "code",
   "execution_count": 7,
   "metadata": {},
   "outputs": [],
   "source": [
    "import spacy\n",
    "import lemminflect\n",
    "import ipywidgets as wd\n",
    "from IPython.display import display\n",
    "# import numpy as np\n",
    "%matplotlib widget"
   ]
  },
  {
   "cell_type": "code",
   "execution_count": 63,
   "metadata": {},
   "outputs": [],
   "source": [
    "nlp = spacy.load('en_core_web_md')"
   ]
  },
  {
   "cell_type": "code",
   "execution_count": 5,
   "metadata": {},
   "outputs": [],
   "source": [
    "def stripPunct(doc_dep):\n",
    "    return [w for w in doc_dep if w.tag_ != '.']\n",
    "\n",
    "def getInfo(text):\n",
    "    for w in nlp(text):\n",
    "        print(w.text, w.lemma_, w.pos_, w.tag_)"
   ]
  },
  {
   "cell_type": "code",
   "execution_count": 59,
   "metadata": {},
   "outputs": [],
   "source": [
    "def getSubject(doc):\n",
    "    for token in doc:\n",
    "        if (\"subj\" in token.dep_):\n",
    "            subtree = list(token.subtree)\n",
    "            start = subtree[0].i\n",
    "            end = subtree[-1].i + 1\n",
    "            return start, end"
   ]
  },
  {
   "cell_type": "code",
   "execution_count": 105,
   "metadata": {},
   "outputs": [
    {
     "name": "stdout",
     "output_type": "stream",
     "text": [
      "aux\n",
      "det\n",
      "amod\n",
      "nsubj\n",
      "ROOT\n",
      "punct\n"
     ]
    }
   ],
   "source": [
    "doc = nlp('Does the distant object exist?')\n",
    "for token in doc:\n",
    "    print(token.dep_)"
   ]
  },
  {
   "cell_type": "code",
   "execution_count": 75,
   "metadata": {},
   "outputs": [],
   "source": [
    "def statementify(question, negate=False):\n",
    "    doc_dep = stripPunct(nlp(question))\n",
    "    verbs = [(i, w) for i, w in enumerate(doc_dep) if w.tag_ in ['VB', 'VBD', 'VBG', 'VBN', 'VBP', 'VBZ', 'MD']]\n",
    "    assert verbs[0][0] == 0\n",
    "    if len(verbs) == 2 and verbs[0][1].lemma_ == 'do' and negate == False:\n",
    "        verb_inflected = verbs[1][1]._.inflect(verbs[0][1].tag_)\n",
    "        text_new = [w.text for w in doc_dep[1:verbs[1][0]]] + [verb_inflected] + [w.text for w in doc_dep[verbs[1][0]+1:]]\n",
    "    else:\n",
    "        start, end = getSubject(doc_dep)\n",
    "        text_new = [w.text for w in doc_dep[1:end]] + [verbs[0][1].text.lower()]\n",
    "        text_new += ['not'] if negate else []\n",
    "        text_new += [w.text for w in doc_dep[end:]]\n",
    "    return ' '.join(text_new)"
   ]
  },
  {
   "cell_type": "code",
   "execution_count": 113,
   "metadata": {},
   "outputs": [],
   "source": [
    "def bayes(prior, true_pos_rate, false_pos_rate, pos):\n",
    "    if pos:\n",
    "        return prior * true_pos_rate / (prior * true_pos_rate + (1 - prior) * false_pos_rate)\n",
    "    else:\n",
    "        return prior * (1 - true_pos_rate) / (prior * (1 - true_pos_rate) + (1 - prior) * (1 - false_pos_rate))"
   ]
  },
  {
   "cell_type": "code",
   "execution_count": 79,
   "metadata": {},
   "outputs": [
    {
     "data": {
      "text/plain": [
       "'the car made a noise'"
      ]
     },
     "execution_count": 79,
     "metadata": {},
     "output_type": "execute_result"
    }
   ],
   "source": [
    "statementify('Did the car make a noise?', negate=False)"
   ]
  },
  {
   "cell_type": "code",
   "execution_count": 122,
   "metadata": {},
   "outputs": [],
   "source": [
    "def q1Submit(sender=None):\n",
    "    q1_textbox.disabled = True\n",
    "    q1_submit.disabled = True\n",
    "    q2_text = statementify(q1_textbox.value)\n",
    "    q2_label.value = 'Without performing any further tests, what is the prior probability that ' + q2_text + '?'\n",
    "    display(wd.VBox([q2_label, wd.HBox([q2_textbox, q2_submit])]))\n",
    "\n",
    "def q2Submit(sender=None):\n",
    "    q2_textbox.disabled = True\n",
    "    q2_submit.disabled = True\n",
    "    display(wd.VBox([q3_label, wd.HBox([q3_textbox, q3_submit])]))\n",
    "    \n",
    "def q3Submit(sender=None):\n",
    "    q3_textbox.disabled = True\n",
    "    q3_submit.disabled = True\n",
    "    q4_text = statementify(q1_textbox.value)\n",
    "    q4_label.value = 'If ' + q4_text + ', how likely would the ' + q3_textbox.value + ' correctly turn up positive?'\n",
    "    display(wd.VBox([q4_label, wd.HBox([q4_textbox, q4_submit])]))\n",
    "\n",
    "def q4Submit(sender=None):\n",
    "    q4_textbox.disabled = True\n",
    "    q4_submit.disabled = True\n",
    "    q5_text = statementify(q1_textbox.value, negate=True)\n",
    "    q5_label.value = 'If ' + q5_text + ', how likely would the ' + q3_textbox.value + ' correctly turn up negative?'\n",
    "    display(wd.VBox([q5_label, wd.HBox([q5_textbox, q5_submit])]))\n",
    "\n",
    "def q5Submit(sender=None):\n",
    "    q5_textbox.disabled = True\n",
    "    q5_submit.disabled = True\n",
    "    q6_label.value = 'What is the actual result of the ' + q3_textbox.value + '?'\n",
    "    display(wd.VBox([q6_label, wd.HBox([q6_textbox, q6_submit])]))\n",
    "\n",
    "def q6Submit(sender=None):\n",
    "    q6_textbox.disabled = True\n",
    "    q6_submit.disabled = True\n",
    "    q7_text = statementify(q1_textbox.value)\n",
    "    bayes_val = bayes(q2_textbox.value, q4_textbox.value, 1-q5_textbox.value, pos=q6_textbox.value == 'Positive')\n",
    "    q7_label.value = 'Knowing the test result, the probability that ' + q7_text + ' is ' + '{:.3f}'.format(bayes_val) + '.'\n",
    "    display(q7_label)\n",
    "\n",
    "q1_label = wd.Label(value='What is the question you are trying to answer?')\n",
    "q1_textbox = wd.Text()\n",
    "q1_submit = wd.Button(description='Next')\n",
    "q1_submit.on_click(q1Submit)\n",
    "\n",
    "q2_label = wd.Label(value='')\n",
    "q2_textbox = wd.BoundedFloatText(value=0.5, min=0, max=1, step=0.001)\n",
    "q2_submit = wd.Button(description='Next')\n",
    "q2_submit.on_click(q2Submit)\n",
    "\n",
    "q3_label = wd.Label(value='What is the test you are performing?')\n",
    "q3_textbox = wd.Text()\n",
    "q3_submit = wd.Button(description='Next')\n",
    "q3_submit.on_click(q3Submit)\n",
    "\n",
    "q4_label = wd.Label(value='')\n",
    "q4_textbox = wd.BoundedFloatText(value=0.5, min=0, max=1, step=0.001)\n",
    "q4_submit = wd.Button(description='Next')\n",
    "q4_submit.on_click(q4Submit)\n",
    "\n",
    "q5_label = wd.Label(value='')\n",
    "q5_textbox = wd.BoundedFloatText(value=0.5, min=0, max=1, step=0.001)\n",
    "q5_submit = wd.Button(description='Next')\n",
    "q5_submit.on_click(q5Submit)\n",
    "\n",
    "q6_label = wd.Label(value='')\n",
    "q6_textbox = wd.RadioButtons(options=['Positive', 'Negative'])\n",
    "q6_submit = wd.Button(description='Next')\n",
    "q6_submit.on_click(q6Submit)\n",
    "\n",
    "q7_label = wd.Label(value='')"
   ]
  },
  {
   "cell_type": "code",
   "execution_count": 124,
   "metadata": {},
   "outputs": [
    {
     "data": {
      "application/vnd.jupyter.widget-view+json": {
       "model_id": "50d00995906644bda1586e7f757923a6",
       "version_major": 2,
       "version_minor": 0
      },
      "text/plain": [
       "VBox(children=(Label(value='What is the question you are trying to answer?'), HBox(children=(Text(value=''), B…"
      ]
     },
     "metadata": {},
     "output_type": "display_data"
    },
    {
     "data": {
      "application/vnd.jupyter.widget-view+json": {
       "model_id": "2c0448213b25439facbdd78cab0d9520",
       "version_major": 2,
       "version_minor": 0
      },
      "text/plain": [
       "VBox(children=(Label(value='Without performing any further tests, what is the prior probability that the house…"
      ]
     },
     "metadata": {},
     "output_type": "display_data"
    },
    {
     "data": {
      "application/vnd.jupyter.widget-view+json": {
       "model_id": "7e6b8ce5afe94776b3fb36a0593c539a",
       "version_major": 2,
       "version_minor": 0
      },
      "text/plain": [
       "VBox(children=(Label(value='What is the test you are performing?'), HBox(children=(Text(value='PCR test'), But…"
      ]
     },
     "metadata": {},
     "output_type": "display_data"
    },
    {
     "data": {
      "application/vnd.jupyter.widget-view+json": {
       "model_id": "2426937620c84da2ad9eab0290f283cf",
       "version_major": 2,
       "version_minor": 0
      },
      "text/plain": [
       "VBox(children=(Label(value='If the house is burning down, how likely would the smoke detector correctly turn u…"
      ]
     },
     "metadata": {},
     "output_type": "display_data"
    },
    {
     "data": {
      "application/vnd.jupyter.widget-view+json": {
       "model_id": "7d30b98c7eb84eb89fe16cdc6f25db2d",
       "version_major": 2,
       "version_minor": 0
      },
      "text/plain": [
       "VBox(children=(Label(value='If the house is not burning down, how likely would the smoke detector correctly tu…"
      ]
     },
     "metadata": {},
     "output_type": "display_data"
    },
    {
     "data": {
      "application/vnd.jupyter.widget-view+json": {
       "model_id": "3e0416245f044bb4b3e31d831746b402",
       "version_major": 2,
       "version_minor": 0
      },
      "text/plain": [
       "VBox(children=(Label(value='What is the actual result of the smoke detector?'), HBox(children=(RadioButtons(op…"
      ]
     },
     "metadata": {},
     "output_type": "display_data"
    },
    {
     "data": {
      "application/vnd.jupyter.widget-view+json": {
       "model_id": "3f541628ca6944b9bb738a99e1ddacaf",
       "version_major": 2,
       "version_minor": 0
      },
      "text/plain": [
       "Label(value='Knowing the test result, the probability that the house is burning down is 0.001.')"
      ]
     },
     "metadata": {},
     "output_type": "display_data"
    }
   ],
   "source": [
    "for widget in [q2_textbox, q2_submit, q3_textbox, q3_submit, q4_textbox, q4_submit, q5_textbox, q5_submit, q6_textbox, q6_submit]:\n",
    "    widget.disabled = False\n",
    "q1_label = wd.Label(value='What is the question you are trying to answer?')\n",
    "q1_textbox = wd.Text()\n",
    "q1_submit = wd.Button(description='Next')\n",
    "q1_submit.on_click(q1Submit)\n",
    "display(wd.VBox([q1_label, wd.HBox([q1_textbox, q1_submit])]))"
   ]
  },
  {
   "cell_type": "code",
   "execution_count": 119,
   "metadata": {},
   "outputs": [
    {
     "data": {
      "text/plain": [
       "'Positive'"
      ]
     },
     "execution_count": 119,
     "metadata": {},
     "output_type": "execute_result"
    }
   ],
   "source": [
    "q6_textbox.value"
   ]
  },
  {
   "cell_type": "code",
   "execution_count": 27,
   "metadata": {},
   "outputs": [
    {
     "data": {
      "text/plain": [
       "'they have gone mad'"
      ]
     },
     "execution_count": 27,
     "metadata": {},
     "output_type": "execute_result"
    }
   ],
   "source": [
    "question = 'Does the patient suffer from tuberculosis?'\n",
    "\n",
    "''''''"
   ]
  },
  {
   "cell_type": "code",
   "execution_count": 28,
   "metadata": {},
   "outputs": [
    {
     "data": {
      "text/plain": [
       "'I have Covid'"
      ]
     },
     "execution_count": 28,
     "metadata": {},
     "output_type": "execute_result"
    }
   ],
   "source": [
    "statementify('Do I have Covid?')"
   ]
  },
  {
   "cell_type": "code",
   "execution_count": null,
   "metadata": {},
   "outputs": [],
   "source": [
    "'''\n",
    "What's the question you are trying to answer?\n",
    "E.g. Do I have Covid? Is XXX the murderer?\n",
    "\n",
    "Without performing any further tests, what is the prior probability that I have Covid/XXX is the murderer?\n",
    "E.g. 50% if its a binary choice. 1/9 if there are 9 suspects.\n",
    "\n",
    "What is the test I'm performing?\n",
    "E.g. PCR Covid test. DNA matching.\n",
    "\n",
    "If I have Covid/XXX is the murderer, how likely would the PCR Covid test/DNA matching correctly turn up positive?\n",
    "(alt) ..., falsely turn up negative?\n",
    "\n",
    "If I do not have Covid/XXX is not the murderer, how likely would the PCR Covid test/DNA matching correctly turn up negative?\n",
    "(alt) ..., falsely turn up positive?\n",
    "\n",
    "You have now performed the PCR Covid test/DNA matching. What was the result?\n",
    "\n",
    "Conclusion: The probability that you actually have Covid/XXX actually is the murderer is (...).\n",
    "\n",
    "Print the steps.\n",
    "'''"
   ]
  },
  {
   "cell_type": "code",
   "execution_count": null,
   "metadata": {},
   "outputs": [],
   "source": []
  }
 ],
 "metadata": {
  "kernelspec": {
   "display_name": "Python 3 (ipykernel)",
   "language": "python",
   "name": "python3"
  },
  "language_info": {
   "codemirror_mode": {
    "name": "ipython",
    "version": 3
   },
   "file_extension": ".py",
   "mimetype": "text/x-python",
   "name": "python",
   "nbconvert_exporter": "python",
   "pygments_lexer": "ipython3",
   "version": "3.8.12"
  },
  "vscode": {
   "interpreter": {
    "hash": "d29b31ed4f9b38fb58774b44c78504d7200c0c76e8085bd4de6d98a6dc987bc2"
   }
  }
 },
 "nbformat": 4,
 "nbformat_minor": 4
}
