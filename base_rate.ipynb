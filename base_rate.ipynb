{
 "cells": [
  {
   "cell_type": "markdown",
   "id": "aa4a2089",
   "metadata": {},
   "source": [
    "## Bayes' Theorem Calculator\n",
    "\n",
    "Whenever you are using a test to determine if something is happening or not, it is time to use Bayes' theorem to avoid comitting the base rate fallacy. However, the mathematical notation and formula may be intimidating. You can use the following calculator to learn how Bayes' theorem works, and to answer practical questions about probability."
   ]
  },
  {
   "cell_type": "markdown",
   "id": "cc99246a",
   "metadata": {},
   "source": [
    "Run the following box by clicking on it and pressing `Shift+Return`."
   ]
  },
  {
   "cell_type": "code",
   "execution_count": null,
   "id": "a629b836",
   "metadata": {},
   "outputs": [],
   "source": [
    "from base_rate import *\n",
    "\n",
    "display(HTML(style_html))\n",
    "Javascript(filename='base_rate.js')\n",
    "Javascript(\"\"\"\n",
    " (function(element){\n",
    "     require(['viz'], function(viz) {\n",
    "          viz(element.get(0))\n",
    "     });\n",
    " })(element);\n",
    " \"\"\")"
   ]
  }
 ],
 "metadata": {
  "kernelspec": {
   "display_name": "Python 3 (ipykernel)",
   "language": "python",
   "name": "python3"
  },
  "language_info": {
   "codemirror_mode": {
    "name": "ipython",
    "version": 3
   },
   "file_extension": ".py",
   "mimetype": "text/x-python",
   "name": "python",
   "nbconvert_exporter": "python",
   "pygments_lexer": "ipython3",
   "version": "3.8.12"
  }
 },
 "nbformat": 4,
 "nbformat_minor": 5
}
