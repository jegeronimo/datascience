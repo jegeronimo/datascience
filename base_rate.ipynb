{
 "cells": [
  {
   "cell_type": "markdown",
   "metadata": {},
   "source": [
    "## Bayes' Theorem Calculator\n",
    "\n",
    "Whenever you are using a test to determine if something is happening or not, it is time to use Bayes' theorem to avoid comitting the base rate fallacy. However, the mathematical notation and formula may be intimidating. You can use the following calculator to learn how Bayes' theorem works, and to answer practical questions about probability."
   ]
  },
  {
   "cell_type": "markdown",
   "metadata": {},
   "source": [
    "Run the following box by clicking on it and pressing `Shift+Return`."
   ]
  },
  {
   "cell_type": "code",
   "execution_count": 1,
   "metadata": {},
   "outputs": [
    {
     "data": {
      "text/html": [
       "<style>\n",
       "#questions {\n",
       "    height: 80px;\n",
       "}\n",
       "\n",
       "#sliders {\n",
       "    display: flex;\n",
       "    flex-direction: row;\n",
       "    flex-wrap: wrap;\n",
       "    width: 100%;\n",
       "    height: 90px;\n",
       "    text-align: center;\n",
       "}\n",
       "\n",
       "#slider1 {\n",
       "    flex: 33.33%;\n",
       "}\n",
       "\n",
       "#slider2 {\n",
       "    flex: 33.33%;\n",
       "}\n",
       "\n",
       "#slider3 {\n",
       "    flex: 33.33%;\n",
       "}\n",
       "\n",
       ".slider_label {\n",
       "    font-size: 14pt;\n",
       "}\n",
       "\n",
       "#graphic {\n",
       "    width: 100%;\n",
       "    text-align: center;\n",
       "    font-size: 12pt;\n",
       "}\n",
       "\n",
       ".legend_text {\n",
       "    text-align: left;\n",
       "}\n",
       "\n",
       "#my_tooltip {\n",
       "    position: absolute;\n",
       "    width: 240px;\n",
       "    opacity: 0;\n",
       "    background-color: #386fb0;\n",
       "    color: #fffffb;\n",
       "    border-radius: 5px;\n",
       "    padding: 12px;\n",
       "    box-shadow: 3px 3px 2px #ddd;\n",
       "    text-align: center;\n",
       "    pointer-events: none;\n",
       "}\n",
       "\n",
       "input::-webkit-outer-spin-button,\n",
       "input::-webkit-inner-spin-button {\n",
       "    -webkit-appearance: none;\n",
       "    margin: 0;\n",
       "}\n",
       "\n",
       "input[type=number] {\n",
       "    -moz-appearance: textfield;\n",
       "}\n",
       "\n",
       ".pc_input {\n",
       "    border: none;\n",
       "    display: inline;\n",
       "    font-family: inherit;\n",
       "    font-size: 14pt;\n",
       "    padding: none;\n",
       "    width: 45px;\n",
       "    margin-left: 5px;\n",
       "    text-align: right;\n",
       "}\n",
       "</style>"
      ],
      "text/plain": [
       "<IPython.core.display.HTML object>"
      ]
     },
     "metadata": {},
     "output_type": "display_data"
    },
    {
     "data": {
      "application/javascript": [
       "\n",
       " (function(element){\n",
       "     require(['viz'], function(viz) {\n",
       "          viz(element.get(0))\n",
       "     });\n",
       " })(element);\n",
       " "
      ],
      "text/plain": [
       "<IPython.core.display.Javascript object>"
      ]
     },
     "execution_count": 1,
     "metadata": {},
     "output_type": "execute_result"
    }
   ],
   "source": [
    "from base_rate import *\n",
    "\n",
    "display(HTML(style_html))\n",
    "Javascript(filename='base_rate.js')\n",
    "Javascript(js)"
   ]
  },
  {
   "cell_type": "code",
   "execution_count": null,
   "metadata": {},
   "outputs": [],
   "source": []
  }
 ],
 "metadata": {
  "kernelspec": {
   "display_name": "Python 3 (ipykernel)",
   "language": "python",
   "name": "python3"
  },
  "language_info": {
   "codemirror_mode": {
    "name": "ipython",
    "version": 3
   },
   "file_extension": ".py",
   "mimetype": "text/x-python",
   "name": "python",
   "nbconvert_exporter": "python",
   "pygments_lexer": "ipython3",
   "version": "3.8.12"
  },
  "vscode": {
   "interpreter": {
    "hash": "d29b31ed4f9b38fb58774b44c78504d7200c0c76e8085bd4de6d98a6dc987bc2"
   }
  }
 },
 "nbformat": 4,
 "nbformat_minor": 4
}
