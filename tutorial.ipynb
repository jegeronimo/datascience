{
 "cells": [
  {
   "cell_type": "code",
   "execution_count": 8,
   "metadata": {},
   "outputs": [],
   "source": [
    "from causality_simulation import *\n",
    "%matplotlib inline"
   ]
  },
  {
   "cell_type": "markdown",
   "metadata": {},
   "source": [
    "This is a short tutorial to teach you how to use the RCT simulator and view the data.\n",
    "\n",
    "# High school basketball study\n",
    "\n",
    "You are a high school PE teacher. You are interested to find out about how much height and the amount of practice time affect students' basketball skills. To do this, you perform an __observational study__ by passively recording the success rate of various kinds of shots made by every student in your PE class. For every student, his/her height is recorded, as well as the number of hours he/she spends each week playing basketball. You have a total of 100 students.\n",
    "\n",
    "## Experimental setup\n",
    "\n",
    "In the following interface, you will enter __Observation__ in \"Name the Group\", __100__ in \"Number of Samples\", and leave all the other lines on __None__. \"None\" means that you are not isolating a particular subset of your students, nor performing any experimental intervention that changes the behaviour of your students. Once you have made the settings, click on \"Perform Experiment\". You should then see \"Data from experiment collected!\""
   ]
  },
  {
   "cell_type": "code",
   "execution_count": 9,
   "metadata": {},
   "outputs": [
    {
     "data": {
      "application/vnd.jupyter.widget-view+json": {
       "model_id": "260b5ac1264649639db31058bda3ca18",
       "version_major": 2,
       "version_minor": 0
      },
      "text/plain": [
       "VBox(children=(HBox(children=(Label(value='Name the Group', layout=Layout(width='150px')), Text(value='', layo…"
      ]
     },
     "metadata": {},
     "output_type": "display_data"
    }
   ],
   "source": [
    "experiment = Experiment(basketball)\n",
    "experiment.setting(show=['Shot Type', 'Hours Practised per Week', 'Height (cm)', 'Success Rate'], disabled='Success Rate')"
   ]
  },
  {
   "cell_type": "markdown",
   "metadata": {},
   "source": [
    "## Data visualisation\n",
    "\n",
    "Now you would like to see the relationship between the student's height and the success rate of his/her shots. Use the dropdown menu to select __Height (cm)__ as the x-axis variable and __Success Rate__ as the y-axis variable. You should see a scatter plot where each point represents the data from one student. <u>Is there a correlation between success rate and height?</u>\n",
    "\n",
    "Use the following interface to find out <u>whether there is also a correlation between success rate and the amount of time a student spends on basketball practice.</u>\n",
    "\n",
    "<u>Which shot type has the highest success rate?</u>\n",
    "\n",
    "You would also like to find out how much time students are spending on basketball practice. Select __Hours Practised per Week__ for x-axis variable and __None (Distributions Only)__ for y-axis variable. You should now see a histogram. <u>How many students practise 1 to 3 hours per week?</u>"
   ]
  },
  {
   "cell_type": "code",
   "execution_count": 9,
   "metadata": {},
   "outputs": [
    {
     "data": {
      "application/vnd.jupyter.widget-view+json": {
       "model_id": "b67f616f1ae945518b76f14bb368fa54",
       "version_major": 2,
       "version_minor": 0
      },
      "text/plain": [
       "VBox(children=(HBox(children=(Dropdown(description='x-Axis Variable: ', options=('Height (cm)', 'Hours Practis…"
      ]
     },
     "metadata": {},
     "output_type": "display_data"
    },
    {
     "data": {
      "application/vnd.jupyter.widget-view+json": {
       "model_id": "f94c8b9513ca4d71830c133199bd5e72",
       "version_major": 2,
       "version_minor": 0
      },
      "text/plain": [
       "RadioButtons(description='Group', layout=Layout(width='max-content'), options=('Observation', 'All'), value='O…"
      ]
     },
     "metadata": {},
     "output_type": "display_data"
    },
    {
     "data": {
      "text/plain": []
     },
     "metadata": {},
     "output_type": "display_data"
    }
   ],
   "source": [
    "experiment.newPlot(show=['Shot Type', 'Hours Practised per Week', 'Height (cm)', 'Success Rate'])"
   ]
  },
  {
   "cell_type": "markdown",
   "metadata": {},
   "source": [
    "## Experimental intervention\n",
    "\n",
    "Now you would like to perform an experiment to see if practising more hours per week will improve students' success rate. First, you line the students up from shortest to tallest: click on __Range__ for __Height (cm)__ and type in __150__ in the first box and __185__ in the second box. Then, you tell the shortest student to practise 1 hour a week and the tallest student to practise 14 hours a week: click on __Range__ for __Hours Practised per Week__ and type in __1__ in the first box and __14__ in the second box. After a few weeks, you observe the students' performance during your PE lesson. Leave shot type and success rate on __None__. You may name the group __Intervention__. Once you have made the settings, click on __Perform Experiment__."
   ]
  },
  {
   "cell_type": "code",
   "execution_count": 10,
   "metadata": {
    "scrolled": true
   },
   "outputs": [
    {
     "data": {
      "application/vnd.jupyter.widget-view+json": {
       "model_id": "bc6a42fce918498bb0ae799685c41a7f",
       "version_major": 2,
       "version_minor": 0
      },
      "text/plain": [
       "VBox(children=(HBox(children=(Label(value='Name the Group', layout=Layout(width='150px')), Text(value='', layo…"
      ]
     },
     "metadata": {},
     "output_type": "display_data"
    },
    {
     "data": {
      "application/vnd.jupyter.widget-view+json": {
       "model_id": "fa937e2abb6f48ed85de3a32955a623a",
       "version_major": 2,
       "version_minor": 0
      },
      "text/plain": [
       "Label(value='Data from experiment collected!')"
      ]
     },
     "metadata": {},
     "output_type": "display_data"
    }
   ],
   "source": [
    "experiment2 = Experiment(basketball)\n",
    "experiment2.setting(show=['Shot Type', 'Hours Practised per Week', 'Height (cm)', 'Success Rate'], disabled='Success Rate')"
   ]
  },
  {
   "cell_type": "markdown",
   "metadata": {},
   "source": [
    "<u>Is there a correlation between success rate and number of hours practised per week?</u> Use the following interface to find out."
   ]
  },
  {
   "cell_type": "code",
   "execution_count": 11,
   "metadata": {},
   "outputs": [
    {
     "data": {
      "application/vnd.jupyter.widget-view+json": {
       "model_id": "d9290617f8b24738b17416435272272f",
       "version_major": 2,
       "version_minor": 0
      },
      "text/plain": [
       "VBox(children=(HBox(children=(Dropdown(description='x-Axis Variable: ', options=('Height (cm)', 'Hours Practis…"
      ]
     },
     "metadata": {},
     "output_type": "display_data"
    },
    {
     "data": {
      "application/vnd.jupyter.widget-view+json": {
       "model_id": "6d38dda5434043c0b7447b9be8ced4a2",
       "version_major": 2,
       "version_minor": 0
      },
      "text/plain": [
       "RadioButtons(description='Group', layout=Layout(width='max-content'), options=('Intervention', 'All'), value='…"
      ]
     },
     "metadata": {},
     "output_type": "display_data"
    },
    {
     "data": {
      "text/plain": []
     },
     "metadata": {},
     "output_type": "display_data"
    }
   ],
   "source": [
    "experiment2.newPlot(show=['Shot Type', 'Hours Practised per Week', 'Height (cm)', 'Success Rate'])"
   ]
  },
  {
   "cell_type": "markdown",
   "metadata": {},
   "source": [
    "## Random assignment\n",
    "\n",
    "You may be unconvinced by the results of this experiment, because you assigned the taller students to practise more than the shorter students. You suspect that the taller students would have performed better anyway, regardless of the amount of time spent practising.\n",
    "\n",
    "To mitigate this problem, you decide to do an improved experiment. Instead of asking the shorter students to practise less and the taller students to practise more, you assign the number of hours for practice to your whole class randomly, so that the amount of time he/she is told to practise for has nothing to do with their height.\n",
    "\n",
    "Name the group __Random assignment__. Copy the same settings as the previous part (__150__ to __185__ for height, __1__ to __14__ for hours practised, __None__ for the others). This time, however, check the box __Randomise Order__. This ensures that the number of hours practised is assigned to students of all heights randomly. Remember to click on __Perform Experiment__."
   ]
  },
  {
   "cell_type": "code",
   "execution_count": 12,
   "metadata": {},
   "outputs": [
    {
     "data": {
      "application/vnd.jupyter.widget-view+json": {
       "model_id": "6eaa66eb346d432aa3d9a6037439e284",
       "version_major": 2,
       "version_minor": 0
      },
      "text/plain": [
       "VBox(children=(HBox(children=(Label(value='Name the Group', layout=Layout(width='150px')), Text(value='', layo…"
      ]
     },
     "metadata": {},
     "output_type": "display_data"
    },
    {
     "data": {
      "application/vnd.jupyter.widget-view+json": {
       "model_id": "c395c67841a04571a5b62e77536d079c",
       "version_major": 2,
       "version_minor": 0
      },
      "text/plain": [
       "Label(value='Data from experiment collected!')"
      ]
     },
     "metadata": {},
     "output_type": "display_data"
    }
   ],
   "source": [
    "experiment3 = Experiment(basketball)\n",
    "experiment3.setting(show=['Shot Type', 'Hours Practised per Week', 'Height (cm)', 'Success Rate'], disabled='Success Rate')"
   ]
  },
  {
   "cell_type": "markdown",
   "metadata": {},
   "source": [
    "<u>Under random assignment, is there a correlation between success rate and number of hours practised per week?</u>"
   ]
  },
  {
   "cell_type": "code",
   "execution_count": 13,
   "metadata": {},
   "outputs": [
    {
     "data": {
      "application/vnd.jupyter.widget-view+json": {
       "model_id": "61df3670edf44494b13725165b4dfd39",
       "version_major": 2,
       "version_minor": 0
      },
      "text/plain": [
       "VBox(children=(HBox(children=(Dropdown(description='x-Axis Variable: ', options=('Height (cm)', 'Hours Practis…"
      ]
     },
     "metadata": {},
     "output_type": "display_data"
    },
    {
     "data": {
      "application/vnd.jupyter.widget-view+json": {
       "model_id": "cc01136cf22e41eea50f2158533147a5",
       "version_major": 2,
       "version_minor": 0
      },
      "text/plain": [
       "RadioButtons(description='Group', layout=Layout(width='max-content'), options=('Random assignment', 'All'), va…"
      ]
     },
     "metadata": {},
     "output_type": "display_data"
    },
    {
     "data": {
      "text/plain": []
     },
     "metadata": {},
     "output_type": "display_data"
    }
   ],
   "source": [
    "experiment3.newPlot(show=['Shot Type', 'Hours Practised per Week', 'Height (cm)', 'Success Rate'])"
   ]
  },
  {
   "cell_type": "markdown",
   "metadata": {},
   "source": [
    "## Multiple experimental groups\n",
    "\n",
    "To improve your experiment even further, you decide to separately record the success rates of three different types of shots: above head, layup, and hook shot. For this, we need to create 3 experimental groups. To add a new group, click on __Add Another Group__. For __Height (cm)__ and __Hours Practised per Week__ of each group, copy the same settings as in the previous experiment (including __Randomise Order__). Each group should be named __Above head__, __Layup__, and __Hook shot__. The __Shot Type__ of each group should be __Fixed__ to the corresponding type using the dropdown menu. Once this is all done, click on __Perform Experiment__."
   ]
  },
  {
   "cell_type": "code",
   "execution_count": 14,
   "metadata": {},
   "outputs": [
    {
     "data": {
      "application/vnd.jupyter.widget-view+json": {
       "model_id": "e62c479de7ba48e1b211ca17ea252b57",
       "version_major": 2,
       "version_minor": 0
      },
      "text/plain": [
       "VBox(children=(HBox(children=(Label(value='Name the Group', layout=Layout(width='150px')), Text(value='', layo…"
      ]
     },
     "metadata": {},
     "output_type": "display_data"
    },
    {
     "data": {
      "application/vnd.jupyter.widget-view+json": {
       "model_id": "dd51d423c8ff46bc880ecfda59aed10e",
       "version_major": 2,
       "version_minor": 0
      },
      "text/plain": [
       "VBox(children=(HBox(children=(Label(value='Name the Group', layout=Layout(width='150px')), Text(value='', layo…"
      ]
     },
     "metadata": {},
     "output_type": "display_data"
    },
    {
     "data": {
      "application/vnd.jupyter.widget-view+json": {
       "model_id": "52623ad522004aa0aa07a21442d76922",
       "version_major": 2,
       "version_minor": 0
      },
      "text/plain": [
       "VBox(children=(HBox(children=(Label(value='Name the Group', layout=Layout(width='150px')), Text(value='', layo…"
      ]
     },
     "metadata": {},
     "output_type": "display_data"
    },
    {
     "data": {
      "application/vnd.jupyter.widget-view+json": {
       "model_id": "6cca1bde17404dc89f15e42e6a9dc3fe",
       "version_major": 2,
       "version_minor": 0
      },
      "text/plain": [
       "Label(value='Data from experiment collected!')"
      ]
     },
     "metadata": {},
     "output_type": "display_data"
    }
   ],
   "source": [
    "experiment4 = Experiment(basketball)\n",
    "experiment4.setting(show=['Shot Type', 'Hours Practised per Week', 'Height (cm)', 'Success Rate'], disabled='Success Rate')"
   ]
  },
  {
   "cell_type": "markdown",
   "metadata": {},
   "source": [
    "Select __Hours Practised per Week__ as the x-axis variable and __Success Rate__ as the y-axis variable. You should see three sets of data points in three different colours, corresponding to the three experimental groups. <u>Which shot type is the most successful?</u> To show/hide a single experimental group, click on the items in the legend on the side of the graph."
   ]
  },
  {
   "cell_type": "code",
   "execution_count": 15,
   "metadata": {},
   "outputs": [
    {
     "data": {
      "application/vnd.jupyter.widget-view+json": {
       "model_id": "b72a9c23bf12421c9801da702381fb35",
       "version_major": 2,
       "version_minor": 0
      },
      "text/plain": [
       "VBox(children=(HBox(children=(Dropdown(description='x-Axis Variable: ', options=('Height (cm)', 'Hours Practis…"
      ]
     },
     "metadata": {},
     "output_type": "display_data"
    },
    {
     "data": {
      "application/vnd.jupyter.widget-view+json": {
       "model_id": "639289989fe649a1b002ef95f2e379ce",
       "version_major": 2,
       "version_minor": 0
      },
      "text/plain": [
       "RadioButtons(description='Group', layout=Layout(width='max-content'), options=('Above head', 'Layup', 'Hook sh…"
      ]
     },
     "metadata": {},
     "output_type": "display_data"
    },
    {
     "data": {
      "text/plain": []
     },
     "metadata": {},
     "output_type": "display_data"
    }
   ],
   "source": [
    "experiment4.newPlot(show=['Shot Type', 'Hours Practised per Week', 'Height (cm)', 'Success Rate'])"
   ]
  },
  {
   "cell_type": "markdown",
   "metadata": {},
   "source": [
    "# Now it's your turn\n",
    "\n",
    "Now that you have learnt how to use the interface, you may design your own experiment! You may notice that the __Success Rate__ setting is always fixed on __None__, with the other options greyed out. This is because it is a dependent variable that you as the experimenter cannot intervene on. Play and familiarise yourself with it!"
   ]
  },
  {
   "cell_type": "code",
   "execution_count": 16,
   "metadata": {},
   "outputs": [
    {
     "data": {
      "application/vnd.jupyter.widget-view+json": {
       "model_id": "b0e77c5753bd4e8cb9f146e6cc66254b",
       "version_major": 2,
       "version_minor": 0
      },
      "text/plain": [
       "VBox(children=(HBox(children=(Label(value='Name the Group', layout=Layout(width='150px')), Text(value='', layo…"
      ]
     },
     "metadata": {},
     "output_type": "display_data"
    }
   ],
   "source": [
    "experiment5 = Experiment(basketball)\n",
    "experiment5.setting(show=['Shot Type', 'Hours Practised per Week', 'Height (cm)', 'Success Rate'], disabled='Success Rate')"
   ]
  },
  {
   "cell_type": "code",
   "execution_count": 17,
   "metadata": {},
   "outputs": [
    {
     "data": {
      "application/vnd.jupyter.widget-view+json": {
       "model_id": "79aed549b1b84265a74f133616190e17",
       "version_major": 2,
       "version_minor": 0
      },
      "text/plain": [
       "VBox(children=(HBox(children=(Dropdown(description='x-Axis Variable: ', options=('Height (cm)', 'Hours Practis…"
      ]
     },
     "metadata": {},
     "output_type": "display_data"
    },
    {
     "data": {
      "application/vnd.jupyter.widget-view+json": {
       "model_id": "a05c3e916e114abd8c67bc875519dd2c",
       "version_major": 2,
       "version_minor": 0
      },
      "text/plain": [
       "RadioButtons(description='Group', layout=Layout(width='max-content'), options=('All',), value='All')"
      ]
     },
     "metadata": {},
     "output_type": "display_data"
    },
    {
     "data": {
      "text/plain": []
     },
     "metadata": {},
     "output_type": "display_data"
    }
   ],
   "source": [
    "experiment5.newPlot(show=['Shot Type', 'Hours Practised per Week', 'Height (cm)', 'Success Rate'])"
   ]
  },
  {
   "cell_type": "markdown",
   "metadata": {},
   "source": [
    "# Causal network\n",
    "\n",
    "To visualise the causal relationship between height, hours practised, and shot success rate, we can draw a causal network graph."
   ]
  },
  {
   "cell_type": "code",
   "execution_count": 11,
   "metadata": {},
   "outputs": [
    {
     "name": "stdout",
     "output_type": "stream",
     "text": [
      "printed\n"
     ]
    }
   ],
   "source": [
    "basketball.drawNetwork()"
   ]
  },
  {
   "cell_type": "code",
   "execution_count": null,
   "metadata": {},
   "outputs": [],
   "source": []
  }
 ],
 "metadata": {
  "kernelspec": {
   "display_name": "Python 3",
   "language": "python",
   "name": "python3"
  },
  "language_info": {
   "codemirror_mode": {
    "name": "ipython",
    "version": 3
   },
   "file_extension": ".py",
   "mimetype": "text/x-python",
   "name": "python",
   "nbconvert_exporter": "python",
   "pygments_lexer": "ipython3",
   "version": "3.8.5"
  }
 },
 "nbformat": 4,
 "nbformat_minor": 4
}
