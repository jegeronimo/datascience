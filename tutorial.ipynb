{
 "cells": [
  {
   "cell_type": "code",
   "execution_count": 1,
   "metadata": {},
   "outputs": [],
   "source": [
    "from causality_simulation import *\n",
    "%matplotlib inline"
   ]
  },
  {
   "cell_type": "markdown",
   "metadata": {},
   "source": [
    "This is a short tutorial to teach you how to use the RCT simulator and view the data.\n",
    "\n",
    "# High school basketball study\n",
    "\n",
    "You are a high school PE teacher. You are interested to find out about how much height and the amount of practice time affect students' basketball skills. To do this, you perform an __observational study__ by passively recording the success rate of various kinds of shots made by every student in your PE class. For every student, his/her height is recorded, as well as the number of hours he/she spends each week playing basketball. You have a total of 100 students.\n",
    "\n",
    "In the following interface, you will enter __Observation__ in \"Name the Group\", __100__ in \"Number of Samples\", and leave all the other lines on __None__. \"None\" means that you are not isolating a particular subset of your students, nor performing any experimental intervention that changes the behaviour of your students. Once you have made the settings, click on \"Perform Experiment\". You should then see \"Data from experiment collected!\""
   ]
  },
  {
   "cell_type": "code",
   "execution_count": 2,
   "metadata": {},
   "outputs": [
    {
     "data": {
      "application/vnd.jupyter.widget-view+json": {
       "model_id": "d0f016df4d0a407a8434230021501a3c",
       "version_major": 2,
       "version_minor": 0
      },
      "text/plain": [
       "VBox(children=(HBox(children=(Label(value='Name the Group', layout=Layout(width='150px')), Text(value='', layo…"
      ]
     },
     "metadata": {},
     "output_type": "display_data"
    },
    {
     "data": {
      "application/vnd.jupyter.widget-view+json": {
       "model_id": "5805cd8d6e024a5a9f6f4643a2f0edf1",
       "version_major": 2,
       "version_minor": 0
      },
      "text/plain": [
       "Label(value='Data from experiment collected!')"
      ]
     },
     "metadata": {},
     "output_type": "display_data"
    },
    {
     "data": {
      "application/vnd.jupyter.widget-view+json": {
       "model_id": "923f9d901f3345e5aeb719f8b152d761",
       "version_major": 2,
       "version_minor": 0
      },
      "text/plain": [
       "Label(value='Data from experiment collected!')"
      ]
     },
     "metadata": {},
     "output_type": "display_data"
    }
   ],
   "source": [
    "experiment = Experiment(basketball)\n",
    "experiment.setting(show=['Shot Type', 'Hours Practised per Week', 'Height (cm)', 'Success Rate'], disabled='Success Rate')"
   ]
  },
  {
   "cell_type": "code",
   "execution_count": 4,
   "metadata": {},
   "outputs": [
    {
     "data": {
      "application/vnd.jupyter.widget-view+json": {
       "model_id": "128105cca54249d595310935e479e3ed",
       "version_major": 2,
       "version_minor": 0
      },
      "text/plain": [
       "VBox(children=(HBox(children=(Dropdown(description='x-Axis Variable: ', options=('Height (cm)', 'Hours Practis…"
      ]
     },
     "metadata": {},
     "output_type": "display_data"
    },
    {
     "data": {
      "application/vnd.jupyter.widget-view+json": {
       "model_id": "6f9d92ae0679481ab04f2391b9daa20b",
       "version_major": 2,
       "version_minor": 0
      },
      "text/plain": [
       "RadioButtons(description='Group', layout=Layout(width='max-content'), options=('Observation', 'All'), value='O…"
      ]
     },
     "metadata": {},
     "output_type": "display_data"
    },
    {
     "data": {
      "text/plain": []
     },
     "metadata": {},
     "output_type": "display_data"
    }
   ],
   "source": [
    "experiment.newPlot(show=['Shot Type', 'Hours Practised per Week', 'Height (cm)', 'Success Rate'])"
   ]
  },
  {
   "cell_type": "code",
   "execution_count": null,
   "metadata": {},
   "outputs": [],
   "source": []
  }
 ],
 "metadata": {
  "kernelspec": {
   "display_name": "Python 3",
   "language": "python",
   "name": "python3"
  },
  "language_info": {
   "codemirror_mode": {
    "name": "ipython",
    "version": 3
   },
   "file_extension": ".py",
   "mimetype": "text/x-python",
   "name": "python",
   "nbconvert_exporter": "python",
   "pygments_lexer": "ipython3",
   "version": "3.7.6"
  }
 },
 "nbformat": 4,
 "nbformat_minor": 4
}
