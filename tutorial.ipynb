{
 "cells": [
  {
   "cell_type": "code",
   "execution_count": 1,
   "metadata": {},
   "outputs": [],
   "source": [
    "from causality_simulation import *\n",
    "%matplotlib inline"
   ]
  },
  {
   "cell_type": "markdown",
   "metadata": {},
   "source": [
    "This is a short tutorial to teach you how to use the RCT simulator and view the data.\n",
    "\n",
    "# High school basketball study\n",
    "\n",
    "You are a high school PE teacher. You are interested to find out about how much height and the amount of practice time affect students' basketball skills. To do this, you perform an __observational study__ by passively recording the success rate of various kinds of shots made by every student in your PE class. For every student, his/her height is recorded, as well as the number of hours he/she spends each week playing basketball. You have a total of 100 students.\n",
    "\n",
    "## Experimental setup\n",
    "\n",
    "In the following interface, you will enter __Observation__ in \"Name the Group\", __100__ in \"Number of Samples\", and leave all the other lines on __None__. \"None\" means that you are not isolating a particular subset of your students, nor performing any experimental intervention that changes the behaviour of your students. Once you have made the settings, click on \"Perform Experiment\". You should then see \"Data from experiment collected!\""
   ]
  },
  {
   "cell_type": "code",
   "execution_count": null,
   "metadata": {},
   "outputs": [],
   "source": [
    "experiment = Experiment(basketball)\n",
    "experiment.setting(show=['Shot Type', 'Hours Practised per Week', 'Height (cm)', 'Success Rate'], disabled='Success Rate')"
   ]
  },
  {
   "cell_type": "markdown",
   "metadata": {},
   "source": [
    "## Data visualisation\n",
    "\n",
    "Now you would like to see the relationship between the student's height and the success rate of his/her shots. Use the dropdown menu to select __Height (cm)__ as the x-axis variable and __Success Rate__ as the y-axis variable. You should see a scatter plot where each point represents the data from one student. <u>Is there a correlation between success rate and height?</u>\n",
    "\n",
    "Use the following interface to find out <u>whether there is also a correlation between success rate and the amount of time a student spends on basketball practice.</u>\n",
    "\n",
    "<u>Which shot type has the highest success rate?</u>\n",
    "\n",
    "You would also like to find out how much time students are spending on basketball practice. Select __Hours Practised per Week__ for x-axis variable and __None (Distributions Only)__ for y-axis variable. You should now see a histogram. <u>How many students practise 1 to 3 hours per week?</u>"
   ]
  },
  {
   "cell_type": "code",
   "execution_count": null,
   "metadata": {},
   "outputs": [],
   "source": [
    "experiment.newPlot(show=['Shot Type', 'Hours Practised per Week', 'Height (cm)', 'Success Rate'])"
   ]
  },
  {
   "cell_type": "markdown",
   "metadata": {},
   "source": [
    "## Experimental intervention\n",
    "\n",
    "Now you would like to perform an experiment to see if practising more hours per week will improve students' success rate. First, you line the students up from shortest to tallest: click on __Range__ for __Height (cm)__ and type in __150__ in the first box and __185__ in the second box. Then, you tell the shortest student to practise 1 hour a week and the tallest student to practise 14 hours a week: click on __Range__ for __Hours Practised per Week__ and type in __1__ in the first box and __14__ in the second box. After a few weeks, you observe the students' performance during your PE lesson. Leave shot type and success rate on __None__. You may name the group __Intervention__. Once you have made the settings, click on __Perform Experiment__."
   ]
  },
  {
   "cell_type": "code",
   "execution_count": null,
   "metadata": {
    "scrolled": true
   },
   "outputs": [],
   "source": [
    "experiment2 = Experiment(basketball)\n",
    "experiment2.setting(show=['Shot Type', 'Hours Practised per Week', 'Height (cm)', 'Success Rate'], disabled='Success Rate')"
   ]
  },
  {
   "cell_type": "markdown",
   "metadata": {},
   "source": [
    "<u>Is there a correlation between success rate and number of hours practised per week?</u> Use the following interface to find out."
   ]
  },
  {
   "cell_type": "code",
   "execution_count": null,
   "metadata": {},
   "outputs": [],
   "source": [
    "experiment2.newPlot(show=['Shot Type', 'Hours Practised per Week', 'Height (cm)', 'Success Rate'])"
   ]
  },
  {
   "cell_type": "markdown",
   "metadata": {},
   "source": [
    "## Random assignment\n",
    "\n",
    "You may be unconvinced by the results of this experiment, because you assigned the taller students to practise more than the shorter students. You suspect that the taller students would have performed better anyway, regardless of the amount of time spent practising.\n",
    "\n",
    "To mitigate this problem, you decide to do an improved experiment. Instead of asking the shorter students to practise less and the taller students to practise more, you assign the number of hours for practice to your whole class randomly, so that the amount of time he/she is told to practise for has nothing to do with their height.\n",
    "\n",
    "Name the group __Random assignment__. Copy the same settings as the previous part (__150__ to __185__ for height, __1__ to __14__ for hours practised, __None__ for the others). This time, however, check the box __Randomise Order__. This ensures that the number of hours practised is assigned to students of all heights randomly. Remember to click on __Perform Experiment__."
   ]
  },
  {
   "cell_type": "code",
   "execution_count": null,
   "metadata": {},
   "outputs": [],
   "source": [
    "experiment3 = Experiment(basketball)\n",
    "experiment3.setting(show=['Shot Type', 'Hours Practised per Week', 'Height (cm)', 'Success Rate'], disabled='Success Rate')"
   ]
  },
  {
   "cell_type": "markdown",
   "metadata": {},
   "source": [
    "<u>Under random assignment, is there a correlation between success rate and number of hours practised per week?</u>"
   ]
  },
  {
   "cell_type": "code",
   "execution_count": null,
   "metadata": {},
   "outputs": [],
   "source": [
    "experiment3.newPlot(show=['Shot Type', 'Hours Practised per Week', 'Height (cm)', 'Success Rate'])"
   ]
  },
  {
   "cell_type": "markdown",
   "metadata": {},
   "source": [
    "## Multiple experimental groups\n",
    "\n",
    "To improve your experiment even further, you decide to separately record the success rates of three different types of shots: above head, layup, and hook shot. For this, we need to create 3 experimental groups. To add a new group, click on __Add Another Group__. For __Height (cm)__ and __Hours Practised per Week__ of each group, copy the same settings as in the previous experiment (including __Randomise Order__). Each group should be named __Above head__, __Layup__, and __Hook shot__. The __Shot Type__ of each group should be __Fixed__ to the corresponding type using the dropdown menu. Once this is all done, click on __Perform Experiment__."
   ]
  },
  {
   "cell_type": "code",
   "execution_count": null,
   "metadata": {},
   "outputs": [],
   "source": [
    "experiment4 = Experiment(basketball)\n",
    "experiment4.setting(show=['Shot Type', 'Hours Practised per Week', 'Height (cm)', 'Success Rate'], disabled='Success Rate')"
   ]
  },
  {
   "cell_type": "markdown",
   "metadata": {},
   "source": [
    "Select __Hours Practised per Week__ as the x-axis variable and __Success Rate__ as the y-axis variable. You should see three sets of data points in three different colours, corresponding to the three experimental groups. <u>Which shot type is the most successful?</u> To show/hide a single experimental group, click on the items in the legend on the side of the graph."
   ]
  },
  {
   "cell_type": "code",
   "execution_count": null,
   "metadata": {},
   "outputs": [],
   "source": [
    "experiment4.newPlot(show=['Shot Type', 'Hours Practised per Week', 'Height (cm)', 'Success Rate'])"
   ]
  },
  {
   "cell_type": "markdown",
   "metadata": {},
   "source": [
    "# Now it's your turn\n",
    "\n",
    "Now that you have learnt how to use the interface, you may design your own experiment! You may notice that the __Success Rate__ setting is always fixed on __None__, with the other options greyed out. This is because it is a dependent variable that you as the experimenter cannot intervene on. Play and familiarise yourself with it!"
   ]
  },
  {
   "cell_type": "code",
   "execution_count": null,
   "metadata": {},
   "outputs": [],
   "source": [
    "experiment5 = Experiment(basketball)\n",
    "experiment5.setting(show=['Shot Type', 'Hours Practised per Week', 'Height (cm)', 'Success Rate'], disabled='Success Rate')"
   ]
  },
  {
   "cell_type": "code",
   "execution_count": null,
   "metadata": {},
   "outputs": [],
   "source": [
    "experiment5.newPlot(show=['Shot Type', 'Hours Practised per Week', 'Height (cm)', 'Success Rate'])"
   ]
  },
  {
   "cell_type": "markdown",
   "metadata": {},
   "source": [
    "# Causal network\n",
    "\n",
    "To visualise the causal relationship between height, hours practised, and shot success rate, we can draw a causal network graph."
   ]
  },
  {
   "cell_type": "code",
   "execution_count": 2,
   "metadata": {},
   "outputs": [
    {
     "data": {
      "image/svg+xml": [
       "<?xml version=\"1.0\" encoding=\"UTF-8\" standalone=\"no\"?>\n",
       "<!DOCTYPE svg PUBLIC \"-//W3C//DTD SVG 1.1//EN\"\n",
       " \"http://www.w3.org/Graphics/SVG/1.1/DTD/svg11.dtd\">\n",
       "<!-- Generated by graphviz version 2.44.1 (20200629.0846)\n",
       " -->\n",
       "<!-- Title: Success Rate Pages: 1 -->\n",
       "<svg width=\"347pt\" height=\"188pt\"\n",
       " viewBox=\"0.00 0.00 346.79 188.00\" xmlns=\"http://www.w3.org/2000/svg\" xmlns:xlink=\"http://www.w3.org/1999/xlink\">\n",
       "<g id=\"graph0\" class=\"graph\" transform=\"scale(1 1) rotate(0) translate(4 184)\">\n",
       "<title>Success Rate</title>\n",
       "<polygon fill=\"white\" stroke=\"transparent\" points=\"-4,4 -4,-184 342.79,-184 342.79,4 -4,4\"/>\n",
       "<!-- Ability -->\n",
       "<g id=\"node1\" class=\"node\">\n",
       "<title>Ability</title>\n",
       "<ellipse fill=\"none\" stroke=\"black\" cx=\"148.45\" cy=\"-90\" rx=\"36\" ry=\"18\"/>\n",
       "<text text-anchor=\"middle\" x=\"148.45\" y=\"-86.3\" font-family=\"Times,serif\" font-size=\"14.00\">Ability</text>\n",
       "</g>\n",
       "<!-- Success Rate -->\n",
       "<g id=\"node2\" class=\"node\">\n",
       "<title>Success Rate</title>\n",
       "<ellipse fill=\"none\" stroke=\"black\" cx=\"97.45\" cy=\"-18\" rx=\"57.39\" ry=\"18\"/>\n",
       "<text text-anchor=\"middle\" x=\"97.45\" y=\"-14.3\" font-family=\"Times,serif\" font-size=\"14.00\">Success Rate</text>\n",
       "</g>\n",
       "<!-- Ability&#45;&gt;Success Rate -->\n",
       "<g id=\"edge1\" class=\"edge\">\n",
       "<title>Ability&#45;&gt;Success Rate</title>\n",
       "<path fill=\"none\" stroke=\"black\" d=\"M136.62,-72.76C130.34,-64.14 122.48,-53.36 115.46,-43.73\"/>\n",
       "<polygon fill=\"black\" stroke=\"black\" points=\"118.28,-41.65 109.56,-35.63 112.62,-45.78 118.28,-41.65\"/>\n",
       "</g>\n",
       "<!-- Height (cm) -->\n",
       "<g id=\"node3\" class=\"node\">\n",
       "<title>Height (cm)</title>\n",
       "<ellipse fill=\"none\" stroke=\"black\" cx=\"60.45\" cy=\"-162\" rx=\"53.89\" ry=\"18\"/>\n",
       "<text text-anchor=\"middle\" x=\"60.45\" y=\"-158.3\" font-family=\"Times,serif\" font-size=\"14.00\">Height (cm)</text>\n",
       "</g>\n",
       "<!-- Height (cm)&#45;&gt;Ability -->\n",
       "<g id=\"edge2\" class=\"edge\">\n",
       "<title>Height (cm)&#45;&gt;Ability</title>\n",
       "<path fill=\"none\" stroke=\"black\" d=\"M80.41,-145.12C92.76,-135.29 108.75,-122.58 122.12,-111.94\"/>\n",
       "<polygon fill=\"black\" stroke=\"black\" points=\"124.41,-114.59 130.06,-105.63 120.05,-109.11 124.41,-114.59\"/>\n",
       "</g>\n",
       "<!-- Hours Practised per Week -->\n",
       "<g id=\"node4\" class=\"node\">\n",
       "<title>Hours Practised per Week</title>\n",
       "<ellipse fill=\"none\" stroke=\"black\" cx=\"235.45\" cy=\"-162\" rx=\"103.18\" ry=\"18\"/>\n",
       "<text text-anchor=\"middle\" x=\"235.45\" y=\"-158.3\" font-family=\"Times,serif\" font-size=\"14.00\">Hours Practised per Week</text>\n",
       "</g>\n",
       "<!-- Hours Practised per Week&#45;&gt;Ability -->\n",
       "<g id=\"edge3\" class=\"edge\">\n",
       "<title>Hours Practised per Week&#45;&gt;Ability</title>\n",
       "<path fill=\"none\" stroke=\"black\" d=\"M214.39,-144.05C202.42,-134.43 187.34,-122.29 174.62,-112.06\"/>\n",
       "<polygon fill=\"black\" stroke=\"black\" points=\"176.65,-109.2 166.66,-105.66 172.26,-114.65 176.65,-109.2\"/>\n",
       "</g>\n",
       "<!-- Shot Type -->\n",
       "<g id=\"node5\" class=\"node\">\n",
       "<title>Shot Type</title>\n",
       "<ellipse fill=\"none\" stroke=\"black\" cx=\"47.45\" cy=\"-90\" rx=\"47.39\" ry=\"18\"/>\n",
       "<text text-anchor=\"middle\" x=\"47.45\" y=\"-86.3\" font-family=\"Times,serif\" font-size=\"14.00\">Shot Type</text>\n",
       "</g>\n",
       "<!-- Shot Type&#45;&gt;Success Rate -->\n",
       "<g id=\"edge4\" class=\"edge\">\n",
       "<title>Shot Type&#45;&gt;Success Rate</title>\n",
       "<path fill=\"none\" stroke=\"black\" d=\"M59.3,-72.41C65.31,-63.99 72.74,-53.58 79.45,-44.2\"/>\n",
       "<polygon fill=\"black\" stroke=\"black\" points=\"82.37,-46.13 85.33,-35.96 76.67,-42.06 82.37,-46.13\"/>\n",
       "</g>\n",
       "</g>\n",
       "</svg>\n"
      ],
      "text/plain": [
       "<graphviz.dot.Digraph at 0x10a923748>"
      ]
     },
     "execution_count": 2,
     "metadata": {},
     "output_type": "execute_result"
    }
   ],
   "source": [
    "basketball.drawNetwork()"
   ]
  },
  {
   "cell_type": "code",
   "execution_count": null,
   "metadata": {},
   "outputs": [],
   "source": [
    "basketball.root_node.drawNetwork()"
   ]
  },
  {
   "cell_type": "code",
   "execution_count": null,
   "metadata": {},
   "outputs": [],
   "source": []
  }
 ],
 "metadata": {
  "kernelspec": {
   "display_name": "Python 3",
   "language": "python",
   "name": "python3"
  },
  "language_info": {
   "codemirror_mode": {
    "name": "ipython",
    "version": 3
   },
   "file_extension": ".py",
   "mimetype": "text/x-python",
   "name": "python",
   "nbconvert_exporter": "python",
   "pygments_lexer": "ipython3",
   "version": "3.6.2"
  }
 },
 "nbformat": 4,
 "nbformat_minor": 4
}
