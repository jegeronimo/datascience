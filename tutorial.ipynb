{
 "cells": [
  {
   "cell_type": "code",
   "execution_count": 1,
   "metadata": {},
   "outputs": [
    {
     "data": {
      "text/html": [
       "<style>\n",
       "    [title=\"Assigned samples:\"] { min-width: 150px; }\n",
       "</style>"
      ],
      "text/plain": [
       "<IPython.core.display.HTML object>"
      ]
     },
     "metadata": {},
     "output_type": "display_data"
    }
   ],
   "source": [
    "from causality_simulation2 import *\n",
    "%matplotlib inline"
   ]
  },
  {
   "cell_type": "code",
   "execution_count": 2,
   "metadata": {},
   "outputs": [],
   "source": [
    "init_data = {\n",
    "    'Height (cm)': np.array(sorted(np.random.normal(167, 8, 100)))\n",
    "}"
   ]
  },
  {
   "cell_type": "code",
   "execution_count": 3,
   "metadata": {
    "scrolled": false
   },
   "outputs": [
    {
     "ename": "TypeError",
     "evalue": "generate() missing 1 required positional argument: 'runs'",
     "output_type": "error",
     "traceback": [
      "\u001b[0;31m---------------------------------------------------------------------------\u001b[0m",
      "\u001b[0;31mTypeError\u001b[0m                                 Traceback (most recent call last)",
      "\u001b[0;32m<ipython-input-3-15ab8d9ce034>\u001b[0m in \u001b[0;36m<module>\u001b[0;34m\u001b[0m\n\u001b[1;32m      7\u001b[0m     }\n\u001b[1;32m      8\u001b[0m }\n\u001b[0;32m----> 9\u001b[0;31m \u001b[0mbasketball\u001b[0m\u001b[0;34m.\u001b[0m\u001b[0mgenerate\u001b[0m\u001b[0;34m(\u001b[0m\u001b[0;34m[\u001b[0m\u001b[0mconfig\u001b[0m\u001b[0;34m]\u001b[0m\u001b[0;34m,\u001b[0m \u001b[0;36m400\u001b[0m\u001b[0;34m)\u001b[0m\u001b[0;34m\u001b[0m\u001b[0m\n\u001b[0m",
      "\u001b[0;31mTypeError\u001b[0m: generate() missing 1 required positional argument: 'runs'"
     ]
    }
   ],
   "source": [
    "config = {\n",
    "    'name': 'Observation',\n",
    "    'N': 200,\n",
    "    'intervene': {\n",
    "#         'Height (cm)': ['range', 150, 185],\n",
    "#         'Hours Practised per Week': ['range_rand', 1, 14]\n",
    "    }\n",
    "}\n",
    "basketball.generate([config], 400)"
   ]
  },
  {
   "cell_type": "code",
   "execution_count": 18,
   "metadata": {},
   "outputs": [
    {
     "data": {
      "image/png": "[encoded data removed]",
      "text/plain": [
       "<Figure size 1008x360 with 2 Axes>"
      ]
     },
     "metadata": {
      "needs_background": "light"
     },
     "output_type": "display_data"
    },
    {
     "data": {
      "image/png": "[encoded data removed]",
      "text/plain": [
       "<Figure size 1008x360 with 2 Axes>"
      ]
     },
     "metadata": {
      "needs_background": "light"
     },
     "output_type": "display_data"
    }
   ],
   "source": [
    "basketball.statsContinuous('Observation', 'Height (cm)', 'Success Rate')\n",
    "basketball.statsContinuous('Observation', 'Hours Practised per Week', 'Success Rate')"
   ]
  },
  {
   "cell_type": "markdown",
   "metadata": {},
   "source": [
    "This is a short tutorial to teach you how to use the RCT simulator and view the data.\n",
    "\n",
    "# High school basketball study\n",
    "\n",
    "You are a high school PE teacher. You are interested to find out about how much height and the amount of practice time affect students' basketball skills. To do this, you perform an __observational study__ by passively recording the success rate of various kinds of shots made by every student in your PE class. For every student, his/her height is recorded, as well as the number of hours he/she spends each week playing basketball. You have a total of 100 students.\n",
    "\n",
    "To begin, you must first assign the students to experimental groups. Since you are merely observing the students, there is only one group, consisting of all 100 students. In the following interface, you may type in __Observation__ for \"Name\" and __1-100__ for \"Assigned samples\". This means that student number 1 through student number 100 are all assigned to this group to be observed. Then, click on \"Visualise assignment\" to finalise the group assignment."
   ]
  },
  {
   "cell_type": "code",
   "execution_count": 4,
   "metadata": {
    "scrolled": false
   },
   "outputs": [
    {
     "data": {
      "application/vnd.jupyter.widget-view+json": {
       "model_id": "30de96adc2ae4e4a883730df14f89bd6",
       "version_major": 2,
       "version_minor": 0
      },
      "text/plain": [
       "Button(description='Randomise assignment', layout=Layout(width='180px'), style=ButtonStyle())"
      ]
     },
     "metadata": {},
     "output_type": "display_data"
    },
    {
     "data": {
      "application/vnd.jupyter.widget-view+json": {
       "model_id": "4d49918e348447aba3e29349f39f8a75",
       "version_major": 2,
       "version_minor": 0
      },
      "text/plain": [
       "VBox(children=(HBox(children=(Label(value='Group 1', layout=Layout(width='70px')), Text(value='', description=…"
      ]
     },
     "metadata": {},
     "output_type": "display_data"
    },
    {
     "data": {
      "application/vnd.jupyter.widget-view+json": {
       "model_id": "f602b7c75a754dc498c3e63e612c197c",
       "version_major": 2,
       "version_minor": 0
      },
      "text/plain": [
       "Button(description='Add another group', style=ButtonStyle())"
      ]
     },
     "metadata": {},
     "output_type": "display_data"
    },
    {
     "data": {
      "application/vnd.jupyter.widget-view+json": {
       "model_id": "ffee68150196487f833897e56e056b21",
       "version_major": 2,
       "version_minor": 0
      },
      "text/plain": [
       "Button(description='Visualise assignment', style=ButtonStyle())"
      ]
     },
     "metadata": {},
     "output_type": "display_data"
    },
    {
     "data": {
      "application/vnd.jupyter.widget-view+json": {
       "model_id": "7b09cf2d0c69479a947695b54bde86d2",
       "version_major": 2,
       "version_minor": 0
      },
      "text/plain": [
       "FigureWidget({\n",
       "    'data': [{'hovertemplate': 'Player: %{x} <br>Height: %{y} cm<br>',\n",
       "              'name': 'G…"
      ]
     },
     "metadata": {},
     "output_type": "display_data"
    }
   ],
   "source": [
    "experiment = Experiment(basketball, init_data)\n",
    "experiment.assignment()"
   ]
  },
  {
   "cell_type": "markdown",
   "metadata": {},
   "source": [
    "## Experimental setup\n",
    "\n",
    "Now we must specify how experiment is done on the single group assigned above. In the following interface, leave all the other lines on __None__. \"None\" means that you are not performing any experimental intervention that may change the behaviour of your students.\n",
    "\n",
    "Once you have made the settings, click on \"Perform Experiment\". You should then see \"Data from experiment collected!\""
   ]
  },
  {
   "cell_type": "code",
   "execution_count": 5,
   "metadata": {},
   "outputs": [
    {
     "data": {
      "application/vnd.jupyter.widget-view+json": {
       "model_id": "3df6273f4e87479ab97a20b827e93434",
       "version_major": 2,
       "version_minor": 0
      },
      "text/plain": [
       "Label(value='Group name: test, 100 samples')"
      ]
     },
     "metadata": {},
     "output_type": "display_data"
    },
    {
     "data": {
      "application/vnd.jupyter.widget-view+json": {
       "model_id": "8422e80e4cbe4c7190c44cc0f49ae513",
       "version_major": 2,
       "version_minor": 0
      },
      "text/plain": [
       "HBox(children=(Label(value='', layout=Layout(width='20px')), Label(value='Height (cm)', layout=Layout(width='1…"
      ]
     },
     "metadata": {},
     "output_type": "display_data"
    },
    {
     "data": {
      "application/vnd.jupyter.widget-view+json": {
       "model_id": "3d2a8150b8074d86a631b48e4f75fd1c",
       "version_major": 2,
       "version_minor": 0
      },
      "text/plain": [
       "HBox(children=(Label(value='', layout=Layout(width='20px')), Label(value='Hours Practised per Week', layout=La…"
      ]
     },
     "metadata": {},
     "output_type": "display_data"
    },
    {
     "data": {
      "application/vnd.jupyter.widget-view+json": {
       "model_id": "b0ed810e50964eb5a642f15e4df51efd",
       "version_major": 2,
       "version_minor": 0
      },
      "text/plain": [
       "HBox(children=(Label(value='', layout=Layout(width='20px')), Label(value='Shot Type', layout=Layout(width='180…"
      ]
     },
     "metadata": {},
     "output_type": "display_data"
    },
    {
     "data": {
      "application/vnd.jupyter.widget-view+json": {
       "model_id": "a90be67c596f4f8aa325d2459838cb65",
       "version_major": 2,
       "version_minor": 0
      },
      "text/plain": [
       "HBox(children=(Label(value='', layout=Layout(width='20px')), Label(value='Success Rate', layout=Layout(width='…"
      ]
     },
     "metadata": {},
     "output_type": "display_data"
    },
    {
     "data": {
      "application/vnd.jupyter.widget-view+json": {
       "model_id": "d1f16e9f3e3647dd87b45bc28d755f92",
       "version_major": 2,
       "version_minor": 0
      },
      "text/plain": [
       "Button(description='Perform experiment', style=ButtonStyle())"
      ]
     },
     "metadata": {},
     "output_type": "display_data"
    },
    {
     "data": {
      "application/vnd.jupyter.widget-view+json": {
       "model_id": "e1b8a45b7d104f1b980af4b117d08060",
       "version_major": 2,
       "version_minor": 0
      },
      "text/plain": [
       "Label(value='Data from experiment collected!')"
      ]
     },
     "metadata": {},
     "output_type": "display_data"
    }
   ],
   "source": [
    "experiment.setting(show=['Shot Type', 'Hours Practised per Week', 'Height (cm)', 'Success Rate'], disable=['Success Rate'])"
   ]
  },
  {
   "cell_type": "markdown",
   "metadata": {},
   "source": [
    "## Data visualisation\n",
    "\n",
    "Now you would like to see the relationship between the student's height and the success rate of his/her shots. Use the dropdown menu to select `Height (cm)` as the x-axis variable and `Success Rate` as the y-axis variable. You should see a scatter plot where each point represents the data from one student. <u>Is there a correlation between success rate and height?</u>"
   ]
  },
  {
   "cell_type": "markdown",
   "metadata": {},
   "source": [
    "_double click this box to type your answer_"
   ]
  },
  {
   "cell_type": "code",
   "execution_count": 6,
   "metadata": {
    "scrolled": false
   },
   "outputs": [
    {
     "data": {
      "application/vnd.jupyter.widget-view+json": {
       "model_id": "cccf8ee6e34f48febfc887cfb427c23d",
       "version_major": 2,
       "version_minor": 0
      },
      "text/plain": [
       "VBox(children=(HBox(children=(Dropdown(description='x-Axis Variable: ', options=('Height (cm)', 'Hours Practis…"
      ]
     },
     "metadata": {},
     "output_type": "display_data"
    },
    {
     "data": {
      "application/vnd.jupyter.widget-view+json": {
       "model_id": "aff331ad3bb949b9aac15f9e4ef1599e",
       "version_major": 2,
       "version_minor": 0
      },
      "text/plain": [
       "RadioButtons(description='Group', layout=Layout(width='max-content'), options=('test', 'All'), value='test')"
      ]
     },
     "metadata": {},
     "output_type": "display_data"
    },
    {
     "data": {
      "text/plain": []
     },
     "metadata": {},
     "output_type": "display_data"
    }
   ],
   "source": [
    "experiment.plot(show=['Shot Type', 'Hours Practised per Week', 'Height (cm)', 'Success Rate'])"
   ]
  },
  {
   "cell_type": "markdown",
   "metadata": {},
   "source": [
    "Answer the following questions as well:\n",
    "\n",
    "<u>Is there a correlation between `Success Rate` and the `Hours Practised Per Week`?</u>\n",
    "\n",
    "<u>Which `Shot Type` has the highest `Success Rate`?</u>\n",
    "\n",
    "You would also like to find out how much time students are spending on basketball practice. Select `Hours Practised per Week` for x-axis variable and `None (Distributions Only)` for y-axis variable. You should now see a histogram. <u>How many students practise 1 to 3 hours per week?</u>"
   ]
  },
  {
   "cell_type": "markdown",
   "metadata": {},
   "source": [
    "_double click this box to type your answer_"
   ]
  },
  {
   "cell_type": "markdown",
   "metadata": {},
   "source": [
    "## Experimental intervention\n",
    "\n",
    "Now you would like to perform an experiment to see if practising more hours per week will improve students' success rate.\n",
    "\n",
    "First, you line the students up from shortest to tallest: click on __Range__ for `Height (cm)` and type in __150__ in the first box and __185__ in the second box.\n",
    "\n",
    "Then, you tell the shortest student to practise 1 hour a week and the tallest student to practise 14 hours a week: click on __Range__ for `Hours Practised per Week` and type in __1__ in the first box and __14__ in the second box.\n",
    "\n",
    "After a few weeks, you observe the students' performance during your PE lesson. Leave `Shot Type` and `Success Rate` as __None__.\n",
    "\n",
    "You may name the group __Intervention__. Once you have made the settings, click on __Perform Experiment__."
   ]
  },
  {
   "cell_type": "code",
   "execution_count": 3,
   "metadata": {
    "scrolled": true
   },
   "outputs": [
    {
     "data": {
      "application/vnd.jupyter.widget-view+json": {
       "model_id": "ed38d15f0bea427984d5a0d4f8b302f5",
       "version_major": 2,
       "version_minor": 0
      },
      "text/plain": [
       "VBox(children=(HBox(children=(Label(value='Name the Group', layout=Layout(width='150px')), Text(value='', layo…"
      ]
     },
     "metadata": {},
     "output_type": "display_data"
    }
   ],
   "source": [
    "experiment2 = Experiment(basketball)\n",
    "experiment2.setting(show=['Shot Type', 'Hours Practised per Week', 'Height (cm)', 'Success Rate'], disabled='Success Rate')"
   ]
  },
  {
   "cell_type": "markdown",
   "metadata": {},
   "source": [
    "<u>Is there a correlation between success rate and number of hours practised per week?</u> Use the following interface to find out."
   ]
  },
  {
   "cell_type": "code",
   "execution_count": 5,
   "metadata": {},
   "outputs": [
    {
     "data": {
      "application/vnd.jupyter.widget-view+json": {
       "model_id": "49f9bf1045d9462095571f7d30cf4541",
       "version_major": 2,
       "version_minor": 0
      },
      "text/plain": [
       "VBox(children=(HBox(children=(Dropdown(description='x-Axis Variable: ', options=('Height (cm)', 'Hours Practis…"
      ]
     },
     "metadata": {},
     "output_type": "display_data"
    },
    {
     "data": {
      "application/vnd.jupyter.widget-view+json": {
       "model_id": "d9ca67f19a494e6abf7357579aecbcde",
       "version_major": 2,
       "version_minor": 0
      },
      "text/plain": [
       "RadioButtons(description='Group', layout=Layout(width='max-content'), options=('All',), value='All')"
      ]
     },
     "metadata": {},
     "output_type": "display_data"
    },
    {
     "data": {
      "text/plain": []
     },
     "metadata": {},
     "output_type": "display_data"
    }
   ],
   "source": [
    "experiment2.newPlot(show=['Shot Type', 'Hours Practised per Week', 'Height (cm)', 'Success Rate'])"
   ]
  },
  {
   "cell_type": "markdown",
   "metadata": {},
   "source": [
    "## Random assignment\n",
    "\n",
    "You may be unconvinced by the results of this experiment, because you assigned the taller students to practise more than the shorter students. You suspect that the taller students would have performed better anyway, regardless of the amount of time spent practising.\n",
    "\n",
    "To mitigate this problem, you decide to do an improved experiment. Instead of asking the shorter students to practise less and the taller students to practise more, you assign the number of hours for practice to your whole class randomly, so that the amount of time he/she is told to practise for has nothing to do with their height.\n",
    "\n",
    "Name the group __Random assignment__. Copy the same settings as the previous part (__150__ to __185__ for `Height (cm)`, __1__ to __14__ for `Hours Practised`, __None__ for the others). This time, however, check the box __Randomise Order__ on __Hours Practised per Week__. This ensures that the number of hours practised is assigned to students of all heights randomly. Remember to click on __Perform Experiment__."
   ]
  },
  {
   "cell_type": "code",
   "execution_count": 6,
   "metadata": {},
   "outputs": [
    {
     "data": {
      "application/vnd.jupyter.widget-view+json": {
       "model_id": "231dbb1de60145f5b5a64c283a9cb4e8",
       "version_major": 2,
       "version_minor": 0
      },
      "text/plain": [
       "VBox(children=(HBox(children=(Label(value='Name the Group', layout=Layout(width='150px')), Text(value='', layo…"
      ]
     },
     "metadata": {},
     "output_type": "display_data"
    }
   ],
   "source": [
    "experiment3 = Experiment(basketball)\n",
    "experiment3.setting(show=['Shot Type', 'Hours Practised per Week', 'Height (cm)', 'Success Rate'], disabled='Success Rate')"
   ]
  },
  {
   "cell_type": "markdown",
   "metadata": {},
   "source": [
    "<u>Under random assignment, is there a correlation between `Success Rate` and number of `Hours Practised Per Week`?</u>"
   ]
  },
  {
   "cell_type": "markdown",
   "metadata": {},
   "source": [
    "_double click this box to type your answer_"
   ]
  },
  {
   "cell_type": "code",
   "execution_count": 7,
   "metadata": {},
   "outputs": [
    {
     "data": {
      "application/vnd.jupyter.widget-view+json": {
       "model_id": "bf3fe3194a53413ab1bd277741ac85e9",
       "version_major": 2,
       "version_minor": 0
      },
      "text/plain": [
       "VBox(children=(HBox(children=(Dropdown(description='x-Axis Variable: ', options=('Height (cm)', 'Hours Practis…"
      ]
     },
     "metadata": {},
     "output_type": "display_data"
    },
    {
     "data": {
      "application/vnd.jupyter.widget-view+json": {
       "model_id": "ef5f35796da441109fec62f3026aeeab",
       "version_major": 2,
       "version_minor": 0
      },
      "text/plain": [
       "RadioButtons(description='Group', layout=Layout(width='max-content'), options=('All',), value='All')"
      ]
     },
     "metadata": {},
     "output_type": "display_data"
    },
    {
     "data": {
      "text/plain": []
     },
     "metadata": {},
     "output_type": "display_data"
    }
   ],
   "source": [
    "experiment3.newPlot(show=['Shot Type', 'Hours Practised per Week', 'Height (cm)', 'Success Rate'])"
   ]
  },
  {
   "cell_type": "markdown",
   "metadata": {},
   "source": [
    "## Multiple experimental groups\n",
    "\n",
    "To improve your experiment even further, you decide to separately record the success rates of three different types of shots: above head, layup, and hook shot.\n",
    "\n",
    "For this, we need to create 3 experimental groups. To add two new groups, click __Add Another Group__ two times.\n",
    "\n",
    "For `Height (cm)` and `Hours Practised per Week` of each group, copy the same settings as in the previous experiment (including __Randomise Order__).\n",
    "\n",
    "Each group should be named __Above head__, __Layup__, and __Hook shot__.\n",
    "\n",
    "The `Shot Type` of each group should be __Fixed__ to the corresponding type using the dropdown menu. Once this is all done, click on __Perform Experiment__."
   ]
  },
  {
   "cell_type": "code",
   "execution_count": 8,
   "metadata": {},
   "outputs": [
    {
     "data": {
      "application/vnd.jupyter.widget-view+json": {
       "model_id": "d1acf16f91e84fab8614eb4cee3c416f",
       "version_major": 2,
       "version_minor": 0
      },
      "text/plain": [
       "VBox(children=(HBox(children=(Label(value='Name the Group', layout=Layout(width='150px')), Text(value='', layo…"
      ]
     },
     "metadata": {},
     "output_type": "display_data"
    }
   ],
   "source": [
    "experiment4 = Experiment(basketball)\n",
    "experiment4.setting(show=['Shot Type', 'Hours Practised per Week', 'Height (cm)', 'Success Rate'], disabled='Success Rate')"
   ]
  },
  {
   "cell_type": "markdown",
   "metadata": {},
   "source": [
    "Select __Hours Practised per Week__ as the x-axis variable and __Success Rate__ as the y-axis variable. You should see three sets of data points in three different colours, corresponding to the three experimental groups. <u>Which shot type is the most successful?</u> To show/hide a single experimental group, click on the items in the legend on the side of the graph."
   ]
  },
  {
   "cell_type": "markdown",
   "metadata": {},
   "source": [
    "_double click this box to type your answer_"
   ]
  },
  {
   "cell_type": "code",
   "execution_count": 9,
   "metadata": {
    "scrolled": false
   },
   "outputs": [
    {
     "data": {
      "application/vnd.jupyter.widget-view+json": {
       "model_id": "956da9e86e6b4c3da89ac5b648d44fc9",
       "version_major": 2,
       "version_minor": 0
      },
      "text/plain": [
       "VBox(children=(HBox(children=(Dropdown(description='x-Axis Variable: ', options=('Height (cm)', 'Hours Practis…"
      ]
     },
     "metadata": {},
     "output_type": "display_data"
    },
    {
     "data": {
      "application/vnd.jupyter.widget-view+json": {
       "model_id": "118035da76954a089b9e35515164f8b2",
       "version_major": 2,
       "version_minor": 0
      },
      "text/plain": [
       "RadioButtons(description='Group', layout=Layout(width='max-content'), options=('All',), value='All')"
      ]
     },
     "metadata": {},
     "output_type": "display_data"
    },
    {
     "data": {
      "text/plain": []
     },
     "metadata": {},
     "output_type": "display_data"
    }
   ],
   "source": [
    "experiment4.newPlot(show=['Shot Type', 'Hours Practised per Week', 'Height (cm)', 'Success Rate'])"
   ]
  },
  {
   "cell_type": "markdown",
   "metadata": {},
   "source": [
    "# Now it's your turn\n",
    "\n",
    "Now that you have learnt how to use the interface, you may design your own experiment! You may notice that the `Success Rate` setting is always fixed on __None__, with the other options greyed out. This is because it is a dependent variable that you as the experimenter cannot intervene on. Play and familiarise yourself with it!"
   ]
  },
  {
   "cell_type": "code",
   "execution_count": 10,
   "metadata": {},
   "outputs": [
    {
     "data": {
      "application/vnd.jupyter.widget-view+json": {
       "model_id": "3c6619af009641d8a3c43ebd6b69f27a",
       "version_major": 2,
       "version_minor": 0
      },
      "text/plain": [
       "VBox(children=(HBox(children=(Label(value='Name the Group', layout=Layout(width='150px')), Text(value='', layo…"
      ]
     },
     "metadata": {},
     "output_type": "display_data"
    }
   ],
   "source": [
    "experiment5 = Experiment(basketball)\n",
    "experiment5.setting(show=['Shot Type', 'Hours Practised per Week', 'Height (cm)', 'Success Rate'], disabled='Success Rate')"
   ]
  },
  {
   "cell_type": "code",
   "execution_count": 11,
   "metadata": {},
   "outputs": [
    {
     "data": {
      "application/vnd.jupyter.widget-view+json": {
       "model_id": "e1dd45d0f591488387129dd8537a15d4",
       "version_major": 2,
       "version_minor": 0
      },
      "text/plain": [
       "VBox(children=(HBox(children=(Dropdown(description='x-Axis Variable: ', options=('Height (cm)', 'Hours Practis…"
      ]
     },
     "metadata": {},
     "output_type": "display_data"
    },
    {
     "data": {
      "application/vnd.jupyter.widget-view+json": {
       "model_id": "22b23bb082784b81a2dd8b8ab15562c9",
       "version_major": 2,
       "version_minor": 0
      },
      "text/plain": [
       "RadioButtons(description='Group', layout=Layout(width='max-content'), options=('All',), value='All')"
      ]
     },
     "metadata": {},
     "output_type": "display_data"
    },
    {
     "data": {
      "text/plain": []
     },
     "metadata": {},
     "output_type": "display_data"
    }
   ],
   "source": [
    "experiment5.newPlot(show=['Shot Type', 'Hours Practised per Week', 'Height (cm)', 'Success Rate'])"
   ]
  },
  {
   "cell_type": "markdown",
   "metadata": {},
   "source": [
    "# Causal network\n",
    "\n",
    "To visualise the causal relationship between height, hours practised, and shot success rate, we can draw a causal network graph."
   ]
  },
  {
   "cell_type": "code",
   "execution_count": 12,
   "metadata": {},
   "outputs": [
    {
     "data": {
      "image/svg+xml": [
       "<?xml version=\"1.0\" encoding=\"UTF-8\" standalone=\"no\"?>\n",
       "<!DOCTYPE svg PUBLIC \"-//W3C//DTD SVG 1.1//EN\"\n",
       " \"http://www.w3.org/Graphics/SVG/1.1/DTD/svg11.dtd\">\n",
       "<!-- Generated by graphviz version 2.44.1 (20200629.0846)\n",
       " -->\n",
       "<!-- Title: Success Rate Pages: 1 -->\n",
       "<svg width=\"347pt\" height=\"188pt\"\n",
       " viewBox=\"0.00 0.00 346.79 188.00\" xmlns=\"http://www.w3.org/2000/svg\" xmlns:xlink=\"http://www.w3.org/1999/xlink\">\n",
       "<g id=\"graph0\" class=\"graph\" transform=\"scale(1 1) rotate(0) translate(4 184)\">\n",
       "<title>Success Rate</title>\n",
       "<polygon fill=\"white\" stroke=\"transparent\" points=\"-4,4 -4,-184 342.79,-184 342.79,4 -4,4\"/>\n",
       "<!-- Ability -->\n",
       "<g id=\"node1\" class=\"node\">\n",
       "<title>Ability</title>\n",
       "<ellipse fill=\"none\" stroke=\"black\" cx=\"148.45\" cy=\"-90\" rx=\"36\" ry=\"18\"/>\n",
       "<text text-anchor=\"middle\" x=\"148.45\" y=\"-86.3\" font-family=\"Times,serif\" font-size=\"14.00\">Ability</text>\n",
       "</g>\n",
       "<!-- Success Rate -->\n",
       "<g id=\"node2\" class=\"node\">\n",
       "<title>Success Rate</title>\n",
       "<ellipse fill=\"none\" stroke=\"black\" cx=\"97.45\" cy=\"-18\" rx=\"57.39\" ry=\"18\"/>\n",
       "<text text-anchor=\"middle\" x=\"97.45\" y=\"-14.3\" font-family=\"Times,serif\" font-size=\"14.00\">Success Rate</text>\n",
       "</g>\n",
       "<!-- Ability&#45;&gt;Success Rate -->\n",
       "<g id=\"edge1\" class=\"edge\">\n",
       "<title>Ability&#45;&gt;Success Rate</title>\n",
       "<path fill=\"none\" stroke=\"black\" d=\"M136.62,-72.76C130.34,-64.14 122.48,-53.36 115.46,-43.73\"/>\n",
       "<polygon fill=\"black\" stroke=\"black\" points=\"118.28,-41.65 109.56,-35.63 112.62,-45.78 118.28,-41.65\"/>\n",
       "</g>\n",
       "<!-- Height (cm) -->\n",
       "<g id=\"node3\" class=\"node\">\n",
       "<title>Height (cm)</title>\n",
       "<ellipse fill=\"none\" stroke=\"black\" cx=\"60.45\" cy=\"-162\" rx=\"53.89\" ry=\"18\"/>\n",
       "<text text-anchor=\"middle\" x=\"60.45\" y=\"-158.3\" font-family=\"Times,serif\" font-size=\"14.00\">Height (cm)</text>\n",
       "</g>\n",
       "<!-- Height (cm)&#45;&gt;Ability -->\n",
       "<g id=\"edge2\" class=\"edge\">\n",
       "<title>Height (cm)&#45;&gt;Ability</title>\n",
       "<path fill=\"none\" stroke=\"black\" d=\"M80.41,-145.12C92.76,-135.29 108.75,-122.58 122.12,-111.94\"/>\n",
       "<polygon fill=\"black\" stroke=\"black\" points=\"124.41,-114.59 130.06,-105.63 120.05,-109.11 124.41,-114.59\"/>\n",
       "</g>\n",
       "<!-- Hours Practised per Week -->\n",
       "<g id=\"node4\" class=\"node\">\n",
       "<title>Hours Practised per Week</title>\n",
       "<ellipse fill=\"none\" stroke=\"black\" cx=\"235.45\" cy=\"-162\" rx=\"103.18\" ry=\"18\"/>\n",
       "<text text-anchor=\"middle\" x=\"235.45\" y=\"-158.3\" font-family=\"Times,serif\" font-size=\"14.00\">Hours Practised per Week</text>\n",
       "</g>\n",
       "<!-- Hours Practised per Week&#45;&gt;Ability -->\n",
       "<g id=\"edge3\" class=\"edge\">\n",
       "<title>Hours Practised per Week&#45;&gt;Ability</title>\n",
       "<path fill=\"none\" stroke=\"black\" d=\"M214.39,-144.05C202.42,-134.43 187.34,-122.29 174.62,-112.06\"/>\n",
       "<polygon fill=\"black\" stroke=\"black\" points=\"176.65,-109.2 166.66,-105.66 172.26,-114.65 176.65,-109.2\"/>\n",
       "</g>\n",
       "<!-- Shot Type -->\n",
       "<g id=\"node5\" class=\"node\">\n",
       "<title>Shot Type</title>\n",
       "<ellipse fill=\"none\" stroke=\"black\" cx=\"47.45\" cy=\"-90\" rx=\"47.39\" ry=\"18\"/>\n",
       "<text text-anchor=\"middle\" x=\"47.45\" y=\"-86.3\" font-family=\"Times,serif\" font-size=\"14.00\">Shot Type</text>\n",
       "</g>\n",
       "<!-- Shot Type&#45;&gt;Success Rate -->\n",
       "<g id=\"edge4\" class=\"edge\">\n",
       "<title>Shot Type&#45;&gt;Success Rate</title>\n",
       "<path fill=\"none\" stroke=\"black\" d=\"M59.3,-72.41C65.31,-63.99 72.74,-53.58 79.45,-44.2\"/>\n",
       "<polygon fill=\"black\" stroke=\"black\" points=\"82.37,-46.13 85.33,-35.96 76.67,-42.06 82.37,-46.13\"/>\n",
       "</g>\n",
       "</g>\n",
       "</svg>\n"
      ],
      "text/plain": [
       "<graphviz.dot.Digraph at 0x12daf9400>"
      ]
     },
     "execution_count": 12,
     "metadata": {},
     "output_type": "execute_result"
    }
   ],
   "source": [
    "basketball.drawNetwork()"
   ]
  },
  {
   "cell_type": "code",
   "execution_count": null,
   "metadata": {},
   "outputs": [],
   "source": []
  }
 ],
 "metadata": {
  "kernelspec": {
   "display_name": "Python 3",
   "language": "python",
   "name": "python3"
  },
  "language_info": {
   "codemirror_mode": {
    "name": "ipython",
    "version": 3
   },
   "file_extension": ".py",
   "mimetype": "text/x-python",
   "name": "python",
   "nbconvert_exporter": "python",
   "pygments_lexer": "ipython3",
   "version": "3.6.2"
  }
 },
 "nbformat": 4,
 "nbformat_minor": 4
}
