{
 "cells": [
  {
   "cell_type": "markdown",
   "metadata": {},
   "source": [
    "Run the following two boxes first! By \"running\", we mean click on the box of code, and then press `Shift+Return` on your keyboard."
   ]
  },
  {
   "cell_type": "code",
   "execution_count": 5,
   "metadata": {},
   "outputs": [],
   "source": [
    "from causality_simulation import *\n",
    "\n",
    "init_data = {\n",
    "    'Height (cm)': np.array(sorted(np.append(np.random.normal(167, 8, 50), np.random.normal(160, 8, 50))))\n",
    "}\n",
    "basketball.init(init_data)"
   ]
  },
  {
   "cell_type": "markdown",
   "metadata": {},
   "source": [
    "This is a short tutorial to teach you how to use the RCT simulator and view the data.\n",
    "\n",
    "# High school basketball study\n",
    "\n",
    "You are a high school PE teacher. You are interested to find out about how much a student's height and the amount of practice time affect his/her basketball skills. To do this, you perform an __observational study__ by passively recording the success rate of various kinds of shots made by every student in your PE class. For every student, his/her height is recorded, as well as the number of hours he/she spends each week playing basketball. You have a total of 100 students.\n",
    "\n",
    "Run the following box.\n",
    "\n",
    "To begin, you must first assign the students to experimental groups. Since you are merely observing the students, there is only one group, consisting of all 100 students. In the following interface, you may type in __Observation__ for \"Name\" and __1-100__ for \"Assigned samples\". This means that student number 1 through student number 100 are all assigned to this group to be observed. Then, click on \"Visualise assignment\" to finalise the group assignment.\n",
    "\n",
    "In the \"Student Group Assignments\" chart, each vertical bar represents a single student. The length of the bar indicates the height of that student. The students are lined up from shortest on the left to tallest on the right. The shortest student is numbered 1, and the tallest student is numbered 100."
   ]
  },
  {
   "cell_type": "code",
   "execution_count": 6,
   "metadata": {
    "scrolled": false
   },
   "outputs": [
    {
     "data": {
      "application/vnd.jupyter.widget-view+json": {
       "model_id": "e4a13c8de44143ad800e1255878a8c0a",
       "version_major": 2,
       "version_minor": 0
      },
      "text/plain": [
       "Button(description='Randomise assignment', layout=Layout(width='180px'), style=ButtonStyle())"
      ]
     },
     "metadata": {},
     "output_type": "display_data"
    },
    {
     "data": {
      "application/vnd.jupyter.widget-view+json": {
       "model_id": "aff40bf765de4f589ccf3ec16f1a1b90",
       "version_major": 2,
       "version_minor": 0
      },
      "text/plain": [
       "VBox(children=(HBox(children=(Label(value='Group 1', layout=Layout(width='70px')), Text(value='', description=…"
      ]
     },
     "metadata": {},
     "output_type": "display_data"
    },
    {
     "data": {
      "application/vnd.jupyter.widget-view+json": {
       "model_id": "035c1c87478d4291b5923666ae81d1f2",
       "version_major": 2,
       "version_minor": 0
      },
      "text/plain": [
       "Button(description='Add another group', style=ButtonStyle())"
      ]
     },
     "metadata": {},
     "output_type": "display_data"
    },
    {
     "data": {
      "application/vnd.jupyter.widget-view+json": {
       "model_id": "7e4d22f46d884295a348e512d929549f",
       "version_major": 2,
       "version_minor": 0
      },
      "text/plain": [
       "Button(description='Visualise assignment', style=ButtonStyle())"
      ]
     },
     "metadata": {},
     "output_type": "display_data"
    },
    {
     "data": {
      "application/vnd.jupyter.widget-view+json": {
       "model_id": "a20346024a3f455d9fb3229147c8b089",
       "version_major": 2,
       "version_minor": 0
      },
      "text/plain": [
       "FigureWidget({\n",
       "    'data': [{'hovertemplate': 'Student: %{x} <br>Height: %{y} cm<br>',\n",
       "              'name': '…"
      ]
     },
     "metadata": {},
     "output_type": "display_data"
    }
   ],
   "source": [
    "experiment = BasketballExperiment()\n",
    "experiment.assignment()"
   ]
  },
  {
   "cell_type": "markdown",
   "metadata": {},
   "source": [
    "## Experimental setup\n",
    "\n",
    "Now we must specify how the experiment is done on the single group assigned above. Run the following box. In the interface, leave all the lines on __No intervention__. This means that you are not performing any experimental intervention that may change the behaviour of your students. In other words, you are sitting back and observing the students behave in their natural setting.\n",
    "\n",
    "Once you have made the settings, click on \"Perform experiment\". You should then see \"Data from experiment collected!\""
   ]
  },
  {
   "cell_type": "code",
   "execution_count": 3,
   "metadata": {},
   "outputs": [
    {
     "data": {
      "application/vnd.jupyter.widget-view+json": {
       "model_id": "8649f941d58d40fb9348f5bfad1df678",
       "version_major": 2,
       "version_minor": 0
      },
      "text/plain": [
       "Label(value='Group name: Observation, 100 samples')"
      ]
     },
     "metadata": {},
     "output_type": "display_data"
    },
    {
     "data": {
      "application/vnd.jupyter.widget-view+json": {
       "model_id": "414080fceb86479d8705a26b27340e4d",
       "version_major": 2,
       "version_minor": 0
      },
      "text/plain": [
       "HBox(children=(Label(value='', layout=Layout(width='20px')), Label(value='Hours practised per week', layout=La…"
      ]
     },
     "metadata": {},
     "output_type": "display_data"
    },
    {
     "data": {
      "application/vnd.jupyter.widget-view+json": {
       "model_id": "578cc398613842f9a6aa4025c9c02aad",
       "version_major": 2,
       "version_minor": 0
      },
      "text/plain": [
       "HBox(children=(Label(value='', layout=Layout(width='20px')), Label(value='Shot type', layout=Layout(width='180…"
      ]
     },
     "metadata": {},
     "output_type": "display_data"
    },
    {
     "data": {
      "application/vnd.jupyter.widget-view+json": {
       "model_id": "8bcdc159d6d4407ebcb0b57c0df30c91",
       "version_major": 2,
       "version_minor": 0
      },
      "text/plain": [
       "HBox(children=(Label(value='', layout=Layout(width='20px')), Label(value='Success rate', layout=Layout(width='…"
      ]
     },
     "metadata": {},
     "output_type": "display_data"
    },
    {
     "data": {
      "application/vnd.jupyter.widget-view+json": {
       "model_id": "2971c233dccc4824a5507a200a83dfc4",
       "version_major": 2,
       "version_minor": 0
      },
      "text/plain": [
       "Button(description='Perform experiment', style=ButtonStyle())"
      ]
     },
     "metadata": {},
     "output_type": "display_data"
    },
    {
     "data": {
      "application/vnd.jupyter.widget-view+json": {
       "model_id": "5b2e2804aaef4066ac71e6f01967b763",
       "version_major": 2,
       "version_minor": 0
      },
      "text/plain": [
       "Label(value='Data from experiment collected!')"
      ]
     },
     "metadata": {},
     "output_type": "display_data"
    }
   ],
   "source": [
    "experiment.setting(show=['Shot type', 'Hours practised per week', 'Success rate'], disable=['Success rate'])"
   ]
  },
  {
   "cell_type": "markdown",
   "metadata": {},
   "source": [
    "## Data visualisation\n",
    "\n",
    "Now you would like to see the relationship between the student's height and the success rate of his/her shots. First, run the following box. Use the dropdown menu to select `Height (cm)` as the x-axis variable and `Success Rate` as the y-axis variable. You should see a scatter plot where each point represents the data from one student."
   ]
  },
  {
   "cell_type": "code",
   "execution_count": 4,
   "metadata": {
    "scrolled": false
   },
   "outputs": [
    {
     "ename": "AttributeError",
     "evalue": "'BasketballExperiment' object has no attribute 'group_names'",
     "output_type": "error",
     "traceback": [
      "\u001b[0;31m---------------------------------------------------------------------------\u001b[0m",
      "\u001b[0;31mAttributeError\u001b[0m                            Traceback (most recent call last)",
      "\u001b[0;32m<ipython-input-4-0143f506ded7>\u001b[0m in \u001b[0;36m<module>\u001b[0;34m\u001b[0m\n\u001b[0;32m----> 1\u001b[0;31m \u001b[0mexperiment\u001b[0m\u001b[0;34m.\u001b[0m\u001b[0mplot\u001b[0m\u001b[0;34m(\u001b[0m\u001b[0mshow\u001b[0m\u001b[0;34m=\u001b[0m\u001b[0;34m[\u001b[0m\u001b[0;34m'Shot type'\u001b[0m\u001b[0;34m,\u001b[0m \u001b[0;34m'Hours practised per week'\u001b[0m\u001b[0;34m,\u001b[0m \u001b[0;34m'Height (cm)'\u001b[0m\u001b[0;34m,\u001b[0m \u001b[0;34m'Success rate'\u001b[0m\u001b[0;34m]\u001b[0m\u001b[0;34m)\u001b[0m\u001b[0;34m\u001b[0m\u001b[0;34m\u001b[0m\u001b[0m\n\u001b[0m",
      "\u001b[0;32m~/Documents/Berkeley/Sense & Sensibility & Science/Data science/causality_simulation.py\u001b[0m in \u001b[0;36mplot\u001b[0;34m(self, show)\u001b[0m\n\u001b[1;32m    296\u001b[0m             \u001b[0mdialog\u001b[0m\u001b[0;34m(\u001b[0m\u001b[0;34m'Experiment not performed'\u001b[0m\u001b[0;34m,\u001b[0m \u001b[0;34m'You have not yet performed the experiment! Click on \"Perform experiment\" before running this box.'\u001b[0m\u001b[0;34m,\u001b[0m \u001b[0;34m'OK'\u001b[0m\u001b[0;34m)\u001b[0m\u001b[0;34m\u001b[0m\u001b[0;34m\u001b[0m\u001b[0m\n\u001b[1;32m    297\u001b[0m             \u001b[0;32mreturn\u001b[0m\u001b[0;34m\u001b[0m\u001b[0;34m\u001b[0m\u001b[0m\n\u001b[0;32m--> 298\u001b[0;31m         \u001b[0mp\u001b[0m \u001b[0;34m=\u001b[0m \u001b[0mInteractivePlot\u001b[0m\u001b[0;34m(\u001b[0m\u001b[0mself\u001b[0m\u001b[0;34m,\u001b[0m \u001b[0mshow\u001b[0m\u001b[0;34m)\u001b[0m\u001b[0;34m\u001b[0m\u001b[0;34m\u001b[0m\u001b[0m\n\u001b[0m\u001b[1;32m    299\u001b[0m         \u001b[0mself\u001b[0m\u001b[0;34m.\u001b[0m\u001b[0mp\u001b[0m \u001b[0;34m=\u001b[0m \u001b[0mp\u001b[0m\u001b[0;34m\u001b[0m\u001b[0;34m\u001b[0m\u001b[0m\n\u001b[1;32m    300\u001b[0m         \u001b[0mp\u001b[0m\u001b[0;34m.\u001b[0m\u001b[0mdisplay\u001b[0m\u001b[0;34m(\u001b[0m\u001b[0;34m)\u001b[0m\u001b[0;34m\u001b[0m\u001b[0;34m\u001b[0m\u001b[0m\n",
      "\u001b[0;32m~/Documents/Berkeley/Sense & Sensibility & Science/Data science/causality_simulation.py\u001b[0m in \u001b[0;36m__init__\u001b[0;34m(self, experiment, show)\u001b[0m\n\u001b[1;32m    689\u001b[0m         )\n\u001b[1;32m    690\u001b[0m         \u001b[0mself\u001b[0m\u001b[0;34m.\u001b[0m\u001b[0mobserve\u001b[0m\u001b[0;34m(\u001b[0m\u001b[0;34m)\u001b[0m\u001b[0;34m\u001b[0m\u001b[0;34m\u001b[0m\u001b[0m\n\u001b[0;32m--> 691\u001b[0;31m         \u001b[0mself\u001b[0m\u001b[0;34m.\u001b[0m\u001b[0minitTraces\u001b[0m\u001b[0;34m(\u001b[0m\u001b[0;34m)\u001b[0m\u001b[0;34m\u001b[0m\u001b[0;34m\u001b[0m\u001b[0m\n\u001b[0m\u001b[1;32m    692\u001b[0m \u001b[0;34m\u001b[0m\u001b[0m\n\u001b[1;32m    693\u001b[0m     \u001b[0;32mdef\u001b[0m \u001b[0mdisplay\u001b[0m\u001b[0;34m(\u001b[0m\u001b[0mself\u001b[0m\u001b[0;34m)\u001b[0m\u001b[0;34m:\u001b[0m\u001b[0;34m\u001b[0m\u001b[0;34m\u001b[0m\u001b[0m\n",
      "\u001b[0;32m~/Documents/Berkeley/Sense & Sensibility & Science/Data science/causality_simulation.py\u001b[0m in \u001b[0;36minitTraces\u001b[0;34m(self)\u001b[0m\n\u001b[1;32m    756\u001b[0m \u001b[0;34m\u001b[0m\u001b[0m\n\u001b[1;32m    757\u001b[0m     \u001b[0;32mdef\u001b[0m \u001b[0minitTraces\u001b[0m\u001b[0;34m(\u001b[0m\u001b[0mself\u001b[0m\u001b[0;34m)\u001b[0m\u001b[0;34m:\u001b[0m\u001b[0;34m\u001b[0m\u001b[0;34m\u001b[0m\u001b[0m\n\u001b[0;32m--> 758\u001b[0;31m         \u001b[0mtraces\u001b[0m\u001b[0;34m,\u001b[0m \u001b[0mlayout\u001b[0m \u001b[0;34m=\u001b[0m \u001b[0mself\u001b[0m\u001b[0;34m.\u001b[0m\u001b[0mcreateTraces\u001b[0m\u001b[0;34m(\u001b[0m\u001b[0mself\u001b[0m\u001b[0;34m.\u001b[0m\u001b[0mx_options\u001b[0m\u001b[0;34m[\u001b[0m\u001b[0;36m0\u001b[0m\u001b[0;34m]\u001b[0m\u001b[0;34m,\u001b[0m \u001b[0mself\u001b[0m\u001b[0;34m.\u001b[0m\u001b[0my_options\u001b[0m\u001b[0;34m[\u001b[0m\u001b[0;36m0\u001b[0m\u001b[0;34m]\u001b[0m\u001b[0;34m)\u001b[0m\u001b[0;34m\u001b[0m\u001b[0;34m\u001b[0m\u001b[0m\n\u001b[0m\u001b[1;32m    759\u001b[0m         \u001b[0mself\u001b[0m\u001b[0;34m.\u001b[0m\u001b[0mg\u001b[0m \u001b[0;34m=\u001b[0m \u001b[0mgo\u001b[0m\u001b[0;34m.\u001b[0m\u001b[0mFigureWidget\u001b[0m\u001b[0;34m(\u001b[0m\u001b[0mlayout\u001b[0m\u001b[0;34m=\u001b[0m\u001b[0mlayout\u001b[0m\u001b[0;34m)\u001b[0m\u001b[0;34m\u001b[0m\u001b[0;34m\u001b[0m\u001b[0m\n\u001b[1;32m    760\u001b[0m         \u001b[0;32mfor\u001b[0m \u001b[0mt\u001b[0m \u001b[0;32min\u001b[0m \u001b[0mtraces\u001b[0m\u001b[0;34m:\u001b[0m\u001b[0;34m\u001b[0m\u001b[0;34m\u001b[0m\u001b[0m\n",
      "\u001b[0;32m~/Documents/Berkeley/Sense & Sensibility & Science/Data science/causality_simulation.py\u001b[0m in \u001b[0;36mcreateTraces\u001b[0;34m(self, x, y)\u001b[0m\n\u001b[1;32m    711\u001b[0m         \u001b[0mtraces\u001b[0m \u001b[0;34m=\u001b[0m \u001b[0;34m[\u001b[0m\u001b[0;34m]\u001b[0m\u001b[0;34m\u001b[0m\u001b[0;34m\u001b[0m\u001b[0m\n\u001b[1;32m    712\u001b[0m         \u001b[0mannotations\u001b[0m \u001b[0;34m=\u001b[0m \u001b[0;34m[\u001b[0m\u001b[0;34m]\u001b[0m\u001b[0;34m\u001b[0m\u001b[0;34m\u001b[0m\u001b[0m\n\u001b[0;32m--> 713\u001b[0;31m         \u001b[0mannotation_y\u001b[0m \u001b[0;34m=\u001b[0m \u001b[0;34m-\u001b[0m\u001b[0;36m0.20\u001b[0m \u001b[0;34m-\u001b[0m \u001b[0;36m0.02\u001b[0m\u001b[0;34m*\u001b[0m\u001b[0mlen\u001b[0m\u001b[0;34m(\u001b[0m\u001b[0mself\u001b[0m\u001b[0;34m.\u001b[0m\u001b[0mexperiment\u001b[0m\u001b[0;34m.\u001b[0m\u001b[0mgroup_names\u001b[0m\u001b[0;34m)\u001b[0m\u001b[0;34m\u001b[0m\u001b[0;34m\u001b[0m\u001b[0m\n\u001b[0m\u001b[1;32m    714\u001b[0m         \u001b[0mtraceType\u001b[0m \u001b[0;34m=\u001b[0m \u001b[0mself\u001b[0m\u001b[0;34m.\u001b[0m\u001b[0mchoose_trace\u001b[0m\u001b[0;34m(\u001b[0m\u001b[0mx\u001b[0m\u001b[0;34m,\u001b[0m \u001b[0my\u001b[0m\u001b[0;34m)\u001b[0m\u001b[0;34m\u001b[0m\u001b[0;34m\u001b[0m\u001b[0m\n\u001b[1;32m    715\u001b[0m         \u001b[0;32mif\u001b[0m \u001b[0mtraceType\u001b[0m \u001b[0;34m==\u001b[0m \u001b[0;34m'histogram'\u001b[0m\u001b[0;34m:\u001b[0m\u001b[0;34m\u001b[0m\u001b[0;34m\u001b[0m\u001b[0m\n",
      "\u001b[0;31mAttributeError\u001b[0m: 'BasketballExperiment' object has no attribute 'group_names'"
     ]
    }
   ],
   "source": [
    "experiment.plot(show=['Shot type', 'Hours practised per week', 'Height (cm)', 'Success rate'])"
   ]
  },
  {
   "cell_type": "markdown",
   "metadata": {},
   "source": [
    "## Question 1\n",
    "\n",
    "__1a) Is there a correlation between `Success Rate` and the `Height`?__\n",
    "\n",
    "\n",
    "Now try to change the x-axis and y-axis variables using the dropdown menu. Using these charts, answer the following questions.\n",
    "\n",
    "__1b) Is there a correlation between `Success Rate` and the `Hours Practised Per Week`?__\n",
    "\n",
    "__1c) Which `Shot Type` has the highest `Success Rate`?__\n",
    "\n",
    "You would also like to find out how much time students are spending on basketball practice. Select `Hours Practised per Week` for x-axis variable and `None (Distributions Only)` for y-axis variable. You should now see a histogram. __1d) How many students practise 1 to 3 hours per week?__"
   ]
  },
  {
   "cell_type": "markdown",
   "metadata": {},
   "source": [
    "`Double-click this box to type your answer. Press Shift+Return when you are done.`\n",
    "\n",
    "1a)\n",
    "\n",
    "1b)\n",
    "\n",
    "1c)\n",
    "\n",
    "1d)"
   ]
  },
  {
   "cell_type": "markdown",
   "metadata": {},
   "source": [
    "## Experimental intervention\n",
    "\n",
    "Now you would like to perform an experiment to see if practising more hours per week will improve students' success rate. You give every student an assignment to practise exactly some number of hours per week. Some students are asked not to practise at all, some are asked to practise 14 hours a week, while others are assigned something in between. After a few weeks, you observe the students' performance during your PE lesson.\n",
    "\n",
    "Just as before, we are only setting up one experimental group. Run the following box. In \"Name\", type __Intervention__. In \"Assigned samples\", type __1-100__, so that all 100 students will participate in this experiment. Then, click on \"Visualise assignment\". The bar chart should look the same as before."
   ]
  },
  {
   "cell_type": "code",
   "execution_count": 5,
   "metadata": {},
   "outputs": [
    {
     "data": {
      "application/vnd.jupyter.widget-view+json": {
       "model_id": "238aa6ecf286480da4e9cfd8c4ab3c27",
       "version_major": 2,
       "version_minor": 0
      },
      "text/plain": [
       "Button(description='Randomise assignment', layout=Layout(width='180px'), style=ButtonStyle())"
      ]
     },
     "metadata": {},
     "output_type": "display_data"
    },
    {
     "data": {
      "application/vnd.jupyter.widget-view+json": {
       "model_id": "12e9a577d98448c18bb5ea32c08b2710",
       "version_major": 2,
       "version_minor": 0
      },
      "text/plain": [
       "VBox(children=(HBox(children=(Label(value='Group 1', layout=Layout(width='70px')), Text(value='', description=…"
      ]
     },
     "metadata": {},
     "output_type": "display_data"
    },
    {
     "data": {
      "application/vnd.jupyter.widget-view+json": {
       "model_id": "a250735e4de04c9a8e68f271e49c9f38",
       "version_major": 2,
       "version_minor": 0
      },
      "text/plain": [
       "Button(description='Add another group', style=ButtonStyle())"
      ]
     },
     "metadata": {},
     "output_type": "display_data"
    },
    {
     "data": {
      "application/vnd.jupyter.widget-view+json": {
       "model_id": "cf0d6c3b633c4bb88314ad48d95db8bb",
       "version_major": 2,
       "version_minor": 0
      },
      "text/plain": [
       "Button(description='Visualise assignment', style=ButtonStyle())"
      ]
     },
     "metadata": {},
     "output_type": "display_data"
    }
   ],
   "source": [
    "experiment2 = BasketballExperiment()\n",
    "experiment2.assignment()"
   ]
  },
  {
   "cell_type": "markdown",
   "metadata": {},
   "source": [
    "Run the following box. To assign a range of practice hours to the students, select __Range__ for \"Hours Practised per Week\" and type in __from 0 to 14__. Leave \"Shot Type\" on __No intervention__, so that the students can still freely choose how they want to make their shots without your intervention. Once you're done, click on \"Perform experiment\"."
   ]
  },
  {
   "cell_type": "code",
   "execution_count": 7,
   "metadata": {
    "scrolled": false
   },
   "outputs": [
    {
     "data": {
      "application/vnd.jupyter.widget-view+json": {
       "model_id": "ce61d28c41fc4ad6a4a1e1cb3851dd51",
       "version_major": 2,
       "version_minor": 0
      },
      "text/plain": [
       "Label(value='Group name: Group 1, 100 samples')"
      ]
     },
     "metadata": {},
     "output_type": "display_data"
    },
    {
     "data": {
      "application/vnd.jupyter.widget-view+json": {
       "model_id": "7b23b9f0c86e4d75968420127a83e9b0",
       "version_major": 2,
       "version_minor": 0
      },
      "text/plain": [
       "HBox(children=(Label(value='', layout=Layout(width='20px')), Label(value='Hours practised per week', layout=La…"
      ]
     },
     "metadata": {},
     "output_type": "display_data"
    },
    {
     "data": {
      "application/vnd.jupyter.widget-view+json": {
       "model_id": "7ac0a087a96e4e99be55b63050a13ffc",
       "version_major": 2,
       "version_minor": 0
      },
      "text/plain": [
       "HBox(children=(Label(value='', layout=Layout(width='20px')), Label(value='Shot type', layout=Layout(width='180…"
      ]
     },
     "metadata": {},
     "output_type": "display_data"
    },
    {
     "data": {
      "application/vnd.jupyter.widget-view+json": {
       "model_id": "ba1d652a61d74064ad4008305937783e",
       "version_major": 2,
       "version_minor": 0
      },
      "text/plain": [
       "HBox(children=(Label(value='', layout=Layout(width='20px')), Label(value='Success rate', layout=Layout(width='…"
      ]
     },
     "metadata": {},
     "output_type": "display_data"
    },
    {
     "data": {
      "application/vnd.jupyter.widget-view+json": {
       "model_id": "5d90b68a209b4076a75f685d83a5b5d2",
       "version_major": 2,
       "version_minor": 0
      },
      "text/plain": [
       "Button(description='Perform experiment', style=ButtonStyle())"
      ]
     },
     "metadata": {},
     "output_type": "display_data"
    },
    {
     "data": {
      "application/vnd.jupyter.widget-view+json": {
       "model_id": "c6ff780df0d04950853213451f45f0ad",
       "version_major": 2,
       "version_minor": 0
      },
      "text/plain": [
       "Label(value='Data from experiment collected!')"
      ]
     },
     "metadata": {},
     "output_type": "display_data"
    }
   ],
   "source": [
    "experiment2.setting(show=['Shot type', 'Hours practised per week', 'Success rate'], disable='Success rate')"
   ]
  },
  {
   "cell_type": "markdown",
   "metadata": {},
   "source": [
    "Run the following box. To find out the relationship between hours practised and success rate, select __Hours Practised per Week__ for the x-axis variable and __Success Rate__ for the y-axis variable."
   ]
  },
  {
   "cell_type": "code",
   "execution_count": 8,
   "metadata": {},
   "outputs": [
    {
     "ename": "AttributeError",
     "evalue": "'Experiment' object has no attribute 'group_names'",
     "output_type": "error",
     "traceback": [
      "\u001b[0;31m---------------------------------------------------------------------------\u001b[0m",
      "\u001b[0;31mAttributeError\u001b[0m                            Traceback (most recent call last)",
      "\u001b[0;32m<ipython-input-8-89807d314d50>\u001b[0m in \u001b[0;36m<module>\u001b[0;34m\u001b[0m\n\u001b[0;32m----> 1\u001b[0;31m \u001b[0mexperiment2\u001b[0m\u001b[0;34m.\u001b[0m\u001b[0mplot\u001b[0m\u001b[0;34m(\u001b[0m\u001b[0mshow\u001b[0m\u001b[0;34m=\u001b[0m\u001b[0;34m[\u001b[0m\u001b[0;34m'Shot type'\u001b[0m\u001b[0;34m,\u001b[0m \u001b[0;34m'Hours practised per week'\u001b[0m\u001b[0;34m,\u001b[0m \u001b[0;34m'Height (cm)'\u001b[0m\u001b[0;34m,\u001b[0m \u001b[0;34m'Success rate'\u001b[0m\u001b[0;34m]\u001b[0m\u001b[0;34m)\u001b[0m\u001b[0;34m\u001b[0m\u001b[0;34m\u001b[0m\u001b[0m\n\u001b[0m",
      "\u001b[0;32m~/Documents/Berkeley/Sense & Sensibility & Science/causality_simulation.py\u001b[0m in \u001b[0;36mplot\u001b[0;34m(self, show)\u001b[0m\n\u001b[1;32m    295\u001b[0m             \u001b[0mdialog\u001b[0m\u001b[0;34m(\u001b[0m\u001b[0;34m'Experiment not performed'\u001b[0m\u001b[0;34m,\u001b[0m \u001b[0;34m'You have not yet performed the experiment! Click on \"Perform experiment\" before running this box.'\u001b[0m\u001b[0;34m,\u001b[0m \u001b[0;34m'OK'\u001b[0m\u001b[0;34m)\u001b[0m\u001b[0;34m\u001b[0m\u001b[0;34m\u001b[0m\u001b[0m\n\u001b[1;32m    296\u001b[0m             \u001b[0;32mreturn\u001b[0m\u001b[0;34m\u001b[0m\u001b[0;34m\u001b[0m\u001b[0m\n\u001b[0;32m--> 297\u001b[0;31m         \u001b[0mp\u001b[0m \u001b[0;34m=\u001b[0m \u001b[0mInteractivePlot\u001b[0m\u001b[0;34m(\u001b[0m\u001b[0mself\u001b[0m\u001b[0;34m,\u001b[0m \u001b[0mshow\u001b[0m\u001b[0;34m)\u001b[0m\u001b[0;34m\u001b[0m\u001b[0;34m\u001b[0m\u001b[0m\n\u001b[0m\u001b[1;32m    298\u001b[0m         \u001b[0mself\u001b[0m\u001b[0;34m.\u001b[0m\u001b[0mp\u001b[0m \u001b[0;34m=\u001b[0m \u001b[0mp\u001b[0m\u001b[0;34m\u001b[0m\u001b[0;34m\u001b[0m\u001b[0m\n\u001b[1;32m    299\u001b[0m         \u001b[0mp\u001b[0m\u001b[0;34m.\u001b[0m\u001b[0mdisplay\u001b[0m\u001b[0;34m(\u001b[0m\u001b[0;34m)\u001b[0m\u001b[0;34m\u001b[0m\u001b[0;34m\u001b[0m\u001b[0m\n",
      "\u001b[0;32m~/Documents/Berkeley/Sense & Sensibility & Science/causality_simulation.py\u001b[0m in \u001b[0;36m__init__\u001b[0;34m(self, experiment, show)\u001b[0m\n\u001b[1;32m    687\u001b[0m         )\n\u001b[1;32m    688\u001b[0m         \u001b[0mself\u001b[0m\u001b[0;34m.\u001b[0m\u001b[0mobserve\u001b[0m\u001b[0;34m(\u001b[0m\u001b[0;34m)\u001b[0m\u001b[0;34m\u001b[0m\u001b[0;34m\u001b[0m\u001b[0m\n\u001b[0;32m--> 689\u001b[0;31m         \u001b[0mself\u001b[0m\u001b[0;34m.\u001b[0m\u001b[0minitTraces\u001b[0m\u001b[0;34m(\u001b[0m\u001b[0;34m)\u001b[0m\u001b[0;34m\u001b[0m\u001b[0;34m\u001b[0m\u001b[0m\n\u001b[0m\u001b[1;32m    690\u001b[0m \u001b[0;34m\u001b[0m\u001b[0m\n\u001b[1;32m    691\u001b[0m     \u001b[0;32mdef\u001b[0m \u001b[0mdisplay\u001b[0m\u001b[0;34m(\u001b[0m\u001b[0mself\u001b[0m\u001b[0;34m)\u001b[0m\u001b[0;34m:\u001b[0m\u001b[0;34m\u001b[0m\u001b[0;34m\u001b[0m\u001b[0m\n",
      "\u001b[0;32m~/Documents/Berkeley/Sense & Sensibility & Science/causality_simulation.py\u001b[0m in \u001b[0;36minitTraces\u001b[0;34m(self)\u001b[0m\n\u001b[1;32m    754\u001b[0m \u001b[0;34m\u001b[0m\u001b[0m\n\u001b[1;32m    755\u001b[0m     \u001b[0;32mdef\u001b[0m \u001b[0minitTraces\u001b[0m\u001b[0;34m(\u001b[0m\u001b[0mself\u001b[0m\u001b[0;34m)\u001b[0m\u001b[0;34m:\u001b[0m\u001b[0;34m\u001b[0m\u001b[0;34m\u001b[0m\u001b[0m\n\u001b[0;32m--> 756\u001b[0;31m         \u001b[0mtraces\u001b[0m\u001b[0;34m,\u001b[0m \u001b[0mlayout\u001b[0m \u001b[0;34m=\u001b[0m \u001b[0mself\u001b[0m\u001b[0;34m.\u001b[0m\u001b[0mcreateTraces\u001b[0m\u001b[0;34m(\u001b[0m\u001b[0mself\u001b[0m\u001b[0;34m.\u001b[0m\u001b[0mx_options\u001b[0m\u001b[0;34m[\u001b[0m\u001b[0;36m0\u001b[0m\u001b[0;34m]\u001b[0m\u001b[0;34m,\u001b[0m \u001b[0mself\u001b[0m\u001b[0;34m.\u001b[0m\u001b[0my_options\u001b[0m\u001b[0;34m[\u001b[0m\u001b[0;36m0\u001b[0m\u001b[0;34m]\u001b[0m\u001b[0;34m)\u001b[0m\u001b[0;34m\u001b[0m\u001b[0;34m\u001b[0m\u001b[0m\n\u001b[0m\u001b[1;32m    757\u001b[0m         \u001b[0mself\u001b[0m\u001b[0;34m.\u001b[0m\u001b[0mg\u001b[0m \u001b[0;34m=\u001b[0m \u001b[0mgo\u001b[0m\u001b[0;34m.\u001b[0m\u001b[0mFigureWidget\u001b[0m\u001b[0;34m(\u001b[0m\u001b[0mlayout\u001b[0m\u001b[0;34m=\u001b[0m\u001b[0mlayout\u001b[0m\u001b[0;34m)\u001b[0m\u001b[0;34m\u001b[0m\u001b[0;34m\u001b[0m\u001b[0m\n\u001b[1;32m    758\u001b[0m         \u001b[0;32mfor\u001b[0m \u001b[0mt\u001b[0m \u001b[0;32min\u001b[0m \u001b[0mtraces\u001b[0m\u001b[0;34m:\u001b[0m\u001b[0;34m\u001b[0m\u001b[0;34m\u001b[0m\u001b[0m\n",
      "\u001b[0;32m~/Documents/Berkeley/Sense & Sensibility & Science/causality_simulation.py\u001b[0m in \u001b[0;36mcreateTraces\u001b[0;34m(self, x, y)\u001b[0m\n\u001b[1;32m    709\u001b[0m         \u001b[0mtraces\u001b[0m \u001b[0;34m=\u001b[0m \u001b[0;34m[\u001b[0m\u001b[0;34m]\u001b[0m\u001b[0;34m\u001b[0m\u001b[0;34m\u001b[0m\u001b[0m\n\u001b[1;32m    710\u001b[0m         \u001b[0mannotations\u001b[0m \u001b[0;34m=\u001b[0m \u001b[0;34m[\u001b[0m\u001b[0;34m]\u001b[0m\u001b[0;34m\u001b[0m\u001b[0;34m\u001b[0m\u001b[0m\n\u001b[0;32m--> 711\u001b[0;31m         \u001b[0mannotation_y\u001b[0m \u001b[0;34m=\u001b[0m \u001b[0;34m-\u001b[0m\u001b[0;36m0.20\u001b[0m \u001b[0;34m-\u001b[0m \u001b[0;36m0.02\u001b[0m\u001b[0;34m*\u001b[0m\u001b[0mlen\u001b[0m\u001b[0;34m(\u001b[0m\u001b[0mself\u001b[0m\u001b[0;34m.\u001b[0m\u001b[0mexperiment\u001b[0m\u001b[0;34m.\u001b[0m\u001b[0mgroup_names\u001b[0m\u001b[0;34m)\u001b[0m\u001b[0;34m\u001b[0m\u001b[0;34m\u001b[0m\u001b[0m\n\u001b[0m\u001b[1;32m    712\u001b[0m         \u001b[0mtraceType\u001b[0m \u001b[0;34m=\u001b[0m \u001b[0mself\u001b[0m\u001b[0;34m.\u001b[0m\u001b[0mchoose_trace\u001b[0m\u001b[0;34m(\u001b[0m\u001b[0mx\u001b[0m\u001b[0;34m,\u001b[0m \u001b[0my\u001b[0m\u001b[0;34m)\u001b[0m\u001b[0;34m\u001b[0m\u001b[0;34m\u001b[0m\u001b[0m\n\u001b[1;32m    713\u001b[0m         \u001b[0;32mif\u001b[0m \u001b[0mtraceType\u001b[0m \u001b[0;34m==\u001b[0m \u001b[0;34m'histogram'\u001b[0m\u001b[0;34m:\u001b[0m\u001b[0;34m\u001b[0m\u001b[0;34m\u001b[0m\u001b[0m\n",
      "\u001b[0;31mAttributeError\u001b[0m: 'Experiment' object has no attribute 'group_names'"
     ]
    }
   ],
   "source": [
    "experiment2.plot(show=['Shot type', 'Hours practised per week', 'Height (cm)', 'Success rate'])"
   ]
  },
  {
   "cell_type": "markdown",
   "metadata": {},
   "source": [
    "## Question 2"
   ]
  },
  {
   "cell_type": "markdown",
   "metadata": {},
   "source": [
    "__2a) What is the correlation between success rate and number of hours practised per week?__\n",
    "\n",
    "__2b) Looking at the p-value, is the correlation statistically significant?__ Recall that the p-value tells you the probability that this level of correlation can be produced simply by random chance. The lower the p-value, the stronger the statistical significance of the observed correlation."
   ]
  },
  {
   "cell_type": "markdown",
   "metadata": {},
   "source": [
    "`Type your answer here`\n",
    "\n",
    "2a)\n",
    "\n",
    "2b)\n"
   ]
  },
  {
   "cell_type": "markdown",
   "metadata": {},
   "source": [
    "## Multiple experimental groups\n",
    "\n",
    "To improve your experiment even further, you decide to repeat the above experiment while separately recording the success rates of three different types of shots: above head, layup, and hook shot. For this, we need to create 3 experimental groups.\n",
    "\n",
    "Run the following box. To add two new groups, click on __Add another group__ two times. Each group should be named __Above head__, __Layup__, and __Hook shot__, respectively. You then need to assign the students to each of the groups. For example, you can assign __1-33__ to the first group, __34-66__ to the second group, and __67-100__ to the third group. (Remember that 1 is the shortest student, and 100 is the tallest student.)\n",
    "\n",
    "Once you're done, click on \"Visualise assignment\". You should see a bar chart with three different colours, each corresponding to a group that you've assigned. Notice that the shortest students are all assigned to one group, and the tallest students are all assigned to a different group."
   ]
  },
  {
   "cell_type": "code",
   "execution_count": 9,
   "metadata": {},
   "outputs": [
    {
     "data": {
      "application/vnd.jupyter.widget-view+json": {
       "model_id": "1a93f126524b405088ef438e62bb2391",
       "version_major": 2,
       "version_minor": 0
      },
      "text/plain": [
       "Button(description='Randomise assignment', layout=Layout(width='180px'), style=ButtonStyle())"
      ]
     },
     "metadata": {},
     "output_type": "display_data"
    },
    {
     "data": {
      "application/vnd.jupyter.widget-view+json": {
       "model_id": "4111f71f4c414b91bc9fb13450ee52c1",
       "version_major": 2,
       "version_minor": 0
      },
      "text/plain": [
       "VBox(children=(HBox(children=(Label(value='Group 1', layout=Layout(width='70px')), Text(value='', description=…"
      ]
     },
     "metadata": {},
     "output_type": "display_data"
    },
    {
     "data": {
      "application/vnd.jupyter.widget-view+json": {
       "model_id": "db8b6b2d2f7c40d39d4dddb7e5cbbaa8",
       "version_major": 2,
       "version_minor": 0
      },
      "text/plain": [
       "Button(description='Add another group', style=ButtonStyle())"
      ]
     },
     "metadata": {},
     "output_type": "display_data"
    },
    {
     "data": {
      "application/vnd.jupyter.widget-view+json": {
       "model_id": "ad89c852bb32449c932f99492c3d3596",
       "version_major": 2,
       "version_minor": 0
      },
      "text/plain": [
       "Button(description='Visualise assignment', style=ButtonStyle())"
      ]
     },
     "metadata": {},
     "output_type": "display_data"
    }
   ],
   "source": [
    "experiment3 = BasketballExperiment()\n",
    "experiment3.assignment()"
   ]
  },
  {
   "cell_type": "markdown",
   "metadata": {},
   "source": [
    "Run the following box. In each of the three groups, select __Range__ for \"Hours Practised per Week\" and type __from 0 to 14__. Next, select __Fixed__ for \"Shot Type\" and use the dropdown menu to select the shot type corresponding to the group. Once you're done, click on \"Perform experiment\"."
   ]
  },
  {
   "cell_type": "code",
   "execution_count": 11,
   "metadata": {},
   "outputs": [
    {
     "data": {
      "application/vnd.jupyter.widget-view+json": {
       "model_id": "d26ac1e4f2f7454f87eefea57e686e2d",
       "version_major": 2,
       "version_minor": 0
      },
      "text/plain": [
       "Label(value='Group name: Group 1, 33 samples')"
      ]
     },
     "metadata": {},
     "output_type": "display_data"
    },
    {
     "data": {
      "application/vnd.jupyter.widget-view+json": {
       "model_id": "45e15d6605e547808ecdf690680329c7",
       "version_major": 2,
       "version_minor": 0
      },
      "text/plain": [
       "HBox(children=(Label(value='', layout=Layout(width='20px')), Label(value='Hours practised per week', layout=La…"
      ]
     },
     "metadata": {},
     "output_type": "display_data"
    },
    {
     "data": {
      "application/vnd.jupyter.widget-view+json": {
       "model_id": "27c01c970edc4569898cf19c3cf61ee1",
       "version_major": 2,
       "version_minor": 0
      },
      "text/plain": [
       "HBox(children=(Label(value='', layout=Layout(width='20px')), Label(value='Shot type', layout=Layout(width='180…"
      ]
     },
     "metadata": {},
     "output_type": "display_data"
    },
    {
     "data": {
      "application/vnd.jupyter.widget-view+json": {
       "model_id": "63a458b4184b4fdeaa746a8222ac4b95",
       "version_major": 2,
       "version_minor": 0
      },
      "text/plain": [
       "HBox(children=(Label(value='', layout=Layout(width='20px')), Label(value='Success rate', layout=Layout(width='…"
      ]
     },
     "metadata": {},
     "output_type": "display_data"
    },
    {
     "data": {
      "application/vnd.jupyter.widget-view+json": {
       "model_id": "58bd4cb635cd428aabd85dd124555979",
       "version_major": 2,
       "version_minor": 0
      },
      "text/plain": [
       "Label(value='Group name: Group 2, 33 samples')"
      ]
     },
     "metadata": {},
     "output_type": "display_data"
    },
    {
     "data": {
      "application/vnd.jupyter.widget-view+json": {
       "model_id": "acefe38e421b4048845b78597aeec626",
       "version_major": 2,
       "version_minor": 0
      },
      "text/plain": [
       "HBox(children=(Label(value='', layout=Layout(width='20px')), Label(value='Hours practised per week', layout=La…"
      ]
     },
     "metadata": {},
     "output_type": "display_data"
    },
    {
     "data": {
      "application/vnd.jupyter.widget-view+json": {
       "model_id": "66503591218847dca0355564c1a2ca00",
       "version_major": 2,
       "version_minor": 0
      },
      "text/plain": [
       "HBox(children=(Label(value='', layout=Layout(width='20px')), Label(value='Shot type', layout=Layout(width='180…"
      ]
     },
     "metadata": {},
     "output_type": "display_data"
    },
    {
     "data": {
      "application/vnd.jupyter.widget-view+json": {
       "model_id": "8b02f24c87614b768737201b72c9d27f",
       "version_major": 2,
       "version_minor": 0
      },
      "text/plain": [
       "HBox(children=(Label(value='', layout=Layout(width='20px')), Label(value='Success rate', layout=Layout(width='…"
      ]
     },
     "metadata": {},
     "output_type": "display_data"
    },
    {
     "data": {
      "application/vnd.jupyter.widget-view+json": {
       "model_id": "5a036eff95a54232ad9da576c083cac0",
       "version_major": 2,
       "version_minor": 0
      },
      "text/plain": [
       "Label(value='Group name: Group 3, 34 samples')"
      ]
     },
     "metadata": {},
     "output_type": "display_data"
    },
    {
     "data": {
      "application/vnd.jupyter.widget-view+json": {
       "model_id": "0e8cac64a8d84d2790407f401fea1d76",
       "version_major": 2,
       "version_minor": 0
      },
      "text/plain": [
       "HBox(children=(Label(value='', layout=Layout(width='20px')), Label(value='Hours practised per week', layout=La…"
      ]
     },
     "metadata": {},
     "output_type": "display_data"
    },
    {
     "data": {
      "application/vnd.jupyter.widget-view+json": {
       "model_id": "41783a2f59374121b488466a74d197ae",
       "version_major": 2,
       "version_minor": 0
      },
      "text/plain": [
       "HBox(children=(Label(value='', layout=Layout(width='20px')), Label(value='Shot type', layout=Layout(width='180…"
      ]
     },
     "metadata": {},
     "output_type": "display_data"
    },
    {
     "data": {
      "application/vnd.jupyter.widget-view+json": {
       "model_id": "8d781475d4544feb974a401247eb4f4b",
       "version_major": 2,
       "version_minor": 0
      },
      "text/plain": [
       "HBox(children=(Label(value='', layout=Layout(width='20px')), Label(value='Success rate', layout=Layout(width='…"
      ]
     },
     "metadata": {},
     "output_type": "display_data"
    },
    {
     "data": {
      "application/vnd.jupyter.widget-view+json": {
       "model_id": "8d3ef27232a944758fdc7d36d094e6f8",
       "version_major": 2,
       "version_minor": 0
      },
      "text/plain": [
       "Button(description='Perform experiment', style=ButtonStyle())"
      ]
     },
     "metadata": {},
     "output_type": "display_data"
    },
    {
     "data": {
      "application/vnd.jupyter.widget-view+json": {
       "model_id": "732b83e417f24afbb5177b97b3dfc285",
       "version_major": 2,
       "version_minor": 0
      },
      "text/plain": [
       "Label(value='Data from experiment collected!')"
      ]
     },
     "metadata": {},
     "output_type": "display_data"
    }
   ],
   "source": [
    "experiment3.setting(show=['Shot type', 'Hours practised per week', 'Success rate'], disable='Success rate')"
   ]
  },
  {
   "cell_type": "markdown",
   "metadata": {},
   "source": [
    "Run the following box. Select __Hours Practised per Week__ as the x-axis variable and __Success Rate__ as the y-axis variable. You should see three sets of data points in three different colours, corresponding to the three experimental groups or shot types. To show/hide a single experimental group, click on the items in the legend on the right side of the graph."
   ]
  },
  {
   "cell_type": "code",
   "execution_count": 12,
   "metadata": {
    "scrolled": false
   },
   "outputs": [
    {
     "ename": "AttributeError",
     "evalue": "'Experiment' object has no attribute 'group_names'",
     "output_type": "error",
     "traceback": [
      "\u001b[0;31m---------------------------------------------------------------------------\u001b[0m",
      "\u001b[0;31mAttributeError\u001b[0m                            Traceback (most recent call last)",
      "\u001b[0;32m<ipython-input-12-594527e3996c>\u001b[0m in \u001b[0;36m<module>\u001b[0;34m\u001b[0m\n\u001b[0;32m----> 1\u001b[0;31m \u001b[0mexperiment3\u001b[0m\u001b[0;34m.\u001b[0m\u001b[0mplot\u001b[0m\u001b[0;34m(\u001b[0m\u001b[0mshow\u001b[0m\u001b[0;34m=\u001b[0m\u001b[0;34m[\u001b[0m\u001b[0;34m'Shot type'\u001b[0m\u001b[0;34m,\u001b[0m \u001b[0;34m'Hours practised per week'\u001b[0m\u001b[0;34m,\u001b[0m \u001b[0;34m'Height (cm)'\u001b[0m\u001b[0;34m,\u001b[0m \u001b[0;34m'Success rate'\u001b[0m\u001b[0;34m]\u001b[0m\u001b[0;34m)\u001b[0m\u001b[0;34m\u001b[0m\u001b[0;34m\u001b[0m\u001b[0m\n\u001b[0m",
      "\u001b[0;32m~/Documents/Berkeley/Sense & Sensibility & Science/causality_simulation.py\u001b[0m in \u001b[0;36mplot\u001b[0;34m(self, show)\u001b[0m\n\u001b[1;32m    295\u001b[0m             \u001b[0mdialog\u001b[0m\u001b[0;34m(\u001b[0m\u001b[0;34m'Experiment not performed'\u001b[0m\u001b[0;34m,\u001b[0m \u001b[0;34m'You have not yet performed the experiment! Click on \"Perform experiment\" before running this box.'\u001b[0m\u001b[0;34m,\u001b[0m \u001b[0;34m'OK'\u001b[0m\u001b[0;34m)\u001b[0m\u001b[0;34m\u001b[0m\u001b[0;34m\u001b[0m\u001b[0m\n\u001b[1;32m    296\u001b[0m             \u001b[0;32mreturn\u001b[0m\u001b[0;34m\u001b[0m\u001b[0;34m\u001b[0m\u001b[0m\n\u001b[0;32m--> 297\u001b[0;31m         \u001b[0mp\u001b[0m \u001b[0;34m=\u001b[0m \u001b[0mInteractivePlot\u001b[0m\u001b[0;34m(\u001b[0m\u001b[0mself\u001b[0m\u001b[0;34m,\u001b[0m \u001b[0mshow\u001b[0m\u001b[0;34m)\u001b[0m\u001b[0;34m\u001b[0m\u001b[0;34m\u001b[0m\u001b[0m\n\u001b[0m\u001b[1;32m    298\u001b[0m         \u001b[0mself\u001b[0m\u001b[0;34m.\u001b[0m\u001b[0mp\u001b[0m \u001b[0;34m=\u001b[0m \u001b[0mp\u001b[0m\u001b[0;34m\u001b[0m\u001b[0;34m\u001b[0m\u001b[0m\n\u001b[1;32m    299\u001b[0m         \u001b[0mp\u001b[0m\u001b[0;34m.\u001b[0m\u001b[0mdisplay\u001b[0m\u001b[0;34m(\u001b[0m\u001b[0;34m)\u001b[0m\u001b[0;34m\u001b[0m\u001b[0;34m\u001b[0m\u001b[0m\n",
      "\u001b[0;32m~/Documents/Berkeley/Sense & Sensibility & Science/causality_simulation.py\u001b[0m in \u001b[0;36m__init__\u001b[0;34m(self, experiment, show)\u001b[0m\n\u001b[1;32m    687\u001b[0m         )\n\u001b[1;32m    688\u001b[0m         \u001b[0mself\u001b[0m\u001b[0;34m.\u001b[0m\u001b[0mobserve\u001b[0m\u001b[0;34m(\u001b[0m\u001b[0;34m)\u001b[0m\u001b[0;34m\u001b[0m\u001b[0;34m\u001b[0m\u001b[0m\n\u001b[0;32m--> 689\u001b[0;31m         \u001b[0mself\u001b[0m\u001b[0;34m.\u001b[0m\u001b[0minitTraces\u001b[0m\u001b[0;34m(\u001b[0m\u001b[0;34m)\u001b[0m\u001b[0;34m\u001b[0m\u001b[0;34m\u001b[0m\u001b[0m\n\u001b[0m\u001b[1;32m    690\u001b[0m \u001b[0;34m\u001b[0m\u001b[0m\n\u001b[1;32m    691\u001b[0m     \u001b[0;32mdef\u001b[0m \u001b[0mdisplay\u001b[0m\u001b[0;34m(\u001b[0m\u001b[0mself\u001b[0m\u001b[0;34m)\u001b[0m\u001b[0;34m:\u001b[0m\u001b[0;34m\u001b[0m\u001b[0;34m\u001b[0m\u001b[0m\n",
      "\u001b[0;32m~/Documents/Berkeley/Sense & Sensibility & Science/causality_simulation.py\u001b[0m in \u001b[0;36minitTraces\u001b[0;34m(self)\u001b[0m\n\u001b[1;32m    754\u001b[0m \u001b[0;34m\u001b[0m\u001b[0m\n\u001b[1;32m    755\u001b[0m     \u001b[0;32mdef\u001b[0m \u001b[0minitTraces\u001b[0m\u001b[0;34m(\u001b[0m\u001b[0mself\u001b[0m\u001b[0;34m)\u001b[0m\u001b[0;34m:\u001b[0m\u001b[0;34m\u001b[0m\u001b[0;34m\u001b[0m\u001b[0m\n\u001b[0;32m--> 756\u001b[0;31m         \u001b[0mtraces\u001b[0m\u001b[0;34m,\u001b[0m \u001b[0mlayout\u001b[0m \u001b[0;34m=\u001b[0m \u001b[0mself\u001b[0m\u001b[0;34m.\u001b[0m\u001b[0mcreateTraces\u001b[0m\u001b[0;34m(\u001b[0m\u001b[0mself\u001b[0m\u001b[0;34m.\u001b[0m\u001b[0mx_options\u001b[0m\u001b[0;34m[\u001b[0m\u001b[0;36m0\u001b[0m\u001b[0;34m]\u001b[0m\u001b[0;34m,\u001b[0m \u001b[0mself\u001b[0m\u001b[0;34m.\u001b[0m\u001b[0my_options\u001b[0m\u001b[0;34m[\u001b[0m\u001b[0;36m0\u001b[0m\u001b[0;34m]\u001b[0m\u001b[0;34m)\u001b[0m\u001b[0;34m\u001b[0m\u001b[0;34m\u001b[0m\u001b[0m\n\u001b[0m\u001b[1;32m    757\u001b[0m         \u001b[0mself\u001b[0m\u001b[0;34m.\u001b[0m\u001b[0mg\u001b[0m \u001b[0;34m=\u001b[0m \u001b[0mgo\u001b[0m\u001b[0;34m.\u001b[0m\u001b[0mFigureWidget\u001b[0m\u001b[0;34m(\u001b[0m\u001b[0mlayout\u001b[0m\u001b[0;34m=\u001b[0m\u001b[0mlayout\u001b[0m\u001b[0;34m)\u001b[0m\u001b[0;34m\u001b[0m\u001b[0;34m\u001b[0m\u001b[0m\n\u001b[1;32m    758\u001b[0m         \u001b[0;32mfor\u001b[0m \u001b[0mt\u001b[0m \u001b[0;32min\u001b[0m \u001b[0mtraces\u001b[0m\u001b[0;34m:\u001b[0m\u001b[0;34m\u001b[0m\u001b[0;34m\u001b[0m\u001b[0m\n",
      "\u001b[0;32m~/Documents/Berkeley/Sense & Sensibility & Science/causality_simulation.py\u001b[0m in \u001b[0;36mcreateTraces\u001b[0;34m(self, x, y)\u001b[0m\n\u001b[1;32m    709\u001b[0m         \u001b[0mtraces\u001b[0m \u001b[0;34m=\u001b[0m \u001b[0;34m[\u001b[0m\u001b[0;34m]\u001b[0m\u001b[0;34m\u001b[0m\u001b[0;34m\u001b[0m\u001b[0m\n\u001b[1;32m    710\u001b[0m         \u001b[0mannotations\u001b[0m \u001b[0;34m=\u001b[0m \u001b[0;34m[\u001b[0m\u001b[0;34m]\u001b[0m\u001b[0;34m\u001b[0m\u001b[0;34m\u001b[0m\u001b[0m\n\u001b[0;32m--> 711\u001b[0;31m         \u001b[0mannotation_y\u001b[0m \u001b[0;34m=\u001b[0m \u001b[0;34m-\u001b[0m\u001b[0;36m0.20\u001b[0m \u001b[0;34m-\u001b[0m \u001b[0;36m0.02\u001b[0m\u001b[0;34m*\u001b[0m\u001b[0mlen\u001b[0m\u001b[0;34m(\u001b[0m\u001b[0mself\u001b[0m\u001b[0;34m.\u001b[0m\u001b[0mexperiment\u001b[0m\u001b[0;34m.\u001b[0m\u001b[0mgroup_names\u001b[0m\u001b[0;34m)\u001b[0m\u001b[0;34m\u001b[0m\u001b[0;34m\u001b[0m\u001b[0m\n\u001b[0m\u001b[1;32m    712\u001b[0m         \u001b[0mtraceType\u001b[0m \u001b[0;34m=\u001b[0m \u001b[0mself\u001b[0m\u001b[0;34m.\u001b[0m\u001b[0mchoose_trace\u001b[0m\u001b[0;34m(\u001b[0m\u001b[0mx\u001b[0m\u001b[0;34m,\u001b[0m \u001b[0my\u001b[0m\u001b[0;34m)\u001b[0m\u001b[0;34m\u001b[0m\u001b[0;34m\u001b[0m\u001b[0m\n\u001b[1;32m    713\u001b[0m         \u001b[0;32mif\u001b[0m \u001b[0mtraceType\u001b[0m \u001b[0;34m==\u001b[0m \u001b[0;34m'histogram'\u001b[0m\u001b[0;34m:\u001b[0m\u001b[0;34m\u001b[0m\u001b[0;34m\u001b[0m\u001b[0m\n",
      "\u001b[0;31mAttributeError\u001b[0m: 'Experiment' object has no attribute 'group_names'"
     ]
    }
   ],
   "source": [
    "experiment3.plot(show=['Shot type', 'Hours practised per week', 'Height (cm)', 'Success rate'])"
   ]
  },
  {
   "cell_type": "markdown",
   "metadata": {},
   "source": [
    "## Question 3"
   ]
  },
  {
   "cell_type": "markdown",
   "metadata": {},
   "source": [
    "__3a) According to this graph, which shot type is the most successful?__\n",
    "\n",
    "__3b) Is there a correlation between hours practised per week and the success rate? Which shot type has the strongest correlation?__"
   ]
  },
  {
   "cell_type": "markdown",
   "metadata": {},
   "source": [
    "`Type your answer here`\n",
    "\n",
    "3a)\n",
    "\n",
    "3b)\n"
   ]
  },
  {
   "cell_type": "markdown",
   "metadata": {},
   "source": [
    "# Randomise assignment"
   ]
  },
  {
   "cell_type": "markdown",
   "metadata": {},
   "source": [
    "You may be unconvinced by the above comparison of the success rates of different shot types, as one shot type is assigned to only short people, while another shot type is assigned to only tall people. To mitigate this problem, we will repeat the previous experiment, but we will randomise the assignment of students into each of the three experimental groups.\n",
    "\n",
    "Run the following box. Just as before, create two more groups and give each of the three groups a descriptive name. Instead of typing a simple range of numbers into \"Assigned samples\", click on \"Randomise assignment\". You'll see that the textboxes are automatically filled with many numbers. These are the students that are randomly assigned to each group. Now, every group has short and tall people.\n",
    "\n",
    "Once you're done, click on \"Visualise assignment\". You should see a bar chart where the three colours are all mixed up, rather than neatly separated by height. Again, you can click on the legend items to show/hide each group."
   ]
  },
  {
   "cell_type": "code",
   "execution_count": 13,
   "metadata": {},
   "outputs": [
    {
     "data": {
      "application/vnd.jupyter.widget-view+json": {
       "model_id": "cc71dbfa121841c28b73e8b7ae5c7a5c",
       "version_major": 2,
       "version_minor": 0
      },
      "text/plain": [
       "Button(description='Randomise assignment', layout=Layout(width='180px'), style=ButtonStyle())"
      ]
     },
     "metadata": {},
     "output_type": "display_data"
    },
    {
     "data": {
      "application/vnd.jupyter.widget-view+json": {
       "model_id": "6c56d336a57f45789e7bdd3cf115febc",
       "version_major": 2,
       "version_minor": 0
      },
      "text/plain": [
       "VBox(children=(HBox(children=(Label(value='Group 1', layout=Layout(width='70px')), Text(value='', description=…"
      ]
     },
     "metadata": {},
     "output_type": "display_data"
    },
    {
     "data": {
      "application/vnd.jupyter.widget-view+json": {
       "model_id": "f9405d1d928f435087d82b82df824db4",
       "version_major": 2,
       "version_minor": 0
      },
      "text/plain": [
       "Button(description='Add another group', style=ButtonStyle())"
      ]
     },
     "metadata": {},
     "output_type": "display_data"
    },
    {
     "data": {
      "application/vnd.jupyter.widget-view+json": {
       "model_id": "fcc849349a5a46e5847c28dfa1fb0f95",
       "version_major": 2,
       "version_minor": 0
      },
      "text/plain": [
       "Button(description='Visualise assignment', style=ButtonStyle())"
      ]
     },
     "metadata": {},
     "output_type": "display_data"
    },
    {
     "data": {
      "application/javascript": [
       "require(['base/js/dialog'], function(dialog) {dialog.modal({title: 'Not all samples assigned', body: 'Not all samples have been assigned to a group! Please revise your assignments.', buttons: {'OK': {}}})});"
      ],
      "text/plain": [
       "<IPython.core.display.Javascript object>"
      ]
     },
     "metadata": {},
     "output_type": "display_data"
    }
   ],
   "source": [
    "experiment4 = BasketballExperiment()\n",
    "experiment4.assignment()"
   ]
  },
  {
   "cell_type": "markdown",
   "metadata": {},
   "source": [
    "Run the following box. Just as before, select __Hours Practised per Week__ as the x-axis variable and __Success Rate__ as the y-axis variable."
   ]
  },
  {
   "cell_type": "code",
   "execution_count": 14,
   "metadata": {},
   "outputs": [
    {
     "data": {
      "application/vnd.jupyter.widget-view+json": {
       "model_id": "fdeb7084e82d47ffb32d8f7638b17dd8",
       "version_major": 2,
       "version_minor": 0
      },
      "text/plain": [
       "Label(value='Group name: Group 1, 33 samples')"
      ]
     },
     "metadata": {},
     "output_type": "display_data"
    },
    {
     "data": {
      "application/vnd.jupyter.widget-view+json": {
       "model_id": "c9cd1d5baa4642fe9a2747d3202ce50f",
       "version_major": 2,
       "version_minor": 0
      },
      "text/plain": [
       "HBox(children=(Label(value='', layout=Layout(width='20px')), Label(value='Hours practised per week', layout=La…"
      ]
     },
     "metadata": {},
     "output_type": "display_data"
    },
    {
     "data": {
      "application/vnd.jupyter.widget-view+json": {
       "model_id": "3166266fc34e40b3aeedf1b4c76ab24e",
       "version_major": 2,
       "version_minor": 0
      },
      "text/plain": [
       "HBox(children=(Label(value='', layout=Layout(width='20px')), Label(value='Shot type', layout=Layout(width='180…"
      ]
     },
     "metadata": {},
     "output_type": "display_data"
    },
    {
     "data": {
      "application/vnd.jupyter.widget-view+json": {
       "model_id": "32199e3248c349929f3d4b7571cbf044",
       "version_major": 2,
       "version_minor": 0
      },
      "text/plain": [
       "HBox(children=(Label(value='', layout=Layout(width='20px')), Label(value='Success rate', layout=Layout(width='…"
      ]
     },
     "metadata": {},
     "output_type": "display_data"
    },
    {
     "data": {
      "application/vnd.jupyter.widget-view+json": {
       "model_id": "fac582be92e1498584c5c7ef481196d0",
       "version_major": 2,
       "version_minor": 0
      },
      "text/plain": [
       "Label(value='Group name: Group 2, 33 samples')"
      ]
     },
     "metadata": {},
     "output_type": "display_data"
    },
    {
     "data": {
      "application/vnd.jupyter.widget-view+json": {
       "model_id": "8058f756fad64ee98112dcf5f35bf833",
       "version_major": 2,
       "version_minor": 0
      },
      "text/plain": [
       "HBox(children=(Label(value='', layout=Layout(width='20px')), Label(value='Hours practised per week', layout=La…"
      ]
     },
     "metadata": {},
     "output_type": "display_data"
    },
    {
     "data": {
      "application/vnd.jupyter.widget-view+json": {
       "model_id": "c990497cad1d47848951010801eade85",
       "version_major": 2,
       "version_minor": 0
      },
      "text/plain": [
       "HBox(children=(Label(value='', layout=Layout(width='20px')), Label(value='Shot type', layout=Layout(width='180…"
      ]
     },
     "metadata": {},
     "output_type": "display_data"
    },
    {
     "data": {
      "application/vnd.jupyter.widget-view+json": {
       "model_id": "8657df8333b94d2b91ceda2978f4b5dc",
       "version_major": 2,
       "version_minor": 0
      },
      "text/plain": [
       "HBox(children=(Label(value='', layout=Layout(width='20px')), Label(value='Success rate', layout=Layout(width='…"
      ]
     },
     "metadata": {},
     "output_type": "display_data"
    },
    {
     "data": {
      "application/vnd.jupyter.widget-view+json": {
       "model_id": "5081a1d8ef524eb1bb425175ba273c0b",
       "version_major": 2,
       "version_minor": 0
      },
      "text/plain": [
       "Label(value='Group name: Group 3, 34 samples')"
      ]
     },
     "metadata": {},
     "output_type": "display_data"
    },
    {
     "data": {
      "application/vnd.jupyter.widget-view+json": {
       "model_id": "3446d26eea314775a4aec1607f7ee890",
       "version_major": 2,
       "version_minor": 0
      },
      "text/plain": [
       "HBox(children=(Label(value='', layout=Layout(width='20px')), Label(value='Hours practised per week', layout=La…"
      ]
     },
     "metadata": {},
     "output_type": "display_data"
    },
    {
     "data": {
      "application/vnd.jupyter.widget-view+json": {
       "model_id": "21541ef0a3b74da586f747aed5f5585b",
       "version_major": 2,
       "version_minor": 0
      },
      "text/plain": [
       "HBox(children=(Label(value='', layout=Layout(width='20px')), Label(value='Shot type', layout=Layout(width='180…"
      ]
     },
     "metadata": {},
     "output_type": "display_data"
    },
    {
     "data": {
      "application/vnd.jupyter.widget-view+json": {
       "model_id": "80c50dc9c61d44159e6fb2d45135243b",
       "version_major": 2,
       "version_minor": 0
      },
      "text/plain": [
       "HBox(children=(Label(value='', layout=Layout(width='20px')), Label(value='Success rate', layout=Layout(width='…"
      ]
     },
     "metadata": {},
     "output_type": "display_data"
    },
    {
     "data": {
      "application/vnd.jupyter.widget-view+json": {
       "model_id": "bd633b1cc3eb4369803700a4666fa4ab",
       "version_major": 2,
       "version_minor": 0
      },
      "text/plain": [
       "Button(description='Perform experiment', style=ButtonStyle())"
      ]
     },
     "metadata": {},
     "output_type": "display_data"
    },
    {
     "data": {
      "application/vnd.jupyter.widget-view+json": {
       "model_id": "8a75cf152f7b4ff1b71520cb075c91cc",
       "version_major": 2,
       "version_minor": 0
      },
      "text/plain": [
       "Label(value='Data from experiment collected!')"
      ]
     },
     "metadata": {},
     "output_type": "display_data"
    }
   ],
   "source": [
    "experiment4.setting(show=['Shot type', 'Hours practised per week', 'Success rate'], disable='Success rate')"
   ]
  },
  {
   "cell_type": "markdown",
   "metadata": {},
   "source": [
    "## Question 4"
   ]
  },
  {
   "cell_type": "markdown",
   "metadata": {},
   "source": [
    "__4a) According to this graph, which shot type is the most successful?__\n",
    "\n",
    "__4b) Is there a correlation between hours practised per week and the success rate? Which shot type has the strongest correlation?__"
   ]
  },
  {
   "cell_type": "markdown",
   "metadata": {},
   "source": [
    "`Type your answer here`\n",
    "\n",
    "4a)\n",
    "\n",
    "4b)\n"
   ]
  },
  {
   "cell_type": "markdown",
   "metadata": {},
   "source": [
    "# Now it's your turn\n",
    "\n",
    "Now that you have learnt how to use the interface, you may design your own experiment! You may notice that the `Success Rate` setting is always fixed on __No intervention__, with the other options greyed out. This is because it is a dependent variable that you as the experimenter cannot intervene on. Play with it and familiarise yourself with it!"
   ]
  },
  {
   "cell_type": "code",
   "execution_count": 15,
   "metadata": {},
   "outputs": [
    {
     "data": {
      "application/vnd.jupyter.widget-view+json": {
       "model_id": "418e1f29c2bf4319ab46aa045db1ca91",
       "version_major": 2,
       "version_minor": 0
      },
      "text/plain": [
       "Button(description='Randomise assignment', layout=Layout(width='180px'), style=ButtonStyle())"
      ]
     },
     "metadata": {},
     "output_type": "display_data"
    },
    {
     "data": {
      "application/vnd.jupyter.widget-view+json": {
       "model_id": "6de0c6a5c3ab462d87c2b15b72f99f1a",
       "version_major": 2,
       "version_minor": 0
      },
      "text/plain": [
       "VBox(children=(HBox(children=(Label(value='Group 1', layout=Layout(width='70px')), Text(value='', description=…"
      ]
     },
     "metadata": {},
     "output_type": "display_data"
    },
    {
     "data": {
      "application/vnd.jupyter.widget-view+json": {
       "model_id": "eddbd4a062fd4d2eaf8c37d2fb06e211",
       "version_major": 2,
       "version_minor": 0
      },
      "text/plain": [
       "Button(description='Add another group', style=ButtonStyle())"
      ]
     },
     "metadata": {},
     "output_type": "display_data"
    },
    {
     "data": {
      "application/vnd.jupyter.widget-view+json": {
       "model_id": "8dd7b5e659a14b0989dc73c8eecd7550",
       "version_major": 2,
       "version_minor": 0
      },
      "text/plain": [
       "Button(description='Visualise assignment', style=ButtonStyle())"
      ]
     },
     "metadata": {},
     "output_type": "display_data"
    }
   ],
   "source": [
    "experiment5 = BasketballExperiment()\n",
    "experiment5.assignment()"
   ]
  },
  {
   "cell_type": "code",
   "execution_count": null,
   "metadata": {},
   "outputs": [],
   "source": [
    "experiment5.setting(show=['Shot type', 'Hours practised per week', 'Success rate'], disable='Success rate')"
   ]
  },
  {
   "cell_type": "code",
   "execution_count": null,
   "metadata": {},
   "outputs": [],
   "source": [
    "experiment5.plot(show=['Shot type', 'Hours practised per week', 'Height (cm)', 'Success rate'])"
   ]
  },
  {
   "cell_type": "markdown",
   "metadata": {},
   "source": [
    "# Causal network\n",
    "\n",
    "To visualise the causal relationship between height, hours practised, and shot success rate, we can draw a causal network graph."
   ]
  },
  {
   "cell_type": "code",
   "execution_count": 19,
   "metadata": {},
   "outputs": [
    {
     "data": {
      "image/svg+xml": [
       "<?xml version=\"1.0\" encoding=\"UTF-8\" standalone=\"no\"?>\n",
       "<!DOCTYPE svg PUBLIC \"-//W3C//DTD SVG 1.1//EN\"\n",
       " \"http://www.w3.org/Graphics/SVG/1.1/DTD/svg11.dtd\">\n",
       "<!-- Generated by graphviz version 2.44.1 (20200629.0846)\n",
       " -->\n",
       "<!-- Title: Success rate Pages: 1 -->\n",
       "<svg width=\"336pt\" height=\"548pt\"\n",
       " viewBox=\"0.00 0.00 335.69 548.00\" xmlns=\"http://www.w3.org/2000/svg\" xmlns:xlink=\"http://www.w3.org/1999/xlink\">\n",
       "<g id=\"graph0\" class=\"graph\" transform=\"scale(1 1) rotate(0) translate(4 544)\">\n",
       "<title>Success rate</title>\n",
       "<polygon fill=\"white\" stroke=\"transparent\" points=\"-4,4 -4,-544 331.69,-544 331.69,4 -4,4\"/>\n",
       "<!-- 5042134320 -->\n",
       "<g id=\"node1\" class=\"node\">\n",
       "<title>5042134320</title>\n",
       "<ellipse fill=\"none\" stroke=\"black\" cx=\"202.95\" cy=\"-90\" rx=\"54.69\" ry=\"18\"/>\n",
       "<text text-anchor=\"middle\" x=\"202.95\" y=\"-86.3\" font-family=\"Times,serif\" font-size=\"14.00\">5042134320</text>\n",
       "</g>\n",
       "<!-- Success rate -->\n",
       "<g id=\"node2\" class=\"node\">\n",
       "<title>Success rate</title>\n",
       "<ellipse fill=\"none\" stroke=\"black\" cx=\"202.95\" cy=\"-18\" rx=\"53.89\" ry=\"18\"/>\n",
       "<text text-anchor=\"middle\" x=\"202.95\" y=\"-14.3\" font-family=\"Times,serif\" font-size=\"14.00\">Success rate</text>\n",
       "</g>\n",
       "<!-- 5042134320&#45;&gt;Success rate -->\n",
       "<g id=\"edge1\" class=\"edge\">\n",
       "<title>5042134320&#45;&gt;Success rate</title>\n",
       "<path fill=\"none\" stroke=\"black\" d=\"M202.95,-71.7C202.95,-63.98 202.95,-54.71 202.95,-46.11\"/>\n",
       "<polygon fill=\"black\" stroke=\"black\" points=\"206.45,-46.1 202.95,-36.1 199.45,-46.1 206.45,-46.1\"/>\n",
       "</g>\n",
       "<!-- 5042133984 -->\n",
       "<g id=\"node3\" class=\"node\">\n",
       "<title>5042133984</title>\n",
       "<ellipse fill=\"none\" stroke=\"black\" cx=\"202.95\" cy=\"-162\" rx=\"54.69\" ry=\"18\"/>\n",
       "<text text-anchor=\"middle\" x=\"202.95\" y=\"-158.3\" font-family=\"Times,serif\" font-size=\"14.00\">5042133984</text>\n",
       "</g>\n",
       "<!-- 5042133984&#45;&gt;5042134320 -->\n",
       "<g id=\"edge2\" class=\"edge\">\n",
       "<title>5042133984&#45;&gt;5042134320</title>\n",
       "<path fill=\"none\" stroke=\"black\" d=\"M202.95,-143.7C202.95,-135.98 202.95,-126.71 202.95,-118.11\"/>\n",
       "<polygon fill=\"black\" stroke=\"black\" points=\"206.45,-118.1 202.95,-108.1 199.45,-118.1 206.45,-118.1\"/>\n",
       "</g>\n",
       "<!-- Ability -->\n",
       "<g id=\"node4\" class=\"node\">\n",
       "<title>Ability</title>\n",
       "<ellipse fill=\"none\" stroke=\"black\" cx=\"153.95\" cy=\"-234\" rx=\"36\" ry=\"18\"/>\n",
       "<text text-anchor=\"middle\" x=\"153.95\" y=\"-230.3\" font-family=\"Times,serif\" font-size=\"14.00\">Ability</text>\n",
       "</g>\n",
       "<!-- Ability&#45;&gt;5042133984 -->\n",
       "<g id=\"edge3\" class=\"edge\">\n",
       "<title>Ability&#45;&gt;5042133984</title>\n",
       "<path fill=\"none\" stroke=\"black\" d=\"M165.31,-216.76C171.28,-208.23 178.74,-197.58 185.43,-188.02\"/>\n",
       "<polygon fill=\"black\" stroke=\"black\" points=\"188.43,-189.83 191.3,-179.63 182.7,-185.82 188.43,-189.83\"/>\n",
       "</g>\n",
       "<!-- 5042133408 -->\n",
       "<g id=\"node5\" class=\"node\">\n",
       "<title>5042133408</title>\n",
       "<ellipse fill=\"none\" stroke=\"black\" cx=\"139.95\" cy=\"-306\" rx=\"54.69\" ry=\"18\"/>\n",
       "<text text-anchor=\"middle\" x=\"139.95\" y=\"-302.3\" font-family=\"Times,serif\" font-size=\"14.00\">5042133408</text>\n",
       "</g>\n",
       "<!-- 5042133408&#45;&gt;Ability -->\n",
       "<g id=\"edge4\" class=\"edge\">\n",
       "<title>5042133408&#45;&gt;Ability</title>\n",
       "<path fill=\"none\" stroke=\"black\" d=\"M143.41,-287.7C144.95,-279.98 146.8,-270.71 148.52,-262.11\"/>\n",
       "<polygon fill=\"black\" stroke=\"black\" points=\"152,-262.6 150.52,-252.1 145.13,-261.22 152,-262.6\"/>\n",
       "</g>\n",
       "<!-- 5042132640 -->\n",
       "<g id=\"node6\" class=\"node\">\n",
       "<title>5042132640</title>\n",
       "<ellipse fill=\"none\" stroke=\"black\" cx=\"76.95\" cy=\"-378\" rx=\"54.69\" ry=\"18\"/>\n",
       "<text text-anchor=\"middle\" x=\"76.95\" y=\"-374.3\" font-family=\"Times,serif\" font-size=\"14.00\">5042132640</text>\n",
       "</g>\n",
       "<!-- 5042132640&#45;&gt;5042133408 -->\n",
       "<g id=\"edge5\" class=\"edge\">\n",
       "<title>5042132640&#45;&gt;5042133408</title>\n",
       "<path fill=\"none\" stroke=\"black\" d=\"M91.88,-360.41C99.8,-351.61 109.68,-340.63 118.42,-330.92\"/>\n",
       "<polygon fill=\"black\" stroke=\"black\" points=\"121.03,-333.24 125.12,-323.47 115.83,-328.56 121.03,-333.24\"/>\n",
       "</g>\n",
       "<!-- Height (cm) -->\n",
       "<g id=\"node7\" class=\"node\">\n",
       "<title>Height (cm)</title>\n",
       "<ellipse fill=\"none\" stroke=\"black\" cx=\"53.95\" cy=\"-450\" rx=\"53.89\" ry=\"18\"/>\n",
       "<text text-anchor=\"middle\" x=\"53.95\" y=\"-446.3\" font-family=\"Times,serif\" font-size=\"14.00\">Height (cm)</text>\n",
       "</g>\n",
       "<!-- Height (cm)&#45;&gt;5042132640 -->\n",
       "<g id=\"edge6\" class=\"edge\">\n",
       "<title>Height (cm)&#45;&gt;5042132640</title>\n",
       "<path fill=\"none\" stroke=\"black\" d=\"M59.51,-432.05C62.1,-424.18 65.24,-414.62 68.14,-405.79\"/>\n",
       "<polygon fill=\"black\" stroke=\"black\" points=\"71.47,-406.87 71.27,-396.28 64.82,-404.68 71.47,-406.87\"/>\n",
       "</g>\n",
       "<!-- 5042133072 -->\n",
       "<g id=\"node8\" class=\"node\">\n",
       "<title>5042133072</title>\n",
       "<ellipse fill=\"none\" stroke=\"black\" cx=\"214.95\" cy=\"-378\" rx=\"54.69\" ry=\"18\"/>\n",
       "<text text-anchor=\"middle\" x=\"214.95\" y=\"-374.3\" font-family=\"Times,serif\" font-size=\"14.00\">5042133072</text>\n",
       "</g>\n",
       "<!-- 5042133072&#45;&gt;5042133408 -->\n",
       "<g id=\"edge7\" class=\"edge\">\n",
       "<title>5042133072&#45;&gt;5042133408</title>\n",
       "<path fill=\"none\" stroke=\"black\" d=\"M197.55,-360.76C187.8,-351.66 175.48,-340.16 164.73,-330.13\"/>\n",
       "<polygon fill=\"black\" stroke=\"black\" points=\"166.94,-327.41 157.25,-323.15 162.17,-332.53 166.94,-327.41\"/>\n",
       "</g>\n",
       "<!-- Hours practised per week -->\n",
       "<g id=\"node9\" class=\"node\">\n",
       "<title>Hours practised per week</title>\n",
       "<ellipse fill=\"none\" stroke=\"black\" cx=\"226.95\" cy=\"-450\" rx=\"100.98\" ry=\"18\"/>\n",
       "<text text-anchor=\"middle\" x=\"226.95\" y=\"-446.3\" font-family=\"Times,serif\" font-size=\"14.00\">Hours practised per week</text>\n",
       "</g>\n",
       "<!-- Hours practised per week&#45;&gt;5042133072 -->\n",
       "<g id=\"edge8\" class=\"edge\">\n",
       "<title>Hours practised per week&#45;&gt;5042133072</title>\n",
       "<path fill=\"none\" stroke=\"black\" d=\"M223.98,-431.7C222.66,-423.98 221.07,-414.71 219.59,-406.11\"/>\n",
       "<polygon fill=\"black\" stroke=\"black\" points=\"223.02,-405.37 217.88,-396.1 216.12,-406.55 223.02,-405.37\"/>\n",
       "</g>\n",
       "<!-- 5042132112 -->\n",
       "<g id=\"node10\" class=\"node\">\n",
       "<title>5042132112</title>\n",
       "<ellipse fill=\"none\" stroke=\"black\" cx=\"226.95\" cy=\"-522\" rx=\"54.69\" ry=\"18\"/>\n",
       "<text text-anchor=\"middle\" x=\"226.95\" y=\"-518.3\" font-family=\"Times,serif\" font-size=\"14.00\">5042132112</text>\n",
       "</g>\n",
       "<!-- 5042132112&#45;&gt;Hours practised per week -->\n",
       "<g id=\"edge9\" class=\"edge\">\n",
       "<title>5042132112&#45;&gt;Hours practised per week</title>\n",
       "<path fill=\"none\" stroke=\"black\" d=\"M226.95,-503.7C226.95,-495.98 226.95,-486.71 226.95,-478.11\"/>\n",
       "<polygon fill=\"black\" stroke=\"black\" points=\"230.45,-478.1 226.95,-468.1 223.45,-478.1 230.45,-478.1\"/>\n",
       "</g>\n",
       "<!-- Shot type -->\n",
       "<g id=\"node11\" class=\"node\">\n",
       "<title>Shot type</title>\n",
       "<ellipse fill=\"none\" stroke=\"black\" cx=\"258.95\" cy=\"-234\" rx=\"44.39\" ry=\"18\"/>\n",
       "<text text-anchor=\"middle\" x=\"258.95\" y=\"-230.3\" font-family=\"Times,serif\" font-size=\"14.00\">Shot type</text>\n",
       "</g>\n",
       "<!-- Shot type&#45;&gt;5042133984 -->\n",
       "<g id=\"edge10\" class=\"edge\">\n",
       "<title>Shot type&#45;&gt;5042133984</title>\n",
       "<path fill=\"none\" stroke=\"black\" d=\"M245.96,-216.76C239.06,-208.14 230.44,-197.36 222.73,-187.73\"/>\n",
       "<polygon fill=\"black\" stroke=\"black\" points=\"225.23,-185.26 216.25,-179.63 219.77,-189.63 225.23,-185.26\"/>\n",
       "</g>\n",
       "<!-- 5042131728 -->\n",
       "<g id=\"node12\" class=\"node\">\n",
       "<title>5042131728</title>\n",
       "<ellipse fill=\"none\" stroke=\"black\" cx=\"266.95\" cy=\"-306\" rx=\"54.69\" ry=\"18\"/>\n",
       "<text text-anchor=\"middle\" x=\"266.95\" y=\"-302.3\" font-family=\"Times,serif\" font-size=\"14.00\">5042131728</text>\n",
       "</g>\n",
       "<!-- 5042131728&#45;&gt;Shot type -->\n",
       "<g id=\"edge11\" class=\"edge\">\n",
       "<title>5042131728&#45;&gt;Shot type</title>\n",
       "<path fill=\"none\" stroke=\"black\" d=\"M264.97,-287.7C264.09,-279.98 263.03,-270.71 262.04,-262.11\"/>\n",
       "<polygon fill=\"black\" stroke=\"black\" points=\"265.51,-261.64 260.9,-252.1 258.56,-262.44 265.51,-261.64\"/>\n",
       "</g>\n",
       "</g>\n",
       "</svg>\n"
      ],
      "text/plain": [
       "<graphviz.dot.Digraph at 0x12ce0d7c0>"
      ]
     },
     "execution_count": 19,
     "metadata": {},
     "output_type": "execute_result"
    }
   ],
   "source": [
    "basketball.draw('Success rate', intermediate=True)"
   ]
  },
  {
   "cell_type": "code",
   "execution_count": null,
   "metadata": {},
   "outputs": [],
   "source": []
  }
 ],
 "metadata": {
  "kernelspec": {
   "display_name": "Python 3",
   "language": "python",
   "name": "python3"
  },
  "language_info": {
   "codemirror_mode": {
    "name": "ipython",
    "version": 3
   },
   "file_extension": ".py",
   "mimetype": "text/x-python",
   "name": "python",
   "nbconvert_exporter": "python",
   "pygments_lexer": "ipython3",
   "version": "3.8.5"
  }
 },
 "nbformat": 4,
 "nbformat_minor": 4
}
