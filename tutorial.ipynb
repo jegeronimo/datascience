{
 "cells": [
  {
   "cell_type": "markdown",
   "metadata": {},
   "source": [
    "Run the following two boxes first! By \"running\", we mean click on the box of code, and then press `Shift+Return` on your keyboard."
   ]
  },
  {
   "cell_type": "code",
   "execution_count": 4,
   "metadata": {},
   "outputs": [],
   "source": [
    "from causality_simulation2 import *\n",
    "%matplotlib inline"
   ]
  },
  {
   "cell_type": "code",
   "execution_count": 5,
   "metadata": {},
   "outputs": [],
   "source": [
    "init_data = {\n",
    "    'Height (cm)': np.array(sorted(np.random.normal(167, 8, 100)))\n",
    "}"
   ]
  },
  {
   "cell_type": "code",
   "execution_count": 9,
   "metadata": {
    "scrolled": false
   },
   "outputs": [],
   "source": [
    "config = {\n",
    "    'name': 'Observation',\n",
    "    'samples_str': '1-100',\n",
    "    'intervention': {\n",
    "#         'Height (cm)': ['range', 150, 185],\n",
    "#         'Hours Practised per Week': ['range_rand', 1, 14]\n",
    "    }\n",
    "}\n",
    "basketball.generate(init_data, [config], 400)"
   ]
  },
  {
   "cell_type": "code",
   "execution_count": 10,
   "metadata": {},
   "outputs": [
    {
     "data": {
      "image/png": "[encoded data removed]",
      "text/plain": [
       "<Figure size 1008x360 with 2 Axes>"
      ]
     },
     "metadata": {
      "needs_background": "light"
     },
     "output_type": "display_data"
    },
    {
     "data": {
      "image/png": "[encoded data removed]",
      "text/plain": [
       "<Figure size 1008x360 with 2 Axes>"
      ]
     },
     "metadata": {
      "needs_background": "light"
     },
     "output_type": "display_data"
    }
   ],
   "source": [
    "basketball.statsContinuous('Observation', 'Height (cm)', 'Success Rate')\n",
    "basketball.statsContinuous('Observation', 'Hours Practised per Week', 'Success Rate')"
   ]
  },
  {
   "cell_type": "markdown",
   "metadata": {},
   "source": [
    "This is a short tutorial to teach you how to use the RCT simulator and view the data.\n",
    "\n",
    "# High school basketball study\n",
    "\n",
    "You are a high school PE teacher. You are interested to find out about how much a student's height and the amount of practice time affect his/her basketball skills. To do this, you perform an __observational study__ by passively recording the success rate of various kinds of shots made by every student in your PE class. For every student, his/her height is recorded, as well as the number of hours he/she spends each week playing basketball. You have a total of 100 students.\n",
    "\n",
    "Run the following box.\n",
    "\n",
    "To begin, you must first assign the students to experimental groups. Since you are merely observing the students, there is only one group, consisting of all 100 students. In the following interface, you may type in __Observation__ for \"Name\" and __1-100__ for \"Assigned samples\". This means that student number 1 through student number 100 are all assigned to this group to be observed. Then, click on \"Visualise assignment\" to finalise the group assignment.\n",
    "\n",
    "In the \"Student Group Assignments\" chart, each vertical bar represents a single student. The length of the bar indicates the height of that student. The students are lined up from shortest on the left to tallest on the right. The shortest student is numbered 1, and the tallest student is numbered 100."
   ]
  },
  {
   "cell_type": "code",
   "execution_count": 7,
   "metadata": {
    "scrolled": false
   },
   "outputs": [
    {
     "data": {
      "application/vnd.jupyter.widget-view+json": {
       "model_id": "61d30a17b25d4cc88605ae735e518242",
       "version_major": 2,
       "version_minor": 0
      },
      "text/plain": [
       "Button(description='Randomise assignment', layout=Layout(width='180px'), style=ButtonStyle())"
      ]
     },
     "metadata": {},
     "output_type": "display_data"
    },
    {
     "data": {
      "application/vnd.jupyter.widget-view+json": {
       "model_id": "8ac564200e624f1fbf5536f309743149",
       "version_major": 2,
       "version_minor": 0
      },
      "text/plain": [
       "VBox(children=(HBox(children=(Label(value='Group 1', layout=Layout(width='70px')), Text(value='', description=…"
      ]
     },
     "metadata": {},
     "output_type": "display_data"
    },
    {
     "data": {
      "application/vnd.jupyter.widget-view+json": {
       "model_id": "c7f804f3bc1042c39860a07877f98471",
       "version_major": 2,
       "version_minor": 0
      },
      "text/plain": [
       "Button(description='Add another group', style=ButtonStyle())"
      ]
     },
     "metadata": {},
     "output_type": "display_data"
    },
    {
     "data": {
      "application/vnd.jupyter.widget-view+json": {
       "model_id": "a78c6b6995794a06be888c07b377172d",
       "version_major": 2,
       "version_minor": 0
      },
      "text/plain": [
       "Button(description='Visualise assignment', style=ButtonStyle())"
      ]
     },
     "metadata": {},
     "output_type": "display_data"
    },
    {
     "data": {
      "application/vnd.jupyter.widget-view+json": {
       "model_id": "c37691598c3a49c69253a8ce3126c43d",
       "version_major": 2,
       "version_minor": 0
      },
      "text/plain": [
       "FigureWidget({\n",
       "    'data': [{'hovertemplate': 'Student: %{x} <br>Height: %{y} cm<br>',\n",
       "              'name': '…"
      ]
     },
     "metadata": {},
     "output_type": "display_data"
    }
   ],
   "source": [
    "experiment = Experiment(basketball, init_data)\n",
    "experiment.assignment()"
   ]
  },
  {
   "cell_type": "markdown",
   "metadata": {},
   "source": [
    "## Experimental setup\n",
    "\n",
    "Now we must specify how the experiment is done on the single group assigned above. Run the following box. In the interface, leave all the lines on __No intervention__. This means that you are not performing any experimental intervention that may change the behaviour of your students. In other words, you are sitting back and observing the students behave in their natural setting.\n",
    "\n",
    "Once you have made the settings, click on \"Perform experiment\". You should then see \"Data from experiment collected!\""
   ]
  },
  {
   "cell_type": "code",
   "execution_count": 8,
   "metadata": {},
   "outputs": [
    {
     "data": {
      "application/vnd.jupyter.widget-view+json": {
       "model_id": "6d0c07c004a84f41a362ec3880c28e55",
       "version_major": 2,
       "version_minor": 0
      },
      "text/plain": [
       "Label(value='Group name: Observation, 100 samples')"
      ]
     },
     "metadata": {},
     "output_type": "display_data"
    },
    {
     "data": {
      "application/vnd.jupyter.widget-view+json": {
       "model_id": "6f94949c3be84766b2002dab7abb3a17",
       "version_major": 2,
       "version_minor": 0
      },
      "text/plain": [
       "HBox(children=(Label(value='', layout=Layout(width='20px')), Label(value='Hours Practised per Week', layout=La…"
      ]
     },
     "metadata": {},
     "output_type": "display_data"
    },
    {
     "data": {
      "application/vnd.jupyter.widget-view+json": {
       "model_id": "61022737ef894fef8320b4969c4d9778",
       "version_major": 2,
       "version_minor": 0
      },
      "text/plain": [
       "HBox(children=(Label(value='', layout=Layout(width='20px')), Label(value='Shot Type', layout=Layout(width='180…"
      ]
     },
     "metadata": {},
     "output_type": "display_data"
    },
    {
     "data": {
      "application/vnd.jupyter.widget-view+json": {
       "model_id": "902de8f9da7b44dab55c69243c46b598",
       "version_major": 2,
       "version_minor": 0
      },
      "text/plain": [
       "HBox(children=(Label(value='', layout=Layout(width='20px')), Label(value='Success Rate', layout=Layout(width='…"
      ]
     },
     "metadata": {},
     "output_type": "display_data"
    },
    {
     "data": {
      "application/vnd.jupyter.widget-view+json": {
       "model_id": "8714995dc1a946ae9c81d912b4b9e5cf",
       "version_major": 2,
       "version_minor": 0
      },
      "text/plain": [
       "Button(description='Perform experiment', style=ButtonStyle())"
      ]
     },
     "metadata": {},
     "output_type": "display_data"
    },
    {
     "data": {
      "application/vnd.jupyter.widget-view+json": {
       "model_id": "3ce0891ca1f74cc39d4775c651761986",
       "version_major": 2,
       "version_minor": 0
      },
      "text/plain": [
       "Label(value='Data from experiment collected!')"
      ]
     },
     "metadata": {},
     "output_type": "display_data"
    }
   ],
   "source": [
    "experiment.setting(show=['Shot Type', 'Hours Practised per Week', 'Success Rate'], disable=['Success Rate'])"
   ]
  },
  {
   "cell_type": "markdown",
   "metadata": {},
   "source": [
    "## Data visualisation\n",
    "\n",
    "Now you would like to see the relationship between the student's height and the success rate of his/her shots. First, run the following box. Use the dropdown menu to select `Height (cm)` as the x-axis variable and `Success Rate` as the y-axis variable. You should see a scatter plot where each point represents the data from one student."
   ]
  },
  {
   "cell_type": "code",
   "execution_count": 10,
   "metadata": {
    "scrolled": false
   },
   "outputs": [
    {
     "data": {
      "application/vnd.jupyter.widget-view+json": {
       "model_id": "71811321f804446abe20be16b78c6269",
       "version_major": 2,
       "version_minor": 0
      },
      "text/plain": [
       "VBox(children=(HBox(children=(Dropdown(description='x-Axis Variable: ', options=('Height (cm)', 'Hours Practis…"
      ]
     },
     "metadata": {},
     "output_type": "display_data"
    },
    {
     "data": {
      "application/vnd.jupyter.widget-view+json": {
       "model_id": "f984c5e34c0c47eca68035862e6cacfc",
       "version_major": 2,
       "version_minor": 0
      },
      "text/plain": [
       "RadioButtons(description='Group', layout=Layout(width='max-content'), options=('Observation', 'All'), value='O…"
      ]
     },
     "metadata": {},
     "output_type": "display_data"
    },
    {
     "data": {
      "text/plain": []
     },
     "metadata": {},
     "output_type": "display_data"
    }
   ],
   "source": [
    "experiment.plot(show=['Shot Type', 'Hours Practised per Week', 'Height (cm)', 'Success Rate'])"
   ]
  },
  {
   "cell_type": "markdown",
   "metadata": {},
   "source": [
    "## Question 1\n",
    "\n",
    "__Is there a correlation between `Success Rate` and the `Height`?__\n",
    "\n",
    "\n",
    "Now try to change the x-axis and y-axis variables using the dropdown menu. Using these charts, answer the following questions.\n",
    "\n",
    "__Is there a correlation between `Success Rate` and the `Hours Practised Per Week`?__\n",
    "\n",
    "__Which `Shot Type` has the highest `Success Rate`?__\n",
    "\n",
    "You would also like to find out how much time students are spending on basketball practice. Select `Hours Practised per Week` for x-axis variable and `None (Distributions Only)` for y-axis variable. You should now see a histogram. __How many students practise 1 to 3 hours per week?__"
   ]
  },
  {
   "cell_type": "markdown",
   "metadata": {},
   "source": [
    "_double click this box to type your answer_"
   ]
  },
  {
   "cell_type": "markdown",
   "metadata": {},
   "source": [
    "## Experimental intervention\n",
    "\n",
    "Now you would like to perform an experiment to see if practising more hours per week will improve students' success rate. You give every student an assignment to practise exactly some number of hours per week. Some students are asked not to practise at all, some are asked to practise 14 hours a week, while others are assigned something in between. After a few weeks, you observe the students' performance during your PE lesson.\n",
    "\n",
    "Just as before, we are only setting up one experimental group. Run the following box. In \"Name\", type __Intervention__. In \"Assigned samples\", type __1-100__, so that all 100 students will participate in this experiment. Then, click on \"Visualise assignment\". The bar chart should look the same as before."
   ]
  },
  {
   "cell_type": "code",
   "execution_count": 17,
   "metadata": {},
   "outputs": [
    {
     "data": {
      "application/vnd.jupyter.widget-view+json": {
       "model_id": "ddc995d22b5d4fb0a1c808632b2bad04",
       "version_major": 2,
       "version_minor": 0
      },
      "text/plain": [
       "Button(description='Randomise assignment', layout=Layout(width='180px'), style=ButtonStyle())"
      ]
     },
     "metadata": {},
     "output_type": "display_data"
    },
    {
     "data": {
      "application/vnd.jupyter.widget-view+json": {
       "model_id": "613df36db6ca48d2b73c386f430801fb",
       "version_major": 2,
       "version_minor": 0
      },
      "text/plain": [
       "VBox(children=(HBox(children=(Label(value='Group 1', layout=Layout(width='70px')), Text(value='', description=…"
      ]
     },
     "metadata": {},
     "output_type": "display_data"
    },
    {
     "data": {
      "application/vnd.jupyter.widget-view+json": {
       "model_id": "8294592c814145db872f6ec239aef75c",
       "version_major": 2,
       "version_minor": 0
      },
      "text/plain": [
       "Button(description='Add another group', style=ButtonStyle())"
      ]
     },
     "metadata": {},
     "output_type": "display_data"
    },
    {
     "data": {
      "application/vnd.jupyter.widget-view+json": {
       "model_id": "8e5f3dfbfd6c4e7ab1127106605292e0",
       "version_major": 2,
       "version_minor": 0
      },
      "text/plain": [
       "Button(description='Visualise assignment', style=ButtonStyle())"
      ]
     },
     "metadata": {},
     "output_type": "display_data"
    },
    {
     "data": {
      "application/vnd.jupyter.widget-view+json": {
       "model_id": "be923ca856cf44099ddf6d5c0c91faaf",
       "version_major": 2,
       "version_minor": 0
      },
      "text/plain": [
       "FigureWidget({\n",
       "    'data': [{'hovertemplate': 'Student: %{x} <br>Height: %{y} cm<br>',\n",
       "              'name': '…"
      ]
     },
     "metadata": {},
     "output_type": "display_data"
    }
   ],
   "source": [
    "experiment2 = Experiment(basketball, init_data)\n",
    "experiment2.assignment()"
   ]
  },
  {
   "cell_type": "markdown",
   "metadata": {},
   "source": [
    "Run the following box. To assign a range of practice hours to the students, select __Range__ for \"Hours Practised per Week\" and type in __from 0 to 14__. Leave \"Shot Type\" on __No intervention__, so that the students can still freely choose how they want to make their shots without your intervention. Once you're done, click on \"Perform experiment\"."
   ]
  },
  {
   "cell_type": "code",
   "execution_count": 18,
   "metadata": {
    "scrolled": true
   },
   "outputs": [
    {
     "data": {
      "application/vnd.jupyter.widget-view+json": {
       "model_id": "179eaeb3691243cb960431c54f3ce8fd",
       "version_major": 2,
       "version_minor": 0
      },
      "text/plain": [
       "Label(value='Group name: Intervention, 100 samples')"
      ]
     },
     "metadata": {},
     "output_type": "display_data"
    },
    {
     "data": {
      "application/vnd.jupyter.widget-view+json": {
       "model_id": "fb43a46350e546e2aa8bd37d66a3c90b",
       "version_major": 2,
       "version_minor": 0
      },
      "text/plain": [
       "HBox(children=(Label(value='', layout=Layout(width='20px')), Label(value='Hours Practised per Week', layout=La…"
      ]
     },
     "metadata": {},
     "output_type": "display_data"
    },
    {
     "data": {
      "application/vnd.jupyter.widget-view+json": {
       "model_id": "d14f7e5756ba4aadbbe9b732b847a8bf",
       "version_major": 2,
       "version_minor": 0
      },
      "text/plain": [
       "HBox(children=(Label(value='', layout=Layout(width='20px')), Label(value='Shot Type', layout=Layout(width='180…"
      ]
     },
     "metadata": {},
     "output_type": "display_data"
    },
    {
     "data": {
      "application/vnd.jupyter.widget-view+json": {
       "model_id": "fe9bc236c41a4491b92c1b9b89db1f35",
       "version_major": 2,
       "version_minor": 0
      },
      "text/plain": [
       "HBox(children=(Label(value='', layout=Layout(width='20px')), Label(value='Success Rate', layout=Layout(width='…"
      ]
     },
     "metadata": {},
     "output_type": "display_data"
    },
    {
     "data": {
      "application/vnd.jupyter.widget-view+json": {
       "model_id": "0bc7164c19f14376b9af2cf546734bef",
       "version_major": 2,
       "version_minor": 0
      },
      "text/plain": [
       "Button(description='Perform experiment', style=ButtonStyle())"
      ]
     },
     "metadata": {},
     "output_type": "display_data"
    },
    {
     "data": {
      "application/vnd.jupyter.widget-view+json": {
       "model_id": "2c89103308704b7295a73ea204e81f85",
       "version_major": 2,
       "version_minor": 0
      },
      "text/plain": [
       "Label(value='Data from experiment collected!')"
      ]
     },
     "metadata": {},
     "output_type": "display_data"
    }
   ],
   "source": [
    "experiment2.setting(show=['Shot Type', 'Hours Practised per Week', 'Success Rate'], disable='Success Rate')"
   ]
  },
  {
   "cell_type": "markdown",
   "metadata": {},
   "source": [
    "Run the following box. To find out the relationship between hours practised and success rate, select __Hours Practised per Week__ for the x-axis variable and __Success Rate__ for the y-axis variable."
   ]
  },
  {
   "cell_type": "code",
   "execution_count": 20,
   "metadata": {},
   "outputs": [
    {
     "data": {
      "application/vnd.jupyter.widget-view+json": {
       "model_id": "8b8c8f3b98904188b011753e39c3c70f",
       "version_major": 2,
       "version_minor": 0
      },
      "text/plain": [
       "VBox(children=(HBox(children=(Dropdown(description='x-Axis Variable: ', options=('Height (cm)', 'Hours Practis…"
      ]
     },
     "metadata": {},
     "output_type": "display_data"
    },
    {
     "data": {
      "application/vnd.jupyter.widget-view+json": {
       "model_id": "50739b3058994761804563030d0504b3",
       "version_major": 2,
       "version_minor": 0
      },
      "text/plain": [
       "RadioButtons(description='Group', layout=Layout(width='max-content'), options=('Intervention', 'All'), value='…"
      ]
     },
     "metadata": {},
     "output_type": "display_data"
    },
    {
     "data": {
      "text/plain": []
     },
     "metadata": {},
     "output_type": "display_data"
    }
   ],
   "source": [
    "experiment2.plot(show=['Shot Type', 'Hours Practised per Week', 'Height (cm)', 'Success Rate'])"
   ]
  },
  {
   "cell_type": "markdown",
   "metadata": {},
   "source": [
    "## Question 2"
   ]
  },
  {
   "cell_type": "markdown",
   "metadata": {},
   "source": [
    "__What is the correlation between success rate and number of hours practised per week?__\n",
    "\n",
    "__Looking at the p-value, is the correlation statistically significant?__ Recall that the p-value tells you the probability that this level of correlation can be produced simply by random chance. The lower the p-value, the stronger the statistical significance of the observed correlation."
   ]
  },
  {
   "cell_type": "markdown",
   "metadata": {},
   "source": [
    "## Multiple experimental groups\n",
    "\n",
    "To improve your experiment even further, you decide to repeat the above experiment while separately recording the success rates of three different types of shots: above head, layup, and hook shot. For this, we need to create 3 experimental groups.\n",
    "\n",
    "Run the following box. To add two new groups, click on __Add another group__ two times. Each group should be named __Above head__, __Layup__, and __Hook shot__, respectively. You then need to assign the students to each of the groups. For example, you can assign __1-33__ to the first group, __34-66__ to the second group, and __67-100__ to the third group. (Remember that 1 is the shortest student, and 100 is the tallest student.)\n",
    "\n",
    "Once you're done, click on \"Visualise assignment\". You should see a bar chart with three different colours, each corresponding to a group that you've assigned. Notice that the shortest students are all assigned to one group, and the tallest students are all assigned to a different group."
   ]
  },
  {
   "cell_type": "code",
   "execution_count": 21,
   "metadata": {},
   "outputs": [
    {
     "data": {
      "application/vnd.jupyter.widget-view+json": {
       "model_id": "7c69efe01d814218b82cd4f21700dd79",
       "version_major": 2,
       "version_minor": 0
      },
      "text/plain": [
       "Button(description='Randomise assignment', layout=Layout(width='180px'), style=ButtonStyle())"
      ]
     },
     "metadata": {},
     "output_type": "display_data"
    },
    {
     "data": {
      "application/vnd.jupyter.widget-view+json": {
       "model_id": "960297cff9884700bd53212f86c4cbc7",
       "version_major": 2,
       "version_minor": 0
      },
      "text/plain": [
       "VBox(children=(HBox(children=(Label(value='Group 1', layout=Layout(width='70px')), Text(value='', description=…"
      ]
     },
     "metadata": {},
     "output_type": "display_data"
    },
    {
     "data": {
      "application/vnd.jupyter.widget-view+json": {
       "model_id": "7ee353fe763040f48fc12de722593924",
       "version_major": 2,
       "version_minor": 0
      },
      "text/plain": [
       "Button(description='Add another group', style=ButtonStyle())"
      ]
     },
     "metadata": {},
     "output_type": "display_data"
    },
    {
     "data": {
      "application/vnd.jupyter.widget-view+json": {
       "model_id": "b9e5a34485ee4f20b70cc824203eb138",
       "version_major": 2,
       "version_minor": 0
      },
      "text/plain": [
       "Button(description='Visualise assignment', style=ButtonStyle())"
      ]
     },
     "metadata": {},
     "output_type": "display_data"
    },
    {
     "data": {
      "application/vnd.jupyter.widget-view+json": {
       "model_id": "3a4a9c7d35cc444988b52440b288fd5a",
       "version_major": 2,
       "version_minor": 0
      },
      "text/plain": [
       "FigureWidget({\n",
       "    'data': [{'hovertemplate': 'Student: %{x} <br>Height: %{y} cm<br>',\n",
       "              'name': '…"
      ]
     },
     "metadata": {},
     "output_type": "display_data"
    }
   ],
   "source": [
    "experiment3 = Experiment(basketball, init_data)\n",
    "experiment3.assignment()"
   ]
  },
  {
   "cell_type": "markdown",
   "metadata": {},
   "source": [
    "Run the following box. In each of the three groups, select __Range__ for \"Hours Practised per Week\" and type __from 0 to 14__. Next, select __Fixed__ for \"Shot Type\" and use the dropdown menu to select the shot type corresponding to the group. Once you're done, click on \"Perform experiment\"."
   ]
  },
  {
   "cell_type": "code",
   "execution_count": 23,
   "metadata": {},
   "outputs": [
    {
     "data": {
      "application/vnd.jupyter.widget-view+json": {
       "model_id": "f84893554c1d479f9c4db871c1bfa52a",
       "version_major": 2,
       "version_minor": 0
      },
      "text/plain": [
       "Label(value='Group name: Above head, 33 samples')"
      ]
     },
     "metadata": {},
     "output_type": "display_data"
    },
    {
     "data": {
      "application/vnd.jupyter.widget-view+json": {
       "model_id": "6176acdf555a4d2a9d8a248641d3faa9",
       "version_major": 2,
       "version_minor": 0
      },
      "text/plain": [
       "HBox(children=(Label(value='', layout=Layout(width='20px')), Label(value='Hours Practised per Week', layout=La…"
      ]
     },
     "metadata": {},
     "output_type": "display_data"
    },
    {
     "data": {
      "application/vnd.jupyter.widget-view+json": {
       "model_id": "9828249c8b9e41edbfcae01260b7f939",
       "version_major": 2,
       "version_minor": 0
      },
      "text/plain": [
       "HBox(children=(Label(value='', layout=Layout(width='20px')), Label(value='Shot Type', layout=Layout(width='180…"
      ]
     },
     "metadata": {},
     "output_type": "display_data"
    },
    {
     "data": {
      "application/vnd.jupyter.widget-view+json": {
       "model_id": "5d139dcfb7444c2c97ac536df9f1c8a5",
       "version_major": 2,
       "version_minor": 0
      },
      "text/plain": [
       "HBox(children=(Label(value='', layout=Layout(width='20px')), Label(value='Success Rate', layout=Layout(width='…"
      ]
     },
     "metadata": {},
     "output_type": "display_data"
    },
    {
     "data": {
      "application/vnd.jupyter.widget-view+json": {
       "model_id": "b0ca8adc06e14e09984da8554fad047b",
       "version_major": 2,
       "version_minor": 0
      },
      "text/plain": [
       "Label(value='Group name: Layup, 33 samples')"
      ]
     },
     "metadata": {},
     "output_type": "display_data"
    },
    {
     "data": {
      "application/vnd.jupyter.widget-view+json": {
       "model_id": "97d632fd7ae14a31b241dab62cc40e2b",
       "version_major": 2,
       "version_minor": 0
      },
      "text/plain": [
       "HBox(children=(Label(value='', layout=Layout(width='20px')), Label(value='Hours Practised per Week', layout=La…"
      ]
     },
     "metadata": {},
     "output_type": "display_data"
    },
    {
     "data": {
      "application/vnd.jupyter.widget-view+json": {
       "model_id": "2a256a6e0ea6456fb9efe6b2e71634f2",
       "version_major": 2,
       "version_minor": 0
      },
      "text/plain": [
       "HBox(children=(Label(value='', layout=Layout(width='20px')), Label(value='Shot Type', layout=Layout(width='180…"
      ]
     },
     "metadata": {},
     "output_type": "display_data"
    },
    {
     "data": {
      "application/vnd.jupyter.widget-view+json": {
       "model_id": "d9237c43b96540568021ccca2cc2da60",
       "version_major": 2,
       "version_minor": 0
      },
      "text/plain": [
       "HBox(children=(Label(value='', layout=Layout(width='20px')), Label(value='Success Rate', layout=Layout(width='…"
      ]
     },
     "metadata": {},
     "output_type": "display_data"
    },
    {
     "data": {
      "application/vnd.jupyter.widget-view+json": {
       "model_id": "ffd6e4dd778946c28d56ffd8fa6ed4cb",
       "version_major": 2,
       "version_minor": 0
      },
      "text/plain": [
       "Label(value='Group name: Hook shot, 34 samples')"
      ]
     },
     "metadata": {},
     "output_type": "display_data"
    },
    {
     "data": {
      "application/vnd.jupyter.widget-view+json": {
       "model_id": "0d61eac7c11c434b92ccabcc0ee860c8",
       "version_major": 2,
       "version_minor": 0
      },
      "text/plain": [
       "HBox(children=(Label(value='', layout=Layout(width='20px')), Label(value='Hours Practised per Week', layout=La…"
      ]
     },
     "metadata": {},
     "output_type": "display_data"
    },
    {
     "data": {
      "application/vnd.jupyter.widget-view+json": {
       "model_id": "13888d23ffa4431bb4d758a55d902103",
       "version_major": 2,
       "version_minor": 0
      },
      "text/plain": [
       "HBox(children=(Label(value='', layout=Layout(width='20px')), Label(value='Shot Type', layout=Layout(width='180…"
      ]
     },
     "metadata": {},
     "output_type": "display_data"
    },
    {
     "data": {
      "application/vnd.jupyter.widget-view+json": {
       "model_id": "4bef0374d1864757962eaa83f6222087",
       "version_major": 2,
       "version_minor": 0
      },
      "text/plain": [
       "HBox(children=(Label(value='', layout=Layout(width='20px')), Label(value='Success Rate', layout=Layout(width='…"
      ]
     },
     "metadata": {},
     "output_type": "display_data"
    },
    {
     "data": {
      "application/vnd.jupyter.widget-view+json": {
       "model_id": "3825827dcce94ff89fbe43c55c066b2a",
       "version_major": 2,
       "version_minor": 0
      },
      "text/plain": [
       "Button(description='Perform experiment', style=ButtonStyle())"
      ]
     },
     "metadata": {},
     "output_type": "display_data"
    },
    {
     "data": {
      "application/vnd.jupyter.widget-view+json": {
       "model_id": "5bbc144c151e4db98d32885bd87f745a",
       "version_major": 2,
       "version_minor": 0
      },
      "text/plain": [
       "Label(value='Data from experiment collected!')"
      ]
     },
     "metadata": {},
     "output_type": "display_data"
    },
    {
     "data": {
      "application/vnd.jupyter.widget-view+json": {
       "model_id": "42f95937d757421c84482b19e5267540",
       "version_major": 2,
       "version_minor": 0
      },
      "text/plain": [
       "Label(value='Data from experiment collected!')"
      ]
     },
     "metadata": {},
     "output_type": "display_data"
    }
   ],
   "source": [
    "experiment3.setting(show=['Shot Type', 'Hours Practised per Week', 'Success Rate'], disable='Success Rate')"
   ]
  },
  {
   "cell_type": "markdown",
   "metadata": {},
   "source": [
    "Run the following box. Select __Hours Practised per Week__ as the x-axis variable and __Success Rate__ as the y-axis variable. You should see three sets of data points in three different colours, corresponding to the three experimental groups or shot types. To show/hide a single experimental group, click on the items in the legend on the right side of the graph."
   ]
  },
  {
   "cell_type": "code",
   "execution_count": 25,
   "metadata": {
    "scrolled": false
   },
   "outputs": [
    {
     "data": {
      "application/vnd.jupyter.widget-view+json": {
       "model_id": "8da524b14fab4f03b626d7a4ae5e12a9",
       "version_major": 2,
       "version_minor": 0
      },
      "text/plain": [
       "VBox(children=(HBox(children=(Dropdown(description='x-Axis Variable: ', options=('Height (cm)', 'Hours Practis…"
      ]
     },
     "metadata": {},
     "output_type": "display_data"
    },
    {
     "data": {
      "application/vnd.jupyter.widget-view+json": {
       "model_id": "babf65aff4c548a08fc1ad16f5ec4b79",
       "version_major": 2,
       "version_minor": 0
      },
      "text/plain": [
       "RadioButtons(description='Group', layout=Layout(width='max-content'), options=('Above head', 'Layup', 'Hook sh…"
      ]
     },
     "metadata": {},
     "output_type": "display_data"
    },
    {
     "data": {
      "text/plain": []
     },
     "metadata": {},
     "output_type": "display_data"
    }
   ],
   "source": [
    "experiment3.plot(show=['Shot Type', 'Hours Practised per Week', 'Height (cm)', 'Success Rate'])"
   ]
  },
  {
   "cell_type": "markdown",
   "metadata": {},
   "source": [
    "## Question 3"
   ]
  },
  {
   "cell_type": "markdown",
   "metadata": {},
   "source": [
    "__According to this graph, which shot type is the most successful?__\n",
    "\n",
    "__Is there a correlation between hours practised per week and the success rate? Which shot type has the strongest correlation?__"
   ]
  },
  {
   "cell_type": "markdown",
   "metadata": {},
   "source": [
    "# Randomise assignment"
   ]
  },
  {
   "cell_type": "markdown",
   "metadata": {},
   "source": [
    "You may be unconvinced by the above comparison of the success rates of different shot types, as one shot type is assigned to only short people, while another shot type is assigned to only tall people. To mitigate this problem, we will repeat the previous experiment, but we will randomise the assignment of students into each of the three experimental groups.\n",
    "\n",
    "Run the following box. Just as before, create two more groups and give each of the three groups a descriptive name. Instead of typing a simple range of numbers into \"Assigned samples\", click on \"Randomise assignment\". You'll see that the textboxes are automatically filled with many numbers. These are the students that are randomly assigned to each group. Now, every group has short and tall people.\n",
    "\n",
    "Once you're done, click on \"Visualise assignment\". You should see a bar chart where the three colours are all mixed up, rather than neatly separated by height. Again, you can click on the legend items to show/hide each group."
   ]
  },
  {
   "cell_type": "code",
   "execution_count": 26,
   "metadata": {},
   "outputs": [
    {
     "data": {
      "application/vnd.jupyter.widget-view+json": {
       "model_id": "a9307ea4154b4dcfb7b441848fee94ff",
       "version_major": 2,
       "version_minor": 0
      },
      "text/plain": [
       "Button(description='Randomise assignment', layout=Layout(width='180px'), style=ButtonStyle())"
      ]
     },
     "metadata": {},
     "output_type": "display_data"
    },
    {
     "data": {
      "application/vnd.jupyter.widget-view+json": {
       "model_id": "1f6001b2444d4bc3ae98b82c92bc809c",
       "version_major": 2,
       "version_minor": 0
      },
      "text/plain": [
       "VBox(children=(HBox(children=(Label(value='Group 1', layout=Layout(width='70px')), Text(value='', description=…"
      ]
     },
     "metadata": {},
     "output_type": "display_data"
    },
    {
     "data": {
      "application/vnd.jupyter.widget-view+json": {
       "model_id": "f927cd39409b4b179908dfa5c9cf0add",
       "version_major": 2,
       "version_minor": 0
      },
      "text/plain": [
       "Button(description='Add another group', style=ButtonStyle())"
      ]
     },
     "metadata": {},
     "output_type": "display_data"
    },
    {
     "data": {
      "application/vnd.jupyter.widget-view+json": {
       "model_id": "6502d28ff2634dd1bd1a7adacadcdb17",
       "version_major": 2,
       "version_minor": 0
      },
      "text/plain": [
       "Button(description='Visualise assignment', style=ButtonStyle())"
      ]
     },
     "metadata": {},
     "output_type": "display_data"
    }
   ],
   "source": [
    "experiment4 = Experiment(basketball, init_data)\n",
    "experiment4.assignment()"
   ]
  },
  {
   "cell_type": "markdown",
   "metadata": {},
   "source": [
    "Run the following box. Just as before, select __Hours Practised per Week__ as the x-axis variable and __Success Rate__ as the y-axis variable."
   ]
  },
  {
   "cell_type": "code",
   "execution_count": null,
   "metadata": {},
   "outputs": [],
   "source": [
    "experiment4.setting(show=['Shot Type', 'Hours Practised per Week', 'Success Rate'], disable='Success Rate')"
   ]
  },
  {
   "cell_type": "markdown",
   "metadata": {},
   "source": [
    "## Question 4"
   ]
  },
  {
   "cell_type": "markdown",
   "metadata": {},
   "source": [
    "__According to this graph, which shot type is the most successful?__\n",
    "\n",
    "__Is there a correlation between hours practised per week and the success rate? Which shot type has the strongest correlation?__"
   ]
  },
  {
   "cell_type": "markdown",
   "metadata": {},
   "source": [
    "# Now it's your turn\n",
    "\n",
    "Now that you have learnt how to use the interface, you may design your own experiment! You may notice that the `Success Rate` setting is always fixed on __No intervention__, with the other options greyed out. This is because it is a dependent variable that you as the experimenter cannot intervene on. Play with it and familiarise yourself with it!"
   ]
  },
  {
   "cell_type": "code",
   "execution_count": 30,
   "metadata": {},
   "outputs": [
    {
     "data": {
      "application/vnd.jupyter.widget-view+json": {
       "model_id": "3c91ff3b530c4f21b4f3d9db1515e53e",
       "version_major": 2,
       "version_minor": 0
      },
      "text/plain": [
       "Button(description='Randomise assignment', layout=Layout(width='180px'), style=ButtonStyle())"
      ]
     },
     "metadata": {},
     "output_type": "display_data"
    },
    {
     "data": {
      "application/vnd.jupyter.widget-view+json": {
       "model_id": "8dce036e3dc84ed8a4e85139672f4d07",
       "version_major": 2,
       "version_minor": 0
      },
      "text/plain": [
       "VBox(children=(HBox(children=(Label(value='Group 1', layout=Layout(width='70px')), Text(value='', description=…"
      ]
     },
     "metadata": {},
     "output_type": "display_data"
    },
    {
     "data": {
      "application/vnd.jupyter.widget-view+json": {
       "model_id": "7b34fed6ed1b41748264f255b5f12d0e",
       "version_major": 2,
       "version_minor": 0
      },
      "text/plain": [
       "Button(description='Add another group', style=ButtonStyle())"
      ]
     },
     "metadata": {},
     "output_type": "display_data"
    },
    {
     "data": {
      "application/vnd.jupyter.widget-view+json": {
       "model_id": "a37c047d913a40a4812feedc6b333631",
       "version_major": 2,
       "version_minor": 0
      },
      "text/plain": [
       "Button(description='Visualise assignment', style=ButtonStyle())"
      ]
     },
     "metadata": {},
     "output_type": "display_data"
    }
   ],
   "source": [
    "experiment5 = Experiment(basketball, init_data)\n",
    "experiment5.assignment()"
   ]
  },
  {
   "cell_type": "code",
   "execution_count": null,
   "metadata": {},
   "outputs": [],
   "source": [
    "experiment5.setting(show=['Shot Type', 'Hours Practised per Week', 'Success Rate'], disable='Success Rate')"
   ]
  },
  {
   "cell_type": "code",
   "execution_count": 11,
   "metadata": {},
   "outputs": [
    {
     "data": {
      "application/vnd.jupyter.widget-view+json": {
       "model_id": "e1dd45d0f591488387129dd8537a15d4",
       "version_major": 2,
       "version_minor": 0
      },
      "text/plain": [
       "VBox(children=(HBox(children=(Dropdown(description='x-Axis Variable: ', options=('Height (cm)', 'Hours Practis…"
      ]
     },
     "metadata": {},
     "output_type": "display_data"
    },
    {
     "data": {
      "application/vnd.jupyter.widget-view+json": {
       "model_id": "22b23bb082784b81a2dd8b8ab15562c9",
       "version_major": 2,
       "version_minor": 0
      },
      "text/plain": [
       "RadioButtons(description='Group', layout=Layout(width='max-content'), options=('All',), value='All')"
      ]
     },
     "metadata": {},
     "output_type": "display_data"
    },
    {
     "data": {
      "text/plain": []
     },
     "metadata": {},
     "output_type": "display_data"
    }
   ],
   "source": [
    "experiment5.plot(show=['Shot Type', 'Hours Practised per Week', 'Height (cm)', 'Success Rate'])"
   ]
  },
  {
   "cell_type": "markdown",
   "metadata": {},
   "source": [
    "# Causal network\n",
    "\n",
    "To visualise the causal relationship between height, hours practised, and shot success rate, we can draw a causal network graph."
   ]
  },
  {
   "cell_type": "code",
   "execution_count": 12,
   "metadata": {},
   "outputs": [
    {
     "data": {
      "image/svg+xml": [
       "<?xml version=\"1.0\" encoding=\"UTF-8\" standalone=\"no\"?>\n",
       "<!DOCTYPE svg PUBLIC \"-//W3C//DTD SVG 1.1//EN\"\n",
       " \"http://www.w3.org/Graphics/SVG/1.1/DTD/svg11.dtd\">\n",
       "<!-- Generated by graphviz version 2.44.1 (20200629.0846)\n",
       " -->\n",
       "<!-- Title: Success Rate Pages: 1 -->\n",
       "<svg width=\"347pt\" height=\"188pt\"\n",
       " viewBox=\"0.00 0.00 346.79 188.00\" xmlns=\"http://www.w3.org/2000/svg\" xmlns:xlink=\"http://www.w3.org/1999/xlink\">\n",
       "<g id=\"graph0\" class=\"graph\" transform=\"scale(1 1) rotate(0) translate(4 184)\">\n",
       "<title>Success Rate</title>\n",
       "<polygon fill=\"white\" stroke=\"transparent\" points=\"-4,4 -4,-184 342.79,-184 342.79,4 -4,4\"/>\n",
       "<!-- Ability -->\n",
       "<g id=\"node1\" class=\"node\">\n",
       "<title>Ability</title>\n",
       "<ellipse fill=\"none\" stroke=\"black\" cx=\"148.45\" cy=\"-90\" rx=\"36\" ry=\"18\"/>\n",
       "<text text-anchor=\"middle\" x=\"148.45\" y=\"-86.3\" font-family=\"Times,serif\" font-size=\"14.00\">Ability</text>\n",
       "</g>\n",
       "<!-- Success Rate -->\n",
       "<g id=\"node2\" class=\"node\">\n",
       "<title>Success Rate</title>\n",
       "<ellipse fill=\"none\" stroke=\"black\" cx=\"97.45\" cy=\"-18\" rx=\"57.39\" ry=\"18\"/>\n",
       "<text text-anchor=\"middle\" x=\"97.45\" y=\"-14.3\" font-family=\"Times,serif\" font-size=\"14.00\">Success Rate</text>\n",
       "</g>\n",
       "<!-- Ability&#45;&gt;Success Rate -->\n",
       "<g id=\"edge1\" class=\"edge\">\n",
       "<title>Ability&#45;&gt;Success Rate</title>\n",
       "<path fill=\"none\" stroke=\"black\" d=\"M136.62,-72.76C130.34,-64.14 122.48,-53.36 115.46,-43.73\"/>\n",
       "<polygon fill=\"black\" stroke=\"black\" points=\"118.28,-41.65 109.56,-35.63 112.62,-45.78 118.28,-41.65\"/>\n",
       "</g>\n",
       "<!-- Height (cm) -->\n",
       "<g id=\"node3\" class=\"node\">\n",
       "<title>Height (cm)</title>\n",
       "<ellipse fill=\"none\" stroke=\"black\" cx=\"60.45\" cy=\"-162\" rx=\"53.89\" ry=\"18\"/>\n",
       "<text text-anchor=\"middle\" x=\"60.45\" y=\"-158.3\" font-family=\"Times,serif\" font-size=\"14.00\">Height (cm)</text>\n",
       "</g>\n",
       "<!-- Height (cm)&#45;&gt;Ability -->\n",
       "<g id=\"edge2\" class=\"edge\">\n",
       "<title>Height (cm)&#45;&gt;Ability</title>\n",
       "<path fill=\"none\" stroke=\"black\" d=\"M80.41,-145.12C92.76,-135.29 108.75,-122.58 122.12,-111.94\"/>\n",
       "<polygon fill=\"black\" stroke=\"black\" points=\"124.41,-114.59 130.06,-105.63 120.05,-109.11 124.41,-114.59\"/>\n",
       "</g>\n",
       "<!-- Hours Practised per Week -->\n",
       "<g id=\"node4\" class=\"node\">\n",
       "<title>Hours Practised per Week</title>\n",
       "<ellipse fill=\"none\" stroke=\"black\" cx=\"235.45\" cy=\"-162\" rx=\"103.18\" ry=\"18\"/>\n",
       "<text text-anchor=\"middle\" x=\"235.45\" y=\"-158.3\" font-family=\"Times,serif\" font-size=\"14.00\">Hours Practised per Week</text>\n",
       "</g>\n",
       "<!-- Hours Practised per Week&#45;&gt;Ability -->\n",
       "<g id=\"edge3\" class=\"edge\">\n",
       "<title>Hours Practised per Week&#45;&gt;Ability</title>\n",
       "<path fill=\"none\" stroke=\"black\" d=\"M214.39,-144.05C202.42,-134.43 187.34,-122.29 174.62,-112.06\"/>\n",
       "<polygon fill=\"black\" stroke=\"black\" points=\"176.65,-109.2 166.66,-105.66 172.26,-114.65 176.65,-109.2\"/>\n",
       "</g>\n",
       "<!-- Shot Type -->\n",
       "<g id=\"node5\" class=\"node\">\n",
       "<title>Shot Type</title>\n",
       "<ellipse fill=\"none\" stroke=\"black\" cx=\"47.45\" cy=\"-90\" rx=\"47.39\" ry=\"18\"/>\n",
       "<text text-anchor=\"middle\" x=\"47.45\" y=\"-86.3\" font-family=\"Times,serif\" font-size=\"14.00\">Shot Type</text>\n",
       "</g>\n",
       "<!-- Shot Type&#45;&gt;Success Rate -->\n",
       "<g id=\"edge4\" class=\"edge\">\n",
       "<title>Shot Type&#45;&gt;Success Rate</title>\n",
       "<path fill=\"none\" stroke=\"black\" d=\"M59.3,-72.41C65.31,-63.99 72.74,-53.58 79.45,-44.2\"/>\n",
       "<polygon fill=\"black\" stroke=\"black\" points=\"82.37,-46.13 85.33,-35.96 76.67,-42.06 82.37,-46.13\"/>\n",
       "</g>\n",
       "</g>\n",
       "</svg>\n"
      ],
      "text/plain": [
       "<graphviz.dot.Digraph at 0x12daf9400>"
      ]
     },
     "execution_count": 12,
     "metadata": {},
     "output_type": "execute_result"
    }
   ],
   "source": [
    "basketball.drawNetwork()"
   ]
  },
  {
   "cell_type": "code",
   "execution_count": null,
   "metadata": {},
   "outputs": [],
   "source": []
  }
 ],
 "metadata": {
  "kernelspec": {
   "display_name": "Python 3",
   "language": "python",
   "name": "python3"
  },
  "language_info": {
   "codemirror_mode": {
    "name": "ipython",
    "version": 3
   },
   "file_extension": ".py",
   "mimetype": "text/x-python",
   "name": "python",
   "nbconvert_exporter": "python",
   "pygments_lexer": "ipython3",
   "version": "3.8.5"
  }
 },
 "nbformat": 4,
 "nbformat_minor": 4
}
