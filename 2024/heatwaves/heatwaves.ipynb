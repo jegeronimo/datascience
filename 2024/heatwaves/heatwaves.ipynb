{
 "cells": [
  {
   "cell_type": "markdown",
   "id": "f94b152e-58df-4c8d-9b3e-4f0d8089bd57",
   "metadata": {},
   "source": [
    "# Heatwaves & Climate Policy"
   ]
  },
  {
   "cell_type": "markdown",
   "id": "93e89b23-1a6c-4c40-965c-a93b99d85830",
   "metadata": {},
   "source": [
    "## Part 1: Signal and Noise in Climate Modelling\n",
    "\n",
    "A record-breaking heatwave affected the European continent in summer 2003. \n",
    "\n",
    "Source: [The role of increasing temperature variability in European summer heatwaves](https://www.nature.com/articles/nature02300) <br /> \n",
    "Data : [Homogeneous data series since 1864](https://www.meteoswiss.admin.ch/services-and-publications/applications/ext/climate-tables-homogenized.html)\n"
   ]
  },
  {
   "cell_type": "code",
   "execution_count": 77,
   "id": "10227a23-0210-41f5-beb3-4b2a768fac08",
   "metadata": {},
   "outputs": [],
   "source": [
    "#Just run this cell\n",
    "import numpy as np\n",
    "import pandas as pd\n",
    "\n",
    "import matplotlib\n",
    "import matplotlib.pyplot as plt\n",
    "import seaborn as sns"
   ]
  },
  {
   "cell_type": "code",
   "execution_count": 78,
   "id": "f085eae8-2df8-4ee8-a303-ccc67591fa6f",
   "metadata": {},
   "outputs": [],
   "source": [
    "#Assigning each station's data to it's own dataframe\n",
    "basel_df = pd.read_csv(\"data/temp_data_basel.csv\").iloc[:, 1:]\n",
    "bern_df = pd.read_csv(\"data/temp_data_bern.csv\").iloc[:, 1:]\n",
    "geneva_df = pd.read_csv(\"data/temp_data_geneva.csv\").iloc[:, 1:]\n",
    "zurich_df = pd.read_csv(\"data/temp_data_zurich.csv\").iloc[:, 1:]"
   ]
  },
  {
   "cell_type": "code",
   "execution_count": 79,
   "id": "3889bb84-9885-4f74-a219-92884f2d9648",
   "metadata": {},
   "outputs": [],
   "source": [
    "#Aggregating data of all stations, filtering for July values, grouping by year across stations, collecting mean values\n",
    "combined_df = pd.concat([basel_df, bern_df, geneva_df, zurich_df], axis=0)\n",
    "jja_combined_df = combined_df[(combined_df[\"Month\"] == 6) | (combined_df[\"Month\"] == 7) | (combined_df[\"Month\"] == 8)].iloc[:, [1,3, 4]] #JJA\n",
    "jja_mean_temps = july_combined_df.groupby(\"Year\").agg(\"mean\").reset_index()\n",
    "\n",
    "#Data from 1864-2003 (as done in study)\n",
    "study_mean_temps = jja_mean_temps[july_mean_temps[\"Year\"] < 2004]"
   ]
  },
  {
   "cell_type": "code",
   "execution_count": 80,
   "id": "463941c9-0509-430f-81b7-1952aae142fb",
   "metadata": {},
   "outputs": [
    {
     "data": {
      "text/html": [
       "<div>\n",
       "<style scoped>\n",
       "    .dataframe tbody tr th:only-of-type {\n",
       "        vertical-align: middle;\n",
       "    }\n",
       "\n",
       "    .dataframe tbody tr th {\n",
       "        vertical-align: top;\n",
       "    }\n",
       "\n",
       "    .dataframe thead th {\n",
       "        text-align: right;\n",
       "    }\n",
       "</style>\n",
       "<table border=\"1\" class=\"dataframe\">\n",
       "  <thead>\n",
       "    <tr style=\"text-align: right;\">\n",
       "      <th></th>\n",
       "      <th>Year</th>\n",
       "      <th>Temperature</th>\n",
       "      <th>Precipitation</th>\n",
       "    </tr>\n",
       "  </thead>\n",
       "  <tbody>\n",
       "    <tr>\n",
       "      <th>0</th>\n",
       "      <td>1864</td>\n",
       "      <td>16.183333</td>\n",
       "      <td>82.450000</td>\n",
       "    </tr>\n",
       "    <tr>\n",
       "      <th>1</th>\n",
       "      <td>1865</td>\n",
       "      <td>17.258333</td>\n",
       "      <td>85.858333</td>\n",
       "    </tr>\n",
       "    <tr>\n",
       "      <th>2</th>\n",
       "      <td>1866</td>\n",
       "      <td>16.816667</td>\n",
       "      <td>85.133333</td>\n",
       "    </tr>\n",
       "    <tr>\n",
       "      <th>3</th>\n",
       "      <td>1867</td>\n",
       "      <td>16.808333</td>\n",
       "      <td>89.766667</td>\n",
       "    </tr>\n",
       "    <tr>\n",
       "      <th>4</th>\n",
       "      <td>1868</td>\n",
       "      <td>17.883333</td>\n",
       "      <td>76.566667</td>\n",
       "    </tr>\n",
       "  </tbody>\n",
       "</table>\n",
       "</div>"
      ],
      "text/plain": [
       "   Year  Temperature  Precipitation\n",
       "0  1864    16.183333      82.450000\n",
       "1  1865    17.258333      85.858333\n",
       "2  1866    16.816667      85.133333\n",
       "3  1867    16.808333      89.766667\n",
       "4  1868    17.883333      76.566667"
      ]
     },
     "execution_count": 80,
     "metadata": {},
     "output_type": "execute_result"
    }
   ],
   "source": [
    "#Final dataset students will work with\n",
    "jja_mean_temps.head(5)"
   ]
  },
  {
   "cell_type": "code",
   "execution_count": 84,
   "id": "66c77c20-8f3f-4bd8-8e4b-1959ca2ccae5",
   "metadata": {},
   "outputs": [
    {
     "data": {
      "image/png": "[encoded data removed]",
      "text/plain": [
       "<Figure size 800x300 with 1 Axes>"
      ]
     },
     "metadata": {},
     "output_type": "display_data"
    }
   ],
   "source": [
    "#Recreating the plot from study, 2003 summer is shown in red (on the right)\n",
    "plt.figure(figsize=(8, 3))\n",
    "sns.rugplot(study_mean_temps[\"Temperature\"], color = 'blue')\n",
    "sns.rugplot(study_mean_temps[study_mean_temps[\"Year\"] == 2003][\"Temperature\"], color = 'red', label = '2003')\n",
    "sns.histplot(study_mean_temps[\"Temperature\"], color='pink')\n",
    "plt.title('Historical Range of Summer Temperatures')\n",
    "plt.xlabel('Temperature (°C)')\n",
    "plt.ylabel('Frequency')\n",
    "plt.tight_layout()\n",
    "plt.legend()\n",
    "plt.show()"
   ]
  },
  {
   "cell_type": "markdown",
   "id": "763766b3-af0a-45f3-bfec-b2e26ccd4d64",
   "metadata": {},
   "source": [
    "*Note: Questions have not been developed for this part yet, only data cleaning has been done.*"
   ]
  },
  {
   "cell_type": "markdown",
   "id": "c401f680-a41e-4c89-ae63-7a69cde18b7e",
   "metadata": {},
   "source": [
    "## Part 2: Fermi Problems"
   ]
  },
  {
   "cell_type": "markdown",
   "id": "09231d3c-82be-4b89-8ede-f17794dc648a",
   "metadata": {},
   "source": [
    "In the aftermath of an intense summer heatwave, Swiss policymakers and advocacy groups have suggested policies to implement as adaptations strategies to increased temperatures:\n",
    "- A nationwide alert system that sends notifications to each phone user\n",
    "- Urban cooling centers for vulnerable populations\n",
    "- Increasing vegetation and trees in urban areas\n",
    "- Replace roofs with green or cool roofs\n",
    "\n",
    "Below is some information you may find useful in you calculations.\n",
    "Remember your goal is not to be perfect with to attempt to guess in the correct order of magnitude.\n",
    "- Population of Switzerland: 8.7 million\n",
    "  \n",
    "*Source: https://www.epa.gov/heatislands/adapting-heat*"
   ]
  },
  {
   "cell_type": "markdown",
   "id": "a9350faf-dcac-46d2-82e3-7049bc5bf02e",
   "metadata": {},
   "source": [
    "#### Question 2.1\n",
    "Estimate how many people each of the following policies would directly affect."
   ]
  },
  {
   "cell_type": "markdown",
   "id": "8687a8bc-b77a-47cf-bc08-3702af233da4",
   "metadata": {},
   "source": []
  },
  {
   "cell_type": "markdown",
   "id": "5d106f29-494c-4f48-9dc3-577b102dbd9a",
   "metadata": {},
   "source": [
    "#### Question 2.2\n",
    "Estimate how much each of the following policies would cost the Swiss government to implement."
   ]
  },
  {
   "cell_type": "code",
   "execution_count": null,
   "id": "e4e4dfbf-de58-456b-9b38-b4616e4fddba",
   "metadata": {},
   "outputs": [],
   "source": []
  },
  {
   "cell_type": "markdown",
   "id": "25c377e6-5907-47a6-9a9a-af38be06ae18",
   "metadata": {},
   "source": [
    "#### Question 2.3\n",
    "Based off your findings in Part 1 and your estimations above, what **one** policy would you choose? Justify your answer. There is no one right answer. Use what you have learned so far in this class in your justification. "
   ]
  },
  {
   "cell_type": "code",
   "execution_count": null,
   "id": "272c0b1b-4c45-4a9d-93d3-5553aa1cf7a5",
   "metadata": {},
   "outputs": [],
   "source": []
  }
 ],
 "metadata": {
  "kernelspec": {
   "display_name": "Python 3 (ipykernel)",
   "language": "python",
   "name": "python3"
  },
  "language_info": {
   "codemirror_mode": {
    "name": "ipython",
    "version": 3
   },
   "file_extension": ".py",
   "mimetype": "text/x-python",
   "name": "python",
   "nbconvert_exporter": "python",
   "pygments_lexer": "ipython3",
   "version": "3.9.15"
  }
 },
 "nbformat": 4,
 "nbformat_minor": 5
}
