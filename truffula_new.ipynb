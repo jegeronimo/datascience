{
 "cells": [
  {
   "cell_type": "code",
   "execution_count": 1,
   "metadata": {},
   "outputs": [
    {
     "data": {
      "text/html": [
       "<style>\n",
       "    [title=\"Assigned samples:\"] { min-width: 150px; }\n",
       "</style>"
      ],
      "text/plain": [
       "<IPython.core.display.HTML object>"
      ]
     },
     "metadata": {},
     "output_type": "display_data"
    }
   ],
   "source": [
    "from causality_simulation2 import *"
   ]
  },
  {
   "cell_type": "markdown",
   "metadata": {},
   "source": [
    "# Part 1"
   ]
  },
  {
   "cell_type": "markdown",
   "metadata": {},
   "source": [
    "The truffula tree bears fruit every year during summer. Hans, a botanist, wants to know whether the number of fruits that a truffula tree bears affects the neighbouring bee population. Out of 500 trees in his truffula orchard, he carefully records the average daily number of bees that land on each tree, as well as the total number of fruits during the fruit-bearing season."
   ]
  },
  {
   "cell_type": "code",
   "execution_count": 2,
   "metadata": {},
   "outputs": [],
   "source": [
    "x = np.linspace(0, 1000, 50)\n",
    "y = np.linspace(0, 1000, 50)\n",
    "grid = np.transpose([np.tile(x, len(y)), np.repeat(y, len(x))])\n",
    "ids = sorted(np.random.choice(np.arange(50*50), 500))\n",
    "coords = np.array([grid[i] for i in ids])\n",
    "init_data = {\n",
    "    'Longitude': coords[:,0],\n",
    "    'Latitude': coords[:,1]\n",
    "}"
   ]
  },
  {
   "cell_type": "code",
   "execution_count": 5,
   "metadata": {},
   "outputs": [],
   "source": [
    "config = [\n",
    "    {\n",
    "        'name': 'Observation',\n",
    "        'samples_str': '1-500',\n",
    "        'intervention': {}\n",
    "    }\n",
    "]\n",
    "truffula.generate(init_data, config, 400)"
   ]
  },
  {
   "cell_type": "code",
   "execution_count": 6,
   "metadata": {},
   "outputs": [
    {
     "data": {
      "image/png": "[encoded data removed]",
      "text/plain": [
       "<Figure size 1008x360 with 2 Axes>"
      ]
     },
     "metadata": {
      "needs_background": "light"
     },
     "output_type": "display_data"
    }
   ],
   "source": [
    "truffula.statsContinuous('Observation', 'Number of Fruits', 'Number of Bees')"
   ]
  },
  {
   "cell_type": "code",
   "execution_count": 3,
   "metadata": {},
   "outputs": [
    {
     "data": {
      "application/vnd.jupyter.widget-view+json": {
       "model_id": "94120a97b6aa475a824963140b05653a",
       "version_major": 2,
       "version_minor": 0
      },
      "text/plain": [
       "Button(description='Randomise assignment', layout=Layout(width='180px'), style=ButtonStyle())"
      ]
     },
     "metadata": {},
     "output_type": "display_data"
    },
    {
     "data": {
      "application/vnd.jupyter.widget-view+json": {
       "model_id": "49f11c3aa4a2444b85edc270825bcf7f",
       "version_major": 2,
       "version_minor": 0
      },
      "text/plain": [
       "VBox(children=(HBox(children=(Label(value='Group 1', layout=Layout(width='70px')), Text(value='', description=…"
      ]
     },
     "metadata": {},
     "output_type": "display_data"
    },
    {
     "data": {
      "application/vnd.jupyter.widget-view+json": {
       "model_id": "82897244757f4c9f8b6c44fa6cc3d528",
       "version_major": 2,
       "version_minor": 0
      },
      "text/plain": [
       "Button(description='Add another group', style=ButtonStyle())"
      ]
     },
     "metadata": {},
     "output_type": "display_data"
    },
    {
     "data": {
      "application/vnd.jupyter.widget-view+json": {
       "model_id": "ddada2bc12a04d8a830f3c7988760462",
       "version_major": 2,
       "version_minor": 0
      },
      "text/plain": [
       "Button(description='Visualise assignment', style=ButtonStyle())"
      ]
     },
     "metadata": {},
     "output_type": "display_data"
    },
    {
     "data": {
      "application/vnd.jupyter.widget-view+json": {
       "model_id": "1828a03a89f84c40806a6a01fc2e372c",
       "version_major": 2,
       "version_minor": 0
      },
      "text/plain": [
       "FigureWidget({\n",
       "    'data': [{'hovertemplate': 'Latitude: %{x} <br>Longitude: %{y} <br>',\n",
       "              'marker…"
      ]
     },
     "metadata": {},
     "output_type": "display_data"
    }
   ],
   "source": [
    "assignment_observation = {\n",
    "    'name': 'Observation',\n",
    "    'samples_str': '1-500'\n",
    "}\n",
    "experiment_observation = Experiment(truffula, init_data)\n",
    "experiment_observation.assignment(config=[assignment_observation], hide_random=True)"
   ]
  },
  {
   "cell_type": "code",
   "execution_count": null,
   "metadata": {},
   "outputs": [],
   "source": [
    "experiment_observation.data['Observation'].iloc[[]]"
   ]
  },
  {
   "cell_type": "code",
   "execution_count": 4,
   "metadata": {},
   "outputs": [
    {
     "data": {
      "application/vnd.jupyter.widget-view+json": {
       "model_id": "f2fee27505344caebc6073d25aa43be8",
       "version_major": 2,
       "version_minor": 0
      },
      "text/plain": [
       "Label(value='Group name: Observation, 500 samples')"
      ]
     },
     "metadata": {},
     "output_type": "display_data"
    },
    {
     "data": {
      "application/vnd.jupyter.widget-view+json": {
       "model_id": "55152e6ecc4d430da89b5f279426ae63",
       "version_major": 2,
       "version_minor": 0
      },
      "text/plain": [
       "HBox(children=(Label(value='', layout=Layout(width='20px')), Label(value='Number of Bees', layout=Layout(width…"
      ]
     },
     "metadata": {},
     "output_type": "display_data"
    },
    {
     "data": {
      "application/vnd.jupyter.widget-view+json": {
       "model_id": "14dd737d04944818a82bbd7f2f059ad1",
       "version_major": 2,
       "version_minor": 0
      },
      "text/plain": [
       "HBox(children=(Label(value='', layout=Layout(width='20px')), Label(value='Number of Fruits', layout=Layout(wid…"
      ]
     },
     "metadata": {},
     "output_type": "display_data"
    },
    {
     "data": {
      "application/vnd.jupyter.widget-view+json": {
       "model_id": "09c5ae9eafc34f63bdaeea19e1cf6bcd",
       "version_major": 2,
       "version_minor": 0
      },
      "text/plain": [
       "Button(description='Perform experiment', style=ButtonStyle())"
      ]
     },
     "metadata": {},
     "output_type": "display_data"
    },
    {
     "data": {
      "application/vnd.jupyter.widget-view+json": {
       "model_id": "7a3eae272dfc47fc9056e6b344fee265",
       "version_major": 2,
       "version_minor": 0
      },
      "text/plain": [
       "Label(value='Data from experiment collected!')"
      ]
     },
     "metadata": {},
     "output_type": "display_data"
    }
   ],
   "source": [
    "experiment_observation.setting(show=['Number of Bees', 'Number of Fruits'], disable='all')"
   ]
  },
  {
   "cell_type": "code",
   "execution_count": 5,
   "metadata": {},
   "outputs": [
    {
     "data": {
      "application/vnd.jupyter.widget-view+json": {
       "model_id": "17d8aa63a5584394a31b170e136a985c",
       "version_major": 2,
       "version_minor": 0
      },
      "text/plain": [
       "VBox(children=(HBox(children=(Dropdown(description='Gradient: ', options=('Number of Bees', 'Number of Fruits'…"
      ]
     },
     "metadata": {},
     "output_type": "display_data"
    }
   ],
   "source": [
    "experiment_observation.plotOrchard(gradient='Number of Bees', show=['Number of Bees', 'Number of Fruits'])"
   ]
  },
  {
   "cell_type": "code",
   "execution_count": 6,
   "metadata": {},
   "outputs": [
    {
     "data": {
      "application/vnd.jupyter.widget-view+json": {
       "model_id": "be7539f7d7ae4427b0e5cbf17f8a5d2e",
       "version_major": 2,
       "version_minor": 0
      },
      "text/plain": [
       "VBox(children=(HBox(children=(Dropdown(description='x-Axis Variable: ', options=('Number of Bees', 'Number of …"
      ]
     },
     "metadata": {},
     "output_type": "display_data"
    },
    {
     "data": {
      "application/vnd.jupyter.widget-view+json": {
       "model_id": "8ecda1989e484ba8b528e1566175c4df",
       "version_major": 2,
       "version_minor": 0
      },
      "text/plain": [
       "RadioButtons(description='Group', layout=Layout(width='max-content'), options=('Observation', 'All'), value='O…"
      ]
     },
     "metadata": {},
     "output_type": "display_data"
    },
    {
     "data": {
      "text/plain": []
     },
     "metadata": {},
     "output_type": "display_data"
    }
   ],
   "source": [
    "experiment_observation.plot(show=['Number of Bees', 'Number of Fruits'])"
   ]
  },
  {
   "cell_type": "markdown",
   "metadata": {},
   "source": [
    "# Part 2"
   ]
  },
  {
   "cell_type": "markdown",
   "metadata": {},
   "source": [
    "Hans then decides to perform an experiment. Over the course of the following summer, he randomly selects 250 out of the 500 truffula trees, and diligently plucks out all the fruits that are starting to grow on these trees. The other 250 trees are left alone. He continues to record the average daily number of bees that land on each of the 500 trees."
   ]
  },
  {
   "cell_type": "code",
   "execution_count": 3,
   "metadata": {},
   "outputs": [],
   "source": [
    "config = [\n",
    "    {\n",
    "        'name': 'Control',\n",
    "        'samples_str': '',\n",
    "        'intervention': {}\n",
    "    },\n",
    "    {\n",
    "        'name': 'Intervention (no fruits)',\n",
    "        'samples_str': '',\n",
    "        'intervention': {\n",
    "            'Number of Fruits': ['fixed', 0]\n",
    "        }\n",
    "    }\n",
    "]\n",
    "truffula.generate(init_data, config, 400)"
   ]
  },
  {
   "cell_type": "code",
   "execution_count": 4,
   "metadata": {},
   "outputs": [
    {
     "data": {
      "image/png": "[encoded data removed]",
      "text/plain": [
       "<Figure size 1008x360 with 2 Axes>"
      ]
     },
     "metadata": {
      "needs_background": "light"
     },
     "output_type": "display_data"
    }
   ],
   "source": [
    "truffula.statsAB('Control', 'Intervention (no fruits)', 'Number of Bees')"
   ]
  },
  {
   "cell_type": "code",
   "execution_count": 7,
   "metadata": {
    "scrolled": false
   },
   "outputs": [
    {
     "data": {
      "application/vnd.jupyter.widget-view+json": {
       "model_id": "ca55400a2a6e46e28e99b738a8417812",
       "version_major": 2,
       "version_minor": 0
      },
      "text/plain": [
       "Button(description='Randomise assignment', layout=Layout(width='180px'), style=ButtonStyle())"
      ]
     },
     "metadata": {},
     "output_type": "display_data"
    },
    {
     "data": {
      "application/vnd.jupyter.widget-view+json": {
       "model_id": "9ae4e046e0364cc0bfd1586661dfad49",
       "version_major": 2,
       "version_minor": 0
      },
      "text/plain": [
       "VBox(children=(HBox(children=(Label(value='Group 1', layout=Layout(width='70px')), Text(value='', description=…"
      ]
     },
     "metadata": {},
     "output_type": "display_data"
    },
    {
     "data": {
      "application/vnd.jupyter.widget-view+json": {
       "model_id": "8f8af19de39441b39e3643f188481311",
       "version_major": 2,
       "version_minor": 0
      },
      "text/plain": [
       "Button(description='Add another group', style=ButtonStyle())"
      ]
     },
     "metadata": {},
     "output_type": "display_data"
    },
    {
     "data": {
      "application/vnd.jupyter.widget-view+json": {
       "model_id": "d177033c9cbe4d74b1c11399a9b48df3",
       "version_major": 2,
       "version_minor": 0
      },
      "text/plain": [
       "Button(description='Visualise assignment', style=ButtonStyle())"
      ]
     },
     "metadata": {},
     "output_type": "display_data"
    },
    {
     "data": {
      "application/vnd.jupyter.widget-view+json": {
       "model_id": "b3dec655be8d48eba7b85337ad38df67",
       "version_major": 2,
       "version_minor": 0
      },
      "text/plain": [
       "FigureWidget({\n",
       "    'data': [{'hovertemplate': 'Latitude: %{x} <br>Longitude: %{y} <br>',\n",
       "              'marker…"
      ]
     },
     "metadata": {},
     "output_type": "display_data"
    }
   ],
   "source": [
    "assignment_nofruits_control = {\n",
    "    'name': 'Control',\n",
    "    'samples_str': ''\n",
    "}\n",
    "assignment_nofruits_intervene = {\n",
    "    'name': 'Intervention (no fruits)',\n",
    "    'samples_str': ''\n",
    "}\n",
    "assignment = [assignment_nofruits_control, assignment_nofruits_intervene]\n",
    "experiment_nofruits = Experiment(truffula, init_data)\n",
    "experiment_nofruits.assignment(config=assignment)"
   ]
  },
  {
   "cell_type": "code",
   "execution_count": 8,
   "metadata": {},
   "outputs": [
    {
     "data": {
      "application/vnd.jupyter.widget-view+json": {
       "model_id": "c0c2c6efdbe549e3be799803b2cdfb41",
       "version_major": 2,
       "version_minor": 0
      },
      "text/plain": [
       "Label(value='Group name: Control, 250 samples')"
      ]
     },
     "metadata": {},
     "output_type": "display_data"
    },
    {
     "data": {
      "application/vnd.jupyter.widget-view+json": {
       "model_id": "a7083de6ae8d483e9c350d053fd88993",
       "version_major": 2,
       "version_minor": 0
      },
      "text/plain": [
       "HBox(children=(Label(value='', layout=Layout(width='20px')), Label(value='Number of Bees', layout=Layout(width…"
      ]
     },
     "metadata": {},
     "output_type": "display_data"
    },
    {
     "data": {
      "application/vnd.jupyter.widget-view+json": {
       "model_id": "645335731d63493780da14ee401b1633",
       "version_major": 2,
       "version_minor": 0
      },
      "text/plain": [
       "HBox(children=(Label(value='', layout=Layout(width='20px')), Label(value='Number of Fruits', layout=Layout(wid…"
      ]
     },
     "metadata": {},
     "output_type": "display_data"
    },
    {
     "data": {
      "application/vnd.jupyter.widget-view+json": {
       "model_id": "31dbe73b1b874378931c19c25677d04f",
       "version_major": 2,
       "version_minor": 0
      },
      "text/plain": [
       "Label(value='Group name: Intervention (no fruits), 250 samples')"
      ]
     },
     "metadata": {},
     "output_type": "display_data"
    },
    {
     "data": {
      "application/vnd.jupyter.widget-view+json": {
       "model_id": "8c0a28d8b7f7478c8e496a515bf47114",
       "version_major": 2,
       "version_minor": 0
      },
      "text/plain": [
       "HBox(children=(Label(value='', layout=Layout(width='20px')), Label(value='Number of Bees', layout=Layout(width…"
      ]
     },
     "metadata": {},
     "output_type": "display_data"
    },
    {
     "data": {
      "application/vnd.jupyter.widget-view+json": {
       "model_id": "9ef594bc61664a9d8f9fefdf378b26d2",
       "version_major": 2,
       "version_minor": 0
      },
      "text/plain": [
       "HBox(children=(Label(value='', layout=Layout(width='20px')), Label(value='Number of Fruits', layout=Layout(wid…"
      ]
     },
     "metadata": {},
     "output_type": "display_data"
    },
    {
     "data": {
      "application/vnd.jupyter.widget-view+json": {
       "model_id": "fa5ebfcb2c61483d93976eee52d14276",
       "version_major": 2,
       "version_minor": 0
      },
      "text/plain": [
       "Button(description='Perform experiment', style=ButtonStyle())"
      ]
     },
     "metadata": {},
     "output_type": "display_data"
    },
    {
     "data": {
      "application/vnd.jupyter.widget-view+json": {
       "model_id": "96db55f30a484a4b95923345d9f6e7b4",
       "version_major": 2,
       "version_minor": 0
      },
      "text/plain": [
       "Label(value='Data from experiment collected!')"
      ]
     },
     "metadata": {},
     "output_type": "display_data"
    }
   ],
   "source": [
    "intervention_nofruits_control = {\n",
    "    'name': 'Control',\n",
    "    'intervention': {\n",
    "    }\n",
    "}\n",
    "intervention_nofruits_intervene = {\n",
    "    'name': 'Intervention (no fruits)',\n",
    "    'intervention': {\n",
    "        'Number of Fruits': ['fixed', 0]\n",
    "    }\n",
    "}\n",
    "intervention = [intervention_nofruits_control, intervention_nofruits_intervene]\n",
    "experiment_nofruits.setting(config=intervention, show=['Number of Bees', 'Number of Fruits'], disable='all')"
   ]
  },
  {
   "cell_type": "code",
   "execution_count": 9,
   "metadata": {},
   "outputs": [
    {
     "data": {
      "application/vnd.jupyter.widget-view+json": {
       "model_id": "297dc15328b94ea5afe5b579f64280b9",
       "version_major": 2,
       "version_minor": 0
      },
      "text/plain": [
       "VBox(children=(HBox(children=(Dropdown(description='x-Axis Variable: ', options=('Number of Bees', 'Number of …"
      ]
     },
     "metadata": {},
     "output_type": "display_data"
    },
    {
     "data": {
      "application/vnd.jupyter.widget-view+json": {
       "model_id": "990ffc8056e74650af01cfb98d619005",
       "version_major": 2,
       "version_minor": 0
      },
      "text/plain": [
       "RadioButtons(description='Group', layout=Layout(width='max-content'), options=('Control', 'Intervention (no fr…"
      ]
     },
     "metadata": {},
     "output_type": "display_data"
    },
    {
     "data": {
      "text/plain": []
     },
     "metadata": {},
     "output_type": "display_data"
    }
   ],
   "source": [
    "experiment_nofruits.plot(show=['Number of Bees', 'Number of Fruits'])"
   ]
  },
  {
   "cell_type": "markdown",
   "metadata": {},
   "source": [
    "# Part 3"
   ]
  },
  {
   "cell_type": "markdown",
   "metadata": {},
   "source": [
    "Now it's your turn! Design an experiment to further investigate the causal relationship between the number of bees and the number of fruits that a truffula tree bears."
   ]
  },
  {
   "cell_type": "code",
   "execution_count": 5,
   "metadata": {},
   "outputs": [],
   "source": [
    "config = [\n",
    "    {\n",
    "        'name': 'Control',\n",
    "        'samples_str': '',\n",
    "        'intervention': {}\n",
    "    },\n",
    "    {\n",
    "        'name': 'Intervention (no bees)',\n",
    "        'samples_str': '',\n",
    "        'intervention': {\n",
    "            'Number of Bees': ['fixed', 0]\n",
    "        }\n",
    "    }\n",
    "]\n",
    "truffula.generate(init_data, config, 400)"
   ]
  },
  {
   "cell_type": "code",
   "execution_count": null,
   "metadata": {},
   "outputs": [],
   "source": [
    "truffula.statsAB('Control', 'Intervention (no bees)', 'Number of Fruits')"
   ]
  },
  {
   "cell_type": "code",
   "execution_count": 10,
   "metadata": {},
   "outputs": [
    {
     "data": {
      "application/vnd.jupyter.widget-view+json": {
       "model_id": "64ee4b2c04ac4536a1de309fccdf9d70",
       "version_major": 2,
       "version_minor": 0
      },
      "text/plain": [
       "Button(description='Randomise assignment', layout=Layout(width='180px'), style=ButtonStyle())"
      ]
     },
     "metadata": {},
     "output_type": "display_data"
    },
    {
     "data": {
      "application/vnd.jupyter.widget-view+json": {
       "model_id": "2abbdf00424a4addbc36f601eed43175",
       "version_major": 2,
       "version_minor": 0
      },
      "text/plain": [
       "VBox(children=(HBox(children=(Label(value='Group 1', layout=Layout(width='70px')), Text(value='', description=…"
      ]
     },
     "metadata": {},
     "output_type": "display_data"
    },
    {
     "data": {
      "application/vnd.jupyter.widget-view+json": {
       "model_id": "ac5bc06d20a9414f99ac90dd078a7010",
       "version_major": 2,
       "version_minor": 0
      },
      "text/plain": [
       "Button(description='Add another group', style=ButtonStyle())"
      ]
     },
     "metadata": {},
     "output_type": "display_data"
    },
    {
     "data": {
      "application/vnd.jupyter.widget-view+json": {
       "model_id": "107ed41285ad4e49b32fda9ed8ca76ef",
       "version_major": 2,
       "version_minor": 0
      },
      "text/plain": [
       "Button(description='Visualise assignment', style=ButtonStyle())"
      ]
     },
     "metadata": {},
     "output_type": "display_data"
    }
   ],
   "source": [
    "experiment = Experiment(truffula, init_data)\n",
    "experiment.assignment()"
   ]
  },
  {
   "cell_type": "code",
   "execution_count": 11,
   "metadata": {},
   "outputs": [
    {
     "data": {
      "application/vnd.jupyter.widget-view+json": {
       "model_id": "a030e921e0954f1b9844c9c345e49369",
       "version_major": 2,
       "version_minor": 0
      },
      "text/plain": [
       "Label(value='Group name: 1, 100 samples')"
      ]
     },
     "metadata": {},
     "output_type": "display_data"
    },
    {
     "data": {
      "application/vnd.jupyter.widget-view+json": {
       "model_id": "67f8c0e2c8934f04a8acc9ac02bae869",
       "version_major": 2,
       "version_minor": 0
      },
      "text/plain": [
       "HBox(children=(Label(value='', layout=Layout(width='20px')), Label(value='Number of Bees', layout=Layout(width…"
      ]
     },
     "metadata": {},
     "output_type": "display_data"
    },
    {
     "data": {
      "application/vnd.jupyter.widget-view+json": {
       "model_id": "a74a53d2042e4b2b91cf4aed7c32f5ba",
       "version_major": 2,
       "version_minor": 0
      },
      "text/plain": [
       "HBox(children=(Label(value='', layout=Layout(width='20px')), Label(value='Number of Fruits', layout=Layout(wid…"
      ]
     },
     "metadata": {},
     "output_type": "display_data"
    },
    {
     "data": {
      "application/vnd.jupyter.widget-view+json": {
       "model_id": "9dc1e0ec5c814a4cac78a67d74958223",
       "version_major": 2,
       "version_minor": 0
      },
      "text/plain": [
       "Label(value='Group name: 3, 100 samples')"
      ]
     },
     "metadata": {},
     "output_type": "display_data"
    },
    {
     "data": {
      "application/vnd.jupyter.widget-view+json": {
       "model_id": "d5aa08e919bb4ff4a6ba79f97dbf70ee",
       "version_major": 2,
       "version_minor": 0
      },
      "text/plain": [
       "HBox(children=(Label(value='', layout=Layout(width='20px')), Label(value='Number of Bees', layout=Layout(width…"
      ]
     },
     "metadata": {},
     "output_type": "display_data"
    },
    {
     "data": {
      "application/vnd.jupyter.widget-view+json": {
       "model_id": "7fb967be02cd4a9594634a2ea1f70e96",
       "version_major": 2,
       "version_minor": 0
      },
      "text/plain": [
       "HBox(children=(Label(value='', layout=Layout(width='20px')), Label(value='Number of Fruits', layout=Layout(wid…"
      ]
     },
     "metadata": {},
     "output_type": "display_data"
    },
    {
     "data": {
      "application/vnd.jupyter.widget-view+json": {
       "model_id": "45fb2512be4c4649982b876c3bd55c3f",
       "version_major": 2,
       "version_minor": 0
      },
      "text/plain": [
       "Button(description='Perform experiment', style=ButtonStyle())"
      ]
     },
     "metadata": {},
     "output_type": "display_data"
    },
    {
     "data": {
      "application/vnd.jupyter.widget-view+json": {
       "model_id": "22b57e188025435c8b2c1bfe439afa4f",
       "version_major": 2,
       "version_minor": 0
      },
      "text/plain": [
       "Label(value='Data from experiment collected!')"
      ]
     },
     "metadata": {},
     "output_type": "display_data"
    }
   ],
   "source": [
    "experiment.setting(show=['Number of Bees', 'Number of Fruits'])"
   ]
  },
  {
   "cell_type": "code",
   "execution_count": 12,
   "metadata": {},
   "outputs": [
    {
     "data": {
      "application/vnd.jupyter.widget-view+json": {
       "model_id": "b7bcaa4c6b0741d1b29e143445f917ac",
       "version_major": 2,
       "version_minor": 0
      },
      "text/plain": [
       "VBox(children=(HBox(children=(Dropdown(description='x-Axis Variable: ', options=('Number of Bees', 'Number of …"
      ]
     },
     "metadata": {},
     "output_type": "display_data"
    },
    {
     "data": {
      "application/vnd.jupyter.widget-view+json": {
       "model_id": "268dfe2759284d2db0511db929e3b0f5",
       "version_major": 2,
       "version_minor": 0
      },
      "text/plain": [
       "RadioButtons(description='Group', layout=Layout(width='max-content'), options=('1', '3', 'All'), value='1')"
      ]
     },
     "metadata": {},
     "output_type": "display_data"
    },
    {
     "data": {
      "text/plain": []
     },
     "metadata": {},
     "output_type": "display_data"
    }
   ],
   "source": [
    "experiment.plot(show=['Number of Bees', 'Number of Fruits'])"
   ]
  },
  {
   "cell_type": "code",
   "execution_count": 39,
   "metadata": {
    "scrolled": false
   },
   "outputs": [
    {
     "data": {
      "application/vnd.jupyter.widget-view+json": {
       "model_id": "bda06a2c804a490a820ecc1a5a54eda9",
       "version_major": 2,
       "version_minor": 0
      },
      "text/plain": [
       "Button(description='Randomise assignment', style=ButtonStyle())"
      ]
     },
     "metadata": {},
     "output_type": "display_data"
    },
    {
     "data": {
      "application/vnd.jupyter.widget-view+json": {
       "model_id": "dc5e3cc0ee5d481fa095ae37663f14ef",
       "version_major": 2,
       "version_minor": 0
      },
      "text/plain": [
       "VBox(children=(HBox(children=(Label(value='Group 1'), Text(value='', description='Name:'), Text(value='', desc…"
      ]
     },
     "metadata": {},
     "output_type": "display_data"
    },
    {
     "data": {
      "application/vnd.jupyter.widget-view+json": {
       "model_id": "b081e3a202bc45528d47501edccb4dfe",
       "version_major": 2,
       "version_minor": 0
      },
      "text/plain": [
       "Button(description='Add another group', style=ButtonStyle())"
      ]
     },
     "metadata": {},
     "output_type": "display_data"
    },
    {
     "data": {
      "application/vnd.jupyter.widget-view+json": {
       "model_id": "812b4e1cfee74d7f9750abc9ccaf0fbd",
       "version_major": 2,
       "version_minor": 0
      },
      "text/plain": [
       "Button(description='Visualise assignment', style=ButtonStyle())"
      ]
     },
     "metadata": {},
     "output_type": "display_data"
    },
    {
     "data": {
      "application/vnd.jupyter.widget-view+json": {
       "model_id": "7b080face9b141ba9eec2658c4906e64",
       "version_major": 2,
       "version_minor": 0
      },
      "text/plain": [
       "VBox(children=(HBox(children=(Dropdown(description='Gradient: ', options=('Latitude', 'Longitude'), value='Lat…"
      ]
     },
     "metadata": {},
     "output_type": "display_data"
    }
   ],
   "source": [
    "assignment = [\n",
    "    {\n",
    "        'name': 'West (water)',\n",
    "        'samples_str': '1-250'\n",
    "    },\n",
    "    {\n",
    "        'name': 'East (kombucha)',\n",
    "        'samples_str': '251-500'\n",
    "    }\n",
    "]\n",
    "exp.assignment(config=assignment)"
   ]
  },
  {
   "cell_type": "code",
   "execution_count": 41,
   "metadata": {
    "scrolled": false
   },
   "outputs": [
    {
     "data": {
      "application/vnd.jupyter.widget-view+json": {
       "model_id": "902dcd994ec54361a7d3cfca02121366",
       "version_major": 2,
       "version_minor": 0
      },
      "text/plain": [
       "Label(value='Group name: West (water), 250 samples')"
      ]
     },
     "metadata": {},
     "output_type": "display_data"
    },
    {
     "data": {
      "application/vnd.jupyter.widget-view+json": {
       "model_id": "c183a25771734ba48f7fedd9e175df20",
       "version_major": 2,
       "version_minor": 0
      },
      "text/plain": [
       "HBox(children=(Label(value='', layout=Layout(width='20px')), Label(value='Number of Bees', layout=Layout(width…"
      ]
     },
     "metadata": {},
     "output_type": "display_data"
    },
    {
     "data": {
      "application/vnd.jupyter.widget-view+json": {
       "model_id": "360e1ec2361a42f98d8be88ff23bee76",
       "version_major": 2,
       "version_minor": 0
      },
      "text/plain": [
       "HBox(children=(Label(value='', layout=Layout(width='20px')), Label(value='Number of Fruits', layout=Layout(wid…"
      ]
     },
     "metadata": {},
     "output_type": "display_data"
    },
    {
     "data": {
      "application/vnd.jupyter.widget-view+json": {
       "model_id": "36d64a727dc54c5382114ae1d7eaad6d",
       "version_major": 2,
       "version_minor": 0
      },
      "text/plain": [
       "HBox(children=(Label(value='', layout=Layout(width='20px')), Label(value='Supplement', layout=Layout(width='18…"
      ]
     },
     "metadata": {},
     "output_type": "display_data"
    },
    {
     "data": {
      "application/vnd.jupyter.widget-view+json": {
       "model_id": "5fa215b3f2564b62a0eab7cc986e7ff4",
       "version_major": 2,
       "version_minor": 0
      },
      "text/plain": [
       "Label(value='Group name: East (kombucha), 250 samples')"
      ]
     },
     "metadata": {},
     "output_type": "display_data"
    },
    {
     "data": {
      "application/vnd.jupyter.widget-view+json": {
       "model_id": "86b841b7e8ce45da879902877ef07880",
       "version_major": 2,
       "version_minor": 0
      },
      "text/plain": [
       "HBox(children=(Label(value='', layout=Layout(width='20px')), Label(value='Number of Bees', layout=Layout(width…"
      ]
     },
     "metadata": {},
     "output_type": "display_data"
    },
    {
     "data": {
      "application/vnd.jupyter.widget-view+json": {
       "model_id": "579a91d2e4fc48ca974a504179a53445",
       "version_major": 2,
       "version_minor": 0
      },
      "text/plain": [
       "HBox(children=(Label(value='', layout=Layout(width='20px')), Label(value='Number of Fruits', layout=Layout(wid…"
      ]
     },
     "metadata": {},
     "output_type": "display_data"
    },
    {
     "data": {
      "application/vnd.jupyter.widget-view+json": {
       "model_id": "492e6303c2bd4e498bc288a29fbc83d6",
       "version_major": 2,
       "version_minor": 0
      },
      "text/plain": [
       "HBox(children=(Label(value='', layout=Layout(width='20px')), Label(value='Supplement', layout=Layout(width='18…"
      ]
     },
     "metadata": {},
     "output_type": "display_data"
    },
    {
     "data": {
      "application/vnd.jupyter.widget-view+json": {
       "model_id": "e1ab70a5ef4d43ec937e797bea630920",
       "version_major": 2,
       "version_minor": 0
      },
      "text/plain": [
       "Button(description='Perform experiment', style=ButtonStyle())"
      ]
     },
     "metadata": {},
     "output_type": "display_data"
    },
    {
     "data": {
      "application/vnd.jupyter.widget-view+json": {
       "model_id": "2256ec7c80bb4d8aaf080c7da9da5f24",
       "version_major": 2,
       "version_minor": 0
      },
      "text/plain": [
       "Label(value='Data from experiment collected!')"
      ]
     },
     "metadata": {},
     "output_type": "display_data"
    }
   ],
   "source": [
    "intervention = [\n",
    "    {\n",
    "        'name': 'West (water)',\n",
    "        'intervention': {\n",
    "            'Supplement': ['fixed', 'Water']\n",
    "        }\n",
    "    },\n",
    "    {\n",
    "        'name': 'East (kombucha)',\n",
    "        'intervention': {\n",
    "            'Supplement': ['fixed', 'Kombucha']\n",
    "        }\n",
    "    }\n",
    "]\n",
    "exp.setting(config=intervention, show=['Number of Bees', 'Number of Fruits', 'Supplement'], disable='all')"
   ]
  },
  {
   "cell_type": "code",
   "execution_count": 42,
   "metadata": {},
   "outputs": [
    {
     "data": {
      "application/vnd.jupyter.widget-view+json": {
       "model_id": "597bc9474dc042b0bd2c36b1424d9eb8",
       "version_major": 2,
       "version_minor": 0
      },
      "text/plain": [
       "VBox(children=(HBox(children=(Dropdown(description='Gradient: ', options=('Fertilizer', 'Latitude', 'Longitude…"
      ]
     },
     "metadata": {},
     "output_type": "display_data"
    }
   ],
   "source": [
    "exp.plotOrchard()"
   ]
  },
  {
   "cell_type": "code",
   "execution_count": 47,
   "metadata": {},
   "outputs": [
    {
     "data": {
      "application/vnd.jupyter.widget-view+json": {
       "model_id": "0441381cff1f4bce8bf97ee1c181828b",
       "version_major": 2,
       "version_minor": 0
      },
      "text/plain": [
       "VBox(children=(HBox(children=(Dropdown(description='x-Axis Variable: ', options=('Number of Bees', 'Number of …"
      ]
     },
     "metadata": {},
     "output_type": "display_data"
    },
    {
     "data": {
      "application/vnd.jupyter.widget-view+json": {
       "model_id": "511e6cd6158d4106ac7f4586501e6ee4",
       "version_major": 2,
       "version_minor": 0
      },
      "text/plain": [
       "RadioButtons(description='Group', layout=Layout(width='max-content'), options=('West (water)', 'East (kombucha…"
      ]
     },
     "metadata": {},
     "output_type": "display_data"
    },
    {
     "data": {
      "text/plain": []
     },
     "metadata": {},
     "output_type": "display_data"
    }
   ],
   "source": [
    "exp.plot(show=['Number of Bees', 'Number of Fruits', 'Supplement'])"
   ]
  },
  {
   "cell_type": "code",
   "execution_count": null,
   "metadata": {},
   "outputs": [],
   "source": []
  }
 ],
 "metadata": {
  "kernelspec": {
   "display_name": "Python 3",
   "language": "python",
   "name": "python3"
  },
  "language_info": {
   "codemirror_mode": {
    "name": "ipython",
    "version": 3
   },
   "file_extension": ".py",
   "mimetype": "text/x-python",
   "name": "python",
   "nbconvert_exporter": "python",
   "pygments_lexer": "ipython3",
   "version": "3.8.5"
  }
 },
 "nbformat": 4,
 "nbformat_minor": 4
}
