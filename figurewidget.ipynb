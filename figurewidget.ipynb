{
 "cells": [
  {
   "cell_type": "markdown",
   "metadata": {},
   "source": [
    "#### NYC Flights Database"
   ]
  },
  {
   "cell_type": "code",
   "execution_count": 3,
   "metadata": {},
   "outputs": [],
   "source": [
    "import datetime\n",
    "import numpy as np\n",
    "import pandas as pd\n",
    "\n",
    "import plotly.graph_objects as go\n",
    "from ipywidgets import widgets\n",
    "from causality_simulation import *\n",
    "import plotly.express as px\n",
    "%matplotlib inline"
   ]
  },
  {
   "cell_type": "code",
   "execution_count": 5,
   "metadata": {},
   "outputs": [
    {
     "data": {
      "application/vnd.jupyter.widget-view+json": {
       "model_id": "09696529cbad4a229e7a7e3cee8a3eb9",
       "version_major": 2,
       "version_minor": 0
      },
      "text/plain": [
       "VBox(children=(HBox(children=(Label(value='Name the Group', layout=Layout(width='150px')), Text(value='Control…"
      ]
     },
     "metadata": {},
     "output_type": "display_data"
    },
    {
     "data": {
      "application/vnd.jupyter.widget-view+json": {
       "model_id": "cecbfb86c9bc4bbaa5cdba7075020883",
       "version_major": 2,
       "version_minor": 0
      },
      "text/plain": [
       "VBox(children=(HBox(children=(Label(value='Name the Group', layout=Layout(width='150px')), Text(value='Interve…"
      ]
     },
     "metadata": {},
     "output_type": "display_data"
    }
   ],
   "source": [
    "config_control = {\n",
    "    'name': 'Control',\n",
    "    'N': 250,\n",
    "    'intervene': {\n",
    "    }\n",
    "}\n",
    "config_intervene = {\n",
    "    'name': 'Intervention (no bees)',\n",
    "    'N': 250,\n",
    "    'intervene': {\n",
    "        'Number of Bees': ['fixed', 0]\n",
    "    }\n",
    "}\n",
    "config = [config_control, config_intervene]\n",
    "fruit_experiment = Experiment(fruit_node)\n",
    "fruit_experiment.fixedSetting(config=config)"
   ]
  },
  {
   "cell_type": "code",
   "execution_count": 16,
   "metadata": {},
   "outputs": [
    {
     "data": {
      "text/plain": [
       "['Control', 'Intervention (no bees)']"
      ]
     },
     "execution_count": 16,
     "metadata": {},
     "output_type": "execute_result"
    }
   ],
   "source": [
    "list(fruit_experiment.data.keys())"
   ]
  },
  {
   "cell_type": "markdown",
   "metadata": {},
   "source": [
    "We'll be making an application to take a look at delays from all flights out of NYC in the year 2013."
   ]
  },
  {
   "cell_type": "markdown",
   "metadata": {},
   "source": [
    "Let's assign the widgets that we're going to be using in our app. In general all these widgets will be used to filter the data set, and thus what we visualize."
   ]
  },
  {
   "cell_type": "code",
   "execution_count": 32,
   "metadata": {},
   "outputs": [
    {
     "data": {
      "application/vnd.jupyter.widget-view+json": {
       "model_id": "371be72be6154f8792b8370dc7a5d57c",
       "version_major": 2,
       "version_minor": 0
      },
      "text/plain": [
       "FigureWidget({\n",
       "    'data': [{'mode': 'markers',\n",
       "              'opacity': 0.75,\n",
       "              'type': 'scatter'…"
      ]
     },
     "metadata": {},
     "output_type": "display_data"
    }
   ],
   "source": [
    "group1 = widgets.Checkbox(\n",
    "    description=list(fruit_experiment.data.keys())[0],\n",
    "    value=True,\n",
    ")\n",
    "group2 = widgets.Checkbox(\n",
    "    description=list(fruit_experiment.data.keys())[1],\n",
    "    value=True,\n",
    ")\n",
    "\n",
    "container = widgets.HBox(children=[group1, group2])\n",
    "\n",
    "textbox1 = widgets.Dropdown(\n",
    "    description='x-Axis Variable: ',\n",
    "    value='Fertilizer',\n",
    "    options=list(fruit_experiment.data['Control'].keys())\n",
    ")\n",
    "textbox2 = widgets.Dropdown(\n",
    "    description='y-Axis Variable: ',\n",
    "    value='Fertilizer',\n",
    "    options=list(fruit_experiment.data['Control'].keys())\n",
    ")\n",
    "\n",
    "# Assign an empty figure widget with two traces\n",
    "trace1 = go.Scatter(x=fruit_experiment.data['Control']['Fertilizer'], y=fruit_experiment.data['Control']['Number of Fruits'], mode=\"markers\")\n",
    "trace2 = go.Scatter(x=fruit_experiment.data['Intervention (no bees)']['Fertilizer'], y=fruit_experiment.data['Intervention (no bees)']['Number of Fruits'], mode=\"markers\")\n",
    "\n",
    "g = go.FigureWidget(data=[trace1, trace2],\n",
    "                    layout=go.Layout(\n",
    "                        title=dict(\n",
    "                            text='Test'\n",
    "                        ),\n",
    "                        barmode='overlay'\n",
    "                    ))\n",
    "g.update_traces(opacity=0.75)"
   ]
  },
  {
   "cell_type": "markdown",
   "metadata": {},
   "source": [
    "Let now write a function that will handle the input from the widgets, and alter the state of the graph."
   ]
  },
  {
   "cell_type": "code",
   "execution_count": 34,
   "metadata": {},
   "outputs": [],
   "source": [
    "def validate():\n",
    "    return textbox1.value in list(fruit_experiment.data['Control'].keys()) and textbox2.value in list(fruit_experiment.data['Control'].keys())\n",
    "\n",
    "\n",
    "def response(change):\n",
    "    if validate():\n",
    "        if group1.value:\n",
    "            df = fruit_experiment.data['Control']\n",
    "            x1 = df[textbox1.value]\n",
    "            y1 = df[textbox2.value]\n",
    "        else:\n",
    "            x1 = ()\n",
    "            y1 = ()\n",
    "        if group2.value:\n",
    "            df = fruit_experiment.data['Intervention (no bees)']\n",
    "            x2 = df[textbox1.value]\n",
    "            y2 = df[textbox2.value]\n",
    "        else:\n",
    "            x2 = ()\n",
    "            y2 = ()\n",
    "        with g.batch_update():\n",
    "            g.data[0].x = x1\n",
    "            g.data[1].x = x2\n",
    "            g.data[0].y = y1\n",
    "            g.data[1].y = y2\n",
    "            g.layout.barmode = 'overlay'\n",
    "            g.layout.xaxis.title = textbox1.value\n",
    "            g.layout.yaxis.title = textbox2.value\n",
    "\n",
    "\n",
    "group1.observe(response, names=\"value\")\n",
    "group2.observe(response, names=\"value\")\n",
    "textbox1.observe(response, names=\"value\")\n",
    "textbox2.observe(response, names=\"value\")"
   ]
  },
  {
   "cell_type": "markdown",
   "metadata": {},
   "source": [
    "Time to try the app out!!"
   ]
  },
  {
   "cell_type": "code",
   "execution_count": 36,
   "metadata": {},
   "outputs": [
    {
     "data": {
      "application/vnd.jupyter.widget-view+json": {
       "model_id": "65218032023648df80714cb500b57ad2",
       "version_major": 2,
       "version_minor": 0
      },
      "text/plain": [
       "VBox(children=(HBox(children=(Checkbox(value=True, description='Control'), Checkbox(value=True, description='I…"
      ]
     },
     "metadata": {},
     "output_type": "display_data"
    }
   ],
   "source": [
    "container2 = widgets.HBox([textbox1, textbox2])\n",
    "widgets.VBox([container,\n",
    "              container2,\n",
    "              g])"
   ]
  },
  {
   "cell_type": "code",
   "execution_count": null,
   "metadata": {},
   "outputs": [],
   "source": [
    "%%html\n",
    "<img src = 'https://cloud.githubusercontent.com/assets/12302455/16637308/4e476280-43ac-11e6-9fd3-ada2c9506ee1.gif' >"
   ]
  },
  {
   "cell_type": "markdown",
   "metadata": {},
   "source": [
    "#### Reference"
   ]
  },
  {
   "cell_type": "code",
   "execution_count": null,
   "metadata": {},
   "outputs": [],
   "source": [
    "help(go.FigureWidget)"
   ]
  }
 ],
 "metadata": {
  "jupytext": {
   "notebook_metadata_filter": "all",
   "text_representation": {
    "extension": ".md",
    "format_name": "markdown",
    "format_version": "1.2",
    "jupytext_version": "1.5.2"
   }
  },
  "kernelspec": {
   "display_name": "Python 3",
   "language": "python",
   "name": "python3"
  },
  "language_info": {
   "codemirror_mode": {
    "name": "ipython",
    "version": 3
   },
   "file_extension": ".py",
   "mimetype": "text/x-python",
   "name": "python",
   "nbconvert_exporter": "python",
   "pygments_lexer": "ipython3",
   "version": "3.6.2"
  },
  "plotly": {
   "description": "Interactive Data Analysis with Plotly",
   "display_as": "chart_events",
   "language": "python",
   "layout": "base",
   "name": "Interactive Data Analysis with FigureWidget ipywidgets",
   "order": 3,
   "page_type": "example_index",
   "permalink": "python/figurewidget-app/",
   "redirect_from": "/python/slider-widget/",
   "thumbnail": "thumbnail/multi-widget.jpg"
  }
 },
 "nbformat": 4,
 "nbformat_minor": 4
}
