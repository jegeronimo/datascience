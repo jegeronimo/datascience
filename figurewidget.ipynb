{
 "cells": [
  {
   "cell_type": "markdown",
   "metadata": {},
   "source": [
    "#### NYC Flights Database"
   ]
  },
  {
   "cell_type": "code",
   "execution_count": 1,
   "metadata": {},
   "outputs": [],
   "source": [
    "import datetime\n",
    "import numpy as np\n",
    "import pandas as pd\n",
    "\n",
    "import plotly.graph_objects as go\n",
    "from ipywidgets import widgets\n",
    "from causality_simulation import *\n",
    "import plotly.express as px\n",
    "%matplotlib inline"
   ]
  },
  {
   "cell_type": "code",
   "execution_count": 2,
   "metadata": {},
   "outputs": [
    {
     "name": "stdout",
     "output_type": "stream",
     "text": [
      "['Water', 'Kombucha', 'Milk', 'Tea']\n"
     ]
    },
    {
     "data": {
      "application/vnd.jupyter.widget-view+json": {
       "model_id": "96d20bc4eae7403b88d200f9c6416549",
       "version_major": 2,
       "version_minor": 0
      },
      "text/plain": [
       "VBox(children=(HBox(children=(Label(value='Name the Group', layout=Layout(width='150px')), Text(value='Control…"
      ]
     },
     "metadata": {},
     "output_type": "display_data"
    },
    {
     "name": "stdout",
     "output_type": "stream",
     "text": [
      "['Water', 'Kombucha', 'Milk', 'Tea']\n"
     ]
    },
    {
     "data": {
      "application/vnd.jupyter.widget-view+json": {
       "model_id": "8a9d254bd48e4f2aa470e35cdb08b5fa",
       "version_major": 2,
       "version_minor": 0
      },
      "text/plain": [
       "VBox(children=(HBox(children=(Label(value='Name the Group', layout=Layout(width='150px')), Text(value='Interve…"
      ]
     },
     "metadata": {},
     "output_type": "display_data"
    }
   ],
   "source": [
    "config_control = {\n",
    "    'name': 'Control',\n",
    "    'N': 250,\n",
    "    'intervene': {\n",
    "    }\n",
    "}\n",
    "config_intervene = {\n",
    "    'name': 'Intervention (no bees)',\n",
    "    'N': 250,\n",
    "    'intervene': {\n",
    "        'Number of Bees': ['fixed', 0],\n",
    "        'Supplement': ['fixed', 'Kombucha']\n",
    "    }\n",
    "}\n",
    "config = [config_control, config_intervene]\n",
    "fruit_experiment = Experiment(fruit_node)\n",
    "fruit_experiment.fixedSetting(config=config)"
   ]
  },
  {
   "cell_type": "code",
   "execution_count": null,
   "metadata": {},
   "outputs": [],
   "source": [
    "data = fruit_experiment.data"
   ]
  },
  {
   "cell_type": "code",
   "execution_count": null,
   "metadata": {},
   "outputs": [],
   "source": [
    "import random\n",
    "data['Control']['h'] = np.array(random.choices(['hi', 'hello', 'how are you'], k=250))\n",
    "data['Intervention (no bees)']['h'] = np.array(random.choices(['hi', 'hello', 'how are you'], k=250))"
   ]
  },
  {
   "cell_type": "markdown",
   "metadata": {},
   "source": [
    "We'll be making an application to take a look at delays from all flights out of NYC in the year 2013."
   ]
  },
  {
   "cell_type": "markdown",
   "metadata": {},
   "source": [
    "Let's assign the widgets that we're going to be using in our app. In general all these widgets will be used to filter the data set, and thus what we visualize."
   ]
  },
  {
   "cell_type": "code",
   "execution_count": 34,
   "metadata": {},
   "outputs": [],
   "source": [
    "options = list(fruit_experiment.node.network.keys())\n",
    "textbox1 = widgets.Dropdown(\n",
    "    description='x-Axis Variable: ',\n",
    "    value=options[0],\n",
    "    options=options\n",
    ")\n",
    "textbox2 = widgets.Dropdown(\n",
    "    description='y-Axis Variable: ',\n",
    "    value=options[0],\n",
    "    options=options + ['None (Distributions Only)']\n",
    ")\n",
    "\n",
    "# Assign an empty figure widget with two traces\n",
    "\n",
    "def choose_trace(x, y, self=fruit_experiment):\n",
    "    xType, yType = self.node.nodeDict()[x].vartype, self.node.nodeDict()[y].vartype\n",
    "    if xType != 'categorical' and yType != 'categorical':\n",
    "        return 'scatter'\n",
    "    elif xType == 'categorical' and yType != 'categorical':\n",
    "        return 'bar'\n",
    "    elif xType != 'categorical' and yType == 'categorical':\n",
    "        return 'barh'\n",
    "        \n",
    "\n",
    "def construct_trace(x, y, traceType, self=fruit_experiment):\n",
    "    if traceType == 'scatter':\n",
    "        return lambda x={}, y={}, name=None: go.Scatter(x=x, y=y, mode='markers', opacity=0.75, name=name)\n",
    "    elif traceType == 'bar':\n",
    "        avg = self.data.groupby(x).agg('mean')\n",
    "        std = self.data.groupby(x).agg('std')[y]\n",
    "        return lambda x={}, y={}, name=None: go.Bar(x=list(avg.index), y=avg[y], name=name, error_y=dict(type='data', array=std[y]))\n",
    "    elif traceType == 'barh':\n",
    "        avg = self.data.groupby(y).agg('mean')\n",
    "        std = self.data.groupby(y).agg('std')[x]\n",
    "        return lambda x={}, y={}, name=None: go.Bar(x=avg[x], y=list(avg.index), name=name, error_y=dict(type='data', array=std[x]), orientation='h')\n",
    "\n",
    "    \n",
    "traces = []\n",
    "for group in fruit_experiment.group_names:\n",
    "    traces += [construct_trace(options[0], options[0], choose_trace(options[0], options[0]))(x=fruit_experiment.data[group][options[0]], y=fruit_experiment.data[group][options[0]], name=group)]\n",
    "\n",
    "g = go.FigureWidget(data=traces,\n",
    "                    layout=go.Layout(\n",
    "                        title=dict(\n",
    "                            text=options[0] + \" vs. \" + options[0]\n",
    "                        ),\n",
    "                        barmode='overlay',\n",
    "                        height=500,\n",
    "                        width=800,\n",
    "                        xaxis=dict(title=options[0]),\n",
    "                        yaxis=dict(title=options[0])\n",
    "                    ))"
   ]
  },
  {
   "cell_type": "markdown",
   "metadata": {},
   "source": [
    "Let now write a function that will handle the input from the widgets, and alter the state of the graph."
   ]
  },
  {
   "cell_type": "code",
   "execution_count": 35,
   "metadata": {},
   "outputs": [],
   "source": [
    "def validate():\n",
    "    return textbox1.value in options and textbox2.value in (options + ['None (Distributions Only)'])\n",
    "\n",
    "\n",
    "def response(change):\n",
    "    if validate():\n",
    "        if textbox2.value in options:\n",
    "            traceType = choose_trace(textbox1.value, textbox2.value)\n",
    "            with g.batch_update():\n",
    "                if traceType == 'scatter':\n",
    "                    for i in range(len(fruit_experiment.group_names)):\n",
    "                        g.data[i].x = fruit_experiment.data[fruit_experiment.group_names[i]][textbox1.value]\n",
    "                        g.data[i].y = fruit_experiment.data[fruit_experiment.group_names[i]][textbox2.value]\n",
    "                        g.data[i].error_y = {'visible':False}\n",
    "                        g.data[i].error_x = {'visible':False}\n",
    "                        g.data[i].orientation = None\n",
    "                    g.plotly_restyle({'type':'scatter', 'opacity':0.75})\n",
    "                elif traceType == 'bar':\n",
    "                    g.plotly_restyle({'type':'bar', 'opacity':1})\n",
    "                    for i in range(len(fruit_experiment.group_names)):\n",
    "                        avg = fruit_experiment.data[fruit_experiment.group_names[i]].groupby(textbox1.value).agg('mean')\n",
    "                        std = fruit_experiment.data[fruit_experiment.group_names[i]].groupby(textbox1.value).agg('std')[textbox2.value]\n",
    "                        g.data[i].x = list(avg.index)\n",
    "                        g.data[i].y = avg[textbox2.value]\n",
    "                        g.data[i].error_y = dict(type='data', array=std, visible=True)\n",
    "                        g.data[i].error_x = {'visible':False}\n",
    "                        g.data[i].orientation = None\n",
    "                elif traceType == 'barh':\n",
    "                    g.plotly_restyle({'type':'bar', 'opacity':1})\n",
    "                    for i in range(len(fruit_experiment.group_names)):\n",
    "                        avg = fruit_experiment.data[fruit_experiment.group_names[i]].groupby(textbox2.value).agg('mean')\n",
    "                        std = fruit_experiment.data[fruit_experiment.group_names[i]].groupby(textbox2.value).agg('std')[textbox1.value]\n",
    "                        g.data[i].x = avg[textbox1.value]\n",
    "                        g.data[i].y = list(avg.index)\n",
    "                        g.data[i].error_x = dict(type='data', array=std, visible=True)\n",
    "                        g.data[i].orientation = 'h'\n",
    "                        g.data[i].error_y  = {'visible':False}\n",
    "                g.layout.xaxis.title = textbox1.value\n",
    "                g.layout.yaxis.title = textbox2.value\n",
    "                g.layout.title = textbox1.value + \" vs. \" + textbox2.value\n",
    "        else:\n",
    "            with g.batch_update():\n",
    "                if fruit_experiment.node.nodeDict()[textbox1.value].vartype == \"categorical\":\n",
    "                    g.plotly_restyle({'opacity':1})\n",
    "                else:\n",
    "                    g.plotly_restyle({'opacity':0.75})\n",
    "                for i in range(len(fruit_experiment.group_names)):\n",
    "                    g.data[i].x = fruit_experiment.data[fruit_experiment.group_names[i]][textbox1.value]\n",
    "                    g.data[i].y = None\n",
    "                    g.data[i].error_x = {'visible':False}\n",
    "                    g.data[i].error_y = {'visible':False}\n",
    "                    g.data[i].orientation = None\n",
    "                g.layout.xaxis.title = textbox1.value\n",
    "                g.layout.yaxis.title = \"Count\"\n",
    "                g.layout.title = textbox1.value\n",
    "                g.plotly_restyle({'type':'histogram'})\n",
    "\n",
    "textbox1.observe(response, names=\"value\")\n",
    "textbox2.observe(response, names=\"value\")"
   ]
  },
  {
   "cell_type": "markdown",
   "metadata": {},
   "source": [
    "Time to try the app out!!"
   ]
  },
  {
   "cell_type": "code",
   "execution_count": 36,
   "metadata": {
    "scrolled": false
   },
   "outputs": [
    {
     "data": {
      "application/vnd.jupyter.widget-view+json": {
       "model_id": "f2aa789e06e5441db18e47a3cbc161d5",
       "version_major": 2,
       "version_minor": 0
      },
      "text/plain": [
       "VBox(children=(HBox(children=(Dropdown(description='x-Axis Variable: ', options=('Soil Quality', 'Number of Fr…"
      ]
     },
     "metadata": {},
     "output_type": "display_data"
    }
   ],
   "source": [
    "container = widgets.HBox([textbox1, textbox2])\n",
    "widgets.VBox([container,\n",
    "              g])"
   ]
  },
  {
   "cell_type": "code",
   "execution_count": null,
   "metadata": {},
   "outputs": [],
   "source": [
    "#table with radio buttons"
   ]
  },
  {
   "cell_type": "code",
   "execution_count": null,
   "metadata": {},
   "outputs": [],
   "source": [
    "go.Figure().update_layout({'height':10, 'width':10})\n",
    "df"
   ]
  },
  {
   "cell_type": "code",
   "execution_count": null,
   "metadata": {},
   "outputs": [],
   "source": [
    "df['Supplement'].unique()"
   ]
  },
  {
   "cell_type": "code",
   "execution_count": null,
   "metadata": {},
   "outputs": [],
   "source": [
    "\n",
    "widgets.RadioButtons(\n",
    "    options=list(data.keys()),\n",
    "#    value='pineapple', # Defaults to 'pineapple'\n",
    "    layout={'width': 'max-content'}, # If the items' names are long\n",
    "    description='Group',\n",
    "    disabled=False\n",
    ")"
   ]
  },
  {
   "cell_type": "code",
   "execution_count": null,
   "metadata": {},
   "outputs": [],
   "source": [
    "pd.concat([data['Control'], data['Intervention (no bees)']]).groupby(['Supplement', 'h']).agg('count').reset_index().pivot('Supplement', 'h', 'x')"
   ]
  },
  {
   "cell_type": "code",
   "execution_count": null,
   "metadata": {},
   "outputs": [],
   "source": [
    "#vertical bar chart"
   ]
  },
  {
   "cell_type": "code",
   "execution_count": null,
   "metadata": {},
   "outputs": [],
   "source": [
    "y_avg = np.mean(fruit_experiment.data['Control']['x'])\n",
    "y_std = np.std(fruit_experiment.data['Control']['x'])"
   ]
  },
  {
   "cell_type": "code",
   "execution_count": null,
   "metadata": {},
   "outputs": [],
   "source": [
    "trace = go.Bar(x=avg['Supplement'], y=avg['Number of Bees'], error_y=dict(type='data', array=std['Number of Bees']))\n",
    "go.Figure(trace)"
   ]
  },
  {
   "cell_type": "code",
   "execution_count": null,
   "metadata": {},
   "outputs": [],
   "source": [
    "#horizontal bar plot\n",
    "trace = go.Bar(y=avg['Supplement'], x=avg['Number of Bees'], error_x=dict(type='data', array=std['Number of Bees']), orientation='h')\n",
    "go.Figure([trace, trace, trace])"
   ]
  },
  {
   "cell_type": "code",
   "execution_count": null,
   "metadata": {},
   "outputs": [],
   "source": [
    "traces = []\n",
    "for supplement in avg['Supplement']:\n",
    "    trace = go.Bar(x=[supplement], y=avg[avg['Supplement'] == supplement]['Number of Bees'], error_y=dict(type='data', array=std[std['Supplement'] == supplement]['Number of Bees']))\n",
    "    traces += [trace]\n",
    "go.Figure(traces)"
   ]
  },
  {
   "cell_type": "code",
   "execution_count": null,
   "metadata": {},
   "outputs": [],
   "source": [
    "avg[avg['Supplement'] == supplement]['Number of Bees']"
   ]
  },
  {
   "cell_type": "code",
   "execution_count": null,
   "metadata": {},
   "outputs": [],
   "source": [
    "#bar plot of counts"
   ]
  },
  {
   "cell_type": "code",
   "execution_count": null,
   "metadata": {},
   "outputs": [],
   "source": [
    "traces = []\n",
    "for group in list(data.keys()):\n",
    "    traces += [go.Bar(x=data[group].groupby('h').agg('count')['x'].index, y=data[group].groupby('h').agg('count')['x'])]\n",
    "go.Figure(traces)"
   ]
  },
  {
   "cell_type": "code",
   "execution_count": null,
   "metadata": {},
   "outputs": [],
   "source": [
    "%%html\n",
    "<img src = 'https://cloud.githubusercontent.com/assets/12302455/16637308/4e476280-43ac-11e6-9fd3-ada2c9506ee1.gif' >"
   ]
  },
  {
   "cell_type": "markdown",
   "metadata": {},
   "source": [
    "#### Reference"
   ]
  },
  {
   "cell_type": "code",
   "execution_count": null,
   "metadata": {},
   "outputs": [],
   "source": [
    "help(go.FigureWidget)"
   ]
  },
  {
   "cell_type": "code",
   "execution_count": null,
   "metadata": {},
   "outputs": [],
   "source": []
  }
 ],
 "metadata": {
  "jupytext": {
   "notebook_metadata_filter": "all",
   "text_representation": {
    "extension": ".md",
    "format_name": "markdown",
    "format_version": "1.2",
    "jupytext_version": "1.5.2"
   }
  },
  "kernelspec": {
   "display_name": "Python 3",
   "language": "python",
   "name": "python3"
  },
  "language_info": {
   "codemirror_mode": {
    "name": "ipython",
    "version": 3
   },
   "file_extension": ".py",
   "mimetype": "text/x-python",
   "name": "python",
   "nbconvert_exporter": "python",
   "pygments_lexer": "ipython3",
   "version": "3.6.2"
  },
  "plotly": {
   "description": "Interactive Data Analysis with Plotly",
   "display_as": "chart_events",
   "language": "python",
   "layout": "base",
   "name": "Interactive Data Analysis with FigureWidget ipywidgets",
   "order": 3,
   "page_type": "example_index",
   "permalink": "python/figurewidget-app/",
   "redirect_from": "/python/slider-widget/",
   "thumbnail": "thumbnail/multi-widget.jpg"
  }
 },
 "nbformat": 4,
 "nbformat_minor": 4
}
