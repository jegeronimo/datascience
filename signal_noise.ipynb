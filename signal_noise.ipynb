{
 "cells": [
  {
   "cell_type": "code",
   "execution_count": 1,
   "metadata": {},
   "outputs": [],
   "source": [
    "import numpy as np\n",
    "import matplotlib.pyplot as plt\n",
    "import ipywidgets as wd\n",
    "from IPython.display import display, update_display, Javascript, HTML\n",
    "%matplotlib widget"
   ]
  },
  {
   "cell_type": "code",
   "execution_count": 7,
   "metadata": {},
   "outputs": [],
   "source": [
    "def lift(func):\n",
    "    '''func takes a single number between 0, 1 and returns a pair of coordinates (2,)'''\n",
    "    def f(n, noise=0):\n",
    "        return np.array([func(t)+np.array((np.random.normal(loc=0, scale=noise), np.random.normal(loc=0, scale=noise))) for t in np.linspace(0, 1, n)])\n",
    "    return f\n",
    "\n",
    "def line(begin, end):\n",
    "    '''begin, end are e.g. (-3, 5)'''\n",
    "    begin = np.array(begin)\n",
    "    end = np.array(end)\n",
    "    @lift\n",
    "    def f(t):\n",
    "        return begin+(end-begin)*t\n",
    "    return f\n",
    "\n",
    "def ellipse(r, loc=(0,0), scales=(1,1)):\n",
    "    loc = np.array(loc)\n",
    "    scales = np.array(scales)\n",
    "    @lift\n",
    "    def f(t):\n",
    "        theta = 2*np.pi*t\n",
    "        return loc+np.array((r*scales[0]*np.cos(theta), r*scales[1]*np.sin(theta)))\n",
    "    return f"
   ]
  },
  {
   "cell_type": "code",
   "execution_count": 8,
   "metadata": {},
   "outputs": [],
   "source": [
    "# hide function names from students\n",
    "f1 = line((-10, -10), (10, 10))\n",
    "f2 = ellipse(10, loc=(1, 1), scales=(2, -0.5))"
   ]
  },
  {
   "cell_type": "code",
   "execution_count": 4,
   "metadata": {},
   "outputs": [],
   "source": [
    "class Game:\n",
    "    def __init__(self, func, n_start, noise_start, delta_n, delta_noise):\n",
    "        self.func = func\n",
    "        self.n = n_start\n",
    "        self.noise = noise_start\n",
    "        self.delta_n = delta_n\n",
    "        self.delta_noise = delta_noise\n",
    "        self.points = self.func(self.n, self.noise)\n",
    "        self.fig, self.ax = plt.subplots(1, figsize=(5, 5))\n",
    "        self.ax.plot(self.points[:,0], self.points[:,1], ms=5, color='k', marker='o', ls='')\n",
    "        self.ax.set_xlim((-10, 10))\n",
    "        self.ax.set_ylim((-10, 10))\n",
    "        self.ax.set_aspect('equal')\n",
    "        self.fig.show()\n",
    "        self.decrease_noise = wd.Button(description='Decrease noise')\n",
    "        self.increase_points = wd.Button(description='Increase points')\n",
    "        display(self.decrease_noise, self.increase_points)\n",
    "        self.decrease_noise.on_click(self.decreaseNoise)\n",
    "        self.increase_points.on_click(self.increasePoints)\n",
    "\n",
    "    def decreaseNoise(self, sender=None):\n",
    "        self.noise -= self.delta_noise\n",
    "        if self.noise<0:\n",
    "            return\n",
    "        self.points = self.func(self.n, self.noise)\n",
    "        self.ax.clear()\n",
    "        self.ax.plot(self.points[:,0], self.points[:,1], ms=5, color='k', marker='o', ls='')\n",
    "        self.ax.set_xlim((-10, 10))\n",
    "        self.ax.set_ylim((-10, 10))\n",
    "        self.ax.set_aspect('equal')\n",
    "\n",
    "    def increasePoints(self, sender=None):\n",
    "        self.points = np.concatenate((self.points, self.func(self.delta_n, self.noise)))\n",
    "        self.ax.clear()\n",
    "        self.ax.plot(self.points[:,0], self.points[:,1], ms=5, color='k', marker='o', ls='')\n",
    "        self.ax.set_xlim((-10, 10))\n",
    "        self.ax.set_ylim((-10, 10))\n",
    "        self.ax.set_aspect('equal')"
   ]
  },
  {
   "cell_type": "code",
   "execution_count": 9,
   "metadata": {},
   "outputs": [
    {
     "data": {
      "application/vnd.jupyter.widget-view+json": {
       "model_id": "2a31cadaab3c423086f7b976128d9b6b",
       "version_major": 2,
       "version_minor": 0
      },
      "text/plain": [
       "Canvas(toolbar=Toolbar(toolitems=[('Home', 'Reset original view', 'home', 'home'), ('Back', 'Back to previous …"
      ]
     },
     "metadata": {},
     "output_type": "display_data"
    },
    {
     "data": {
      "application/vnd.jupyter.widget-view+json": {
       "model_id": "71069016981147808eb9e7c2dba7287b",
       "version_major": 2,
       "version_minor": 0
      },
      "text/plain": [
       "Button(description='Decrease noise', style=ButtonStyle())"
      ]
     },
     "metadata": {},
     "output_type": "display_data"
    },
    {
     "data": {
      "application/vnd.jupyter.widget-view+json": {
       "model_id": "e0ee3f8bf73643cb9f9264e37b640106",
       "version_major": 2,
       "version_minor": 0
      },
      "text/plain": [
       "Button(description='Increase points', style=ButtonStyle())"
      ]
     },
     "metadata": {},
     "output_type": "display_data"
    }
   ],
   "source": [
    "game1 = Game(f1, 10, 3, 5, 0.5)"
   ]
  },
  {
   "cell_type": "code",
   "execution_count": null,
   "metadata": {},
   "outputs": [],
   "source": []
  }
 ],
 "metadata": {
  "kernelspec": {
   "display_name": "Python 3",
   "language": "python",
   "name": "python3"
  },
  "language_info": {
   "codemirror_mode": {
    "name": "ipython",
    "version": 3
   },
   "file_extension": ".py",
   "mimetype": "text/x-python",
   "name": "python",
   "nbconvert_exporter": "python",
   "pygments_lexer": "ipython3",
   "version": "3.8.5"
  }
 },
 "nbformat": 4,
 "nbformat_minor": 4
}
