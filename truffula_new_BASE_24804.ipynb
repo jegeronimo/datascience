{
 "cells": [
  {
   "cell_type": "code",
   "execution_count": 1,
   "metadata": {},
   "outputs": [
    {
     "data": {
      "text/html": [
       "<style>\n",
       "    [title=\"Assigned samples:\"] { min-width: 150px; }\n",
       "</style>"
      ],
      "text/plain": [
       "<IPython.core.display.HTML object>"
      ]
     },
     "metadata": {},
     "output_type": "display_data"
    }
   ],
   "source": [
    "from causality_simulation2 import *"
   ]
  },
  {
   "cell_type": "markdown",
   "metadata": {},
   "source": [
    "# Part 1"
   ]
  },
  {
   "cell_type": "markdown",
   "metadata": {},
   "source": [
    "The truffula tree bears fruit every year during summer. Hans, a botanist, wants to know whether the number of fruits that a truffula tree bears affects the neighbouring bee population. Out of 500 trees in his truffula orchard, he carefully records the average daily number of bees that land on each tree, as well as the total number of fruits during the fruit-bearing season."
   ]
  },
  {
   "cell_type": "code",
   "execution_count": 2,
   "metadata": {},
   "outputs": [],
   "source": [
    "x = np.linspace(0, 1000, 50)\n",
    "y = np.linspace(0, 1000, 50)\n",
    "grid = np.transpose([np.tile(x, len(y)), np.repeat(y, len(x))])\n",
    "ids = sorted(np.random.choice(np.arange(50*50), 500))\n",
    "coords = np.array([grid[i] for i in ids])\n",
    "init_data = {\n",
    "    'Longitude': coords[:,0],\n",
    "    'Latitude': coords[:,1]\n",
    "}"
   ]
  },
  {
   "cell_type": "code",
   "execution_count": 3,
   "metadata": {},
   "outputs": [
    {
     "data": {
      "application/vnd.jupyter.widget-view+json": {
       "model_id": "e104e640bcef4392b03f71236592c5ac",
       "version_major": 2,
       "version_minor": 0
      },
      "text/plain": [
       "Button(description='Randomise assignment', layout=Layout(width='180px'), style=ButtonStyle())"
      ]
     },
     "metadata": {},
     "output_type": "display_data"
    },
    {
     "data": {
      "application/vnd.jupyter.widget-view+json": {
       "model_id": "7a2d9bc5f8e843ab9b480430058fa6db",
       "version_major": 2,
       "version_minor": 0
      },
      "text/plain": [
       "VBox(children=(HBox(children=(Label(value='Group 1', layout=Layout(width='70px')), Text(value='', description=…"
      ]
     },
     "metadata": {},
     "output_type": "display_data"
    },
    {
     "data": {
      "application/vnd.jupyter.widget-view+json": {
       "model_id": "09adcb4c63554c89a8db618040096b86",
       "version_major": 2,
       "version_minor": 0
      },
      "text/plain": [
       "Button(description='Add another group', style=ButtonStyle())"
      ]
     },
     "metadata": {},
     "output_type": "display_data"
    },
    {
     "data": {
      "application/vnd.jupyter.widget-view+json": {
       "model_id": "d709116012f24687b6f8615437b917bb",
       "version_major": 2,
       "version_minor": 0
      },
      "text/plain": [
       "Button(description='Visualise assignment', style=ButtonStyle())"
      ]
     },
     "metadata": {},
     "output_type": "display_data"
    },
    {
     "data": {
      "application/vnd.jupyter.widget-view+json": {
       "model_id": "ec8ec48560244f9bbc0e20ba90ab1d25",
       "version_major": 2,
       "version_minor": 0
      },
      "text/plain": [
       "FigureWidget({\n",
       "    'data': [{'hovertemplate': 'Latitude: %{x} <br>Longitude: %{y} <br>',\n",
       "              'marker…"
      ]
     },
     "metadata": {},
     "output_type": "display_data"
    }
   ],
   "source": [
    "assignment_observation = {\n",
    "    'name': 'Observation',\n",
    "    'samples_str': '1-500'\n",
    "}\n",
    "experiment_observation = Experiment(truffula, init_data)\n",
    "experiment_observation.assignment(config=[assignment_observation], hide_random=True)"
   ]
  },
  {
   "cell_type": "code",
   "execution_count": 4,
   "metadata": {},
   "outputs": [
    {
     "data": {
      "application/vnd.jupyter.widget-view+json": {
       "model_id": "fa1f42dbd0bc41e39ecb71089c4c8d39",
       "version_major": 2,
       "version_minor": 0
      },
      "text/plain": [
       "Label(value='Group name: Observation, 500 samples')"
      ]
     },
     "metadata": {},
     "output_type": "display_data"
    },
    {
     "data": {
      "application/vnd.jupyter.widget-view+json": {
       "model_id": "b75e26b9f5344f45ad389059f0d15e3a",
       "version_major": 2,
       "version_minor": 0
      },
      "text/plain": [
       "HBox(children=(Label(value='', layout=Layout(width='20px')), Label(value='Number of Bees', layout=Layout(width…"
      ]
     },
     "metadata": {},
     "output_type": "display_data"
    },
    {
     "data": {
      "application/vnd.jupyter.widget-view+json": {
       "model_id": "7845eb58f765448ca5a7240f3fba056c",
       "version_major": 2,
       "version_minor": 0
      },
      "text/plain": [
       "HBox(children=(Label(value='', layout=Layout(width='20px')), Label(value='Number of Fruits', layout=Layout(wid…"
      ]
     },
     "metadata": {},
     "output_type": "display_data"
    },
    {
     "data": {
      "application/vnd.jupyter.widget-view+json": {
       "model_id": "7f024ed2068f46d4a48b24c101e4d119",
       "version_major": 2,
       "version_minor": 0
      },
      "text/plain": [
       "Button(description='Perform experiment', style=ButtonStyle())"
      ]
     },
     "metadata": {},
     "output_type": "display_data"
    },
    {
     "data": {
      "application/vnd.jupyter.widget-view+json": {
       "model_id": "10bb8761d60f46498407e17bab67d233",
       "version_major": 2,
       "version_minor": 0
      },
      "text/plain": [
       "Label(value='Data from experiment collected!')"
      ]
     },
     "metadata": {},
     "output_type": "display_data"
    }
   ],
   "source": [
    "experiment_observation.setting(show=['Number of Bees', 'Number of Fruits'], disable='all')"
   ]
  },
  {
   "cell_type": "code",
   "execution_count": 5,
   "metadata": {},
   "outputs": [
    {
     "data": {
      "application/vnd.jupyter.widget-view+json": {
       "model_id": "f87cc197bb00462eb788b63f232a9da2",
       "version_major": 2,
       "version_minor": 0
      },
      "text/plain": [
       "VBox(children=(HBox(children=(Dropdown(description='Gradient: ', options=('Number of Bees', 'Number of Fruits'…"
      ]
     },
     "metadata": {},
     "output_type": "display_data"
    }
   ],
   "source": [
    "experiment_observation.plotOrchard(gradient='Number of Bees', show=['Number of Bees', 'Number of Fruits'])"
   ]
  },
  {
   "cell_type": "code",
   "execution_count": 6,
   "metadata": {},
   "outputs": [
    {
     "data": {
      "application/vnd.jupyter.widget-view+json": {
       "model_id": "8ddddd5bac6f481e9740dfc5b5c4f0d4",
       "version_major": 2,
       "version_minor": 0
      },
      "text/plain": [
       "VBox(children=(HBox(children=(Dropdown(description='x-Axis Variable: ', options=('Number of Bees', 'Number of …"
      ]
     },
     "metadata": {},
     "output_type": "display_data"
    },
    {
     "data": {
      "application/vnd.jupyter.widget-view+json": {
       "model_id": "ad1b43b3e88b4203b1da41189c0bd444",
       "version_major": 2,
       "version_minor": 0
      },
      "text/plain": [
       "RadioButtons(description='Group', layout=Layout(width='max-content'), options=('Observation', 'All'), value='O…"
      ]
     },
     "metadata": {},
     "output_type": "display_data"
    },
    {
     "data": {
      "text/plain": []
     },
     "metadata": {},
     "output_type": "display_data"
    }
   ],
   "source": [
    "experiment_observation.plot(show=['Number of Bees', 'Number of Fruits'])"
   ]
  },
  {
   "cell_type": "markdown",
   "metadata": {},
   "source": [
    "# Part 2"
   ]
  },
  {
   "cell_type": "markdown",
   "metadata": {},
   "source": [
    "Hans then decides to perform an experiment. Over the course of the following summer, he randomly selects 250 out of the 500 truffula trees, and diligently plucks out all the fruits that are starting to grow on these trees. The other 250 trees are left alone. He continues to record the average daily number of bees that land on each of the 500 trees."
   ]
  },
  {
   "cell_type": "code",
   "execution_count": 7,
   "metadata": {
    "scrolled": false
   },
   "outputs": [
    {
     "data": {
      "application/vnd.jupyter.widget-view+json": {
       "model_id": "27e487d2ccd84652a15cfb95919147c0",
       "version_major": 2,
       "version_minor": 0
      },
      "text/plain": [
       "Button(description='Randomise assignment', layout=Layout(width='180px'), style=ButtonStyle())"
      ]
     },
     "metadata": {},
     "output_type": "display_data"
    },
    {
     "data": {
      "application/vnd.jupyter.widget-view+json": {
       "model_id": "64d30d23827e43d29113055a6a106715",
       "version_major": 2,
       "version_minor": 0
      },
      "text/plain": [
       "VBox(children=(HBox(children=(Label(value='Group 1', layout=Layout(width='70px')), Text(value='', description=…"
      ]
     },
     "metadata": {},
     "output_type": "display_data"
    },
    {
     "data": {
      "application/vnd.jupyter.widget-view+json": {
       "model_id": "376a447637a947e289cba316ce6f841c",
       "version_major": 2,
       "version_minor": 0
      },
      "text/plain": [
       "Button(description='Add another group', style=ButtonStyle())"
      ]
     },
     "metadata": {},
     "output_type": "display_data"
    },
    {
     "data": {
      "application/vnd.jupyter.widget-view+json": {
       "model_id": "c1fbc10b890e4578b5a72b2d43930593",
       "version_major": 2,
       "version_minor": 0
      },
      "text/plain": [
       "Button(description='Visualise assignment', style=ButtonStyle())"
      ]
     },
     "metadata": {},
     "output_type": "display_data"
    },
    {
     "data": {
      "application/vnd.jupyter.widget-view+json": {
       "model_id": "80ac92dffcd347bea7196137c5b022ad",
       "version_major": 2,
       "version_minor": 0
      },
      "text/plain": [
       "FigureWidget({\n",
       "    'data': [{'hovertemplate': 'Latitude: %{x} <br>Longitude: %{y} <br>',\n",
       "              'marker…"
      ]
     },
     "metadata": {},
     "output_type": "display_data"
    }
   ],
   "source": [
    "assignment_nofruits_control = {\n",
    "    'name': 'Control',\n",
    "    'samples_str': ''\n",
    "}\n",
    "assignment_nofruits_intervene = {\n",
    "    'name': 'Intervention (no fruits)',\n",
    "    'samples_str': ''\n",
    "}\n",
    "assignment = [assignment_nofruits_control, assignment_nofruits_intervene]\n",
    "experiment_nofruits = Experiment(truffula, init_data)\n",
    "experiment_nofruits.assignment(config=assignment)"
   ]
  },
  {
   "cell_type": "code",
   "execution_count": 8,
   "metadata": {},
   "outputs": [
    {
     "data": {
      "application/vnd.jupyter.widget-view+json": {
       "model_id": "7f1ffa95cb7a42efad1fd581d776ce62",
       "version_major": 2,
       "version_minor": 0
      },
      "text/plain": [
       "Label(value='Group name: Control, 250 samples')"
      ]
     },
     "metadata": {},
     "output_type": "display_data"
    },
    {
     "data": {
      "application/vnd.jupyter.widget-view+json": {
       "model_id": "7796e3166e774ee09b678a99a62c71fc",
       "version_major": 2,
       "version_minor": 0
      },
      "text/plain": [
       "HBox(children=(Label(value='', layout=Layout(width='20px')), Label(value='Number of Bees', layout=Layout(width…"
      ]
     },
     "metadata": {},
     "output_type": "display_data"
    },
    {
     "data": {
      "application/vnd.jupyter.widget-view+json": {
       "model_id": "9dd8553d6a33473a88754e71de7285f0",
       "version_major": 2,
       "version_minor": 0
      },
      "text/plain": [
       "HBox(children=(Label(value='', layout=Layout(width='20px')), Label(value='Number of Fruits', layout=Layout(wid…"
      ]
     },
     "metadata": {},
     "output_type": "display_data"
    },
    {
     "data": {
      "application/vnd.jupyter.widget-view+json": {
       "model_id": "1e47967a6401499fb7fe05a9e05198fb",
       "version_major": 2,
       "version_minor": 0
      },
      "text/plain": [
       "Label(value='Group name: Intervention (no fruits), 250 samples')"
      ]
     },
     "metadata": {},
     "output_type": "display_data"
    },
    {
     "data": {
      "application/vnd.jupyter.widget-view+json": {
       "model_id": "cba73ea858ac41e0ad3528ae47bacc7d",
       "version_major": 2,
       "version_minor": 0
      },
      "text/plain": [
       "HBox(children=(Label(value='', layout=Layout(width='20px')), Label(value='Number of Bees', layout=Layout(width…"
      ]
     },
     "metadata": {},
     "output_type": "display_data"
    },
    {
     "data": {
      "application/vnd.jupyter.widget-view+json": {
       "model_id": "0e8330f5f886453a81969d8956ee778e",
       "version_major": 2,
       "version_minor": 0
      },
      "text/plain": [
       "HBox(children=(Label(value='', layout=Layout(width='20px')), Label(value='Number of Fruits', layout=Layout(wid…"
      ]
     },
     "metadata": {},
     "output_type": "display_data"
    },
    {
     "data": {
      "application/vnd.jupyter.widget-view+json": {
       "model_id": "96e056750a3b4e3faa1740f61c17500d",
       "version_major": 2,
       "version_minor": 0
      },
      "text/plain": [
       "Button(description='Perform experiment', style=ButtonStyle())"
      ]
     },
     "metadata": {},
     "output_type": "display_data"
    },
    {
     "data": {
      "application/vnd.jupyter.widget-view+json": {
       "model_id": "a7ad84fc35d3424bb4868f38a1fdbceb",
       "version_major": 2,
       "version_minor": 0
      },
      "text/plain": [
       "Label(value='Data from experiment collected!')"
      ]
     },
     "metadata": {},
     "output_type": "display_data"
    }
   ],
   "source": [
    "intervention_nofruits_control = {\n",
    "    'name': 'Control',\n",
    "    'intervention': {\n",
    "    }\n",
    "}\n",
    "intervention_nofruits_intervene = {\n",
    "    'name': 'Intervention (no fruits)',\n",
    "    'intervention': {\n",
    "        'Number of Fruits': ['fixed', 0]\n",
    "    }\n",
    "}\n",
    "intervention = [intervention_nofruits_control, intervention_nofruits_intervene]\n",
    "experiment_nofruits.setting(config=intervention, show=['Number of Bees', 'Number of Fruits'], disable='all')"
   ]
  },
  {
   "cell_type": "code",
   "execution_count": 9,
   "metadata": {},
   "outputs": [
    {
     "data": {
      "application/vnd.jupyter.widget-view+json": {
       "model_id": "8272ae2c94cd431c9517af2df89c8cfd",
       "version_major": 2,
       "version_minor": 0
      },
      "text/plain": [
       "VBox(children=(HBox(children=(Dropdown(description='x-Axis Variable: ', options=('Number of Bees', 'Number of …"
      ]
     },
     "metadata": {},
     "output_type": "display_data"
    },
    {
     "data": {
      "application/vnd.jupyter.widget-view+json": {
       "model_id": "49d6c69585194e18beb68d9a46402e10",
       "version_major": 2,
       "version_minor": 0
      },
      "text/plain": [
       "RadioButtons(description='Group', layout=Layout(width='max-content'), options=('Control', 'Intervention (no fr…"
      ]
     },
     "metadata": {},
     "output_type": "display_data"
    },
    {
     "data": {
      "text/plain": []
     },
     "metadata": {},
     "output_type": "display_data"
    }
   ],
   "source": [
    "experiment_nofruits.plot(show=['Number of Bees', 'Number of Fruits'])"
   ]
  },
  {
   "cell_type": "markdown",
   "metadata": {},
   "source": [
    "# Part 3"
   ]
  },
  {
   "cell_type": "markdown",
   "metadata": {},
   "source": [
    "Now it's your turn! Design an experiment to further investigate the causal relationship between the number of bees and the number of fruits that a truffula tree bears."
   ]
  },
  {
   "cell_type": "code",
   "execution_count": 11,
   "metadata": {},
   "outputs": [
    {
     "data": {
      "application/vnd.jupyter.widget-view+json": {
       "model_id": "c3d978f384a24dcb8915e1f3c48ee776",
       "version_major": 2,
       "version_minor": 0
      },
      "text/plain": [
       "Button(description='Randomise assignment', layout=Layout(width='180px'), style=ButtonStyle())"
      ]
     },
     "metadata": {},
     "output_type": "display_data"
    },
    {
     "data": {
      "application/vnd.jupyter.widget-view+json": {
       "model_id": "dd26834e31c74e509a0a960bc1c1b739",
       "version_major": 2,
       "version_minor": 0
      },
      "text/plain": [
       "VBox(children=(HBox(children=(Label(value='Group 1', layout=Layout(width='70px')), Text(value='', description=…"
      ]
     },
     "metadata": {},
     "output_type": "display_data"
    },
    {
     "data": {
      "application/vnd.jupyter.widget-view+json": {
       "model_id": "588a34a770bf469e8d1d3ca5ee2f00f3",
       "version_major": 2,
       "version_minor": 0
      },
      "text/plain": [
       "Button(description='Add another group', style=ButtonStyle())"
      ]
     },
     "metadata": {},
     "output_type": "display_data"
    },
    {
     "data": {
      "application/vnd.jupyter.widget-view+json": {
       "model_id": "66f369eeb2934472a077a56a13859024",
       "version_major": 2,
       "version_minor": 0
      },
      "text/plain": [
       "Button(description='Visualise assignment', style=ButtonStyle())"
      ]
     },
     "metadata": {},
     "output_type": "display_data"
    },
    {
     "data": {
      "application/vnd.jupyter.widget-view+json": {
       "model_id": "8d3eb036129b4b3fb7baeb890fb5cb46",
       "version_major": 2,
       "version_minor": 0
      },
      "text/plain": [
       "FigureWidget({\n",
       "    'data': [{'hovertemplate': 'Latitude: %{x} <br>Longitude: %{y} <br>',\n",
       "              'marker…"
      ]
     },
     "metadata": {},
     "output_type": "display_data"
    }
   ],
   "source": [
    "experiment = Experiment(truffula, init_data)\n",
    "experiment.assignment()"
   ]
  },
  {
   "cell_type": "code",
   "execution_count": 12,
   "metadata": {},
   "outputs": [
    {
     "data": {
      "application/vnd.jupyter.widget-view+json": {
       "model_id": "752f1d9089ea4ee08044393d85fddf3e",
       "version_major": 2,
       "version_minor": 0
      },
      "text/plain": [
       "Label(value='Group name: blabhaksh;lksad;laksgk;lasghlkasg, 250 samples')"
      ]
     },
     "metadata": {},
     "output_type": "display_data"
    },
    {
     "data": {
      "application/vnd.jupyter.widget-view+json": {
       "model_id": "6fdddc1165f14d2e9207e6da77741ebd",
       "version_major": 2,
       "version_minor": 0
      },
      "text/plain": [
       "HBox(children=(Label(value='', layout=Layout(width='20px')), Label(value='Number of Bees', layout=Layout(width…"
      ]
     },
     "metadata": {},
     "output_type": "display_data"
    },
    {
     "data": {
      "application/vnd.jupyter.widget-view+json": {
       "model_id": "421ac3191fe7449eb8f6a709aac85d17",
       "version_major": 2,
       "version_minor": 0
      },
      "text/plain": [
       "HBox(children=(Label(value='', layout=Layout(width='20px')), Label(value='Number of Fruits', layout=Layout(wid…"
      ]
     },
     "metadata": {},
     "output_type": "display_data"
    },
    {
     "data": {
      "application/vnd.jupyter.widget-view+json": {
       "model_id": "e6a212409c254d699ebe4cb6a5ee1f4a",
       "version_major": 2,
       "version_minor": 0
      },
      "text/plain": [
       "Label(value='Group name: a, 250 samples')"
      ]
     },
     "metadata": {},
     "output_type": "display_data"
    },
    {
     "data": {
      "application/vnd.jupyter.widget-view+json": {
       "model_id": "a832d5f7081442669d30cf44b9c7b165",
       "version_major": 2,
       "version_minor": 0
      },
      "text/plain": [
       "HBox(children=(Label(value='', layout=Layout(width='20px')), Label(value='Number of Bees', layout=Layout(width…"
      ]
     },
     "metadata": {},
     "output_type": "display_data"
    },
    {
     "data": {
      "application/vnd.jupyter.widget-view+json": {
       "model_id": "37cb52fde44f493b9d88f3695b80c5c5",
       "version_major": 2,
       "version_minor": 0
      },
      "text/plain": [
       "HBox(children=(Label(value='', layout=Layout(width='20px')), Label(value='Number of Fruits', layout=Layout(wid…"
      ]
     },
     "metadata": {},
     "output_type": "display_data"
    },
    {
     "data": {
      "application/vnd.jupyter.widget-view+json": {
       "model_id": "12f8bb7d54aa4f0aa87e1cd6fcf2f0fc",
       "version_major": 2,
       "version_minor": 0
      },
      "text/plain": [
       "Button(description='Perform experiment', style=ButtonStyle())"
      ]
     },
     "metadata": {},
     "output_type": "display_data"
    },
    {
     "data": {
      "application/vnd.jupyter.widget-view+json": {
       "model_id": "480ebe5088024bf88196648144a07659",
       "version_major": 2,
       "version_minor": 0
      },
      "text/plain": [
       "Label(value='Data from experiment collected!')"
      ]
     },
     "metadata": {},
     "output_type": "display_data"
    }
   ],
   "source": [
    "experiment.setting(show=['Number of Bees', 'Number of Fruits'])"
   ]
  },
  {
   "cell_type": "code",
   "execution_count": 13,
   "metadata": {},
   "outputs": [
    {
     "data": {
      "application/vnd.jupyter.widget-view+json": {
       "model_id": "5b25b56a1332486aa76de249becc3e5e",
       "version_major": 2,
       "version_minor": 0
      },
      "text/plain": [
       "VBox(children=(HBox(children=(Dropdown(description='x-Axis Variable: ', options=('Number of Bees', 'Number of …"
      ]
     },
     "metadata": {},
     "output_type": "display_data"
    },
    {
     "data": {
      "application/vnd.jupyter.widget-view+json": {
       "model_id": "436c8ff12f34411788203ae7decd91f0",
       "version_major": 2,
       "version_minor": 0
      },
      "text/plain": [
       "RadioButtons(description='Group', layout=Layout(width='max-content'), options=('blabhaksh;lksad;laksgk;lasghlk…"
      ]
     },
     "metadata": {},
     "output_type": "display_data"
    },
    {
     "data": {
      "text/plain": []
     },
     "metadata": {},
     "output_type": "display_data"
    }
   ],
   "source": [
    "experiment.plot(show=['Number of Bees', 'Number of Fruits'])"
   ]
  },
  {
   "cell_type": "code",
   "execution_count": 14,
   "metadata": {
    "scrolled": false
   },
   "outputs": [
    {
     "ename": "NameError",
     "evalue": "name 'exp' is not defined",
     "output_type": "error",
     "traceback": [
      "\u001b[0;31m---------------------------------------------------------------------------\u001b[0m",
      "\u001b[0;31mNameError\u001b[0m                                 Traceback (most recent call last)",
      "\u001b[0;32m<ipython-input-14-85f09f41bf3c>\u001b[0m in \u001b[0;36m<module>\u001b[0;34m\u001b[0m\n\u001b[1;32m      9\u001b[0m     }\n\u001b[1;32m     10\u001b[0m ]\n\u001b[0;32m---> 11\u001b[0;31m \u001b[0mexp\u001b[0m\u001b[0;34m.\u001b[0m\u001b[0massignment\u001b[0m\u001b[0;34m(\u001b[0m\u001b[0mconfig\u001b[0m\u001b[0;34m=\u001b[0m\u001b[0massignment\u001b[0m\u001b[0;34m)\u001b[0m\u001b[0;34m\u001b[0m\u001b[0m\n\u001b[0m",
      "\u001b[0;31mNameError\u001b[0m: name 'exp' is not defined"
     ]
    }
   ],
   "source": [
    "assignment = [\n",
    "    {\n",
    "        'name': 'West (water)',\n",
    "        'samples_str': '1-250'\n",
    "    },\n",
    "    {\n",
    "        'name': 'East (kombucha)',\n",
    "        'samples_str': '251-500'\n",
    "    }\n",
    "]\n",
    "exp.assignment(config=assignment)"
   ]
  },
  {
   "cell_type": "code",
   "execution_count": 41,
   "metadata": {
    "scrolled": false
   },
   "outputs": [
    {
     "data": {
      "application/vnd.jupyter.widget-view+json": {
       "model_id": "902dcd994ec54361a7d3cfca02121366",
       "version_major": 2,
       "version_minor": 0
      },
      "text/plain": [
       "Label(value='Group name: West (water), 250 samples')"
      ]
     },
     "metadata": {},
     "output_type": "display_data"
    },
    {
     "data": {
      "application/vnd.jupyter.widget-view+json": {
       "model_id": "c183a25771734ba48f7fedd9e175df20",
       "version_major": 2,
       "version_minor": 0
      },
      "text/plain": [
       "HBox(children=(Label(value='', layout=Layout(width='20px')), Label(value='Number of Bees', layout=Layout(width…"
      ]
     },
     "metadata": {},
     "output_type": "display_data"
    },
    {
     "data": {
      "application/vnd.jupyter.widget-view+json": {
       "model_id": "360e1ec2361a42f98d8be88ff23bee76",
       "version_major": 2,
       "version_minor": 0
      },
      "text/plain": [
       "HBox(children=(Label(value='', layout=Layout(width='20px')), Label(value='Number of Fruits', layout=Layout(wid…"
      ]
     },
     "metadata": {},
     "output_type": "display_data"
    },
    {
     "data": {
      "application/vnd.jupyter.widget-view+json": {
       "model_id": "36d64a727dc54c5382114ae1d7eaad6d",
       "version_major": 2,
       "version_minor": 0
      },
      "text/plain": [
       "HBox(children=(Label(value='', layout=Layout(width='20px')), Label(value='Supplement', layout=Layout(width='18…"
      ]
     },
     "metadata": {},
     "output_type": "display_data"
    },
    {
     "data": {
      "application/vnd.jupyter.widget-view+json": {
       "model_id": "5fa215b3f2564b62a0eab7cc986e7ff4",
       "version_major": 2,
       "version_minor": 0
      },
      "text/plain": [
       "Label(value='Group name: East (kombucha), 250 samples')"
      ]
     },
     "metadata": {},
     "output_type": "display_data"
    },
    {
     "data": {
      "application/vnd.jupyter.widget-view+json": {
       "model_id": "86b841b7e8ce45da879902877ef07880",
       "version_major": 2,
       "version_minor": 0
      },
      "text/plain": [
       "HBox(children=(Label(value='', layout=Layout(width='20px')), Label(value='Number of Bees', layout=Layout(width…"
      ]
     },
     "metadata": {},
     "output_type": "display_data"
    },
    {
     "data": {
      "application/vnd.jupyter.widget-view+json": {
       "model_id": "579a91d2e4fc48ca974a504179a53445",
       "version_major": 2,
       "version_minor": 0
      },
      "text/plain": [
       "HBox(children=(Label(value='', layout=Layout(width='20px')), Label(value='Number of Fruits', layout=Layout(wid…"
      ]
     },
     "metadata": {},
     "output_type": "display_data"
    },
    {
     "data": {
      "application/vnd.jupyter.widget-view+json": {
       "model_id": "492e6303c2bd4e498bc288a29fbc83d6",
       "version_major": 2,
       "version_minor": 0
      },
      "text/plain": [
       "HBox(children=(Label(value='', layout=Layout(width='20px')), Label(value='Supplement', layout=Layout(width='18…"
      ]
     },
     "metadata": {},
     "output_type": "display_data"
    },
    {
     "data": {
      "application/vnd.jupyter.widget-view+json": {
       "model_id": "e1ab70a5ef4d43ec937e797bea630920",
       "version_major": 2,
       "version_minor": 0
      },
      "text/plain": [
       "Button(description='Perform experiment', style=ButtonStyle())"
      ]
     },
     "metadata": {},
     "output_type": "display_data"
    },
    {
     "data": {
      "application/vnd.jupyter.widget-view+json": {
       "model_id": "2256ec7c80bb4d8aaf080c7da9da5f24",
       "version_major": 2,
       "version_minor": 0
      },
      "text/plain": [
       "Label(value='Data from experiment collected!')"
      ]
     },
     "metadata": {},
     "output_type": "display_data"
    }
   ],
   "source": [
    "intervention = [\n",
    "    {\n",
    "        'name': 'West (water)',\n",
    "        'intervention': {\n",
    "            'Supplement': ['fixed', 'Water']\n",
    "        }\n",
    "    },\n",
    "    {\n",
    "        'name': 'East (kombucha)',\n",
    "        'intervention': {\n",
    "            'Supplement': ['fixed', 'Kombucha']\n",
    "        }\n",
    "    }\n",
    "]\n",
    "exp.setting(config=intervention, show=['Number of Bees', 'Number of Fruits', 'Supplement'], disable='all')"
   ]
  },
  {
   "cell_type": "code",
   "execution_count": 42,
   "metadata": {},
   "outputs": [
    {
     "data": {
      "application/vnd.jupyter.widget-view+json": {
       "model_id": "597bc9474dc042b0bd2c36b1424d9eb8",
       "version_major": 2,
       "version_minor": 0
      },
      "text/plain": [
       "VBox(children=(HBox(children=(Dropdown(description='Gradient: ', options=('Fertilizer', 'Latitude', 'Longitude…"
      ]
     },
     "metadata": {},
     "output_type": "display_data"
    }
   ],
   "source": [
    "exp.plotOrchard()"
   ]
  },
  {
   "cell_type": "code",
   "execution_count": 47,
   "metadata": {},
   "outputs": [
    {
     "data": {
      "application/vnd.jupyter.widget-view+json": {
       "model_id": "0441381cff1f4bce8bf97ee1c181828b",
       "version_major": 2,
       "version_minor": 0
      },
      "text/plain": [
       "VBox(children=(HBox(children=(Dropdown(description='x-Axis Variable: ', options=('Number of Bees', 'Number of …"
      ]
     },
     "metadata": {},
     "output_type": "display_data"
    },
    {
     "data": {
      "application/vnd.jupyter.widget-view+json": {
       "model_id": "511e6cd6158d4106ac7f4586501e6ee4",
       "version_major": 2,
       "version_minor": 0
      },
      "text/plain": [
       "RadioButtons(description='Group', layout=Layout(width='max-content'), options=('West (water)', 'East (kombucha…"
      ]
     },
     "metadata": {},
     "output_type": "display_data"
    },
    {
     "data": {
      "text/plain": []
     },
     "metadata": {},
     "output_type": "display_data"
    }
   ],
   "source": [
    "exp.plot(show=['Number of Bees', 'Number of Fruits', 'Supplement'])"
   ]
  },
  {
   "cell_type": "code",
   "execution_count": null,
   "metadata": {},
   "outputs": [],
   "source": []
  }
 ],
 "metadata": {
  "kernelspec": {
   "display_name": "Python 3",
   "language": "python",
   "name": "python3"
  },
  "language_info": {
   "codemirror_mode": {
    "name": "ipython",
    "version": 3
   },
   "file_extension": ".py",
   "mimetype": "text/x-python",
   "name": "python",
   "nbconvert_exporter": "python",
   "pygments_lexer": "ipython3",
   "version": "3.6.2"
  }
 },
 "nbformat": 4,
 "nbformat_minor": 4
}
