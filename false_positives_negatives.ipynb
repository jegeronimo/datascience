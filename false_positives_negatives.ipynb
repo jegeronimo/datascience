{
 "cells": [
  {
   "cell_type": "code",
   "execution_count": 1,
   "metadata": {},
   "outputs": [],
   "source": [
    "from false_positives_negatives import *\n",
    "%matplotlib widget"
   ]
  },
  {
   "cell_type": "markdown",
   "metadata": {},
   "source": [
    "# H. Pylori\n",
    "*Helicobacter Pylori* is a type of bacteria that can cause infections in the stomach. Symptoms of *H. pylori* include painful stomach ulcers. A common test for the infection is the urea breath test. After the patient ingests a tablet or drink containing urea enriched with the isotope carbon-13 (rather than the usual carbon-12), the test measures the proportion of carbon-13 in the carbon dioxide in the collected breath sample. If the amount of carbon-13 is in excess of the normal amount of carbon-13 in one's breath, then it suggests the presence of the bacteria in the stomach, because the bacteria have converted the ingested urea into carbon dioxide. The test result is how much excess carbon-13 is found in one's breath. For example, a test result of 5 means that there is 5 times as much carbon-13 as usual.\n",
    "\n",
    "As study was done to find the distribution of the urea test results of subjects with or without *H. pylori* infection. Below is a histogram that shows the number of patients with a particular test result. Patients without the infection are plotted in blue; those who are infected are plotted in orange.\n",
    "\n",
    "https://onlinelibrary.wiley.com/doi/epdf/10.1046/j.1365-2036.2003.01417.x"
   ]
  },
  {
   "cell_type": "code",
   "execution_count": 2,
   "metadata": {},
   "outputs": [
    {
     "data": {
      "application/vnd.jupyter.widget-view+json": {
       "model_id": "63b9401729f84de99627bc9783bf2b92",
       "version_major": 2,
       "version_minor": 0
      },
      "text/plain": [
       "Canvas(toolbar=Toolbar(toolitems=[('Home', 'Reset original view', 'home', 'home'), ('Back', 'Back to previous …"
      ]
     },
     "metadata": {},
     "output_type": "display_data"
    },
    {
     "data": {
      "application/vnd.jupyter.widget-view+json": {
       "model_id": "5bd83e6944774240ba1cb60ae289a90f",
       "version_major": 2,
       "version_minor": 0
      },
      "text/plain": [
       "interactive(children=(FloatSlider(value=18.822369089759523, description='t', max=40.585787443545215, min=-2.94…"
      ]
     },
     "metadata": {},
     "output_type": "display_data"
    }
   ],
   "source": [
    "config_hpylori = {\n",
    "    'title': 'H. pylori breath test',\n",
    "    'mean_neg': 0.16,\n",
    "    'mean_pos': 30.2,\n",
    "    'std_neg': 0.36,\n",
    "    'std_pos': 2.5,\n",
    "    'p_pos': .549,\n",
    "    'label_neg': 'No H. pylori infection',\n",
    "    'label_pos': 'H. pylori infected'\n",
    "}\n",
    "test_hpylori = Test(config_hpylori)\n",
    "test_hpylori.generate(1000)\n",
    "test_hpylori.plot()"
   ]
  },
  {
   "cell_type": "markdown",
   "metadata": {},
   "source": [
    "Try slowly moving the slider from side to side. This sets the \"threshold\" value that delineates positive and negative diagnoses. That is, if a patient's urea test result is above this value, they will be told they are \"positive\"; if the patient's result is below this value, they will be told they are \"negative\". As you move the slider, pay attention to the number of true/false positives/negatives.\n",
    "\n",
    "You are the designer of this test. Your job is to decide on a value for this threshold, which will be used by all the clinical laboratories to make diagnoses. **What threshold value do you choose?**"
   ]
  },
  {
   "cell_type": "markdown",
   "metadata": {},
   "source": [
    "Answer here"
   ]
  },
  {
   "cell_type": "markdown",
   "metadata": {},
   "source": [
    "---\n",
    "In most situations, the delineation between positives and negatives are not that clear. In other words, the test results of positives may often over lap with those of negatives. Let us see such a case."
   ]
  },
  {
   "cell_type": "markdown",
   "metadata": {},
   "source": [
    "# Pregnancy Test\n",
    "\n",
    "In the first days of pregnancy, the body produces a hormone called human chorionic gonadotropin (hCG). A home pregnancy kit works by detecting the presence of this hormone in the urine as an indication of pregnancy. The concentration of hCG is measured in units of milli-international units per millilitre (mIU/mL). hCG levels in a non-pregnant woman is typically less than 5 mIU/mL, and the number increases rapidly after the implantation of the embryo.\n",
    "\n",
    "https://www.ncbi.nlm.nih.gov/pmc/articles/PMC4119102/\n",
    "\n",
    "http://www.clinlabnavigator.com/human-chorionic-gonadotropin-pregnancy-test.html"
   ]
  },
  {
   "cell_type": "code",
   "execution_count": 6,
   "metadata": {},
   "outputs": [
    {
     "data": {
      "application/vnd.jupyter.widget-view+json": {
       "model_id": "8d348c65f2794ae4a5b164b985267cda",
       "version_major": 2,
       "version_minor": 0
      },
      "text/plain": [
       "Canvas(toolbar=Toolbar(toolitems=[('Home', 'Reset original view', 'home', 'home'), ('Back', 'Back to previous …"
      ]
     },
     "metadata": {},
     "output_type": "display_data"
    },
    {
     "data": {
      "application/vnd.jupyter.widget-view+json": {
       "model_id": "7073f8861bae4638ae539ef573a70a1a",
       "version_major": 2,
       "version_minor": 0
      },
      "text/plain": [
       "interactive(children=(FloatSlider(value=5.191253936449212, description='t', max=11.124115578105455, min=-0.529…"
      ]
     },
     "metadata": {},
     "output_type": "display_data"
    }
   ],
   "source": [
    "config_preg_day9 = {\n",
    "    'title': 'hCG Levels in Urine on 9-th Day of Pregnancy',\n",
    "    'mean_neg': 0.1,\n",
    "    'mean_pos': 4.04,\n",
    "    'std_neg': 0.02,\n",
    "    'std_pos': 1.9,\n",
    "    'floor': 0,\n",
    "    'p_pos': 0.8,\n",
    "    'label_neg': 'Not pregnant',\n",
    "    'label_pos': 'Pregnant'\n",
    "}\n",
    "test_preg_day9 = Test(config_preg_day9)\n",
    "test_preg_day9.generate(1000)\n",
    "test_preg_day9.plot()"
   ]
  },
  {
   "cell_type": "markdown",
   "metadata": {},
   "source": [
    "Home pregnancy test kits can only detect hCG if it is above a certain level. This is called the \"sensitivity\". If the test returns positive for all results above the sensitivity level and negative otherwise, **what should the sensitivity level of a home pregnancy test be in order to ensure (1) no false positives and (2) less than 10% false negatives on the 9-th day of pregnancy?** Try using the slider again to adjust the sensitivity/threshold and observe the changing numbers below the graph."
   ]
  },
  {
   "cell_type": "code",
   "execution_count": 14,
   "metadata": {},
   "outputs": [
    {
     "data": {
      "application/vnd.jupyter.widget-view+json": {
       "model_id": "d52c2764b8e14a9f8661e090ba7e98fe",
       "version_major": 2,
       "version_minor": 0
      },
      "text/plain": [
       "Canvas(toolbar=Toolbar(toolitems=[('Home', 'Reset original view', 'home', 'home'), ('Back', 'Back to previous …"
      ]
     },
     "metadata": {},
     "output_type": "display_data"
    },
    {
     "data": {
      "application/vnd.jupyter.widget-view+json": {
       "model_id": "ba646cdb03d44c59843b37f2b66e921c",
       "version_major": 2,
       "version_minor": 0
      },
      "text/plain": [
       "interactive(children=(FloatSlider(value=24.47316570567212, description='t', max=51.35615087515477, min=-2.4098…"
      ]
     },
     "metadata": {},
     "output_type": "display_data"
    }
   ],
   "source": [
    "config_preg_day11 = {\n",
    "    'title': 'hCG Levels in Urine on 9-th Day of Pregnancy',\n",
    "    'mean_neg': 0.1,\n",
    "    'mean_pos': 25.04,\n",
    "    'std_neg': 0.02,\n",
    "    'std_pos': 8.1,\n",
    "    'floor': 0,\n",
    "    'p_pos': 0.8,\n",
    "    'label_neg': 'Not pregnant',\n",
    "    'label_pos': 'Pregnant'\n",
    "}\n",
    "test_preg_day11 = Test(config_preg_day11)\n",
    "test_preg_day11.generate(1000)\n",
    "test_preg_day11.plot()"
   ]
  },
  {
   "cell_type": "markdown",
   "metadata": {},
   "source": [
    "__What should the sensitivity level of a home pregnancy test be in order to ensure (1) no false positives and (2) less than 10% false negatives on the 11-th day of pregnancy?__"
   ]
  },
  {
   "cell_type": "markdown",
   "metadata": {},
   "source": [
    "# Carbon monoxide detector\n",
    "\n"
   ]
  },
  {
   "cell_type": "code",
   "execution_count": 25,
   "metadata": {},
   "outputs": [
    {
     "name": "stderr",
     "output_type": "stream",
     "text": [
      "/Users/winston/Documents/Coding/Jupyter/SSS/false_positives_negatives.py:72: RuntimeWarning: More than 20 figures have been opened. Figures created through the pyplot interface (`matplotlib.pyplot.figure`) are retained until explicitly closed and may consume too much memory. (To control this warning, see the rcParam `figure.max_open_warning`).\n",
      "  fig, ax = plt.subplots(figsize=(6,4))\n"
     ]
    },
    {
     "data": {
      "application/vnd.jupyter.widget-view+json": {
       "model_id": "eca385370a6b4a2ea1cd95672573c61a",
       "version_major": 2,
       "version_minor": 0
      },
      "text/plain": [
       "Canvas(toolbar=Toolbar(toolitems=[('Home', 'Reset original view', 'home', 'home'), ('Back', 'Back to previous …"
      ]
     },
     "metadata": {},
     "output_type": "display_data"
    },
    {
     "data": {
      "application/vnd.jupyter.widget-view+json": {
       "model_id": "aaaa3bf2f4cc486ca4316057b4bea62c",
       "version_major": 2,
       "version_minor": 0
      },
      "text/plain": [
       "interactive(children=(FloatSlider(value=3.3445184050306827, description='t', max=7.023488650564435, min=-0.334…"
      ]
     },
     "metadata": {},
     "output_type": "display_data"
    }
   ],
   "source": [
    "config_CO_detector = {\n",
    "    'title': 'Optical Density (%/m)',\n",
    "    'mean_neg': 0.2,\n",
    "    'mean_pos': 3,\n",
    "    'std_neg': 0.1,\n",
    "    'std_pos': 1.5,\n",
    "    'floor': 0,\n",
    "    'p_pos': 0.6,\n",
    "    'label_neg': 'No Fire',\n",
    "    'label_pos': 'Fire'\n",
    "}\n",
    "test_CO_detector = Test(config_CO_detector)\n",
    "test_CO_detector.generate(1000)\n",
    "test_CO_detector.plot()"
   ]
  },
  {
   "cell_type": "markdown",
   "metadata": {},
   "source": [
    "Ask consequences of false positive/negative of smoke alarm. Ask where threshold should be. Why are smoke alarms often annoying?"
   ]
  },
  {
   "cell_type": "markdown",
   "metadata": {},
   "source": [
    "# SAT scores vs graduating"
   ]
  },
  {
   "cell_type": "markdown",
   "metadata": {},
   "source": [
    "# Spam vs ham or elicit content censorship (add question on realist vs conventionalist definition)"
   ]
  },
  {
   "cell_type": "markdown",
   "metadata": {},
   "source": [
    "* implement different scenarios with different distributions\n",
    "* base rate neglect by varying p_pos and asking how likely they are to have the disease given a positive diagnosis"
   ]
  },
  {
   "cell_type": "code",
   "execution_count": null,
   "metadata": {},
   "outputs": [],
   "source": []
  }
 ],
 "metadata": {
  "kernelspec": {
   "display_name": "Python 3",
   "language": "python",
   "name": "python3"
  },
  "language_info": {
   "codemirror_mode": {
    "name": "ipython",
    "version": 3
   },
   "file_extension": ".py",
   "mimetype": "text/x-python",
   "name": "python",
   "nbconvert_exporter": "python",
   "pygments_lexer": "ipython3",
   "version": "3.7.6"
  }
 },
 "nbformat": 4,
 "nbformat_minor": 4
}
