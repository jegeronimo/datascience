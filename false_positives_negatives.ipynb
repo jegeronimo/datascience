{
 "cells": [
  {
   "cell_type": "code",
   "execution_count": 1,
   "metadata": {},
   "outputs": [],
   "source": [
    "from false_positives_negatives import *\n",
    "%matplotlib widget"
   ]
  },
  {
   "cell_type": "markdown",
   "metadata": {},
   "source": [
    "# H. Pylori\n",
    "*Helicobacter Pylori* is a type of bacteria that can cause infections in the stomach. Symptoms of *H. pylori* include painful stomach ulcers. A common test for the infection is the urea breath test. After the patient ingests a tablet or drink containing urea enriched with the isotope carbon-13 (rather than the usual carbon-12), the test measures the proportion of carbon-13 in the carbon dioxide in the collected breath sample. If the amount of carbon-13 is in excess of the normal amount of carbon-13 in one's breath, then it suggests the presence of the bacteria in the stomach, because the bacteria have converted the ingested urea into carbon dioxide. The test result is how much excess carbon-13 is found in one's breath. For example, a test result of 5 means that there is 5 times as much carbon-13 as usual.\n",
    "\n",
    "As study was done to find the distribution of the urea test results of subjects with or without *H. pylori* infection. Below is a histogram that shows the number of patients with a particular test result. Patients without the infection are plotted in blue; those who are infected are plotted in orange.\n",
    "\n",
    "https://onlinelibrary.wiley.com/doi/epdf/10.1046/j.1365-2036.2003.01417.x"
   ]
  },
  {
   "cell_type": "code",
   "execution_count": 2,
   "metadata": {},
   "outputs": [
    {
     "data": {
      "application/vnd.jupyter.widget-view+json": {
       "model_id": "d87cf49ca15043529f72c7287008a00a",
       "version_major": 2,
       "version_minor": 0
      },
      "text/plain": [
       "Canvas(toolbar=Toolbar(toolitems=[('Home', 'Reset original view', 'home', 'home'), ('Back', 'Back to previous …"
      ]
     },
     "metadata": {},
     "output_type": "display_data"
    },
    {
     "data": {
      "application/vnd.jupyter.widget-view+json": {
       "model_id": "538f15f88bb143c8b94b51b9c4ff27f8",
       "version_major": 2,
       "version_minor": 0
      },
      "text/plain": [
       "interactive(children=(FloatSlider(value=17.993181493166464, description='t', max=38.815008438556234, min=-2.82…"
      ]
     },
     "metadata": {},
     "output_type": "display_data"
    }
   ],
   "source": [
    "config_hpylori = {\n",
    "    'title': 'H. pylori breath test',\n",
    "    'mean_neg': 0.16,\n",
    "    'mean_pos': 30.2,\n",
    "    'std_neg': 0.36,\n",
    "    'std_pos': 2.5,\n",
    "    'p_pos': .549,\n",
    "    'label_neg': 'No H. pylori infection',\n",
    "    'label_pos': 'H. pylori infected'\n",
    "}\n",
    "test_hpylori = Test(config_hpylori)\n",
    "test_hpylori.generate(1000)\n",
    "test_hpylori.plot()"
   ]
  },
  {
   "cell_type": "markdown",
   "metadata": {},
   "source": [
    "Try slowly moving the slider from side to side. This sets the \"threshold\" value that delineates positive and negative diagnoses. That is, if a patient's urea test result is above this value, they will be told they are \"positive\"; if the patient's result is below this value, they will be told they are \"negative\". As you move the slider, pay attention to the number of true/false positives/negatives.\n",
    "\n",
    "You are the designer of this test. Your job is to decide on a value for this threshold, which will be used by all the clinical laboratories to make diagnoses. **What threshold value do you choose?**"
   ]
  },
  {
   "cell_type": "markdown",
   "metadata": {},
   "source": [
    "Answer here"
   ]
  },
  {
   "cell_type": "markdown",
   "metadata": {},
   "source": [
    "---\n",
    "In most situations, the delineation between positives and negatives are not that clear. In other words, the test results of positives may often over lap with those of negatives. Let us see such a case."
   ]
  },
  {
   "cell_type": "markdown",
   "metadata": {},
   "source": [
    "# Pregnancy Test\n",
    "\n",
    "In the first days of pregnancy, the body produces a hormone called human chorionic gonadotropin (hCG). A home pregnancy kit works by detecting the presence of this hormone in the urine as an indication of pregnancy. The concentration of hCG is measured in units of milli-international units per millilitre (mIU/mL). hCG levels in a non-pregnant woman is typically less than 5 mIU/mL, and the number increases rapidly after the implantation of the embryo.\n",
    "\n",
    "https://www.ncbi.nlm.nih.gov/pmc/articles/PMC4119102/\n",
    "\n",
    "http://www.clinlabnavigator.com/human-chorionic-gonadotropin-pregnancy-test.html"
   ]
  },
  {
   "cell_type": "code",
   "execution_count": 9,
   "metadata": {},
   "outputs": [
    {
     "data": {
      "application/vnd.jupyter.widget-view+json": {
       "model_id": "9ce9472188804913b1ae2ed99a0e7f0c",
       "version_major": 2,
       "version_minor": 0
      },
      "text/plain": [
       "Canvas(toolbar=Toolbar(toolitems=[('Home', 'Reset original view', 'home', 'home'), ('Back', 'Back to previous …"
      ]
     },
     "metadata": {},
     "output_type": "display_data"
    },
    {
     "data": {
      "application/vnd.jupyter.widget-view+json": {
       "model_id": "92ab99a1e75648acbd00c026f3b85b44",
       "version_major": 2,
       "version_minor": 0
      },
      "text/plain": [
       "interactive(children=(FloatSlider(value=4.642156748943476, description='t', max=9.7485291727813, min=-0.464215…"
      ]
     },
     "metadata": {},
     "output_type": "display_data"
    }
   ],
   "source": [
    "config_preg_day9 = {\n",
    "    'title': 'hCG Levels in Urine on 9-th Day of Pregnancy',\n",
    "    'mean_neg': 0.1,\n",
    "    'mean_pos': 4.04,\n",
    "    'std_neg': 0.02,\n",
    "    'std_pos': 1.9,\n",
    "    'floor': 0,\n",
    "    'p_pos': 0.8,\n",
    "    'label_neg': 'Not pregnant',\n",
    "    'label_pos': 'Pregnant'\n",
    "}\n",
    "test_preg_day9 = Test(config_preg_day9)\n",
    "test_preg_day9.generate(1000)\n",
    "test_preg_day9.plot()"
   ]
  },
  {
   "cell_type": "markdown",
   "metadata": {},
   "source": [
    "Home pregnancy test kits can only detect hCG if it is above a certain level. This is called the \"sensitivity\". If the test returns positive for all results above the sensitivity level and negative otherwise, **what should the sensitivity level of a home pregnancy test be in order to ensure (1) no false positives and (2) less than 10% false negatives?** Try using the slider again to adjust the sensitivity/threshold and observe the changing numbers below the graph."
   ]
  },
  {
   "cell_type": "code",
   "execution_count": 4,
   "metadata": {},
   "outputs": [
    {
     "data": {
      "application/vnd.jupyter.widget-view+json": {
       "model_id": "a591a2cd42b444aba949522718a53d2f",
       "version_major": 2,
       "version_minor": 0
      },
      "text/plain": [
       "Canvas(toolbar=Toolbar(toolitems=[('Home', 'Reset original view', 'home', 'home'), ('Back', 'Back to previous …"
      ]
     },
     "metadata": {},
     "output_type": "display_data"
    },
    {
     "data": {
      "application/vnd.jupyter.widget-view+json": {
       "model_id": "049a73bf16d147618e8fd54811b84fa8",
       "version_major": 2,
       "version_minor": 0
      },
      "text/plain": [
       "interactive(children=(FloatSlider(value=37.85188990301986, description='t', max=79.48896879634172, min=-3.7851…"
      ]
     },
     "metadata": {},
     "output_type": "display_data"
    }
   ],
   "source": [
    "config_preg_day11 = {\n",
    "    'title': 'hCG Levels in Urine on 9-th Day of Pregnancy',\n",
    "    'mean_neg': 0.1,\n",
    "    'mean_pos': 25.04,\n",
    "    'std_neg': 0.02,\n",
    "    'std_pos': 15.57,\n",
    "    'floor': 0,\n",
    "    'p_pos': 0.8,\n",
    "    'label_neg': 'Not pregnant',\n",
    "    'label_pos': 'Pregnant'\n",
    "}\n",
    "test_preg_day11 = Test(config_preg_day11)\n",
    "test_preg_day11.generate(1000)\n",
    "test_preg_day11.plot()"
   ]
  },
  {
   "cell_type": "code",
   "execution_count": 2,
   "metadata": {},
   "outputs": [
    {
     "data": {
      "application/vnd.jupyter.widget-view+json": {
       "model_id": "735f61dd6fd24c018950727d63642b3e",
       "version_major": 2,
       "version_minor": 0
      },
      "text/plain": [
       "Canvas(toolbar=Toolbar(toolitems=[('Home', 'Reset original view', 'home', 'home'), ('Back', 'Back to previous …"
      ]
     },
     "metadata": {},
     "output_type": "display_data"
    },
    {
     "data": {
      "application/vnd.jupyter.widget-view+json": {
       "model_id": "47346e2d900147bcbc40905a27a58acb",
       "version_major": 2,
       "version_minor": 0
      },
      "text/plain": [
       "interactive(children=(IntSlider(value=175, description='t', max=350, step=5), Output()), _dom_classes=('widget…"
      ]
     },
     "metadata": {},
     "output_type": "display_data"
    }
   ],
   "source": [
    "config = {\n",
    "    'title': 'Bacteria X',\n",
    "    'mean_neg': 100,\n",
    "    'mean_pos': 200,\n",
    "    'std_neg': 20,\n",
    "    'std_pos': 50,\n",
    "    'p_pos': .1\n",
    "}\n",
    "test1 = Test(config)\n",
    "test1.generate(1000)\n",
    "test1.plot()"
   ]
  },
  {
   "cell_type": "markdown",
   "metadata": {},
   "source": [
    "* implement different scenarios with different distributions\n",
    "* base rate neglect by varying p_pos and asking how likely they are to have the disease given a positive diagnosis"
   ]
  },
  {
   "cell_type": "code",
   "execution_count": null,
   "metadata": {},
   "outputs": [],
   "source": []
  }
 ],
 "metadata": {
  "kernelspec": {
   "display_name": "Python 3",
   "language": "python",
   "name": "python3"
  },
  "language_info": {
   "codemirror_mode": {
    "name": "ipython",
    "version": 3
   },
   "file_extension": ".py",
   "mimetype": "text/x-python",
   "name": "python",
   "nbconvert_exporter": "python",
   "pygments_lexer": "ipython3",
   "version": "3.7.6"
  }
 },
 "nbformat": 4,
 "nbformat_minor": 4
}
