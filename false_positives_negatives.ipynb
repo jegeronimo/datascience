{
 "cells": [
  {
   "cell_type": "code",
   "execution_count": 1,
   "metadata": {},
   "outputs": [],
   "source": [
    "from false_positives_negatives import *\n",
    "%matplotlib widget"
   ]
  },
  {
   "cell_type": "markdown",
   "metadata": {},
   "source": [
    "# Part 1: H. Pylori\n",
    "*Helicobacter Pylori* is a type of bacteria that can cause infections in the stomach. Symptoms of *H. pylori* include painful stomach ulcers. A common test for the infection is the urea breath test. After the patient ingests a tablet or drink containing urea enriched with the isotope carbon-13 (rather than the usual carbon-12), the test measures the proportion of carbon-13 in the carbon dioxide in the collected breath sample. If the amount of carbon-13 is in excess of the normal amount of carbon-13 in one's breath, then it suggests the presence of the bacteria in the stomach, because the bacteria have converted the ingested urea into carbon dioxide. The test result is how much excess carbon-13 is found in one's breath. For example, a test result of 5 means that there is 5 times as much carbon-13 as usual.\n",
    "\n",
    "A study was done to find the distribution of the urea test results of subjects with or without *H. pylori* infection. Below is a histogram that shows the number of patients with a particular test result. Patients without the infection are plotted in blue; those who are infected are plotted in orange.\n",
    "\n",
    "https://onlinelibrary.wiley.com/doi/epdf/10.1046/j.1365-2036.2003.01417.x"
   ]
  },
  {
   "cell_type": "markdown",
   "metadata": {},
   "source": [
    "### Question 1\n",
    "\n",
    "Try slowly moving the slider from side to side. This sets the \"threshold\" value that separates positive and negative diagnoses. That is, if a patient's urea test result is above this value, they will be told they are \"positive\"; if the patient's result is below this value, they will be told they are \"negative\". As you move the slider, pay attention to the number of true/false positives/negatives.\n",
    "\n",
    "You are the designer of this test. Your job is to decide on a value for this threshold, which will be used by all the clinical laboratories to make diagnoses. **What threshold value do you choose?**"
   ]
  },
  {
   "cell_type": "markdown",
   "metadata": {},
   "source": [
    "`Double-click this box to answer here. Press Shift+Return when you are done.`\n",
    "\n",
    "1)"
   ]
  },
  {
   "cell_type": "markdown",
   "metadata": {},
   "source": [
    "---\n",
    "In most situations, it is not possible to draw a clear line between positives and negatives. In other words, the test results of positives may often over lap with those of negatives. Let us see such a case."
   ]
  },
  {
   "cell_type": "markdown",
   "metadata": {},
   "source": [
    "# Part 2: Pregnancy Test\n",
    "\n",
    "In the first days of pregnancy, the body produces a hormone called human chorionic gonadotropin (hCG). A home pregnancy kit works by detecting the presence of this hormone in the urine as an indication of pregnancy. The concentration of hCG is measured in units of milli-international units per millilitre (mIU/mL). hCG levels in a non-pregnant woman is typically less than 5 mIU/mL, and the number increases rapidly after the implantation of the embryo.\n",
    "\n",
    "https://www.ncbi.nlm.nih.gov/pmc/articles/PMC4119102/\n",
    "\n",
    "http://www.clinlabnavigator.com/human-chorionic-gonadotropin-pregnancy-test.html"
   ]
  },
  {
   "cell_type": "code",
   "execution_count": null,
   "metadata": {},
   "outputs": [],
   "source": [
    "config_preg_day9 = {\n",
    "    'title': 'hCG Levels in Urine on 9-th Day of Pregnancy',\n",
    "    'mean_neg': 0.1,\n",
    "    'mean_pos': 4.04,\n",
    "    'std_neg': 0.02,\n",
    "    'std_pos': 1.9,\n",
    "    'floor': 0,\n",
    "    'p_pos': 0.8,\n",
    "    'label_neg': 'Not pregnant',\n",
    "    'label_pos': 'Pregnant'\n",
    "}\n",
    "test_preg_day9 = Test(config_preg_day9)\n",
    "test_preg_day9.generate(1000)\n",
    "test_preg_day9.plot()"
   ]
  },
  {
   "cell_type": "markdown",
   "metadata": {},
   "source": [
    "### Question 2a\n",
    "\n",
    "Home pregnancy test kits can only detect hCG if it is above a certain level. This is called the \"sensitivity\". If the test returns positive for all results above the sensitivity level and negative otherwise, **what should the sensitivity level of a home pregnancy test be in order to ensure (1) no false positives and (2) less than 15% false negatives on the 9-th day of pregnancy?** Try using the slider again to adjust the sensitivity/threshold and observe the changing numbers below the graph."
   ]
  },
  {
   "cell_type": "markdown",
   "metadata": {},
   "source": [
    "`Double-click this box to answer here. Press Shift+Return when you are done.`\n",
    "\n",
    "2a)"
   ]
  },
  {
   "cell_type": "code",
   "execution_count": null,
   "metadata": {},
   "outputs": [],
   "source": [
    "config_preg_day11 = {\n",
    "    'title': 'hCG Levels in Urine on 9-th Day of Pregnancy',\n",
    "    'mean_neg': 0.1,\n",
    "    'mean_pos': 25.04,\n",
    "    'std_neg': 0.02,\n",
    "    'std_pos': 8.1,\n",
    "    'floor': 0,\n",
    "    'p_pos': 0.8,\n",
    "    'label_neg': 'Not pregnant',\n",
    "    'label_pos': 'Pregnant'\n",
    "}\n",
    "test_preg_day11 = Test(config_preg_day11)\n",
    "test_preg_day11.generate(1000)\n",
    "test_preg_day11.plot()"
   ]
  },
  {
   "cell_type": "markdown",
   "metadata": {},
   "source": [
    "### Question 2b\n",
    "\n",
    "__What should the sensitivity level of a home pregnancy test be in order to ensure (1) no false positives and (2) less than 15% false negatives on the 11-th day of pregnancy?__"
   ]
  },
  {
   "cell_type": "markdown",
   "metadata": {},
   "source": [
    "`Double-click this box to answer here. Press Shift+Return when you are done.`\n",
    "\n",
    "2b)"
   ]
  },
  {
   "cell_type": "markdown",
   "metadata": {},
   "source": [
    "# Part 3: Smoke detector\n",
    "\n",
    "Smoke detectors work by measuring how much the air is dispersing light. The more smoke there is, the less light will be able to pass through the air. The quantity measured by a smoke detector is called the \"optical density\", which has the units of \"percent per metre\" (%/m). The goal of a smoke detector is to warn inhabitants of a house of a possible dangerous fire.\n",
    "\n",
    "The following graph shows the number of times a certain value of optical density has been measured in various scenarios. The blue histogram counts those times when there is no dangerous fire (perhaps there is some greasy haze in the room from a stirfry), and the orange histogram counts those times when there is a dangerous fire (perhaps a stack of paper has been lit up by a cigarette).\n",
    "\n",
    "https://iafss.org/publications/aofst/3/319/view/aofst_3-319.pdf"
   ]
  },
  {
   "cell_type": "code",
   "execution_count": null,
   "metadata": {},
   "outputs": [],
   "source": [
    "config_CO_detector = {\n",
    "    'title': 'Optical Density (%/m)',\n",
    "    'mean_neg': 0.2,\n",
    "    'mean_pos': 3,\n",
    "    'std_neg': 0.1,\n",
    "    'std_pos': 1.5,\n",
    "    'floor': 0,\n",
    "    'p_pos': 0.6,\n",
    "    'label_neg': 'No Fire',\n",
    "    'label_pos': 'Fire'\n",
    "}\n",
    "test_CO_detector = Test(config_CO_detector)\n",
    "test_CO_detector.generate(1000)\n",
    "test_CO_detector.plot()"
   ]
  },
  {
   "cell_type": "markdown",
   "metadata": {},
   "source": [
    "### Question 3\n",
    "\n",
    "Suppose you are the designer of a smoke detector, tasked to set a \"sensitivity\" or threshold value of optical density, such that the smoke detector will sound its alarm when the optical density in the room exceeds that value. But first, let's consider a few points.\n",
    "\n",
    "__3a. In the context of the smoke detector's alarm, what scenarios would be considered a true positive, a false positive, a true negative, or a false negative?__\n",
    "\n",
    "__3b. For each of these scenarios, what is the consequence to the inhabitants of the house?__\n",
    "\n",
    "__3c. With reference to these consequences, what criteria would you be considering when setting a threshold value for a smoke detector?__\n",
    "\n",
    "Drag the slider in the graph above to change the threshold value, while paying attention to the false positive and false negative rates. __3d. Choose a value that best satisfies the criteria you set forth above. Explain whether you are satisfied with your choice.__\n",
    "\n",
    "You have no doubt experienced an annoying smoke detector that has gone off, but nothing has burnt down, perhaps even prompting a pointless trip by the fire brigade. __3e. Why do situations like this keep happening?__"
   ]
  },
  {
   "cell_type": "markdown",
   "metadata": {},
   "source": [
    "`Double-click this box to answer here. Press Shift+Return when you are done.`\n",
    "\n",
    "3a)\n",
    "\n",
    "3b)\n",
    "\n",
    "3c)\n",
    "\n",
    "3d)\n",
    "\n",
    "3e)"
   ]
  },
  {
   "cell_type": "markdown",
   "metadata": {},
   "source": [
    "# Part 4: SAT scores vs admission\n",
    "\n",
    "The binary classification of positives and negatives as well as the trade-off between false positive rate and false negative rate have important social consequences, especially when the subjects of classification are individual humans.\n",
    "\n",
    "One example of such a classification is the admission of undergraduates to universities on the basis of standardised test performance. A good score on tests like the ACT and SAT is known to correlate strongly with a high GPA in university. As the following graph shows, the higher the ACT score, the more likely it is that a student with that ACT score will achieve a high GPA.\n",
    "\n",
    "<img src=\"ACT_GPA.jpg\" width=\"600px\">\n",
    "\n",
    "Suppose you are a college admissions officer who is given the task of setting an ACT score cut-off, so that only students who score above this cut-off will be considered for admission at all. The college administration tells you that whatever value you choose, they would like at least 50% of the admitted students to eventually have a GPA of over 3.0 in their first year, in order to maintain the university's historically positive reputation.\n",
    "\n",
    "https://www.act.org/content/dam/act/unsecured/documents/R1645-act-composite-to-fygpa-2017-05.pdf"
   ]
  },
  {
   "cell_type": "markdown",
   "metadata": {},
   "source": [
    "### Question 4.1\n",
    "\n",
    "__4a) With reference to the above graph, is there a correlation between ACT score and academic performance in the first year? Would you say that ACT score is a good admissions criterion?__\n",
    "\n",
    "__4b) In the context of admission, what is considered a \"positive diagnosis\" or a \"negative diagnosis\"?__\n",
    "\n",
    "__4c) With reference to the administration's demands, what scenarios would be considered a true positive, a false positive, a true negative, or a false negative?__\n",
    "\n",
    "__4d) For each of these scenarios, what are its consequences?__"
   ]
  },
  {
   "cell_type": "markdown",
   "metadata": {},
   "source": [
    "`Double-click this box to answer here. Press Shift+Return when you are done.`\n",
    "\n",
    "4a)\n",
    "\n",
    "4b)\n",
    "\n",
    "4c)\n",
    "\n",
    "4d)"
   ]
  },
  {
   "cell_type": "code",
   "execution_count": null,
   "metadata": {},
   "outputs": [],
   "source": [
    "config = {\n",
    "    'title': 'ACT Scores',\n",
    "    'label_neg': 'First year GPA <3.0',\n",
    "    'label_pos': 'First year GPA ≥3.0'\n",
    "}\n",
    "act_data = np.genfromtxt('ACT_GPA.csv', delimiter=',', skip_header=1)\n",
    "# ACT score, N, % above 3.0, N above 3.0, % above 3.5, N above 3.5\n",
    "data = np.vstack((act_data[:,0], act_data[:,3], act_data[:,1]-act_data[:,3])).T\n",
    "test_act = Test(config=config, data=data)\n",
    "test_act.generate(10000)\n",
    "test_act.plot(stepsize=1)"
   ]
  },
  {
   "cell_type": "markdown",
   "metadata": {},
   "source": [
    "### Question 4.2\n",
    "\n",
    "__4e) What ACT score would you set as the cut-off for admission? Explain your reasoning for your chosen threshold, specifying why it isn't higher or lower.__\n",
    "\n",
    "Suppose all those who scored lower than your cut-off are outright rejected. __4f) Considering individual students, why would such an admissions rule be problematic?__\n",
    "\n",
    "__4g) With reference to the above histogram and the false positives and false negative rates, would you say that ACT score is a good admissions criterion?__"
   ]
  },
  {
   "cell_type": "markdown",
   "metadata": {},
   "source": [
    "`Double-click this box to answer here. Press Shift+Return when you are done.`\n",
    "\n",
    "4e)\n",
    "\n",
    "4f)\n",
    "\n",
    "4g)"
   ]
  },
  {
   "cell_type": "markdown",
   "metadata": {},
   "source": [
    "# Part 5: Spam filter"
   ]
  },
  {
   "cell_type": "markdown",
   "metadata": {},
   "source": [
    "We are no strangers to spam—unsolicited emails. Many email providers implement a filter that is able to recognise spam emails just from its text. We call such a problem \"spam vs ham classification\" (ham is not spam). The filter system usually assigns a \"spam score\" to each email. The higher the score, the more likely that email is spam.\n",
    "\n",
    "On a basic level, if the email contains phrases like _collect your lotto prize_, _I am a Nigerian prince_, or _singles in your area_, some points may be added to its spam score. Likewise, an abundance of typos like _helo_, _doller_, _bizness_, or _wrold_ may also contribute to the spam score. More sophisticated filters may also look at other factors such as grammatical errors, capitalisation, hyperlinks, and formatting.\n",
    "\n",
    "In the following histogram, we've recorded the spam/ham classification of 10,000 emails, as well as their spam scores."
   ]
  },
  {
   "cell_type": "code",
   "execution_count": null,
   "metadata": {},
   "outputs": [],
   "source": [
    "config_spam = {\n",
    "    'title': 'Spam score',\n",
    "    'mean_neg': 50,\n",
    "    'mean_pos': 140,\n",
    "    'std_neg': 20,\n",
    "    'std_pos': 40,\n",
    "    'floor': 0,\n",
    "    'p_pos': 0.55,\n",
    "    'label_neg': 'Ham',\n",
    "    'label_pos': 'Spam'\n",
    "}\n",
    "test_spam = Test(config_spam)\n",
    "test_spam.generate(10000)\n",
    "test_spam.plot()"
   ]
  },
  {
   "cell_type": "markdown",
   "metadata": {},
   "source": [
    "### Question 5\n",
    "\n",
    "Suppose you are the programmer of this spam/ham filter. You must set a threshold value for the spam score, such that emails with a score higher than the threshold will be tossed into the spam folder automatically.\n",
    "\n",
    "__5a) In the context of a spam/ham filter, what scenarios would be considered a true positive, a false positive, a true negative, or a false negative?__\n",
    "\n",
    "__5b) For each of these scenarios, what is the consequence to the user of your email service?__\n",
    "\n",
    "__5c) With reference to these consequences, what criteria would you be considering when setting a threshold value for a spam/ham filter?__\n",
    "\n",
    "Drag the slider in the graph above to change the threshold value, while paying attention to the false positive and false negative rates. __5d) Choose a threshold value. Explain your choice with reference to the criteria mentioned above.__\n",
    "\n",
    "__5e) Think about the ideas of true/false positive/negative. Who ultimately decides which email has been correctly classified as spam or not?__\n",
    "\n",
    "__5f) Is the definition of \"spam\" a realist, conventionalist, or operationalist one?__\n",
    "\n",
    "Suppose an email provider touts _BEST SPAM FILTER IN TOWN. 99.9% ACCURACY!_ __5g) Why should you be sceptical of their claim? Explain.__"
   ]
  },
  {
   "cell_type": "markdown",
   "metadata": {},
   "source": [
    "`Double-click this box to answer here. Press Shift+Return when you are done.`\n",
    "\n",
    "5a)\n",
    "\n",
    "5b)\n",
    "\n",
    "5c)\n",
    "\n",
    "5d)\n",
    "\n",
    "5e)\n",
    "\n",
    "5f)\n",
    "\n",
    "5g)"
   ]
  },
  {
   "cell_type": "markdown",
   "metadata": {},
   "source": [
    "* implement different scenarios with different distributions\n",
    "* base rate neglect by varying p_pos and asking how likely they are to have the disease given a positive diagnosis"
   ]
  }
 ],
 "metadata": {
  "kernelspec": {
   "display_name": "Python 3",
   "language": "python",
   "name": "python3"
  },
  "language_info": {
   "codemirror_mode": {
    "name": "ipython",
    "version": 3
   },
   "file_extension": ".py",
   "mimetype": "text/x-python",
   "name": "python",
   "nbconvert_exporter": "python",
   "pygments_lexer": "ipython3",
   "version": "3.8.5"
  }
 },
 "nbformat": 4,
 "nbformat_minor": 4
}
