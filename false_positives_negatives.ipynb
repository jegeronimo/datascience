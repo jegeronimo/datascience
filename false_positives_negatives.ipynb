{
 "cells": [
  {
   "cell_type": "code",
   "execution_count": 1,
   "metadata": {},
   "outputs": [],
   "source": [
    "import numpy as np\n",
    "import matplotlib.pyplot as plt\n",
    "%matplotlib widget\n",
    "import ipywidgets as widgets"
   ]
  },
  {
   "cell_type": "code",
   "execution_count": 26,
   "metadata": {},
   "outputs": [],
   "source": [
    "class Test:\n",
    "    def __init__(self, config):\n",
    "        '''\n",
    "        config: {\n",
    "        'mean_neg': ,\n",
    "        'mean_pos': ,\n",
    "        'std_neg': ,\n",
    "        'std_pos': ,\n",
    "        'p_pos': \n",
    "        }\n",
    "        '''\n",
    "        self.mean_neg = config['mean_neg']\n",
    "        self.mean_pos = config['mean_pos']\n",
    "        self.std_neg = config['std_neg']\n",
    "        self.std_pos = config['std_pos']\n",
    "        self.p_pos = config['p_pos']\n",
    "        \n",
    "    def singleTest(self):\n",
    "        '''\n",
    "        Generates a single row [test_result_from_normal_distribution, known_1_or_0]\n",
    "        '''\n",
    "        if np.random.rand() < self.p_pos:\n",
    "            return [np.random.normal(self.mean_pos, self.std_pos), 1]\n",
    "        else:\n",
    "            return [np.random.normal(self.mean_neg, self.std_neg), 0]\n",
    "        \n",
    "    def generate(self, n):\n",
    "        '''\n",
    "        Generates table of test results\n",
    "        '''\n",
    "        self.results = np.array([self.singleTest() for i in range(n)])\n",
    "    \n",
    "    def countDiagnoses(self, threshold):\n",
    "        '''\n",
    "        Returns number of true/false pos/neg based on known test results and threshold\n",
    "        threshold: above is positive, below is negative\n",
    "        '''\n",
    "        true_pos = sum((self.results[:,0] > threshold) * (self.results[:,1] == 1))\n",
    "        true_neg = sum((self.results[:,0] <= threshold) * (self.results[:,1] == 0))\n",
    "        false_pos = sum((self.results[:,0] > threshold) * (self.results[:,1] == 0))\n",
    "        false_neg = sum((self.results[:,0] <= threshold) * (self.results[:,1] == 1))\n",
    "        return true_pos, true_neg, false_pos, false_neg\n",
    "    \n",
    "    def plotDiagnoses(self, threshold):\n",
    "        fig, ax = plt.subplots(figsize=(6,4))\n",
    "        bins = np.arange(0, 360, 5)\n",
    "        counts_neg, bins, patches = ax.hist(self.results[self.results[:,1]==0,0], bins=bins, fc=(31/255,119/255,180/255,.7), label='Tested Negative')\n",
    "        counts_pos, bins, patches = ax.hist(self.results[self.results[:,1]==1,0], bins=bins, fc=(255/255,127/255,14/255,0.7), label='Tested Positive')\n",
    "        counts = np.concatenate((counts_neg, counts_pos))\n",
    "        ax.plot([threshold, threshold], [0, max(counts+10)], c='black')\n",
    "        ax.set_xlim(min(self.results[:,0])-20, max(self.results[:,0])+20)\n",
    "        ax.set_ylim(0, max(counts+10))\n",
    "        ax.set_xlabel('Test Value')\n",
    "        ax.set_ylabel('Count')\n",
    "        ax.legend()\n",
    "        return fig, ax\n",
    "    \n",
    "    def printDiagnoses(self, threshold):\n",
    "        true_pos, true_neg, false_pos, false_neg = self.countDiagnoses(threshold)\n",
    "        print('True positives: %d' % true_pos)\n",
    "        print('True negatives: %d' % true_neg)\n",
    "        print('False positives: %d' % false_pos)\n",
    "        print('False negatives: %d' % false_neg)\n",
    "        print('False positive rates: {:.2f}%'.format(false_pos/(true_pos+false_pos)*100))\n",
    "        print('False negative rates: {:.2f}%'.format(false_neg/(true_neg+false_neg)*100))\n",
    "        print('Overall accuracy: {:.2f}%'.format((true_pos+true_neg)/(true_pos+true_neg+false_pos+false_neg)*100))\n",
    "        \n",
    "    def plot(self):\n",
    "        threshold = (min(self.results[:,0]) + max(self.results[:,0]))/2\n",
    "        fig, ax = self.plotDiagnoses(threshold)\n",
    "        @widgets.interact(t=(0, 350, 5))\n",
    "        def update(t):\n",
    "            ax.lines[0].set_xdata([t, t])\n",
    "        #     fig.canvas.draw()\n",
    "        #     fig.canvas.flush_events()\n",
    "            self.printDiagnoses(t)\n",
    "        # interact(update, t=(0, 350, 1))"
   ]
  },
  {
   "cell_type": "code",
   "execution_count": 27,
   "metadata": {},
   "outputs": [
    {
     "data": {
      "application/vnd.jupyter.widget-view+json": {
       "model_id": "08ae523712dd49f6a551a3e286b7b08a",
       "version_major": 2,
       "version_minor": 0
      },
      "text/plain": [
       "Canvas(toolbar=Toolbar(toolitems=[('Home', 'Reset original view', 'home', 'home'), ('Back', 'Back to previous …"
      ]
     },
     "metadata": {},
     "output_type": "display_data"
    },
    {
     "data": {
      "application/vnd.jupyter.widget-view+json": {
       "model_id": "28b3cf2b18b7430d848ed9acf81b34f3",
       "version_major": 2,
       "version_minor": 0
      },
      "text/plain": [
       "interactive(children=(IntSlider(value=175, description='t', max=350, step=5), Output()), _dom_classes=('widget…"
      ]
     },
     "metadata": {},
     "output_type": "display_data"
    }
   ],
   "source": [
    "config = {\n",
    "    'mean_neg': 100,\n",
    "    'mean_pos': 200,\n",
    "    'std_neg': 20,\n",
    "    'std_pos': 50,\n",
    "    'p_pos': .1\n",
    "}\n",
    "test1 = Test(config)\n",
    "test1.generate(1000)\n",
    "test1.plot()"
   ]
  },
  {
   "cell_type": "code",
   "execution_count": 2,
   "metadata": {},
   "outputs": [],
   "source": [
    "n = 10000\n",
    "mean_neg = 100\n",
    "mean_pos = 200\n",
    "std_neg = 20\n",
    "std_pos = 50\n",
    "p_pos = .1"
   ]
  },
  {
   "cell_type": "code",
   "execution_count": 3,
   "metadata": {},
   "outputs": [],
   "source": [
    "def single_test(mean_neg, mean_pos, std_neg, std_pos, p_pos):\n",
    "    '''\n",
    "    Generates a single row [test_result_from_normal_distribution, known_1_or_0]\n",
    "    '''\n",
    "    if np.random.rand() < p_pos:\n",
    "        return [np.random.normal(mean_pos, std_pos), 1]\n",
    "    else:\n",
    "        return [np.random.normal(mean_neg, std_neg), 0]\n",
    "\n",
    "def generate_test_results(n, mean_neg, mean_pos, std_neg, std_pos, p_pos):\n",
    "    '''\n",
    "    Generates table of test results\n",
    "    '''\n",
    "    return np.array([single_test(mean_neg, mean_pos, std_neg, std_pos, p_pos) for i in range(n)])\n",
    "\n",
    "def count_diagnoses(test_results, threshold):\n",
    "    '''\n",
    "    Returns number of true/false pos/neg based on known test results and threshold\n",
    "    test_results: table of test results\n",
    "    threshold: above is positive, below is negative\n",
    "    '''\n",
    "    true_pos = sum((test_results[:,0] > threshold) * (test_results[:,1] == 1))\n",
    "    true_neg = sum((test_results[:,0] <= threshold) * (test_results[:,1] == 0))\n",
    "    false_pos = sum((test_results[:,0] > threshold) * (test_results[:,1] == 0))\n",
    "    false_neg = sum((test_results[:,0] <= threshold) * (test_results[:,1] == 1))\n",
    "    return true_pos, true_neg, false_pos, false_neg\n",
    "\n",
    "def plot_diagnoses(test_results, threshold):\n",
    "    fig, ax = plt.subplots(figsize=(6,4))\n",
    "    bins = np.arange(0, 360, 5)\n",
    "    counts, bins, patches = ax.hist(test_results[test_results[:,1]==0,0], bins=bins, fc=(31/255,119/255,180/255,.7))\n",
    "    ax.hist(test_results[test_results[:,1]==1,0], bins=bins, fc=(255/255,127/255,14/255,0.7))\n",
    "    ax.plot([threshold, threshold], [0, max(counts+10)], c='black')\n",
    "    ax.set_xlim(min(test_results[:,0])-20, max(test_results[:,0])+20)\n",
    "    ax.set_ylim(0, max(counts+10))\n",
    "#     plt.show()\n",
    "    return fig, ax\n",
    "\n",
    "def print_diagnoses(test_results, threshold):\n",
    "    true_pos, true_neg, false_pos, false_neg = count_diagnoses(test_results, threshold)\n",
    "    print('True positives: %d' % true_pos)\n",
    "    print('True negatives: %d' % true_neg)\n",
    "    print('False positives: %d' % false_pos)\n",
    "    print('False negatives: %d' % false_neg)\n",
    "    print('False positive rates: {:.2f}%'.format(false_pos/(true_pos+false_pos)*100))\n",
    "    print('False negative rates: {:.2f}%'.format(false_neg/(true_neg+false_neg)*100))\n",
    "    print('Overall accuracy: {:.2f}%'.format((true_pos+true_neg)/(true_pos+true_neg+false_pos+false_neg)*100))\n",
    "\n",
    "def update_line(lines, x):\n",
    "    lines.remove()"
   ]
  },
  {
   "cell_type": "code",
   "execution_count": 4,
   "metadata": {},
   "outputs": [],
   "source": [
    "test_results = generate_test_results(n, mean_neg, mean_pos, std_neg, std_pos, p_pos)"
   ]
  },
  {
   "cell_type": "code",
   "execution_count": 5,
   "metadata": {},
   "outputs": [
    {
     "data": {
      "application/vnd.jupyter.widget-view+json": {
       "model_id": "a999539216184dee96dfef83fdfd06bd",
       "version_major": 2,
       "version_minor": 0
      },
      "text/plain": [
       "Canvas(toolbar=Toolbar(toolitems=[('Home', 'Reset original view', 'home', 'home'), ('Back', 'Back to previous …"
      ]
     },
     "metadata": {},
     "output_type": "display_data"
    },
    {
     "data": {
      "application/vnd.jupyter.widget-view+json": {
       "model_id": "aca3f7565d2f4d1e86f5bb26b61f1a3d",
       "version_major": 2,
       "version_minor": 0
      },
      "text/plain": [
       "interactive(children=(IntSlider(value=175, description='t', max=350, step=5), Output()), _dom_classes=('widget…"
      ]
     },
     "metadata": {},
     "output_type": "display_data"
    }
   ],
   "source": [
    "threshold = 150\n",
    "fig, ax = plot_diagnoses(test_results, threshold)\n",
    "@widgets.interact(t=(0, 350, 5))\n",
    "def update(t):\n",
    "    ax.lines[0].set_xdata([t, t])\n",
    "#     fig.canvas.draw()\n",
    "#     fig.canvas.flush_events()\n",
    "    print_diagnoses(test_results, t)\n",
    "# interact(update, t=(0, 350, 1))"
   ]
  },
  {
   "cell_type": "markdown",
   "metadata": {},
   "source": [
    "* implement different scenarios with different distributions\n",
    "* base rate neglect by varying p_pos and asking how likely they are to have the disease given a positive diagnosis"
   ]
  },
  {
   "cell_type": "code",
   "execution_count": null,
   "metadata": {},
   "outputs": [],
   "source": []
  }
 ],
 "metadata": {
  "kernelspec": {
   "display_name": "Python 3",
   "language": "python",
   "name": "python3"
  },
  "language_info": {
   "codemirror_mode": {
    "name": "ipython",
    "version": 3
   },
   "file_extension": ".py",
   "mimetype": "text/x-python",
   "name": "python",
   "nbconvert_exporter": "python",
   "pygments_lexer": "ipython3",
   "version": "3.7.6"
  }
 },
 "nbformat": 4,
 "nbformat_minor": 4
}
